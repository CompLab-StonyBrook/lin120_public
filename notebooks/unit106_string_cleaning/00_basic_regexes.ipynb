{
 "cells": [
  {
   "cell_type": "markdown",
   "metadata": {},
   "source": [
    "# String substitutions"
   ]
  },
  {
   "cell_type": "markdown",
   "metadata": {},
   "source": [
    "Our set of tools for building chatbots is growing rapidly, but there are still some key techniques missing.\n",
    "Arguably one of the most important ones is the ability to clean up the user's input before we do anything with it."
   ]
  },
  {
   "cell_type": "markdown",
   "metadata": {},
   "source": [
    "## Normalizing user input with `str.lower()`\n",
    "\n",
    "Consider once more the code for Bran, the branching chatbot.\n",
    "Originally, the code contained this clunker of an `if`-test:"
   ]
  },
  {
   "cell_type": "code",
   "execution_count": null,
   "metadata": {
    "collapsed": true
   },
   "outputs": [],
   "source": [
    "leg_pulling = input()\n",
    "if leg_pulling == \"Yes\" or leg_pulling == \"Yes.\" or leg_pulling == \"yes\" or leg_pulling == \"yes.\":\n",
    "    print(\"Well, at least you're honest.\")"
   ]
  },
  {
   "cell_type": "markdown",
   "metadata": {},
   "source": [
    "With lists, we could simplify this quite a bit to the following:"
   ]
  },
  {
   "cell_type": "code",
   "execution_count": null,
   "metadata": {
    "collapsed": true
   },
   "outputs": [],
   "source": [
    "leg_pulling = input()\n",
    "if leg_pulling in [\"Yes\", \"Yes.\", \"yes\", \"yes.\"]:\n",
    "    print(\"Well, at least you're honest.\")"
   ]
  },
  {
   "cell_type": "markdown",
   "metadata": {},
   "source": [
    "But this is still rather clunky since we have to list multiple versions of *yes* to account for capitalization and punctuation.\n",
    "Fortunately, we can tell Python to *normalize* the string before it is used in the input.\n",
    "First, we can use the function `str.lower` to replace all uppercase characters by their lowercase counterparts."
   ]
  },
  {
   "cell_type": "code",
   "execution_count": null,
   "metadata": {
    "collapsed": false
   },
   "outputs": [],
   "source": [
    "print(str.lower(\"ThiS StrInG uses lowerCase and UPPERCase in a HapHaZaRd Manner.\"))"
   ]
  },
  {
   "cell_type": "markdown",
   "metadata": {},
   "source": [
    "So by forcing all characters in the user input to be converted to lowercase, we can drop `\"Yes\"` and `\"Yes.\"` from the list.\n",
    "Go ahead, run the code below several times and enter *Yes* one time and *yes* the other, and maybe *YES* on your third try.\n",
    "You will get exactly the same result every time."
   ]
  },
  {
   "cell_type": "code",
   "execution_count": null,
   "metadata": {
    "collapsed": false
   },
   "outputs": [],
   "source": [
    "leg_pulling = input()\n",
    "if str.lower(leg_pulling) in [\"yes\", \"yes.\"]:\n",
    "    print(\"Well, at least you're honest.\")"
   ]
  },
  {
   "cell_type": "markdown",
   "metadata": {},
   "source": [
    "**Exercise.**\n",
    "Experimentation time.\n",
    "The `str.lower` function also has the counterparts `str.upper` and `str.title`.\n",
    "Do at least 4 experiments on different example strings to figure out what these functions do.\n",
    "Then put your description below."
   ]
  },
  {
   "cell_type": "code",
   "execution_count": null,
   "metadata": {
    "collapsed": true
   },
   "outputs": [],
   "source": [
    "# put at least 4 experiments here"
   ]
  },
  {
   "cell_type": "markdown",
   "metadata": {},
   "source": [
    "*put your descriptions here*"
   ]
  },
  {
   "cell_type": "markdown",
   "metadata": {},
   "source": [
    "**Exercise.**\n",
    "Below are two copies of the `if`-test from above, but with `str.lower` replaced by `str.upper` and `str.title`.\n",
    "Adapt the strings in the list so that the test still works as intended."
   ]
  },
  {
   "cell_type": "code",
   "execution_count": null,
   "metadata": {
    "collapsed": true
   },
   "outputs": [],
   "source": [
    "leg_pulling = input()\n",
    "if str.upper(leg_pulling) in [\"yes\", \"yes.\"]:\n",
    "    print(\"Well, at least you're honest.\")"
   ]
  },
  {
   "cell_type": "code",
   "execution_count": null,
   "metadata": {
    "collapsed": true
   },
   "outputs": [],
   "source": [
    "leg_pulling = input()\n",
    "if str.title(leg_pulling) in [\"yes\", \"yes.\"]:\n",
    "    print(\"Well, at least you're honest.\")"
   ]
  },
  {
   "cell_type": "markdown",
   "metadata": {},
   "source": [
    "## Getting rid of punctuation with regular expressions\n",
    "\n",
    "But note that the code above still does not work as intended if you enter *Yes!* or *yes...* -\n",
    "that's because Python leaves the punctuation unchanged, and neither *yes!* nor *yes...* are items of the list.\n",
    "To fix this, we have to tell Python to also delete all punctuation markers from the input before we test it.\n",
    "This is done with a powerful tool called *regular expressions*.\n",
    "\n",
    "You might have already used regular expressions without realizing it.\n",
    "For example, if you have a black belt in Google-fu then you know that you can enter `\"smashing .* pumpkins\"` to match any website that contains the words *Smashing* and *Pumpkins* in this order, possibly with other material inbetween.\n",
    "That would of course include websites that talk about the *The Smashing Pumpkins* (which I guess count as an oldies-band by now?), but it also includes variations like *smashing rotten pumpkins*, *Smashing ABC Pumpkins*, and *Smashing Marilyn and Pumpkins Manson* (those are actual Google hits).\n",
    "You can also use regular expressions when you search for a book in a library catalog, or even with a word processor to find specific patterns.\n",
    "\n",
    "A lesser known function of regular expressions is that they can also be used to replace the matched pattern by some other pattern.\n",
    "It is this aspect of regular expressions that we are particularly interested in.\n",
    "Python already comes with a regular expression package, called `re`.\n",
    "Let us look at a simple example first where we replace every exclamation mark by a question mark."
   ]
  },
  {
   "cell_type": "code",
   "execution_count": null,
   "metadata": {
    "collapsed": false
   },
   "outputs": [],
   "source": [
    "# first we have to load the regular expression library, called re\n",
    "import re\n",
    "\n",
    "# here's our example string\n",
    "example_string = \"Go... go home! I hate you!!! Never talk to me again!!1!!1!\"\n",
    "# replace every ! by ?\n",
    "print(re.sub(r\"!\", r\"?\", example_string))"
   ]
  },
  {
   "cell_type": "markdown",
   "metadata": {},
   "source": [
    "Here we use the substitution function of the `re` library, called `re.sub`.\n",
    "As any other function, the `re.sub` followed by `(` and `)`.\n",
    "In contrast to `print` or `input`, `re.sub` needs three things to occur between those brackets, and they must be separated by a comma (`,`):\n",
    "\n",
    "1.  First we specify what parts of the string should be replaced. Note the `r` in front of `\"`.\n",
    "1.  Then we say what those parts should be replaced by. Note again the `r` in front of `\"`.\n",
    "1.  Finally, we tell the `sub` command in what string it should carry out those substitutions.\n",
    "\n",
    "Don't worry about why there is an `r` in front of each string (it tells Python that these are *raw strings*, but what that means is a very technical matter that we won't wrestle with in this class).\n",
    "We need the `r` to have things work the way we want, rather than a subtly different way.\n",
    "As a mnemonic, just remember that we are using **r**egular expressions here, and strings in **r**egular expressions should have an `r` in front of them."
   ]
  },
  {
   "cell_type": "markdown",
   "metadata": {},
   "source": [
    "***The regular r rule:* always put r before regular expression strings.**"
   ]
  },
  {
   "cell_type": "markdown",
   "metadata": {},
   "source": [
    "**Exercise.**\n",
    "Adapt the code below so that every exclamation mark is replaced by 3 question marks.\n",
    "No, we haven't explicitly said yet how to do that, but you should be able to figure it out with a bit of experimentation."
   ]
  },
  {
   "cell_type": "code",
   "execution_count": null,
   "metadata": {
    "collapsed": true
   },
   "outputs": [],
   "source": [
    "# first we have to import the regular expression library, called re\n",
    "import re\n",
    "\n",
    "# here's our example string\n",
    "example_string = \"Go... go home! I hate you!!! Never talk to me again!!1!!1!\"\n",
    "# replace every ! by 3 instances of ?\n",
    "print(re.sub(r\"!\", r\"?\", example_string))"
   ]
  },
  {
   "cell_type": "markdown",
   "metadata": {},
   "source": [
    "The main difference between regular expressions and normal strings is that some symbols have a special meaning, and this allows us to represent complex patterns via strings.\n",
    "For example, suppose we want to delete every symbol in the string, including all spaces.\n",
    "Then we could do this with the following regular expression."
   ]
  },
  {
   "cell_type": "code",
   "execution_count": null,
   "metadata": {
    "collapsed": false
   },
   "outputs": [],
   "source": [
    "# first we have to import the regular expression library, called re\n",
    "import re\n",
    "\n",
    "# here's our example string\n",
    "example_string = \"Go... go home! I hate you!!! Never talk to me again!!1!!1!\"\n",
    "# replace everything by ?\n",
    "print(re.sub(r\".\", r\"\", example_string))"
   ]
  },
  {
   "cell_type": "markdown",
   "metadata": {},
   "source": [
    "As you can see here, `.` has a special meaning in regular expressions.\n",
    "It does not represent just the punctuation symbol `.`, but every character, including space.\n",
    "The power of regular expressions stems from the fact that one can define very complicated pattern matching rules.\n",
    "But this power requires certain diacritic symbols, and since it would be awfully inconvenient to introduce new symbols that nobody can easily type on their keyboard, the decision was made to assign special meaning to common symbols that can be found on every keyboard.\n",
    "In our particular case, `.` is a special symbol that matches any character, including any digit, letter of the alphabet, punctuation symbols, special characters (e.g. `@` or `#`), and even *whitespace* (spaces and tabs).\n",
    "In regular expressions, `.` does not represent a dot, it is a placeholder for literally any character.\n",
    "So the regular expression above says \"replace every symbol by nothing\", which is the same as deleting every symbol.\n",
    "This may not seem very useful, but in combination with some other special symbols, `.` allows you to do some very powerful *pattern matching* and remove unwanted material from strings."
   ]
  },
  {
   "cell_type": "markdown",
   "metadata": {},
   "source": [
    "## Escaping special characters\n",
    "\n",
    "But if `.` matches anything, how can we match an actual dot?\n",
    "We have to temporarily cancel the regular expression interpretation of `.`, which we do by putting a backlash `\\` in front of it.\n",
    "By writing `\\.`, we effectively say \"Computer, I mean an actual dot. Seriously, dude, don't give me a digit, a letter, or God knows what, I just want a dot.\"\n",
    "Using a backslash to block the regular expression interpretation is also called *escaping*.\n",
    "So when we write `\\.`, we escape `.` to get a standard dot."
   ]
  },
  {
   "cell_type": "code",
   "execution_count": null,
   "metadata": {
    "collapsed": false
   },
   "outputs": [],
   "source": [
    "# first we have to import the regular expression library, called re\n",
    "import re\n",
    "\n",
    "# here's our example string\n",
    "example_string = \"Go... go home! I hate you!!! Never talk to me again!!1!!1!\"\n",
    "# replace everything by ?\n",
    "print(re.sub(r\"\\.\", r\"?\", example_string))"
   ]
  },
  {
   "cell_type": "markdown",
   "metadata": {},
   "source": [
    "**Exercise.**\n",
    "The cell below contains a slightly modified version of the `if` test from Bran, the branching chatbot.\n",
    "Complete the arguments for the `re.sub` function so that the `if` test works as intended for answers containing dots.\n",
    "You do not need to handle answers with `?` or `!`."
   ]
  },
  {
   "cell_type": "code",
   "execution_count": null,
   "metadata": {
    "collapsed": false
   },
   "outputs": [],
   "source": [
    "import re\n",
    "\n",
    "leg_pulling = input()\n",
    "# clean up leg_pulling with a regular substitution;\n",
    "# you have to modify r\"\"\n",
    "leg_pulling = re.sub(r\"\", r\"\", leg_pulling)\n",
    "if str.lower(leg_pulling) in [\"yes\", \"sure\", \"most definitely\", \"that's for sure\"]:\n",
    "    print(\"Well, at least you're honest.\")"
   ]
  },
  {
   "cell_type": "markdown",
   "metadata": {
    "collapsed": true
   },
   "source": [
    "## Multiple substitutions\n",
    "\n",
    "Our main motivation for using regular expressions is their ability to remove punctuation symbols from the user's input.\n",
    "But right now we only know how to replace individual characters.\n",
    "This would make it rather tedious to remove all punctuation symbols from the input."
   ]
  },
  {
   "cell_type": "code",
   "execution_count": null,
   "metadata": {
    "collapsed": true
   },
   "outputs": [],
   "source": [
    "leg_pulling = input()\n",
    "# remove . (special character -> must be escaped with \\)\n",
    "leg_pulling = re.sub(r\"\\.\", r\"\", leg_pulling)\n",
    "# remove ? (special character -> must be escaped with \\)\n",
    "leg_pulling = re.sub(r\"\\?\", r\"\", leg_pulling)\n",
    "# remove !\n",
    "leg_pulling = re.sub(r\"!\", r\"\", leg_pulling)\n",
    "# remove ,\n",
    "leg_pulling = re.sub(r\",\", r\"\", leg_pulling)\n",
    "# remove ;\n",
    "leg_pulling = re.sub(r\";\", r\"\", leg_pulling)\n",
    "\n",
    "if str.lower(leg_pulling) in [\"yes\", \"sure\", \"most definitely\", \"that's for sure\"]:\n",
    "    print(\"Well, at least you're honest.\")"
   ]
  },
  {
   "cell_type": "markdown",
   "metadata": {},
   "source": [
    "This is incredibly tedious.\n",
    "It would be much more convenient if we could just provide a list of characters, all of which should be deleted.\n",
    "Regular expressions allow us to do just that with a syntax that's similar to lists in Python.\n",
    "Inside the string of the first argument, we can specify a range of alternatives between square brackets.\n",
    "So `r\"[\\.\\?!,;]\"` means \"any symbol that is a dot, a question mark, an exclamation mark, a period, or a semicolon\".\n",
    "Note that in contrast to Python lists, the entries between the square brackets are not separated by commas - that would make them even harder to read."
   ]
  },
  {
   "cell_type": "code",
   "execution_count": null,
   "metadata": {
    "collapsed": false
   },
   "outputs": [],
   "source": [
    "leg_pulling = input()\n",
    "# remove punctuation\n",
    "leg_pulling = re.sub(r\"[\\.\\?!,;]\", r\"\", leg_pulling)\n",
    "\n",
    "if str.lower(leg_pulling) in [\"yes\", \"sure\", \"most definitely\", \"that's for sure\"]:\n",
    "    print(\"Well, at least you're honest.\")"
   ]
  },
  {
   "cell_type": "markdown",
   "metadata": {},
   "source": [
    "**Exercise.**\n",
    "Without running the code above, try to figure out if the following input would pass the `if`-test: `Y!!;e...,S..?`.\n",
    "Write down your prediction in the cell below.\n",
    "Then run the code above with this input.\n",
    "Was your prediction borne out?\n",
    "Explain why the string does or does not pass the `if`-test."
   ]
  },
  {
   "cell_type": "markdown",
   "metadata": {},
   "source": [
    "*put your prediction and the explanation of the actual behavior here*"
   ]
  },
  {
   "cell_type": "markdown",
   "metadata": {},
   "source": [
    "**Exercise.**\n",
    "Design a new chatbot, *Lord Loudmouth*.\n",
    "Lord Loudmouth, possibly as a result of the inbreeding that is so common among aristocractic nobility, is not the greatest conversationalist.\n",
    "He just repeats whatever words the user said, but with three exclamation marks after each word.\n",
    "So if the user enters *Hi. I am John, what is your name?*, Lord Loudmouth will reply *Hi!!! I!!! Am!!! John!!! What!!! Is!!! Your!!! Name!!!*.\n",
    "\n",
    "Lord Loudmouth keeps doing this until the user says *Goodbye.*, *Sorry, my ears are ringing.*, or *And I thought it's the quiet ones you oughta watch.* (or some variant with sloppier punctuation and capitalisation)."
   ]
  },
  {
   "cell_type": "code",
   "execution_count": null,
   "metadata": {
    "collapsed": false
   },
   "outputs": [],
   "source": [
    "# Your Lord Loudmouth code"
   ]
  },
  {
   "cell_type": "markdown",
   "metadata": {},
   "source": [
    "*Hints:*\n",
    "If you're stuck with the exercise, highlight the text below to read some tips.\n",
    "\n",
    "<span style=\"color:#000000;background-color:#000000;\">\n",
    "We already have a function for making only the first letter of each word uppercase.\n",
    "If you don't remember what it is, go back to the very first exercise of this notebook.\n",
    "</span>\n",
    "\n",
    "<span style=\"color:#000000;background-color:#000000;\">\n",
    "Inserting !!! after every word is the same as replacing every space after a word by \"!!! \" (note the space after !!!).\n",
    "So all you have to figure out is how you can make sure there is exactly one space after each word.\n",
    "Think about it for a bit.\n",
    "If you're still stuck, check the next hint.\n",
    "</span>\n",
    "\n",
    "<span style=\"color:#000000;background-color:#000000;\">\n",
    "First, replace every punctuation symbol (.!?,;:) by a space.\n",
    "Assuming that the user input ends with a punctuation symbol, now every word has at least one space after it.\n",
    "But some may have two spaces.\n",
    "For instance, \", \" would become two spaces after the comma is replaced by space.\n",
    "So you also have to replace each instance of two spaces by one space.\n",
    "Otherwise, some words will be followed by \"!!! !!! \" instead of just \"!!! \".\n",
    "</span>"
   ]
  },
  {
   "cell_type": "markdown",
   "metadata": {},
   "source": [
    "**Exercise. **\n",
    "Lord Loudmouth has a lovely wife, *Lady Lunatic*.\n",
    "She, too, is conversationally challenged:\n",
    "\n",
    "- Every command she turns into a sentence (exclamation marks become dots).\n",
    "- Every sentence she turns into a question (dots become question marks).\n",
    "- Every question she turns into a command (question marks become exclamation marks).\n",
    "\n",
    "Write an initial draft of the code for Lady Lunatic.\n",
    "Two important hints:\n",
    "\n",
    "1.  As mentioned in an earlier example, `?` also has a special meaning in regular expressions, so make sure to escape it with `\\`.\n",
    "1.  Special characters only need to be escaped in the first part of `re.sub`, i.e. the part that specifies what should be replaced.\n",
    "    In the second part, where it says what to replace the match with, characters **must not** be escaped.\n",
    "    Yeah, regular expressions are a little finicky, that's why it's important to practice them a lot.\n",
    "    \n",
    "Once you have finished your draft, test it on the following strings:\n",
    "\n",
    "- \"Let it go!\"\n",
    "- \"I am tired.\"\n",
    "- \"You don't like me anymore?\"\n",
    "- \"You don't like me anymore? Shut up! You old bastard.\"\n",
    "\n",
    "Did things turn out the way you expected?\n",
    "What do you think went wrong?\n",
    "\n",
    "Once you've thought about this for a bit (and put your answers below), write up a second draft that works for the examples above (but may fail on some other sentences that include, say, `|`, or `@`)."
   ]
  },
  {
   "cell_type": "code",
   "execution_count": null,
   "metadata": {
    "collapsed": false
   },
   "outputs": [],
   "source": [
    "# put your first draft of the Lady Lunatic code here"
   ]
  },
  {
   "cell_type": "markdown",
   "metadata": {},
   "source": [
    "*Put your answers to the questions here*"
   ]
  },
  {
   "cell_type": "code",
   "execution_count": null,
   "metadata": {
    "collapsed": true
   },
   "outputs": [],
   "source": [
    "# put your second draft here, which tries to fix the previous problem"
   ]
  },
  {
   "cell_type": "markdown",
   "metadata": {},
   "source": [
    "*Hints:*\n",
    "If you're stuck with the exercise, highlight the text below to read some tips.\n",
    "\n",
    "<span style=\"color:#000000;background-color:#000000;\">\n",
    "In your first draft, you probably used three substitutions.\n",
    "One turns ! to ., one turns . to ?, and one turns ? to !.\n",
    "This creates a big problem.\n",
    "If you run the three substitutions in sequence, then all punctuation eventually becomes !:\n",
    "\"What? Shut up! Bastard.\" -> \"What? Shut up. Bastard.\" -> \"What? Shut up? Bastard?\" -> \"What! Shut up! Bastard!\"\n",
    "</span>\n",
    "\n",
    "<span style=\"color:#000000;background-color:#000000;\">\n",
    "In order to fix this, you have to create placeholders.\n",
    "For example, it is very unlikely that the user ever writes \"@@@@@\" or \"|||||\".\n",
    "So replace ! by @@@@@, . by |||||, and ? by !:\n",
    "\"What? Shut up! Bastard.\" -> \"What? Shut up@@@@@ Bastard.\" -> \"What? Shut up@@@@@ Bastard|||||\" -> \"What! Shut up@@@@@ Bastard |||||\"\n",
    "</span>\n",
    "\n",
    "<span style=\"color:#000000;background-color:#000000;\">\n",
    "Don't forget to replace @@@@@ by ! and ||||| by . at the end.\n",
    "</span>"
   ]
  },
  {
   "cell_type": "markdown",
   "metadata": {},
   "source": [
    "Regular expressions are very powerful, and we will see all kinds of uses for them throughout the semester.\n",
    "If you're curious, you can already experiment a bit online on the website [Pythex](https://pythex.org/).\n",
    "But the power of regular expressions (or simply *regexes*) can feel overwhelming at the beginning.\n",
    "So we will take it slowly and grow our *regex* vocabulary step-by-step rather than doing everything in one fell swoop."
   ]
  },
  {
   "cell_type": "markdown",
   "metadata": {},
   "source": [
    "## Bullet point summary\n",
    "\n",
    "- User input must be normalized before processing.\n",
    "- Capitalization is controlled by `str.lower`, `str.upper`, and `str.title`.\n",
    "- Use a regular expression (*regex*) for more complicated substitutions.\n",
    "- Load the regex library with `import re`.\n",
    "- For substitutions, use `re.sub`.\n",
    "  The usage pattern is `(r\"to_replace\", r\"the_replacement\", the_string)`.\n",
    "- Don't forget the *regular r rule*."
   ]
  },
  {
   "cell_type": "markdown",
   "metadata": {},
   "source": [
    "***The regular r rule:* always put r before regular expression strings.**"
   ]
  },
  {
   "cell_type": "markdown",
   "metadata": {},
   "source": [
    "- In regexes, some characters have special meaning.\n",
    "  The dot (`.`) matches any arbitrary character.\n",
    "- Special meanings must be escaped with `\\`.\n",
    "  So `\\.` matches a literal dot.\n",
    "- Lists of characters go between `[` and `]`, but are **not** separated by a comma.\n",
    "  To replace all punctuation, use `r\"[\\.\\?!;,]\"`."
   ]
  }
 ],
 "metadata": {
  "kernelspec": {
   "display_name": "Python 3",
   "language": "python",
   "name": "python3"
  },
  "language_info": {
   "codemirror_mode": {
    "name": "ipython",
    "version": 3
   },
   "file_extension": ".py",
   "mimetype": "text/x-python",
   "name": "python",
   "nbconvert_exporter": "python",
   "pygments_lexer": "ipython3",
   "version": "3.5.3"
  }
 },
 "nbformat": 4,
 "nbformat_minor": 2
}
