{
 "cells": [
  {
   "cell_type": "markdown",
   "metadata": {},
   "source": [
    "# Expansion unit: `elif`\n",
    "\n",
    "This is another expansion unit.\n",
    "Remember, expansion units are completely optional, so feel free to skip this.\n",
    "In particular, you should not read this unit unless you already have a firm grasp of how `if` and `else` work."
   ]
  },
  {
   "cell_type": "markdown",
   "metadata": {},
   "source": [
    "## Making nested conditionals easier to read\n",
    "\n",
    "Below is the code for our chatbot Narcissus as it was written in the previous unit."
   ]
  },
  {
   "cell_type": "code",
   "execution_count": null,
   "metadata": {
    "collapsed": true
   },
   "outputs": [],
   "source": [
    "# a chatbot with limited user replies\n",
    "\n",
    "print(\"Hi, I'm Narcissus.\")\n",
    "print(\"To tell me how awesome I am, enter 1.\")\n",
    "print(\"To tell me that I am much more awesome than you, enter 2.\")\n",
    "print(\"To end the conversation because you cannot handle my awesomeness, enter 3.\")\n",
    "print() # insert an empty line in the output\n",
    "print(\"Please make your selection...\")\n",
    "reply = input()\n",
    "\n",
    "# time to check the user's choice\n",
    "if reply == \"1\":\n",
    "    print(\"Answer 1, a good choice, worthy of my awesomeness.\")\n",
    "else:\n",
    "    if reply == \"2\":\n",
    "        print(\"Answer 2, a good choice.\")\n",
    "        print(\"But I do not converse with people less awesome than me.\")\n",
    "        print(\"Come back when you're worthy of my awesomeness.\")\n",
    "    else:\n",
    "        if reply == \"3\":\n",
    "            print(\"Answer 3 means that our ways must part here.\")\n",
    "        else:\n",
    "            print(\"Fool, you didn't pick one of the predetermined choices.\")\n",
    "            print(\"Be gone!\")"
   ]
  },
  {
   "cell_type": "markdown",
   "metadata": {},
   "source": [
    "One thing that is not particularly nice about this code is how each choice is indented a little bit more than the previous one.\n",
    "So `reply == \"1\"` is flush with the left edge, `reply == 2` is indented by one tab, and `reply == 3` is indented by two tabs.\n",
    "This makes the code look rather ragged, and it also does not correspond to our intuition that all three options have equal status.\n",
    "\n",
    "To deal with cases like this, Python offers `elif condition:` as a shorthand for\n",
    "\n",
    "```python\n",
    "else:\n",
    "    if condition:\n",
    "```\n",
    "\n",
    "That's why the command is called `elif` --- it is a shorthand for `else if` constructs.\n",
    "With `elif`, the code for the Narciuss chatbot can be structured in a much more natural manner."
   ]
  },
  {
   "cell_type": "code",
   "execution_count": null,
   "metadata": {
    "collapsed": false
   },
   "outputs": [],
   "source": [
    "# a chatbot with limited user replies\n",
    "\n",
    "print(\"Hi, I'm Narcissus.\")\n",
    "print(\"To tell me how awesome I am, enter 1.\")\n",
    "print(\"To tell me that I am much more awesome than you, enter 2.\")\n",
    "print(\"To end the conversation because you cannot handle my awesomeness, enter 3.\")\n",
    "print() # insert an empty line in the output\n",
    "print(\"Please make your selection...\")\n",
    "reply = input()\n",
    "\n",
    "# time to check the user's choice\n",
    "if reply == \"1\":\n",
    "    print(\"Answer 1, a good choice, worthy of my awesomeness.\")\n",
    "elif reply == \"2\":\n",
    "    print(\"Answer 2, a good choice.\")\n",
    "    print(\"But I do not converse with people less awesome than me.\")\n",
    "    print(\"Come back when you're worthy of my awesomeness.\")\n",
    "elif reply == \"3\":\n",
    "    print(\"Answer 3 means that our ways must part here.\")\n",
    "else:\n",
    "    print(\"Fool, you didn't pick one of the predetermined choices.\")\n",
    "    print(\"Be gone!\")"
   ]
  },
  {
   "cell_type": "markdown",
   "metadata": {},
   "source": [
    "## `elif` vs `if`\n",
    "\n",
    "The `elif` statement is a good choice whenever you have multiple options of which only one should be run.\n",
    "You might be wondering why the code above couldn't simply use `if` insteand of `elif`, after all `reply` can only be one of the three values `1`, `2`, `3`, so only one of the `if`/`elif` cases can be satisfied.\n",
    "But the answer quickly becomes apparent if you run the code without `elif` below and enter `1` or `2`."
   ]
  },
  {
   "cell_type": "code",
   "execution_count": null,
   "metadata": {
    "collapsed": false
   },
   "outputs": [],
   "source": [
    "# a chatbot with limited user replies\n",
    "\n",
    "print(\"Hi, I'm Narcissus.\")\n",
    "print(\"To tell me how awesome I am, enter 1.\")\n",
    "print(\"To tell me that I am much more awesome than you, enter 2.\")\n",
    "print(\"To end the conversation because you cannot handle my awesomeness, enter 3.\")\n",
    "print() # insert an empty line in the output\n",
    "print(\"Please make your selection...\")\n",
    "reply = input()\n",
    "\n",
    "# time to check the user's choice\n",
    "if reply == \"1\":\n",
    "    print(\"Answer 1, a good choice, worthy of my awesomeness.\")\n",
    "if reply == \"2\":\n",
    "    print(\"Answer 2, a good choice.\")\n",
    "    print(\"But I do not converse with people less awesome than me.\")\n",
    "    print(\"Come back when you're worthy of my awesomeness.\")\n",
    "if reply == \"3\":\n",
    "    print(\"Answer 3 means that our ways must part here.\")\n",
    "else:\n",
    "    print(\"Fool, you didn't pick one of the predetermined choices.\")\n",
    "    print(\"Be gone!\")"
   ]
  },
  {
   "cell_type": "markdown",
   "metadata": {},
   "source": [
    "As you can see, in this case the `else` code is triggered whenever `reply == \"3\"` is false.\n",
    "But this is not what we want, this code should only be executed if the user entered something else than `1`, `2`, or `3`.\n",
    "\n",
    "The crucial difference between these two programs is that the one with `elif` produces a long sequence of cases that are checked one after the other:\n",
    "\n",
    "1. If the user enters 1, do X.\n",
    "1. Otherwise, if the user enters 2, do Y.\n",
    "1. Otherwise, if the user enter 3, do Z.\n",
    "1. In all other cases, do something else instead.\n",
    "\n",
    "With the `if` statements, we get a very different sequence of instructions:\n",
    "\n",
    "1. If the user enters 1, do X.\n",
    "1. If the user enters 2, do Y.\n",
    "1. If the user enters 3, do Z, and if they did not enter 3 do something else instead.\n",
    "\n",
    "The contrast between `if` and `elif` becomes even more apparent when multiple conditions can be true at the same time, as in the program below."
   ]
  },
  {
   "cell_type": "code",
   "execution_count": null,
   "metadata": {
    "collapsed": false
   },
   "outputs": [],
   "source": [
    "curse = \"This string was uttered by a potty mouth and thus contains bad words: jerk, muttonhead, and politician.\"\n",
    "\n",
    "# test the string for bad words, complaining only about the first match\n",
    "if \"jerk\" in curse: # this is always tested\n",
    "    print(\"Jerk is not a nice word, you know.\")\n",
    "elif \"muttonhead\" in curse: # this is only tested if \"jerk\" not in curse\n",
    "    print(\"You're the first person ever to use muttonhead as an insult.\")\n",
    "elif \"politician\" in curse: # this is only tested if \"jerk\" not in curse and \"muttonhead\" not in curse\n",
    "    print(\"How dare you use this filthy slur?\")"
   ]
  },
  {
   "cell_type": "code",
   "execution_count": null,
   "metadata": {
    "collapsed": false
   },
   "outputs": [],
   "source": [
    "curse = \"This string was uttered by a potty mouth and thus contains bad words: jerk, muttonhead, and politician.\"\n",
    "\n",
    "# test the string for bad words, complaining about every match\n",
    "if \"jerk\" in curse: # this is always tested\n",
    "    print(\"Jerk is not a nice word, you know.\")\n",
    "if \"muttonhead\" in curse: # this is always tested\n",
    "    print(\"You're the first person ever to use muttonhead as an insult.\")\n",
    "if \"politician\" in curse: # this is always tested\n",
    "    print(\"How dare you use this filthy slur?\")"
   ]
  },
  {
   "cell_type": "markdown",
   "metadata": {},
   "source": [
    "As you can see, the important difference between `if` and `elif` is that the code in the scope of `if` is always run if the condition is satisfied, whereas `elif` is only run if none of the higher ranked conditions have been met.\n",
    "\n",
    "Complicated conditionals can be made much more readable with `elif`.\n",
    "But in this course we will rarely have a use for more than a simple `if` and `else` construction.\n",
    "That doesn't mean you won't need `elif` in your programs, though."
   ]
  }
 ],
 "metadata": {
  "kernelspec": {
   "display_name": "Python 3",
   "language": "python",
   "name": "python3"
  },
  "language_info": {
   "codemirror_mode": {
    "name": "ipython",
    "version": 3
   },
   "file_extension": ".py",
   "mimetype": "text/x-python",
   "name": "python",
   "nbconvert_exporter": "python",
   "pygments_lexer": "ipython3",
   "version": "3.5.3"
  }
 },
 "nbformat": 4,
 "nbformat_minor": 2
}
