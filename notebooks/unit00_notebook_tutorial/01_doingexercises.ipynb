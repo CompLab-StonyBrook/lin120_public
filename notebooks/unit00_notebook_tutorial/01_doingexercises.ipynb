{
 "cells": [
  {
   "cell_type": "markdown",
   "metadata": {},
   "source": [
    "# More about Python notebooks\n",
    "\n",
    "Before you can start to learn about Python, you have to master the usage of Python notebooks.\n",
    "Don't worry, it's very easy and will be like second nature to you after a week or two.\n",
    "This notebook covers everything you need to know to get going."
   ]
  },
  {
   "cell_type": "markdown",
   "metadata": {},
   "source": [
    "## What is a Python notebook, and why do we use it?\n",
    "\n",
    "A Python notebook is very different from the environments professional programmers use to develop software.\n",
    "It is more like a scratch pad where code can be interwoven with normal text, images, links to videos, and so on.\n",
    "While a programmer would rarely need those things, they are very useful for a beginner who is still learning the ropes.\n",
    "For this course, you can think of the notebooks as chapters of a highly interactive textbook.\n",
    "Any code in this \"textbook\" can be run to see what it does.\n",
    "And you can add your own code to run it.\n",
    "That's the really cool thing about Python notebooks.\n",
    "It's as if you could scribble your code directly on the pages of a textbook and run it right there.\n",
    "\n",
    "## How will notebooks be used in this course?\n",
    "\n",
    "The notebooks are both your **primary Python reference** and **your Python homeworks**.\n",
    "Each notebook contains a number of exercises.\n",
    "For each exercise, you write down your answer right below it in the notebook and then save the notebook.\n",
    "That's it.\n",
    "There's no handwritten assignments, no files you have to submit on Blackboard, zilch, zero, nada.\n",
    "You just write your answers directly into the notebook, save it, and we'll automatically collect them through Cocalc once the deadline has passed.\n",
    "\n",
    "## How exactly does this work?\n",
    "\n",
    "Here's a very simple example, which also happpens to be your first exercise."
   ]
  },
  {
   "cell_type": "markdown",
   "metadata": {},
   "source": [
    "**Exercise.**\n",
    "The cell below contains a short piece of Python code.\n",
    "Click on the cell to highlight it, then run it to see the output.\n",
    "Now click it again, move the blinking cursor to the line with `x = 5`, and change the value from 5 to 10.\n",
    "Run the cell again to see the new output."
   ]
  },
  {
   "cell_type": "code",
   "execution_count": null,
   "metadata": {
    "collapsed": false
   },
   "outputs": [],
   "source": [
    "x = 5\n",
    "print(x*2 + 1)"
   ]
  },
  {
   "cell_type": "markdown",
   "metadata": {},
   "source": [
    "If you've done everything correctly, you should now see 21 under the code cell.\n",
    "Save your progress by going to the toolbar at the top, selecting `File`, and then `Save`.\n",
    "Here's a screenshot."
   ]
  },
  {
   "cell_type": "markdown",
   "metadata": {},
   "source": [
    "image here"
   ]
  },
  {
   "cell_type": "markdown",
   "metadata": {},
   "source": [
    "**Caution.**\n",
    "In Cocalc, the `File` menu is right underneath the `Files` tab, which takes you to Cocalc's filebrowser.\n",
    "If you click this, it will look like your notebook has disappeared.\n",
    "But don't worry, it's still there and you haven't lost any progress.\n",
    "All open notebooks are shown as tabs next to the `Settings` button.\n",
    "Just click on the tab for the notebook to view it again.\n",
    "\n",
    "**/Caution**"
   ]
  },
  {
   "cell_type": "markdown",
   "metadata": {},
   "source": [
    "Some exercises do not involve any Python code, instead you have to write down your answer in plain English.\n",
    "For these exercises, you have to edit a text cell (like the one you're currently reading).\n",
    "The process is pretty much exactly the same, except that you have to double-click a text cell to edit it.\n",
    "Guess what's your next exercise?"
   ]
  },
  {
   "cell_type": "markdown",
   "metadata": {},
   "source": [
    "**Exercise.**\n",
    "Double click the text cell below to make it editable.\n",
    "Enter a short piece of text of your choice (a particularly creative one might brighten the day of your TA).\n",
    "Then run the cell like a code cell, and observe how it now looks a lot nicer now.\n",
    "Don't forget to save your notebook."
   ]
  },
  {
   "cell_type": "markdown",
   "metadata": {},
   "source": [
    "*Replace this text by your own message*"
   ]
  }
 ],
 "metadata": {
  "kernelspec": {
   "display_name": "Python 3",
   "language": "python",
   "name": "python3"
  },
  "language_info": {
   "codemirror_mode": {
    "name": "ipython",
    "version": 3
   },
   "file_extension": ".py",
   "mimetype": "text/x-python",
   "name": "python",
   "nbconvert_exporter": "python",
   "pygments_lexer": "ipython3",
   "version": "3.5.3"
  }
 },
 "nbformat": 4,
 "nbformat_minor": 2
}
