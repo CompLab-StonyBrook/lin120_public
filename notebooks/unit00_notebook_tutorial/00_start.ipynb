{
 "cells": [
  {
   "cell_type": "markdown",
   "metadata": {},
   "source": [
    "# Congratulations!\n",
    "\n",
    "You have successfully loaded a Python notebook.\n",
    "Click on the cell below and press the *Run* button in the top toolbar to execute the Python code."
   ]
  },
  {
   "cell_type": "code",
   "execution_count": null,
   "metadata": {
    "collapsed": true
   },
   "outputs": [],
   "source": [
    "print(\"Your Python setup is working correctly!\")"
   ]
  },
  {
   "cell_type": "markdown",
   "metadata": {},
   "source": [
    "If you can't find the button, here is a screenshot in Cocalc with a red rectangle around it."
   ]
  },
  {
   "cell_type": "markdown",
   "metadata": {},
   "source": [
    "![a screenshot of the Cocalc toolbar with highlighted Run botton](cocalc_play.png)"
   ]
  },
  {
   "cell_type": "markdown",
   "metadata": {},
   "source": [
    "If you aren't using Cocalc (which is only recommended for advanced users who know what they're doing), things look slightly different."
   ]
  },
  {
   "cell_type": "markdown",
   "metadata": {},
   "source": [
    "![a screenshot of the Cocalc toolbar with highlighted Run botton](jupyter_play.png)"
   ]
  },
  {
   "cell_type": "markdown",
   "metadata": {},
   "source": [
    "After successfully running the code cell above, you should see the message *Your Python setup is working correctly!* printed right underneath it.\n",
    "If that is not the case, make sure you carried out the steps correctly:\n",
    "\n",
    "1.  Select the cell by clicking into it.\n",
    "    A rectangle will be drawn around it.\n",
    "   \n",
    "1.  Click on the play button and wait a bit to see the output.\n",
    "\n",
    "If you're still struggling to get this to work, post an issue on the tech support board in Blackboard.\n",
    "Make sure to first read the post on how to write a good bug report - without the correct information, it's very difficult to help you.\n",
    "Save us and yourself some time by describing everything in your first post.\n",
    "\n",
    "Once everything works as it should, proceed to the next notebook in this unit."
   ]
  }
 ],
 "metadata": {
  "kernelspec": {
   "display_name": "Python 3",
   "language": "python",
   "name": "python3"
  },
  "language_info": {
   "codemirror_mode": {
    "name": "ipython",
    "version": 3
   },
   "file_extension": ".py",
   "mimetype": "text/x-python",
   "name": "python",
   "nbconvert_exporter": "python",
   "pygments_lexer": "ipython3",
   "version": "3.5.3"
  }
 },
 "nbformat": 4,
 "nbformat_minor": 2
}
