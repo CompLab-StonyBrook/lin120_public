{
 "cells": [
  {
   "cell_type": "markdown",
   "metadata": {},
   "source": [
    "# Some useful tricks\n",
    "\n",
    "None of the following is necessary to do well in this class, so if your head is already spinning, feel free to skip this notebook for now.\n",
    "You can always come back at a later point in the semester when you're more comfortable with the workflow and want to step it up a bit.\n",
    "\n",
    "## Hotkey for executing cells\n",
    "\n",
    "Later notebooks will have many code cells for you to run.\n",
    "After a while, it will get very annoying to always select the cell, then move all the way to the top toolbar to run the code.\n",
    "Instead, you can hit `SHIFT` and `ENTER` at the same time on your keyboard.\n",
    "This executes the currently selected cell and automatically selects the next one.\n",
    "That way, you can hit `SHIFT` and `ENTER` multiple times to quickly execute multiple cells.\n",
    "\n",
    "## Undoing changes\n",
    "\n",
    "If you're editing a cell and accidentally delete something, you can undo the change by pressing `CTRL` and `z` at the same time.\n",
    "Each cell has its own undo history, but this history is lost if you close the notebook.\n",
    "So if you make some changes, save the notebook, close it, and then realize later on that you don't like some of the changes, you're out of luck.\n",
    "Cocalc has an additional backup system called *TimeTravel*, but it is best left untouched unless you know what you're doing.\n",
    "\n",
    "## Adding notes\n",
    "\n",
    "Every notebook is essentially a collection of Python code cells like the one in the very first exercise you did, and text cells like the one in the second exercise.\n",
    "Each one you can edit to your liking.\n",
    "So you can add your own notes to any cell as you see fit.\n",
    "As long as the notebook still contains all the exercises and your answers to it, it is ready for grading."
   ]
  },
  {
   "cell_type": "markdown",
   "metadata": {},
   "source": [
    "## Markdown for text\n",
    "\n",
    "Text cells are written in a special syntax called *Markdown*.\n",
    "If you don't care about making text look pretty, you can completely ignore Markdown and just write your text as in any other text editor.\n",
    "By the way, code cells can only contain Python code, so Markdown does not work there, either.\n",
    "It's really just for text cells, and it's completely optional.\n",
    "But if you want to add *italics*, **bold face**, or lists to text cells, read on."
   ]
  },
  {
   "cell_type": "markdown",
   "metadata": {},
   "source": [
    "Text with 1 `*` on each side appears in italics. So what you see as *text in italics* right now, is actually written as `*text in italics*` in the text cell."
   ]
  },
  {
   "cell_type": "markdown",
   "metadata": {},
   "source": [
    "Text with 2 `*` on each side are in bold face. So `**text in bold face**` appears as, you guessed it, **text in bold face**."
   ]
  },
  {
   "cell_type": "markdown",
   "metadata": {},
   "source": [
    "Text with 3 `*` is both bold and in italics. Try it yourself below:"
   ]
  },
  {
   "cell_type": "markdown",
   "metadata": {},
   "source": [
    "Add stars so that the last two words of this sentence are in bold italics."
   ]
  },
  {
   "cell_type": "markdown",
   "metadata": {},
   "source": [
    "If you want to produce a list, write each item on its own line and put a hyphen and a space at the beginning of the line.\n",
    "Look at the list below.\n",
    "\n",
    "- This is item 1.\n",
    "- This is item 2.\n",
    "- And here is a really long item that will probably span more than one line on your screen unless you have a really wide screen or for some reason your browser does not wrap superlong lines. Which, frankly, it should do because that's essential for good readability of long list lines, don't you agree?\n",
    "\n",
    "The corresponding markdown code is:\n",
    "\n",
    "```\n",
    "- This is item 1.\n",
    "- This is item 2.\n",
    "- And here is a really long item that will probably span more than one line on your screen unless you have a really wide screen or for some reason your browser does not wrap superlong lines. Which, frankly, it should do because that's essential for good readability of long list lines, don't you agree?\n",
    "```"
   ]
  },
  {
   "cell_type": "markdown",
   "metadata": {},
   "source": [
    "Markdown is not required for this course, so if any of this seems overly complicated to you feel free to remain blissfully unaware of Markdown.\n",
    "But in particular if you want to add your own notes to text cells, Markdown can be very useful.\n",
    "If you want to learn more, try the [interactive Markdown tutorial](https://www.markdowntutorial.com/).\n",
    "It only takes about 30 minutes."
   ]
  }
 ],
 "metadata": {
  "kernelspec": {
   "display_name": "Python 3",
   "language": "python",
   "name": "python3"
  },
  "language_info": {
   "codemirror_mode": {
    "name": "ipython",
    "version": 3
   },
   "file_extension": ".py",
   "mimetype": "text/x-python",
   "name": "python",
   "nbconvert_exporter": "python",
   "pygments_lexer": "ipython3",
   "version": "3.5.3"
  }
 },
 "nbformat": 4,
 "nbformat_minor": 2
}
