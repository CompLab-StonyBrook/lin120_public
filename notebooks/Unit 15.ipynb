{
 "cells": [
  {
   "cell_type": "markdown",
   "metadata": {},
   "source": [
    "# Word Completion\n",
    "\n",
    "There is one important applicatinon area for unigram models that we haven't discussed yet: word completion.\n",
    "In a word completion task, we have to determine the possible continuations for a partially typed word.\n",
    "For example, if the user types *to* we might suggest *too*, *tool*, *torrent*, and so on.\n",
    "Usually only the most likely completions are shown to the the user, but we will leave this to the next unit.\n",
    "For now, we just want to figure out how we can compute all the available completions for a string.\n",
    "You might think this is harder, but it's actually quite a bit easier."
   ]
  },
  {
   "cell_type": "markdown",
   "metadata": {},
   "source": [
    "## Some general observations\n",
    "\n",
    "Obviously Python can only offer possible completions if it knows what the possible words of English are.\n",
    "Otherwise we might end up with suggestions like *tolmnox*, which is not an English word.\n",
    "So the first thing we need is an English dictionary.\n",
    "Without it, Python has no idea what is or isn't an English word.\n",
    "Fortunately we already know from the previous unit where to find such a dictionary and how to convert it to a list."
   ]
  },
  {
   "cell_type": "code",
   "execution_count": null,
   "metadata": {
    "collapsed": false
   },
   "outputs": [],
   "source": [
    "import urllib.request\n",
    "import re\n",
    "\n",
    "def read_file(filename):\n",
    "    with open(filename, \"r\", encoding=\"utf-8\") as text:\n",
    "        return text.read()\n",
    "\n",
    "# download the file\n",
    "url = \"https://raw.githubusercontent.com/dwyl/english-words/master/words.txt\"\n",
    "urllib.request.urlretrieve(url, \"words.txt\")\n",
    "dict_string = read_file(\"words.txt\")\n",
    "\n",
    "# tokenize dict_string;\n",
    "# remember that each word is on its own line, so [^\\n]+ does the trick\n",
    "dictionary = re.findall(r\"[^\\n]+\", dict_string)"
   ]
  },
  {
   "cell_type": "markdown",
   "metadata": {},
   "source": [
    "**Warning.** Make sure you run the cell above, otherwise `dictionary` won't be defined and we need it for the rest of this section!"
   ]
  },
  {
   "cell_type": "markdown",
   "metadata": {},
   "source": [
    "Now that we have a dictionary, we need to find a way to find those words in the dictionary that start with the string we want to complete.\n",
    "For example, if the user has typed *excite*, the possible completions according to our dictionary are:\n",
    "\n",
    "1. excite (after all, the user might have really just meant to type *excite*)\n",
    "1. excited\n",
    "1. excitedly\n",
    "1. excitedness\n",
    "1. excitement\n",
    "1. excitements\n",
    "1. exciter\n",
    "1. exciters\n",
    "1. excites\n",
    "\n",
    "But how do we do this?\n",
    "Intuitively, we have to look at each word in the dictionary and check whether it starts with the string the user has typed.\n",
    "If so, we add it to the list of possible completions.\n",
    "There is a simple way of doing this, a more elaborate one, and a pretty cumbersome one.\n",
    "We'll look at the easy way first, but the pretty cumbersome way will prove more insightful for the future.\n",
    "In the next unit, we'll look at the more elaborate way as a happy middle ground."
   ]
  },
  {
   "cell_type": "markdown",
   "metadata": {},
   "source": [
    "## The simple way: finding completions with `str.startswith`\n",
    "\n",
    "As just discussed, we want to iterate over all words in the dictionary and add a word to the list of completions only if it starts with the string we are trying to complete.\n",
    "This is pretty easy to convert into Python code.\n",
    "The only problem is how one determines whether a word is a possible completion for a string.\n",
    "Fortunately, Python already has a function for exactly that job: `str.startwith`."
   ]
  },
  {
   "cell_type": "code",
   "execution_count": null,
   "metadata": {
    "collapsed": true
   },
   "outputs": [],
   "source": [
    "def complete_word(string, dictionary):\n",
    "    # start empty list of completions\n",
    "    completions = []\n",
    "    # iterate over the words in the dictoinary\n",
    "    for word in dictionary:\n",
    "        # if word starts with string, add it to completions\n",
    "        if str.startswith(word, string):\n",
    "            list.append(completions, word)\n",
    "    # the for loop is done;\n",
    "    # we return the list of all found completions\n",
    "    return completions"
   ]
  },
  {
   "cell_type": "markdown",
   "metadata": {},
   "source": [
    "Most of the code above should be familiar to you.\n",
    "We create an empty list `completions` that we add potential completions to, and this is what the function returns as its output.\n",
    "The `for`-loop is used to iterate over all elements of `dictionary` so that we can look at each `word` individually and determine if it should be added to completions with `list.append(completions, word)`.\n",
    "The mystery is how we make this decision.\n",
    "The job is accomplished by the built-in function `str.startswith(string1, string2)`, which takes two strings and determines if `string1` starts with `string2`."
   ]
  },
  {
   "cell_type": "code",
   "execution_count": null,
   "metadata": {
    "collapsed": false
   },
   "outputs": [],
   "source": [
    "for example in [str.startswith(\"excitement\", \"excite\"),\n",
    "                str.startswith(\"excite\", \"excite\"),\n",
    "                str.startswith(\"excitable\", \"excite\"),\n",
    "                str.startswith(\"Hillary\", \"Hi\"),\n",
    "                str.startswith(\"Hillary\", \"Hi!\")]:\n",
    "    print(example)"
   ]
  },
  {
   "cell_type": "markdown",
   "metadata": {},
   "source": [
    "**Exercise.**\n",
    "Python also has a function `str.endswith`.\n",
    "What might this function do?\n",
    "Construct some examples as in the previous cell for `str.startswith`, then give an informal description of the function."
   ]
  },
  {
   "cell_type": "code",
   "execution_count": null,
   "metadata": {
    "collapsed": false
   },
   "outputs": [],
   "source": [
    "# adapt the examples so that they illustrate how str.endswith works\n",
    "for example in [str.endswith(\"excitement\", \"excite\"),\n",
    "                str.endswith(\"excite\", \"excite\"),\n",
    "                str.endswith(\"excitable\", \"excite\"),\n",
    "                str.endswith(\"Hillary\", \"Hi\"),\n",
    "                str.endswith(\"Hillary\", \"Hi!\")]:\n",
    "    print(example)"
   ]
  },
  {
   "cell_type": "markdown",
   "metadata": {},
   "source": [
    "*put your description here*"
   ]
  },
  {
   "cell_type": "markdown",
   "metadata": {},
   "source": [
    "Thanks to Python's `str.startswith` function, we can now use `complete_word` to get the list of all completions for a string."
   ]
  },
  {
   "cell_type": "code",
   "execution_count": null,
   "metadata": {
    "collapsed": false
   },
   "outputs": [],
   "source": [
    "complete_word(\"excite\", dictionary)"
   ]
  },
  {
   "cell_type": "code",
   "execution_count": null,
   "metadata": {
    "collapsed": false
   },
   "outputs": [],
   "source": [
    "complete_word(\"yes\", dictionary)"
   ]
  },
  {
   "cell_type": "markdown",
   "metadata": {},
   "source": [
    "This is the easy way, and usually this is the preferred way of solving this specific task.\n",
    "But the solution is slightly unsatisfying for us because it is still a mystery how exactly `str.startswith` compares the two strings.\n",
    "As Python beginners you should not be content to just learn a list of Python commands for specific tasks, but rather try to figure out how complex tasks can be solved with general-purpose tools that are useful in many different situations.\n",
    "So let us look at the cumbersome but more general solution next, which introduces an important new technique: **string positions**."
   ]
  },
  {
   "cell_type": "markdown",
   "metadata": {},
   "source": [
    "## The cumbersome way: referencing string positions\n",
    "\n",
    "Why is the string `yesty` (whatever that means) a possible completion for `yes`?\n",
    "Because `yesty` starts with `yes`.\n",
    "But how can we tell that `yesty` starts with `yes`?\n",
    "Well, `yes` is three characters long, and\n",
    "\n",
    "1. when we look at the first characters of `yes` and `yesty`, they are both `y`, and\n",
    "1. when we look at the second character of `yes` and `yesty`, they are both `e`, and\n",
    "1. when we look at the third characer of `yes` and `yesty`, the are both `s`.\n",
    "\n",
    "Alright, fair enough, but how does that help us with Python?\n",
    "It shows us how to compare strings by looking at their parts!\n",
    "\n",
    "First, remember that when we want a specific element `a` from a counter `counts`, we can use the square bracket notation `counts[\"a\"]` to get the value for that specific element.\n",
    "We can do something very similar for strings: if we want to look at only a specific letter in `string`, we use `string[p]`, where `p` is a number indicating the position in the string.\n",
    "Sounds complicated, but it's fairly straight-forward:"
   ]
  },
  {
   "cell_type": "code",
   "execution_count": null,
   "metadata": {
    "collapsed": false
   },
   "outputs": [],
   "source": [
    "print(\"yes\"[0])  # this print y, the 1st letter\n",
    "print(\"yes\"[1])  # this prints e, the 2nd letter\n",
    "print(\"yes\"[2])  # this prints s, the 3rd letter"
   ]
  },
  {
   "cell_type": "markdown",
   "metadata": {},
   "source": [
    "Notice that the value of the position is always one less than what you would intuitively expect.\n",
    "If you want the first letter, you have to look at position 0, if you want the second letter you look at position 1, and so on.\n",
    "As a mnemonic, you can think of the position as an indicator of how many letters are to the left of the letter you want to look at.\n",
    "Obviously the first character has nothing to its left - it is the first letter after all! - so its position is 0.\n",
    "At position 1, we see the letter that has one letter to its left, which must be the second letter in the string.\n",
    "And so on."
   ]
  },
  {
   "cell_type": "markdown",
   "metadata": {},
   "source": [
    "**Exercise.**\n",
    "The cell below has code to print a few strings, but for each string we actually want to print only a specific letter.\n",
    "Add the necessary position to each string."
   ]
  },
  {
   "cell_type": "code",
   "execution_count": null,
   "metadata": {
    "collapsed": true
   },
   "outputs": [],
   "source": [
    "# 1) print t\n",
    "print(\"yesty\")\n",
    "# 2) print the second y\n",
    "print(\"yesty\")\n",
    "# 3) print the w\n",
    "print(\"yesterweek\")"
   ]
  },
  {
   "cell_type": "markdown",
   "metadata": {},
   "source": [
    "**Exercise.**\n",
    "Somebody was very eager to use the new position notation, but made quite a few mistakes in the process.\n",
    "Fix them all, and explain in a comment why the code doesn't work as intended."
   ]
  },
  {
   "cell_type": "code",
   "execution_count": null,
   "metadata": {
    "collapsed": false
   },
   "outputs": [],
   "source": [
    "print(\"excitement[3]\")\n",
    "# your comment:\n",
    "\n",
    "print(\"yes\")[1]\n",
    "# your comment:\n",
    "\n",
    "print(\"yes\"[3])\n",
    "# your comment:\n",
    "\n",
    "print(\"quagmire\"[2.0])\n",
    "# your comment:"
   ]
  },
  {
   "cell_type": "markdown",
   "metadata": {},
   "source": [
    "**Exercise.**\n",
    "We can also use more complex expressions inside integers as long as they evaluate to an integer.\n",
    "For each one of the following, add a comment that explains what it does."
   ]
  },
  {
   "cell_type": "code",
   "execution_count": null,
   "metadata": {
    "collapsed": false
   },
   "outputs": [],
   "source": [
    "print(\"yesterweek\"[2*3])\n",
    "# your comment:\n",
    "\n",
    "print(\"yesterweek\"[len(\"yesterweek\") - 1])\n",
    "# your comment:\n",
    "\n",
    "print(\"yesterweek\"[(len(\"yester\") + len(\"week\")) - len(\"yesterweek\")])"
   ]
  },
  {
   "cell_type": "markdown",
   "metadata": {},
   "source": [
    "With the position notation we can already ask Python to compare if `yesty` starts with `yes`.\n",
    "To do this, we first determine the length of `yes` with `len(yes)`, which evaluates to 3.\n",
    "We then look at all the positions that are less than 3, and if the two strings disagree on any value, we return `False`.\n",
    "If every comparison is passed without returning `False`, we return `True`."
   ]
  },
  {
   "cell_type": "code",
   "execution_count": null,
   "metadata": {
    "collapsed": true
   },
   "outputs": [],
   "source": [
    "# a function for comparing two strings\n",
    "def startswith(long_string, short_string):\n",
    "    # we only need to compare as many positions as there are in the shorter string\n",
    "    limit = len(short_string)\n",
    "    # we start with the leftmost position\n",
    "    pos = 0\n",
    "    # and now a while-loop for comparing positions until we hit the limit\n",
    "    while pos < limit:\n",
    "        # if the two strings aren't the same at the position, starts_with is False\n",
    "        if long_string[pos] != short_string[pos]:\n",
    "            return False\n",
    "        else:\n",
    "            # move on to next position\n",
    "            pos = pos + 1\n",
    "    # the while loop has finished, so all the comparisons went okay;\n",
    "    # we return True\n",
    "    return True"
   ]
  },
  {
   "cell_type": "markdown",
   "metadata": {},
   "source": [
    "The Python built-in `str.startswith` accomplishes the same work as our custom function `startswith`.\n",
    "So now we have a better idea what exactly Python is doing when we call `str.startswith`."
   ]
  },
  {
   "cell_type": "code",
   "execution_count": null,
   "metadata": {
    "collapsed": false
   },
   "outputs": [],
   "source": [
    "print(\"Output with str.startswith\")\n",
    "for example in [str.startswith(\"excitement\", \"excite\"),\n",
    "                str.startswith(\"excite\", \"excite\"),\n",
    "                str.startswith(\"excitable\", \"excite\"),\n",
    "                str.startswith(\"Hillary\", \"Hi\"),\n",
    "                str.startswith(\"Hillary\", \"Hi!\")]:\n",
    "    print(example)\n",
    "    \n",
    "# print a new line\n",
    "print()\n",
    "\n",
    "print(\"Output with our custom startswith function\")\n",
    "for example in [startswith(\"excitement\", \"excite\"),\n",
    "                startswith(\"excite\", \"excite\"),\n",
    "                startswith(\"excitable\", \"excite\"),\n",
    "                startswith(\"Hillary\", \"Hi\"),\n",
    "                startswith(\"Hillary\", \"Hi!\")]:\n",
    "    print(example)"
   ]
  },
  {
   "cell_type": "markdown",
   "metadata": {},
   "source": [
    "**Exercise.**\n",
    "We saw that Python also has a function `str.endswith` as a counterpart to `str.startswith`.\n",
    "Adapt the code for our custom `startswith` function so that it is the counterpart of `star.endswith` instead.\n",
    "If you're stuck, check the next text cell for hints."
   ]
  },
  {
   "cell_type": "code",
   "execution_count": null,
   "metadata": {
    "collapsed": true
   },
   "outputs": [],
   "source": [
    "# a function for comparing two strings\n",
    "def endsswith(long_string, short_string):\n",
    "    # all the code below must be adapated\n",
    "    limit = len(short_string)\n",
    "    # we start with the leftmost position\n",
    "    pos = 0\n",
    "    # and now a while-loop for comparing positions until we hit the limit\n",
    "    while pos < limit:\n",
    "        # if the two strings aren't the same at the position, starts_with is False\n",
    "        if long_string[pos] != short_string[pos]:\n",
    "            return False\n",
    "        else:\n",
    "            # move on to next position\n",
    "            pos = pos + 1\n",
    "    # the while loop has finished, so all the comparisons went okay;\n",
    "    # we return True\n",
    "    return True"
   ]
  },
  {
   "cell_type": "markdown",
   "metadata": {},
   "source": [
    "*Hints*:\n",
    "Suppose we want to see if `yesterweek` ends with `week`.\n",
    "Then we have to do the following steps:\n",
    "\n",
    "1. Determine that the length of `week` is 4.\n",
    "1. Now we know that we have to look at the last four characters of `yesterweek`.\n",
    "   Since the length of `yesterweek` is 10, the last four charactes have the positions 6, 7, 8, and 9.\n",
    "1. So overall we have to compare\n",
    "    - position 0 in `week` to position 6 in `yesterweek`,\n",
    "    - position 1 in `week` to position 7 in `yesterweek`,\n",
    "    - and so on, until we've looked at all 4 relevant positions."
   ]
  },
  {
   "cell_type": "markdown",
   "metadata": {},
   "source": [
    "The ability to reference specific elements of a string with positions is incredibly useful.\n",
    "In particular because it is not limited to strings but also works for lists."
   ]
  },
  {
   "cell_type": "code",
   "execution_count": null,
   "metadata": {
    "collapsed": false
   },
   "outputs": [],
   "source": [
    "testlist = [\"I\", \"love\", \"Python\", \"!\"]\n",
    "\n",
    "print(testlist[0])\n",
    "print(testlist[1])\n",
    "print(testlist[2])\n",
    "print(testlist[3])\n",
    "print(testlist[1+2])\n",
    "print(testlist[len(testlist) - 1])"
   ]
  },
  {
   "cell_type": "markdown",
   "metadata": {},
   "source": [
    "**Exercise.**\n",
    "Determine through an experiment whether we can also use positions with counters."
   ]
  },
  {
   "cell_type": "code",
   "execution_count": null,
   "metadata": {
    "collapsed": true
   },
   "outputs": [],
   "source": [
    "# you can experiment here"
   ]
  },
  {
   "cell_type": "markdown",
   "metadata": {},
   "source": [
    "For the concrete problem of word completions, however, using string positions is more cumbersone than `str.startswith` because we have to define our own custom function `startswith`.\n",
    "In addition, our custom function is not as fast as `str.startswith` - built-in Python functions use all kinds of optimizations to make the code as efficient as possible.\n",
    "So for a real-world problem, you are better off using `str.startswith`.\n",
    "But this specific function will only help you in a few cases, whereas referencing items by their position is a very useful general purpose technique."
   ]
  }
 ],
 "metadata": {
  "kernelspec": {
   "display_name": "Python 3",
   "language": "python",
   "name": "python3"
  },
  "language_info": {
   "codemirror_mode": {
    "name": "ipython",
    "version": 3
   },
   "file_extension": ".py",
   "mimetype": "text/x-python",
   "name": "python",
   "nbconvert_exporter": "python",
   "pygments_lexer": "ipython3",
   "version": "3.5.3"
  }
 },
 "nbformat": 4,
 "nbformat_minor": 2
}
