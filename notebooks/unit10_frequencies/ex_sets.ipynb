{
 "cells": [
  {
   "cell_type": "markdown",
   "metadata": {},
   "source": [
    "# Expansion Unit: Sets\n",
    "\n",
    "By now you know several types of objects in Python:\n",
    "\n",
    "1. strings (`\"This is a string\"`),\n",
    "1. integers (`5`, `18300`, `-523`),\n",
    "1. floats (`5.0`, `18300.3`, `-523.21223519`),\n",
    "1. Booleans (`True`, `False`),\n",
    "1. lists (`[\"a\", \"b\", \"c\"]`, `[]`, `[10, 10, 5, 8]`)\n",
    "1. Counters (`{\"a\": 6, \"b\": 4, \"c\": 2}`)\n",
    "\n",
    "Python provides many other data types, each one of which serves a specific purpose.\n",
    "The data types above cover almost all general usage cases, but sometimes a specific data structure is more convenient or more efficient.\n",
    "One of those more specialized data structures is the *set*.\n",
    "\n",
    "A set is essentially an impoverished list.\n",
    "Sets cannot contain an element more than once, and they are unordered."
   ]
  },
  {
   "cell_type": "code",
   "execution_count": null,
   "metadata": {
    "collapsed": false
   },
   "outputs": [],
   "source": [
    "# a list can contain multiple elements\n",
    "example_list = [\"the\", \"boy\", \"likes\", \"the\", \"girl\"]\n",
    "# converting the list to a set removes all duplicates\n",
    "example_set = set(example_list)\n",
    "\n",
    "print(example_list)\n",
    "print(example_set)"
   ]
  },
  {
   "cell_type": "code",
   "execution_count": null,
   "metadata": {
    "collapsed": false
   },
   "outputs": [],
   "source": [
    "# a list has a specific order\n",
    "example_list = [\"first\", \"second\", \"third\", \"fourth\"]\n",
    "# converting the list to a set destroys the order\n",
    "example_set = set(example_list)\n",
    "\n",
    "print(\"Printing list items\")\n",
    "for item in example_list:\n",
    "    print(item)\n",
    "    \n",
    "print(\"\\nPrinting set items\")\n",
    "for item in example_set:\n",
    "    print(item)"
   ]
  },
  {
   "cell_type": "markdown",
   "metadata": {},
   "source": [
    "The code above may print the items in the correct order in both cases, but there is no guarantee that this always happens.\n",
    "In principle, Python can pull the items from the set in any order it wants.\n",
    "\n",
    "Alright, so sets are a variant of lists that misses two useful properties, order and the ability to contain multiple tokens of the same type.\n",
    "Why would anybody want such an impoverished data structure?\n",
    "\n",
    "Well, sometimes the removal of duplicate entries is a boon rather than a shortcoming.\n",
    "Suppose we want to write a function that tells us for any two strings whether they contain the same characters.\n",
    "This is very easy with sets."
   ]
  },
  {
   "cell_type": "code",
   "execution_count": null,
   "metadata": {
    "collapsed": false
   },
   "outputs": [],
   "source": [
    "def char_equivalent(string1, string2):\n",
    "    # convert strings to sets of characters\n",
    "    string1 = set(string1)\n",
    "    string2 = set(string2)\n",
    "    if string1 == string2:\n",
    "        return True\n",
    "    else:\n",
    "        return False\n",
    "    \n",
    "# let's run some tests:\n",
    "\n",
    "# the comparison is case sensitive\n",
    "print(char_equivalent(\"Tokyo\", \"Kyoto\"))\n",
    "\n",
    "# but order of characters does not matter, as desired\n",
    "print(char_equivalent(\"tokyo\", \"kyoto\"))\n",
    "\n",
    "# and repetition is also fine\n",
    "print(char_equivalent(\"New York\", \"New New York\"))"
   ]
  },
  {
   "cell_type": "markdown",
   "metadata": {},
   "source": [
    "The other advantage of sets is that they are much faster with the `in` operator.\n",
    "This means that a statement like `if x in y` is computed much faster if `y` is a set rather than a list.\n",
    "For our stop word removal function, for example, we would have been better off using a set of stop words rather than a list.\n",
    "We can verify this by timing how long the code takes to run with a list of stopwords in comparison to a set of stopwords.\n",
    "\n",
    "First we have to define all the custom functions and variables in the familiar fashion.\n",
    "Just run the cell below to take care of that."
   ]
  },
  {
   "cell_type": "code",
   "execution_count": null,
   "metadata": {
    "collapsed": true
   },
   "outputs": [],
   "source": [
    "%run wordcounts.py"
   ]
  },
  {
   "cell_type": "markdown",
   "metadata": {},
   "source": [
    "Next we load a list of stopwords."
   ]
  },
  {
   "cell_type": "code",
   "execution_count": null,
   "metadata": {
    "collapsed": false
   },
   "outputs": [],
   "source": [
    "import re\n",
    "import urllib.request\n",
    "\n",
    "# define stop words\n",
    "urllib.request.urlretrieve(\"https://raw.githubusercontent.com/Alir3z4/stop-words/master/english.txt\", \"stopwords.txt\")\n",
    "with open(\"stopwords.txt\", \"r\", encoding=\"utf-8\") as stopwords_file:\n",
    "    stopwords_list = re.findall(r\"[^\\n]+\", stopwords_file.read())\n",
    "    stopwords_set = set(stopwords_list)"
   ]
  },
  {
   "cell_type": "markdown",
   "metadata": {},
   "source": [
    "The code above defines\n",
    "\n",
    "1. a list `stopwords_list`, and\n",
    "1. a **set** `stopwords_set`.\n",
    "\n",
    "Now we can test how long the code takes to execute with `stopwords_list`."
   ]
  },
  {
   "cell_type": "code",
   "execution_count": null,
   "metadata": {
    "collapsed": false
   },
   "outputs": [],
   "source": [
    "def test_list():\n",
    "    # empty list of words\n",
    "    words = []\n",
    "\n",
    "    # start for-loop\n",
    "    for token in hamlet:\n",
    "        if token not in stopwords_list:\n",
    "            # add token to words\n",
    "            list.append(words, token)\n",
    "        \n",
    "# tell Jupyter to time how long it takes to run the function\n",
    "% time test_list()"
   ]
  },
  {
   "cell_type": "markdown",
   "metadata": {},
   "source": [
    "Execution time depends a lot on the hardware you are running this notebook on.\n",
    "On my computer, the code takes around 20 milliseconds."
   ]
  },
  {
   "cell_type": "code",
   "execution_count": null,
   "metadata": {
    "collapsed": false
   },
   "outputs": [],
   "source": [
    "def test_set():\n",
    "    # empty list of words\n",
    "    words = []\n",
    "\n",
    "    # start for-loop\n",
    "    for token in hamlet:\n",
    "        if token not in stopwords_set:\n",
    "            # add token to words\n",
    "            list.append(words, token)\n",
    "        \n",
    "# tell Jupyter to time how long it takes to run the function\n",
    "% time test_set()"
   ]
  },
  {
   "cell_type": "markdown",
   "metadata": {},
   "source": [
    "The code with the set, on the other hand, takes about 2 milliseconds.\n",
    "That's a 10-fold speed increase!\n",
    "But okay, saving 8 milliseconds does not seem all that impressive, either way it's only a fraction of a second.\n",
    "But that's only because the list of stopwords isn't all that long.\n",
    "Let's try this test again with a longer list, our dictionary of 500,000 English words.\n",
    "\n",
    "We'll now check for each word type of *Hamlet* as to whether it occurs in the dictionary.\n",
    "This takes quite a while if the dictionary is a list, but is almost instantaneous if the dictionary is a set."
   ]
  },
  {
   "cell_type": "code",
   "execution_count": null,
   "metadata": {
    "collapsed": true
   },
   "outputs": [],
   "source": [
    "import re\n",
    "import urllib.request\n",
    "\n",
    "url = \"https://raw.githubusercontent.com/dwyl/english-words/master/words.txt\"\n",
    "urllib.request.urlretrieve(url, \"words.txt\")\n",
    "with open(\"words.txt\", \"r\", encoding=\"utf-8\") as dictionary:\n",
    "    dict_list = re.findall(\"[^\\n]+\", dictionary.read())\n",
    "    dict_set = set(dict_list)"
   ]
  },
  {
   "cell_type": "code",
   "execution_count": null,
   "metadata": {
    "collapsed": false
   },
   "outputs": [],
   "source": [
    "def test_list():\n",
    "    # empty list of words\n",
    "    words = []\n",
    "\n",
    "    # start for-loop\n",
    "    for token in hamlet:\n",
    "        if token not in dict_list:\n",
    "        # add token to words\n",
    "            list.append(words, token)\n",
    "        \n",
    "# tell Jupyter to time how long it takes to run the function\n",
    "% time test_list()"
   ]
  },
  {
   "cell_type": "code",
   "execution_count": null,
   "metadata": {
    "collapsed": false
   },
   "outputs": [],
   "source": [
    "def test_set():\n",
    "    # empty list of words\n",
    "    words = []\n",
    "\n",
    "    # start for-loop\n",
    "    for token in hamlet:\n",
    "        if token not in dict_set:\n",
    "        # add token to words\n",
    "            list.append(words, token)\n",
    "        \n",
    "# tell Jupyter to time how long it takes to run the function\n",
    "% time test_set()"
   ]
  },
  {
   "cell_type": "markdown",
   "metadata": {},
   "source": [
    "On my computer, `test_set` takes 2 milliseconds to check all of *Hamlet*, whereas `test_list` takes almost 30 seconds.\n",
    "That is an enormous speed difference, and it is one that is noticeable in practice."
   ]
  },
  {
   "cell_type": "markdown",
   "metadata": {},
   "source": [
    "In general, you should not worry too much about efficiency, in particular in this class.\n",
    "But if you are working on a project on your own and you notice that your program is taking quite a bit longer to run than you'd like, take a closer look: maybe there are some lists you want to convert to sets for faster `in` tests?"
   ]
  }
 ],
 "metadata": {
  "kernelspec": {
   "display_name": "Python 3",
   "language": "python",
   "name": "python3"
  },
  "language_info": {
   "codemirror_mode": {
    "name": "ipython",
    "version": 3
   },
   "file_extension": ".py",
   "mimetype": "text/x-python",
   "name": "python",
   "nbconvert_exporter": "python",
   "pygments_lexer": "ipython3",
   "version": "3.5.3"
  }
 },
 "nbformat": 4,
 "nbformat_minor": 2
}
