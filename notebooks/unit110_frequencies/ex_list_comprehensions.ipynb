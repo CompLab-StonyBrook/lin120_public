{
 "cells": [
  {
   "cell_type": "markdown",
   "metadata": {},
   "source": [
    "# Expansion unit: List comprehensions\n",
    "\n",
    "Towards the end of the previous unit, we encountered several instances where we used a `for`-loop to construct a list.\n",
    "Here is a concrete example"
   ]
  },
  {
   "cell_type": "code",
   "execution_count": null,
   "metadata": {
    "collapsed": false
   },
   "outputs": [],
   "source": [
    "import re\n",
    "\n",
    "string = \"The captain of the team is very, very angry with them!\"\n",
    "tokens = re.findall(r\"\\w+\", str.lower(string))\n",
    "stopwords = [\"the\", \"a\", \"an\", \"of\", \"some\", \"in\", \"is\", \"very\", \"with\", \"at\", \"them\", \"I\", \"you\"]\n",
    "\n",
    "# we start defining a new list\n",
    "words = []\n",
    "for token in tokens:\n",
    "    if token not in stopwords:\n",
    "        # add token to words\n",
    "        list.append(words, token)\n",
    "print(words)"
   ]
  },
  {
   "cell_type": "markdown",
   "metadata": {},
   "source": [
    "That's quite a few lines of code for a very simple idea: `words` should contain all words in `tokens` that meet the criterion of not being a stopword.\n",
    "For such simple cases where we use a `for`-loop to construct a list, Python offers a more succint (and faster!) solution in the form of *list comprehensions*."
   ]
  },
  {
   "cell_type": "code",
   "execution_count": null,
   "metadata": {
    "collapsed": false
   },
   "outputs": [],
   "source": [
    "import re\n",
    "\n",
    "string = \"The captain of the team is very, very angry with them!\"\n",
    "tokens = re.findall(r\"\\w+\", str.lower(string))\n",
    "stopwords = [\"the\", \"a\", \"an\", \"of\", \"some\", \"in\", \"is\", \"very\", \"with\", \"at\", \"them\", \"I\", \"you\"]\n",
    "\n",
    "# we start defining a new list\n",
    "words = [token for token in tokens if token not in stopwords]\n",
    "print(words)"
   ]
  },
  {
   "cell_type": "markdown",
   "metadata": {},
   "source": [
    "Isn't that nifty?\n",
    "We contracted 4 lines of code into just 1.\n",
    "List comprehensions all follow the same pattern:\n",
    "\n",
    "```python\n",
    "    [something_with_object for object in container (optional: if some condition holds)]\n",
    "```\n",
    "\n",
    "The pattern may look strange, but a few examples will hopefully clarify it.\n",
    "Note that the examples do not always make sense, they are chosen to illustrate the syntax of list comprehensions."
   ]
  },
  {
   "cell_type": "code",
   "execution_count": null,
   "metadata": {
    "collapsed": false
   },
   "outputs": [],
   "source": [
    "print([num + 10 for num in [1,2,3,4,5] if num != 3])"
   ]
  },
  {
   "cell_type": "markdown",
   "metadata": {},
   "source": [
    "Here we tell Python to build a list that contains the result of adding 10 to any `num` between 1 and 5 that is different from 3."
   ]
  },
  {
   "cell_type": "code",
   "execution_count": null,
   "metadata": {
    "collapsed": false
   },
   "outputs": [],
   "source": [
    "def triple_string(string):\n",
    "    \"\"\"triple the string\"\"\"\n",
    "    return string + string + string\n",
    "\n",
    "print([triple_string(word) for word in re.findall(\"\\w+\", \"John loves Mary\")])"
   ]
  },
  {
   "cell_type": "markdown",
   "metadata": {},
   "source": [
    "The code above instructs Python to take any token in the tokenization of `\"John loves Mary\"`, run it through the function `triple_string`, and add the output to the list."
   ]
  },
  {
   "cell_type": "markdown",
   "metadata": {},
   "source": [
    "If you know some set theory, list comprehensions may look familiar to you.\n",
    "In set theory, we might specify the set of even natural numbers as $\\{ 2n \\mid n \\in \\mathbb{N} \\}$.\n",
    "We can do something very similar in Python"
   ]
  },
  {
   "cell_type": "code",
   "execution_count": null,
   "metadata": {
    "collapsed": false
   },
   "outputs": [],
   "source": [
    "print([2*n for n in [0,1,2,3,4,5,6,7,8,9]])"
   ]
  },
  {
   "cell_type": "markdown",
   "metadata": {},
   "source": [
    "List comprehensions may feel a little awkward at first because it almost feels like we are reading a `for`-loop in reverse: first we get to see what the outputs should look like, and then what the outputs are built from.\n",
    "Nonetheless list comprehensions are an excellent tool for writing clear and elegant code.\n",
    "So if you think you already get how the normal `for`-loop works, you're ready to move on to list comprehensions.\n",
    "But don't make the mistake of thinking that every `for`-loop should be a list comprehension.\n",
    "If your list comprehension is so complicated that it spans more than one or two lines, you're probably better of using a `for`-loop."
   ]
  }
 ],
 "metadata": {
  "kernelspec": {
   "display_name": "Python 3",
   "language": "python",
   "name": "python3"
  },
  "language_info": {
   "codemirror_mode": {
    "name": "ipython",
    "version": 3
   },
   "file_extension": ".py",
   "mimetype": "text/x-python",
   "name": "python",
   "nbconvert_exporter": "python",
   "pygments_lexer": "ipython3",
   "version": "3.5.3"
  }
 },
 "nbformat": 4,
 "nbformat_minor": 2
}
