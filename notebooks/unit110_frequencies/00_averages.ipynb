{
 "cells": [
  {
   "cell_type": "markdown",
   "metadata": {},
   "source": [
    "# For-Loops for a More Detailed Analysis of Word Counts\n",
    "\n",
    "In the previous unit we started our quantitative analysis of *Hamlet*, *Doctor Faustus*, and *The Princess of Mars*.\n",
    "Run the cell below to immediately repeat the relevant steps from the previous unit so that we can continue where we left off."
   ]
  },
  {
   "cell_type": "code",
   "execution_count": null,
   "metadata": {
    "collapsed": false
   },
   "outputs": [],
   "source": [
    "%run wordcounts.py"
   ]
  },
  {
   "cell_type": "markdown",
   "metadata": {},
   "source": [
    "Once the cell above has finished executing, the counters for the three texts are available as the variables `hamlet`, `faustus`, and `mars`.\n",
    "To verify that this is the case, run the cell below.\n",
    "You should see the 10 most common words for each text.\n",
    "If there's any errors, make sure you actually ran the cell above."
   ]
  },
  {
   "cell_type": "code",
   "execution_count": null,
   "metadata": {
    "collapsed": false
   },
   "outputs": [],
   "source": [
    "print(Counter.most_common(hamlet, 10))\n",
    "print(Counter.most_common(faustus, 10))\n",
    "print(Counter.most_common(mars, 10))"
   ]
  },
  {
   "cell_type": "markdown",
   "metadata": {},
   "source": [
    "But looking at the most common words only gets us so far.\n",
    "There's many other things we might want to look at based on the token counts:\n",
    "\n",
    "- How often does a word appear on average?\n",
    "\n",
    "- What are the relative frequencies, rather than the absolute counts?\n",
    "  Knowing this would make it easier to compare frequencies across the texts, since absolute counts naturally vary with text length.\n",
    " \n",
    "- What is the average frequency of a word?\n",
    "  This is different from the average count, as the latter once again varies with text length.\n",
    "\n",
    "- What is the average word length?\n",
    "  The texts might show a large difference in this area, after all *Hamlet* and *Faustus* have to obey their meter.\n",
    "\n",
    "Most of these questions require us to look at each word type in the counter.\n",
    "But we do not know all the word types, and even if we did there's probably thousands of them, so we cannot tell Python something like \"look at *and*, and now look at *the*, and now look at *I*, ...\", this would take forever to write.\n",
    "Fortunately we now have the perfect tool for the job: `for` loops."
   ]
  },
  {
   "cell_type": "markdown",
   "metadata": {},
   "source": [
    "## Calculating the average number of tokens per type\n",
    "\n",
    "You already know how to look at the counts for individual words using the key-value system for counters.\n",
    "Here's a brief reminder:"
   ]
  },
  {
   "cell_type": "code",
   "execution_count": null,
   "metadata": {
    "collapsed": false
   },
   "outputs": [],
   "source": [
    "hamlet['ghost']  # show the value for key 'ghost'"
   ]
  },
  {
   "cell_type": "markdown",
   "metadata": {},
   "source": [
    "In principle, this is all we need to calculate the things we are interested in.\n",
    "For example, the average number of tokens per word is obtained by\n",
    "\n",
    "1. adding up all the values for all types, and then\n",
    "1. dividing this number by the total number of types.\n",
    "\n",
    "(Remember, the average of $2$ numbers $a$ and $b$ is $\\frac{a+b}{2}$, for $3$ numbers it is $\\frac{a+b+c}{3}$, for $4$ $\\frac{a+b+c+d}{4}$, and so on.)\n",
    "\n",
    "### The hard way\n",
    "\n",
    "We could do something like the following:\n",
    "\n",
    "1.  Instantiate two variables `words` and `total`, both are set to `0`.\n",
    "1.  Look at the first word in the counter.\n",
    "    1. Add 1 to the value of `words`.\n",
    "    1. Add the count for the word to `total`.\n",
    "1.  Look at the second word in the counter. \n",
    "    1. Add 1 to the value of `words`.\n",
    "    1. Add the count for the word to `total.\n",
    "1.  Continue this until all words have been looked at.\n",
    "1.  Divide `total` by `words`.\n",
    "    This is the average number of tokens per word type.\n",
    "    \n",
    "Let's do this for a toy example to see that it works the way we want.\n",
    "We will instantiate a counter where `a` has 6 tokens, `b` 4, and `c` 2.\n",
    "So the average number of tokens per types is $\\frac{6+4+2}{3} = 4$."
   ]
  },
  {
   "cell_type": "code",
   "execution_count": null,
   "metadata": {
    "collapsed": false
   },
   "outputs": [],
   "source": [
    "test = Counter([\"a\", \"a\", \"a\", \"a\", \"a\", \"a\", \"b\", \"b\", \"b\", \"b\", \"c\", \"c\"])\n",
    "print(test)\n",
    "print(test[\"a\"])\n",
    "print(test[\"b\"])\n",
    "print(test[\"c\"])"
   ]
  },
  {
   "cell_type": "markdown",
   "metadata": {},
   "source": [
    "We now apply our algorithm above to this counter to calculate the average word length."
   ]
  },
  {
   "cell_type": "code",
   "execution_count": null,
   "metadata": {
    "collapsed": false
   },
   "outputs": [],
   "source": [
    "# define our test counter\n",
    "test = Counter([\"a\", \"a\", \"a\", \"a\", \"a\", \"a\", \"b\", \"b\", \"b\", \"b\", \"c\", \"c\"])\n",
    "\n",
    "# Instantiate two variables `words` and `total`, both are set to `0`.\n",
    "words = 0\n",
    "total = 0\n",
    "\n",
    "# Look at the first word in the counter.\n",
    "current_word = \"a\"\n",
    "# - Add 1 to the value of `words`.\n",
    "words = words + 1\n",
    "# - Add the count for the word to `total`.\n",
    "total = total + test[current_word]\n",
    "\n",
    "# Look at the second word in the counter.\n",
    "current_word = \"b\"\n",
    "# - Add 1 to the value of `words`.\n",
    "words = words + 1\n",
    "# - Add the count for the word to `total`.\n",
    "total = total + test[current_word]\n",
    "\n",
    "# Look at the third word in the counter.\n",
    "current_word = \"c\"\n",
    "# - Add 1 to the value of `words`.\n",
    "words = words + 1\n",
    "# - Add the count for the word to `total`.\n",
    "total = total + test[current_word]\n",
    "\n",
    "# all words have been looked at, time for the final step:\n",
    "# divide `total` by `words` (Python uses the slash / for division)\n",
    "average = total / words\n",
    "print(average)"
   ]
  },
  {
   "cell_type": "markdown",
   "metadata": {},
   "source": [
    "When you run the code above, you'll get the output `4.0`, indicating that the average number of tokens per type in the counter is `4`.\n",
    "And as we confirmed earlier on, that's indeed the case because `a` has 6 tokens, `b` has 4, and `c` has 2.\n",
    "So the code does what we want.\n",
    "All we have to do now is to use this code with our counters `hamlet`, `faustus`, and `mars`."
   ]
  },
  {
   "cell_type": "markdown",
   "metadata": {},
   "source": [
    "**Exercise.**\n",
    "Alright, this might take a while, so you better role up your sleeves and get hacking.\n",
    "Copy-paste the code from the cell above, then adapt is so that it looks at every word in `hamlet`.\n",
    "\n",
    "What, you don't want to do that?\n",
    "Okay, but then you have to leave a justification below why that would be a horrible way of writing the code."
   ]
  },
  {
   "cell_type": "markdown",
   "metadata": {},
   "source": [
    "*put your explanation here*"
   ]
  },
  {
   "cell_type": "markdown",
   "metadata": {},
   "source": [
    "### The easy way: A for-loop\n",
    "\n",
    "Consider once more the code we just wrote.\n",
    "It is very mechanical in that we keep repeating the same steps over and over again."
   ]
  },
  {
   "cell_type": "code",
   "execution_count": null,
   "metadata": {
    "collapsed": true
   },
   "outputs": [],
   "source": [
    "# define our test counter\n",
    "test = Counter([\"a\", \"a\", \"a\", \"a\", \"a\", \"a\", \"b\", \"b\", \"b\", \"b\", \"c\", \"c\"])\n",
    "\n",
    "# Instantiate two variables `words` and `total`, both are set to `0`.\n",
    "words = 0\n",
    "total = 0\n",
    "\n",
    "################################\n",
    "# Here we start repeating code #\n",
    "################################\n",
    "# Iteration 1\n",
    "current_word = \"a\"\n",
    "words = words + 1\n",
    "total = total + test[current_word]\n",
    "\n",
    "# Iteration 2\n",
    "current_word = \"b\"\n",
    "words = words + 1\n",
    "total = total + test[current_word]\n",
    "\n",
    "# Iteration 3\n",
    "current_word = \"c\"\n",
    "words = words + 1\n",
    "total = total + test[current_word]\n",
    "############################################################\n",
    "# We are done repeating the same steps over and over again #\n",
    "############################################################\n",
    "\n",
    "# all words have been looked at, time for the final step:\n",
    "# divide `total` by `words` (Python uses the slash / for division)\n",
    "average = total / words\n",
    "print(average)"
   ]
  },
  {
   "cell_type": "markdown",
   "metadata": {},
   "source": [
    "Each one of three iterations above runs exactly the same code, except that the value of `current_word` changes.\n",
    "But whenever we want to run exactly the same piece of code over and over again, changing only the value of a single variable, that's exactly when we should use a `for`-loop.\n",
    "A `for` loop allows us define a list of possible values for a specific variable, and then the code in the `for`-loop gets run over and over again until every possible value for the variable has been used.\n",
    "Here is what this looks like for the code above."
   ]
  },
  {
   "cell_type": "code",
   "execution_count": null,
   "metadata": {
    "collapsed": false
   },
   "outputs": [],
   "source": [
    "# define our test counter\n",
    "test = Counter([\"a\", \"a\", \"a\", \"a\", \"a\", \"a\", \"b\", \"b\", \"b\", \"b\", \"c\", \"c\"])\n",
    "\n",
    "# Instantiate two variables `words` and `total`, both are set to `0`.\n",
    "words = 0\n",
    "total = 0\n",
    "\n",
    "################################\n",
    "# Here we start repeating code #\n",
    "################################\n",
    "# start a for-loop with \"a\", \"b\", and \"c\" as possible values\n",
    "for current_word in [\"a\", \"b\", \"c\"]:\n",
    "    words = words + 1\n",
    "    total = total + test[current_word]\n",
    "############################################################\n",
    "# We are done repeating the same steps over and over again #\n",
    "############################################################\n",
    "\n",
    "# all words have been looked at, time for the final step:\n",
    "# divide `total` by `words` (Python uses the slash / for division)\n",
    "average = total / words\n",
    "print(average)"
   ]
  },
  {
   "cell_type": "markdown",
   "metadata": {},
   "source": [
    "Run the code above, and you'll get the same answer as before: the average number of tokens per word is 4.\n",
    "\n",
    "Just as a reminder, here's what's going on inside Python:\n",
    "\n",
    "1.  Python instantiates `words` and `total` as usual.\n",
    "1.  Then it encounters a `for`-loop, and realizes that it has to run the code below multiple times based on the list `[\"a\", \"b\", \"c\"]` of possible values for `current_variable`:\n",
    "    1. Python first sets `current_word` to `\"a\"`, then it runs the two lines below.\n",
    "    1. Then it sets `current_word` to `\"b\"`, and once again runs the two lines below.\n",
    "    1. After that it sets `current_word` to `\"c\"`, and runs the two lines of code one more time.\n",
    "    1. At this point, all the possible values have been used and the `for`-loop ends.\n",
    "1.  Python continues with the calculation of the average and prints the result to screen.\n",
    "\n",
    "If you still find this confusing, run the cell below.\n",
    "It is exactly the same code, but `print`-statements have been added to show what is going on inside the `for`-loop."
   ]
  },
  {
   "cell_type": "code",
   "execution_count": null,
   "metadata": {
    "collapsed": false
   },
   "outputs": [],
   "source": [
    "print(\"Defining a test counter:\")\n",
    "test = Counter([\"a\", \"a\", \"a\", \"a\", \"a\", \"a\", \"b\", \"b\", \"b\", \"b\", \"c\", \"c\"])\n",
    "print(test)\n",
    "\n",
    "print(\"Instantiating words and total\")\n",
    "words = 0\n",
    "total = 0\n",
    "print(\"words is\", words)\n",
    "print(\"total is\", total)\n",
    "\n",
    "print(\"Encountered a for-loop\")\n",
    "print(\"\\t ======================\")\n",
    "for current_word in [\"a\", \"b\", \"c\"]:\n",
    "    print(\"\\t ------------------------\")\n",
    "    print(\"\\t Starting a new iteration\")\n",
    "    print(\"\\t Setting current_word to\", current_word)\n",
    "    print(\"\\t Increasing words from\", words, \"to\", words + 1)\n",
    "    words = words + 1\n",
    "    print(\"\\t\", current_word, \"has count of\", test[current_word])\n",
    "    print(\"\\t Increasing total from\", total, \"to\", total + test[current_word])\n",
    "    total = total + test[current_word]\n",
    "    print(\"\\t Finished an iteration\")\n",
    "    print(\"\\t ------------------------\")\n",
    "print(\"\\t ======================\")\n",
    "print(\"Finished for-loop\")\n",
    "\n",
    "# all words have been looked at, time for the final step:\n",
    "# divide `total` by `words` (Python uses the slash / for division)\n",
    "print(\"Computing average\")\n",
    "average = total / words\n",
    "print(average)"
   ]
  },
  {
   "cell_type": "markdown",
   "metadata": {},
   "source": [
    "You already know from the previous unit that `for`-loops can be used with any container-like object.\n",
    "You have already seen lists and strings acting as containers for `for`-loops, but a counter also works."
   ]
  },
  {
   "cell_type": "code",
   "execution_count": null,
   "metadata": {
    "collapsed": false
   },
   "outputs": [],
   "source": [
    "# for-loop over a counter\n",
    "test = Counter([\"a\", \"a\", \"a\", \"a\", \"a\", \"a\", \"b\", \"b\", \"b\", \"b\", \"c\", \"c\"])\n",
    "\n",
    "for word in test:\n",
    "    print(word)"
   ]
  },
  {
   "cell_type": "markdown",
   "metadata": {},
   "source": [
    "**Exercise.**\n",
    "As you can tell from the previous example, a `for`-loop over a counter by default chooses the words as possible values for the variable, rather than the numbers.\n",
    "Using this fact, adapt the for-loop in the code below so that it no longer explicitly mentions `\"a\"`, `\"b\"`, or `\"c\"`."
   ]
  },
  {
   "cell_type": "code",
   "execution_count": null,
   "metadata": {
    "collapsed": true
   },
   "outputs": [],
   "source": [
    "# define our test counter\n",
    "test = Counter([\"a\", \"a\", \"a\", \"a\", \"a\", \"a\", \"b\", \"b\", \"b\", \"b\", \"c\", \"c\"])\n",
    "\n",
    "# Instantiate two variables `words` and `total`, both are set to `0`.\n",
    "words = 0\n",
    "total = 0\n",
    "\n",
    "# {{{to be modified by you\n",
    "# start a for-loop over the counter\n",
    "for current_word in [\"a\", \"b\", \"c\"]:\n",
    "    words = words + 1\n",
    "    total = total + test[current_word]\n",
    "# }}}\n",
    "\n",
    "# divide `total` by `words` (Python uses the slash / for division)\n",
    "average = total / words\n",
    "print(average)"
   ]
  },
  {
   "cell_type": "markdown",
   "metadata": {},
   "source": [
    "## Simplifying our code with `len`\n",
    "\n",
    "We now have a pretty nice piece of code to compute the average number of tokens per type.\n",
    "And in a minute we will use this to compare *Hamlet*, *Dr. Faustus*, and *The Princess of Mars*.\n",
    "But first let's apply one more final tweak to simplify our code.\n",
    "\n",
    "Right now, we are doing two things inside the `for`-loop:\n",
    "\n",
    "1. We increment the value of `words` by 1 to compute the total number of types in the counter.\n",
    "1. We add the number of tokens for the type to the running total of tokens to calculate the total number of tokens.\n",
    "\n",
    "We can skip the first step using the built-in function `len`, which tells us for any container-like object what it's length is."
   ]
  },
  {
   "cell_type": "code",
   "execution_count": null,
   "metadata": {
    "collapsed": false
   },
   "outputs": [],
   "source": [
    "example_string = \"abc\"\n",
    "example_list = [\"a\", \"b\", \"c\"]\n",
    "example_counter = Counter([\"a\", \"a\", \"a\", \"a\", \"a\", \"a\", \"b\", \"b\", \"b\", \"b\", \"c\", \"c\"])\n",
    "\n",
    "for example in [example_string, example_list, example_counter]:\n",
    "    print(\"The current example is\")\n",
    "    print(example)\n",
    "    print(\"It's length is\", len(example))\n",
    "    print(\"----------\")"
   ]
  },
  {
   "cell_type": "markdown",
   "metadata": {},
   "source": [
    "**Exericse.**\n",
    "Modify the code below so that it only prints a string if it's length is exactly 10."
   ]
  },
  {
   "cell_type": "code",
   "execution_count": null,
   "metadata": {
    "collapsed": false
   },
   "outputs": [],
   "source": [
    "examples = [\"an example\", \"0123456789\", \"Hi!\", \"What's up???\", \"Honeybunny\"]\n",
    "for string in examples:\n",
    "    print(string)"
   ]
  },
  {
   "cell_type": "markdown",
   "metadata": {},
   "source": [
    "Instead of incrementing the value of `words` during each iteration, we can just use `len(test)` to determine the total number of word types in the counter `test`.\n",
    "The code then looks as follows:"
   ]
  },
  {
   "cell_type": "code",
   "execution_count": null,
   "metadata": {
    "collapsed": false
   },
   "outputs": [],
   "source": [
    "# define our test counter\n",
    "test = Counter([\"a\", \"a\", \"a\", \"a\", \"a\", \"a\", \"b\", \"b\", \"b\", \"b\", \"c\", \"c\"])\n",
    "\n",
    "# Instantiate only `total`\n",
    "total = 0\n",
    "\n",
    "# start a for-loop over the counter\n",
    "for current_word in [\"a\", \"b\", \"c\"]:\n",
    "    total = total + test[current_word]\n",
    "\n",
    "# divide `total` by number of word types (Python uses the slash / for division)\n",
    "average = total / len(test)\n",
    "print(average)"
   ]
  },
  {
   "cell_type": "markdown",
   "metadata": {},
   "source": [
    "## Simplifying our code with `sum`\n",
    "\n",
    "There is yet another way to simplify our code.\n",
    "Python provides the function `sum` to add up values."
   ]
  },
  {
   "cell_type": "code",
   "execution_count": null,
   "metadata": {
    "collapsed": false
   },
   "outputs": [],
   "source": [
    "sum([5, 50, 500])"
   ]
  },
  {
   "cell_type": "markdown",
   "metadata": {},
   "source": [
    "The `sum` function cannot be directly applied to a counter.\n",
    "But we can use the function `Counter.values` to strip away a counter's keys, leaving only a list of values (sorted in decreasing order)."
   ]
  },
  {
   "cell_type": "code",
   "execution_count": null,
   "metadata": {
    "collapsed": false
   },
   "outputs": [],
   "source": [
    "from collections import Counter\n",
    "\n",
    "test_counter = {'a': 5, 'b': 50, 'c': 500}\n",
    "\n",
    "print(Counter.values(test_counter))"
   ]
  },
  {
   "cell_type": "markdown",
   "metadata": {},
   "source": [
    "This list, in turn, can be fed into `sum`."
   ]
  },
  {
   "cell_type": "code",
   "execution_count": null,
   "metadata": {
    "collapsed": false
   },
   "outputs": [],
   "source": [
    "from collections import Counter\n",
    "\n",
    "test_counter = {'a': 5, 'b': 50, 'c': 500}\n",
    "\n",
    "print(sum(Counter.values(test_counter)))"
   ]
  },
  {
   "cell_type": "markdown",
   "metadata": {},
   "source": [
    "With this trick, we don't even need a `for`-loop anymore to calculate the average number of tokens per type!"
   ]
  },
  {
   "cell_type": "markdown",
   "metadata": {},
   "source": [
    "**Exercise.**\n",
    "Replace the bracketed code in the cell below by a single line that immediately prints the average number of word tokens per type."
   ]
  },
  {
   "cell_type": "code",
   "execution_count": null,
   "metadata": {
    "collapsed": true
   },
   "outputs": [],
   "source": [
    "# define our test counter\n",
    "test = Counter([\"a\", \"a\", \"a\", \"a\", \"a\", \"a\", \"b\", \"b\", \"b\", \"b\", \"c\", \"c\"])\n",
    "\n",
    "# {{{ replace everything between these braces by a single line\n",
    "# Instantiate only `total`\n",
    "total = 0\n",
    "\n",
    "# start a for-loop over the counter\n",
    "for current_word in [\"a\", \"b\", \"c\"]:\n",
    "    total = total + test[current_word]\n",
    "\n",
    "# divide `total` by number of word types (Python uses the slash / for division)\n",
    "average = total / len(test)\n",
    "print(average)\n",
    "# }}}"
   ]
  },
  {
   "cell_type": "markdown",
   "metadata": {},
   "source": [
    "## Comparing the three texts\n",
    "\n",
    "Alright, time to do the final comparison.\n",
    "What do you think, which one of the three texts will have the highest average number of tokens per type?\n",
    "Well, let's see how it goes."
   ]
  },
  {
   "cell_type": "markdown",
   "metadata": {},
   "source": [
    "**Exercise.**\n",
    "Adapting the code from the previous section, finish the definition of the function `avg_token_count` below.\n",
    "Then run the next cell to calculate the average number of tokens per type for *Hamlet*, *Dr. Faustus*, and *The Princess of Mars* (remember that you must have run the first cell of this unit for the variables to be defined).\n",
    "You should see quite a striking pattern, with two texts being very close together and the other one having a noticeably larger average.\n",
    "Can you think of a reason as to why we find this difference?"
   ]
  },
  {
   "cell_type": "code",
   "execution_count": null,
   "metadata": {
    "collapsed": false
   },
   "outputs": [],
   "source": [
    "def avg_token_count(word_counter):\n",
    "    # complete this function"
   ]
  },
  {
   "cell_type": "code",
   "execution_count": null,
   "metadata": {
    "collapsed": false
   },
   "outputs": [],
   "source": [
    "for text in [hamlet, faustus, mars]:\n",
    "    print(avg_token_count(text))"
   ]
  },
  {
   "cell_type": "markdown",
   "metadata": {},
   "source": [
    "*put your explanation of the difference here (there are no wrong answers, the important thing is that you think about it for a bit)*"
   ]
  },
  {
   "cell_type": "markdown",
   "metadata": {},
   "source": [
    "That's it for this unit, but we are not done doing some quantitative analysis of these texts.\n",
    "We have only looked at one of the four metrics described at the beginning of the unit, and there's actually still a massive confound in our analysis that we need to take care of to get more reliable numbers."
   ]
  },
  {
   "cell_type": "markdown",
   "metadata": {},
   "source": [
    "## Bullet point summary\n",
    "\n",
    "- Don't forget about `for`-loops, they are a very powerful tool!\n",
    "- Use `len` to get the length of a list, string, or counter; for counters, the length is the number of types.\n",
    "- `Counter.values` converts a counter to a list of its values.\n",
    "- The function `sum` adds up the elements of a list."
   ]
  }
 ],
 "metadata": {
  "kernelspec": {
   "display_name": "Python 3",
   "language": "python",
   "name": "python3"
  },
  "language_info": {
   "codemirror_mode": {
    "name": "ipython",
    "version": 3
   },
   "file_extension": ".py",
   "mimetype": "text/x-python",
   "name": "python",
   "nbconvert_exporter": "python",
   "pygments_lexer": "ipython3",
   "version": "3.5.3"
  }
 },
 "nbformat": 4,
 "nbformat_minor": 2
}
