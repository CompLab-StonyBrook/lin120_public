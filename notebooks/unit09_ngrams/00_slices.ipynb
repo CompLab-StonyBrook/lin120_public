{
 "cells": [
  {
   "cell_type": "markdown",
   "metadata": {},
   "source": [
    "# Literature analysis with unigrams: First the drudgery\n",
    "\n",
    "Now that you have seen a few simple applications that use tokenization, it's time to look at something more realistic.\n",
    "As you probably know from your English homeworks, comparing works of fiction can be a very hard and time-consuming task.\n",
    "It would be much nicer if we could just have the computer do all the work.\n",
    "But what could a computer possibly have to say about literature?\n",
    "\n",
    "One simple idea is that an author's style is represented by which words (s)he uses, and in particular which words (s)he uses most.\n",
    "Words are also known as *unigrams*.\n",
    "This is in contrast to *bigrams*, which consist of two words, *trigrams* (three words), and so on.\n",
    "For instance, the sentence\n",
    "\n",
    "    John likes Mary and Peter\n",
    "    \n",
    "contains the unigrams\n",
    "\n",
    "    John, likes, Mary, and, Peter\n",
    "    \n",
    "the bigrams\n",
    "\n",
    "    John likes, likes Mary, Mary and, and Peter\n",
    "    \n",
    "and the trigrams\n",
    "\n",
    "    John likes Mary, likes Mary and, Mary and Peter\n",
    "    \n",
    "We could also have 4-grams, 5-grams, or 127-grams.\n",
    "Quite generally, a model that is based on words or sequences of words is called an *n-gram model*.\n",
    "So if we want to analyze an author's style in terms of their word usage, we are proposing a unigram model of stylistic analysis.\n",
    "\n",
    "But does a unigram model actually work?\n",
    "Well, let's put the idea to the test: we will compare three works of fiction comparing this technique:\n",
    "\n",
    "- William Shakespeare's *Hamlet*\n",
    "- Christopher Marlowe's *The Tragical History of Dr. Faustus*\n",
    "- Edgar Rice Burrough's *A Princess of Mars*\n",
    "\n",
    "If we find something interesting, then unigram models might be worthwhile after all.\n",
    "\n",
    "A brief remark on those works: The first two are world-famous Victorian plays, whereas the third is an early 20th century pulp novel that you might know as the basis for Disney's 2012 box office debacle *John Carter*. Although the movie is better than its reputation, it still doesn't do justice to the book, so give it a read if you are in the mood for a fun science fantasy story."
   ]
  },
  {
   "cell_type": "markdown",
   "metadata": {},
   "source": [
    "## Getting the files\n",
    "\n",
    "First we need to have the books in some digital format that we can feed into Python.\n",
    "Ideally, we want this to be a plaintext format, i.e. the pure text without any layout information.\n",
    "We do not want a pdf or doc file, as those are much harder to work with.\n",
    "We can use Python to download all the files from [Project Gutenberg](https://www.gutenberg.org/), an online platform that hosts literary works that are no longer under copyright.\n",
    "\n",
    "To do so, we first import the library `urllib.request` and then use the following command:\n",
    "\n",
    "```python\n",
    "urllib.request.urlretrieve(\"url_to_download\", \"filename_of_your_choice\")\n",
    "```"
   ]
  },
  {
   "cell_type": "code",
   "execution_count": null,
   "metadata": {},
   "outputs": [],
   "source": [
    "import urllib.request\n",
    "urllib.request.urlretrieve(\"https://www.gutenberg.org/files/1524/1524-h/1524-h.htm\", \"hamlet.txt\")\n",
    "urllib.request.urlretrieve(\"https://www.gutenberg.org/cache/epub/811/pg811.txt\", \"faustus.txt\")\n",
    "urllib.request.urlretrieve(\"https://www.gutenberg.org/cache/epub/62/pg62.txt\", \"mars.txt\")"
   ]
  },
  {
   "cell_type": "markdown",
   "metadata": {},
   "source": [
    "**Exercise.**\n",
    "Browse Project Gutenberg and find a book you really like.\n",
    "Keep in mind that Project Gutenberg only has texts that are in the public domain, which means that they are no longer copy-righted.\n",
    "So you won't see *Harry Potter*, *Hunger Games*, or even Stephen King's *It* there, but almost everything from the 19th century and earlier can be found there.\n",
    "\n",
    "Once you have picked a book, look at the different file formats.\n",
    "You might see html (for display in web browsers), epub (an ebook format), and txt (plaintext, usually the easiest format for computational analysis).\n",
    "Download one of them using the `urllib.request.urlretrieve` command and save it as `mybookpick.txt`."
   ]
  },
  {
   "cell_type": "code",
   "execution_count": null,
   "metadata": {
    "collapsed": true
   },
   "outputs": [],
   "source": [
    "# put your code here"
   ]
  },
  {
   "cell_type": "markdown",
   "metadata": {},
   "source": [
    "Running the code above should have put three files in the folder you are running this notebook from:\n",
    "\n",
    "1.  `faustus.txt`\n",
    "1.  `hamlet.txt`\n",
    "1.  `mars.txt`\n",
    "\n",
    "You can open them in CoCalc to look at their contents.\n",
    "If you're not using CoCalc, open them with a text editor, for example Notepad if your computer is running Windows.\n",
    "Scroll up and down a bit to get a better idea of what the files look like."
   ]
  },
  {
   "cell_type": "markdown",
   "metadata": {},
   "source": [
    "**Exercise.**\n",
    "Write down a list of the things that stand out to you in these files.\n",
    "In particular:\n",
    "\n",
    "1. Do the files look the same, or are there major differences?\n",
    "1. Do the files just contain the text of the plays, or also additional information (check the top and bottom of each file carefully)?\n",
    "1. If we want just the words used by the protagonists of the plays, what changes need to made to the files?"
   ]
  },
  {
   "cell_type": "markdown",
   "metadata": {},
   "source": [
    "*put your answers here*"
   ]
  },
  {
   "cell_type": "markdown",
   "metadata": {},
   "source": [
    "## Cleaning up the files\n",
    "\n",
    "### Analysis\n",
    "\n",
    "You should have noticed quite a few problems with the files, only some of which we can fix by hand.\n",
    "\n",
    "1. While `faustus.txt` and `mars.txt` are fairly easy to read, `hamlet.txt` is cluttered with all kinds of weird code like `<p>` and `<br/>`. That's because we downloaded a textfile for `faustus.txt` and `mars.txt`, but an html-file for `hamlet.txt`. The expressions between `<` and `>` are html-markup, which is needed to display a file in a webbrowser.\n",
    "\n",
    "1. All files start with information about Project Gutenberg, which we do not want.\n",
    "\n",
    "1. All files have information at the end that is not part of the play. In `hamlet.txt` and `mars.txt`, it's just a disclaimer that the play is over, whereas `faustus.txt` is also full of footnotes.\n",
    "\n",
    "1. In `faustus.txt`, the text is often interrupted by strings like `[17]`. Those are references to footnotes.\n",
    "\n",
    "1. For the two plays, slightly different formats are used to indicate who is speaking.\n",
    "    - In `hamlet.txt`, names are fully capitalized and occur between the markup `<p>` and `<br/>`.\n",
    "      Sometimes there is a dot after the name, sometimes there isn't.\n",
    "    - In `faustus.txt`, names are fully capitalized and followed by a dot.\n",
    "      The actual text usually starts on the same line.\n",
    "    \n",
    "1. In `faustus.txt`, stage instructions are indicated by indentation.\n",
    "   In `hamlet.txt`, they occur between `<p class=\"scenedesc\">` and `</p>`.\n",
    "\n",
    "1. In `faustus.txt`, all dialog is indented, but less so than the stage instructions.\n",
    "    \n",
    "1. All three files contain many empty lines.\n",
    "\n",
    "1. Both plays capitalize words at the beginning of a new line.\n",
    "\n",
    "1. In `mars.txt`, Chapters are written in upper caps.\n",
    "\n",
    "These are all problematic for us:\n",
    "\n",
    "- We just want to be able to see which words are used in each play, and how often each word is used.\n",
    "- We do not want HTML markup, information about Project Gutenberg, footnotes, or empty lines.\n",
    "- We also do not want to keep track of names if they just indicate who is speaking. That's not part of the play as such.\n",
    "- We should also exclude stage instructions because those do not belong to the literary part of the play either.\n",
    "\n",
    "Fixing all these things by hand would be tons of work.\n",
    "Fortunately, we only need to delete a few things by hand, while Python can do the rest."
   ]
  },
  {
   "cell_type": "markdown",
   "metadata": {},
   "source": [
    "### Clean-up\n",
    "\n",
    "Let's first do the manual fixes.\n",
    "Carry out the fixes below, then save the modified files under new names so that they don't get overwritten in case you redownload the files: `hamlet_manual.txt`, `faustus_manual.txt`, and `mars_manual.txt`.\n",
    "\n",
    "1. Open `hamlet.txt` and delete the first 189 lines. That's everything before the line `<h4><b>SCENE. Elsinore.</b></h4>`.\n",
    "\n",
    "1. Now go to the end of `hamlet.txt` and delete everything after line 7942. That's everything after (and including) the line with the single tag `<pre>`. It is the only such tag in the file, so it is easy to find with your editor's search function.\n",
    "\n",
    "1. Open `faustus.txt` and delete the first 140 lines. That's everything up to and including the empty line right after `FROM THE QUARTO OF 1616.`\n",
    "\n",
    "1. In the same file, delete everything after the line `Terminat hora diem; terminat auctor opus.`\n",
    "   Use the editor's search function to find it quickly.\n",
    "   \n",
    "1. Open `mars.txt` and delete the first 235 lines. That's everything before the line that says `CHAPTER I`.\n",
    "\n",
    "1. In the same file, delete everything after the line `that I shall soon know.`\n",
    "\n",
    "We have removed quite a bit of unwanted stuff, but there's still many problems with the formatting.\n",
    "The Python code below fixes all of those for us using the power of regular expressions.\n",
    "\n",
    "The code uses several commands we haven't encountered before, such as `with`, `raise`, and `for`, as well as advanced regular expression techniques.\n",
    "Ignore them, they're not the point of this unit (`for` will be explained in the next unit, and there's separate expansion units for `with` and `raise`).\n",
    "The important thing is that we now have a function `text_cleaner` that will clean up the text for us.\n",
    "Remember, that's the great thing about functions - you can treat them as blackboxes and use them efficiently even if you don't fully understand how they work!"
   ]
  },
  {
   "cell_type": "code",
   "execution_count": null,
   "metadata": {},
   "outputs": [],
   "source": [
    "# Code to clean up hamlet.txt, faustus.txt, and mars.txt\n",
    "# ======================================================\n",
    "\n",
    "# import regular expression module\n",
    "import re\n",
    "\n",
    "def text_cleaner(filename):\n",
    "    \"\"\"\n",
    "    Open text and run required cleaning procedures.\n",
    "    \n",
    "    Arguments\n",
    "    ---------\n",
    "    filename: str\n",
    "        name of file without extension (for instance .txt)\n",
    "    \"\"\"\n",
    "    # Step 1: load file and store it as variable \"text\"\n",
    "    with open(filename + \"_manual.txt\", mode=\"r\", encoding='utf-8-sig') as text:\n",
    "        # Step 2: create a new file to save cleaned up version\n",
    "        with open(filename + \"_clean.txt\", mode=\"w\", encoding='utf-8') as cleaned:\n",
    "            # Step 2.5: hamlet needs some special tricks for multiline scene descriptions\n",
    "            text = text.read()\n",
    "            if filename == \"hamlet\":\n",
    "                text = re.sub(r'<p.*?class=\"scenedesc\".*?>[\\s\\S]*?</p>', r'', text)\n",
    "            # Step 3: clean each line and write to clean-up file\n",
    "            for line in str.split(text, '\\n'):\n",
    "                # cleaning\n",
    "                line = line_cleaner(filename, line)\n",
    "                # write line if it isn't empty\n",
    "                if line != '':\n",
    "                    cleaned.write(line)\n",
    "                    cleaned.write('\\n')\n",
    "\n",
    "                    \n",
    "def line_cleaner(filename, line):\n",
    "    \"\"\"clean line for hamlet, faustus, and mars\"\"\"\n",
    "    # hamlet-specific cleaning\n",
    "    if filename == \"hamlet\":\n",
    "        # 1. remove all headers\n",
    "        line = re.sub(r'<h[0-9].*', r'', line)\n",
    "        # 2. remove speaker information\n",
    "        #    (identified by html tags)\n",
    "        line = re.sub(r'<p.*?>[A-Z\\. ]*?<br/>', r'', line)\n",
    "        # 3. remove html tags\n",
    "        line = re.sub(r'<.*?>', r'', line)\n",
    "        # 4. remove anything after [ or before ]\n",
    "        line = re.sub(r'\\[[^\\]]*', r'', line)\n",
    "        line = re.sub(r'[^\\[]*\\]', r'', line)\n",
    "        # 5. replace special html codes by characters\n",
    "        line = re.sub(r'&[rl]squo;', r\"'\", line)\n",
    "        line = re.sub(r'&mdash;', r\" --- \", line)\n",
    "        line = re.sub(r\"&amp;c[\\.,]\", r\"&\", line)\n",
    "    # faustus-specific cleaning\n",
    "    elif filename == \"faustus\":\n",
    "        # 1. remove stage information\n",
    "        #    (anything after 10 spaces)\n",
    "        line = re.sub(r'(\\s){10}.*', r'', line)\n",
    "        # 2. remove speaker information\n",
    "        #    (any word in upper caps followed by space or dot)\n",
    "        line = re.sub(r'[A-Z]{2,}[\\s\\.]', r'', line)\n",
    "        # 3. remove anything between square brackets\n",
    "        line = re.sub(r'\\[[^\\]]*\\]', r'', line)\n",
    "        # 4. remove sentence initial spaces\n",
    "        line = re.sub(r'^\\s+', r'', line)\n",
    "    # mars-specific cleaning\n",
    "    elif filename == \"mars\":\n",
    "        # 1. delete CHAPTER I\n",
    "        # (must be done like this because Roman 1 looks like English I)\n",
    "        line = re.sub('CHAPTER I', '', line)\n",
    "        # 2. remove any word in upper caps\n",
    "        line = re.sub(r'[A-Z]{2,}[\\s\\.]?', r'', line)\n",
    "        # 3. remove anything after [ or before ]\n",
    "        line = re.sub(r'\\[[^\\]]*', r'', line)\n",
    "        line = re.sub(r'[^\\[]*\\]', r'', line)\n",
    "    else:\n",
    "        # give an error message\n",
    "        raise Exception(\"No cleaning profile exists for this file\")\n",
    "    # remove multiple spaces that might be left after clean up\n",
    "    line = re.sub(r'\\s+', ' ', line)\n",
    "    # return cleaned up line with everything in lower case\n",
    "    return str.lower(line)\n",
    "        \n",
    "# do the actual cleaning\n",
    "for filename in [\"hamlet\", \"faustus\", \"mars\"]:\n",
    "    text_cleaner(filename)"
   ]
  },
  {
   "cell_type": "markdown",
   "metadata": {},
   "source": [
    "After running the code, open the newly creates files `faustus_clean.txt`, `hamlet_clean.txt`, and `mars_clean.txt` in your text editor.\n",
    "Contrast them to `faustus_manual.txt`, `hamlet_manual.txt`, and `mars_manual.txt` that were fed into the cleaning function.\n",
    "All the unwanted annotations, markup and stage instructions are gone, and we have a much cleaner file now.\n",
    "Also note that now all words are lowercase, including proper names.\n",
    "That is a feature, not a bug: *but* and *But* are the same word, so we do not want to count them separately.\n",
    "That the texts now talk about *hamlet*, *faustus*, and *carter* is not much of an issue since proper names are rarely identical to existing words.\n",
    "\n",
    "Cleaning up files isn't too much fun, but it is really necessary.\n",
    "Always remember the old saying: **garbage in, garbage out!**\n",
    "We have to make sure our data is a clean as possible in order to carry out a good analysis.\n",
    "But now we can finally get started on the fun part!"
   ]
  },
  {
   "cell_type": "markdown",
   "metadata": {},
   "source": [
    "## Tokenization\n",
    "\n",
    "Remember that we are interested in determining which words each author uses, and how often they do so.\n",
    "As far as Python is concerned, our text files are just a very long string of random characters.\n",
    "Python has no understanding of what a word is, so it cannot count words without our help.\n",
    "What we need to do is to tell Python how it can convert a string into a list of words.\n",
    "And as you know by now, that's exactly what tokenizers are for."
   ]
  },
  {
   "cell_type": "code",
   "execution_count": null,
   "metadata": {},
   "outputs": [],
   "source": [
    "import re\n",
    "\n",
    "def tokenize(the_string):\n",
    "    \"\"\"Convert string to list of words\"\"\"\n",
    "    return re.findall(r\"\\w+\", the_string)\n",
    "\n",
    "\n",
    "def tokenize_file(the_file):\n",
    "    \"\"\"Read file as string and tokenize it\"\"\"\n",
    "    with open(the_file, mode=\"r\") as text:\n",
    "        return tokenize(text.read())\n",
    "\n",
    "\n",
    "# define a variable for each token list\n",
    "hamlet = tokenize_file(\"hamlet_clean.txt\")\n",
    "faustus = tokenize_file(\"faustus_clean.txt\")\n",
    "mars = tokenize_file(\"mars_clean.txt\")"
   ]
  },
  {
   "cell_type": "markdown",
   "metadata": {},
   "source": [
    "Before we continue, let's see what these lists looks like compared to what we would get without the prior clean-up step.\n",
    "After all, if we put so much effort in cleaning up the files, we want to know that it has paid off."
   ]
  },
  {
   "cell_type": "markdown",
   "metadata": {},
   "source": [
    "**Exercise.**\n",
    "You could look at the cleaned-up lists with the `print` command:\n",
    "\n",
    "```python\n",
    "print(hamlet)\n",
    "print(faustus)\n",
    "print(mars)\n",
    "```\n",
    "\n",
    "**Don't do that!!!**\n",
    "\n",
    "The output would be huge because these are long texts with thousands of words.\n",
    "Use the `len` function to check how long each text is."
   ]
  },
  {
   "cell_type": "code",
   "execution_count": null,
   "metadata": {
    "collapsed": true
   },
   "outputs": [],
   "source": [
    "# put your code here"
   ]
  },
  {
   "cell_type": "markdown",
   "metadata": {},
   "source": [
    "As you know, we can use indices to look at individual elements of a list.\n",
    "So we can, say, compare the first word in the original version to the cleaned-up version."
   ]
  },
  {
   "cell_type": "code",
   "execution_count": null,
   "metadata": {},
   "outputs": [],
   "source": [
    "import re\n",
    "\n",
    "def tokenize(the_string):\n",
    "    \"\"\"Convert string to list of words\"\"\"\n",
    "    return re.findall(r\"\\w+\", the_string)\n",
    "\n",
    "\n",
    "def tokenize_file(the_file):\n",
    "    \"\"\"Read file as string and tokenize it\"\"\"\n",
    "    with open(the_file, mode=\"r\") as text:\n",
    "        return tokenize(text.read())\n",
    "\n",
    "\n",
    "# define a variable for each token list\n",
    "hamlet = tokenize_file(\"hamlet_clean.txt\")\n",
    "faustus = tokenize_file(\"faustus_clean.txt\")\n",
    "mars = tokenize_file(\"mars_clean.txt\")\n",
    "\n",
    "# and the counterparts without cleaning up\n",
    "hamlet_manual = tokenize_file(\"hamlet_manual.txt\")\n",
    "faustus_manual = tokenize_file(\"faustus_manual.txt\")\n",
    "mars_manual = tokenize_file(\"mars_manual.txt\")\n",
    "\n",
    "print(\"Hamlet comparison\")\n",
    "print(\"-----------------\")\n",
    "print(\"First word in Hamlet before cleaning:\", hamlet_manual[0])\n",
    "print(\"First word in Hamlet after cleaning:\", hamlet[0])"
   ]
  },
  {
   "cell_type": "markdown",
   "metadata": {},
   "source": [
    "**Caution:**\n",
    "The rest of this notebook assumes that the variables `hamlet`, `faustus`, and `mars` exist, and similarly for `hamlet_manual`, `faustus_manual`, and `mars_manual`.\n",
    "That's the case if you have run the cell above.\n",
    "But if you restart the kernel at a later point, you have to rerun the cell above so that the variables are defined again.\n",
    "So if you run one of the cells below and get an error that `hamlet`, `faustus`, or `mars` are undefined, come back up here and run the code cell."
   ]
  },
  {
   "cell_type": "markdown",
   "metadata": {},
   "source": [
    "Obviously it would be very tedious to compare, say, the first 100 words by referencing each one with its index.\n",
    "Fortunately, Python's got you covered.\n",
    "The index notation can also be used to get **slices**.\n",
    "A slice is a continuous part of a list."
   ]
  },
  {
   "cell_type": "code",
   "execution_count": null,
   "metadata": {},
   "outputs": [],
   "source": [
    "# a short list\n",
    "example_list = [\"John\", \"really\", \"likes\", \"Sue\"]\n",
    "# show the first two elements\n",
    "print(example_list[0:2])\n",
    "# show the slice from index 1 to 4\n",
    "print(example_list[1:4])"
   ]
  },
  {
   "cell_type": "markdown",
   "metadata": {},
   "source": [
    "Slices are very easy to use:\n",
    "\n",
    "```python\n",
    "some_list[start_index:end_index]\n",
    "```\n",
    "\n",
    "This will give you a list that spans from the position `start_index` to the position `end_index`."
   ]
  },
  {
   "cell_type": "markdown",
   "metadata": {},
   "source": [
    "**Exercise.**\n",
    "Experimentation time!\n",
    "Play around with slices to figure out how they work.\n",
    "Pay particular attention to the following issues:\n",
    "\n",
    "1. What happens if the start index is greater than the end index?\n",
    "1. What happens if the end index does not exist (e.g. 17 for the example list above)?\n",
    "1. What happens if one of the indices is omitted?\n",
    "   For instance, `example_list[:3]`, or `example_list[2:]`, or `example_list[-1:]`?"
   ]
  },
  {
   "cell_type": "code",
   "execution_count": null,
   "metadata": {
    "collapsed": true
   },
   "outputs": [],
   "source": [
    "# experiment here"
   ]
  },
  {
   "cell_type": "markdown",
   "metadata": {},
   "source": [
    "*put your answers here*"
   ]
  },
  {
   "cell_type": "markdown",
   "metadata": {},
   "source": [
    "**Exercise.**\n",
    "Compare the output of the two code cells below.\n",
    "Explain why the two outputs are not the same."
   ]
  },
  {
   "cell_type": "code",
   "execution_count": null,
   "metadata": {},
   "outputs": [],
   "source": [
    "[\"John\", \"Mary\", \"Sue\"][1]"
   ]
  },
  {
   "cell_type": "code",
   "execution_count": null,
   "metadata": {},
   "outputs": [],
   "source": [
    "[\"John\", \"Mary\", \"Sue\"][1:1]"
   ]
  },
  {
   "cell_type": "markdown",
   "metadata": {},
   "source": [
    "*put your explanation here*"
   ]
  },
  {
   "cell_type": "markdown",
   "metadata": {},
   "source": [
    "With slices, it is now very easy to compare specific passages of the texts.\n",
    "For example, we can look at the first 50 words in each text."
   ]
  },
  {
   "cell_type": "code",
   "execution_count": null,
   "metadata": {},
   "outputs": [],
   "source": [
    "def print_50(the_list):\n",
    "    print(\"--------\")\n",
    "    print(the_list[:50])\n",
    "    print(\"--------\")\n",
    "    \n",
    "print_50(hamlet)\n",
    "print_50(hamlet_manual)"
   ]
  },
  {
   "cell_type": "markdown",
   "metadata": {},
   "source": [
    "**Exercise.**\n",
    "Write a small custom function `print_first_last` that prints the first *n* and last *n* words of each one of the three texts.\n",
    "For example, `print_first_last(5)` should print the first 5 words of `hamlet`, then the last 5 words of `hamlet`, and then the same for `faustus` and `mars`."
   ]
  },
  {
   "cell_type": "code",
   "execution_count": null,
   "metadata": {
    "collapsed": true
   },
   "outputs": [],
   "source": [
    "# put your code here"
   ]
  },
  {
   "cell_type": "markdown",
   "metadata": {},
   "source": [
    "The comparisons of the lists with and without cleaning show how important it is to remove all unneccessary crud from the files you work with.\n",
    "The list over the cleaned file looks like the actual beginning of *Hamlet*, the other one not so much.\n",
    "So it's a good thing we cleaned up the files, but admittedly it's not exactly the most fun activity.\n",
    "In the next notebook, we finally get to reap the rewards in the form of a quantitative analysis of writing style."
   ]
  },
  {
   "cell_type": "markdown",
   "metadata": {},
   "source": [
    "## Bullet point summary\n",
    "\n",
    "- **Getting files**\n",
    "    - `urllib.urlrequest.urlretrieve(url, filename)` is used to download and save a file (yeah, it will take a while to memorize that function name).\n",
    "- **Manipulating lists**\n",
    "    - Slices allow you to extract a continuous chunk of a list.\n",
    "      The notation is `some_list[start_index:end_index]`.\n",
    "      For example, `[\"John\", \"Mary\", \"Sue\"][1:3]` is `[\"Mary\", \"Sue\"]`.\n",
    "    - In slices, start and end can be omitted.\n",
    "    ```python\n",
    "    [\"John\", \"Mary\", \"Sue\"][:2] == [\"John\", \"Mary\"]\n",
    "    [\"John\", \"Mary\", \"Sue\"][2:] == [\"Sue\"]\n",
    "    [\"John\", \"Mary\", \"Sue\"][:] == [\"John\", \"Mary\", \"Sue\"]\n",
    "     ```"
   ]
  }
 ],
 "metadata": {
  "kernelspec": {
   "display_name": "Python 3",
   "language": "python",
   "name": "python3"
  },
  "language_info": {
   "codemirror_mode": {
    "name": "ipython",
    "version": 3
   },
   "file_extension": ".py",
   "mimetype": "text/x-python",
   "name": "python",
   "nbconvert_exporter": "python",
   "pygments_lexer": "ipython3",
   "version": "3.6.5"
  }
 },
 "nbformat": 4,
 "nbformat_minor": 2
}
