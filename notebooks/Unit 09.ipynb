{
 "cells": [
  {
   "cell_type": "markdown",
   "metadata": {},
   "source": [
    "# Perfecting our chatbots with regular expressions\n",
    "\n",
    "As you know, Eliza was the first chatbot, and there are many websites such as [this one](http://www.manifestation.com/neurotoys/eliza.php3) that host an online version of Eliza.\n",
    "After playing around with Eliza for a while, you will notice that she uses a rather neat trick: she takes part of the user's input and reuses it in her own sentence.\n",
    "This goes beyond the simple memorization and repetition we have done so far.\n",
    "But we can copy that trick with regular expressions."
   ]
  },
  {
   "cell_type": "markdown",
   "metadata": {},
   "source": [
    "## Reusing parts of the input without changes\n",
    "\n",
    "One particular pattern of Eliza is that any question of the form *Can you X?* will get the reply *You don't believe that I can X?* or *Do you want me to be able to X?*.\n",
    "Apparently Eliza saves the user's input, deletes *Can you*, and then puts the remainder after *You don't believe that I can* or *Do you want me to be able to*.\n",
    "Since we already know how to delete something with regular expressions, this should be straightforward."
   ]
  },
  {
   "cell_type": "code",
   "execution_count": null,
   "metadata": {
    "collapsed": false
   },
   "outputs": [],
   "source": [
    "# our first attempt at reusing code;\n",
    "# we will use the libraries random and re\n",
    "import random\n",
    "import re\n",
    "\n",
    "# an example of a possible user input\n",
    "reply = \"Can you drain the ocean with a tea egg?\"\n",
    "\n",
    "beginning = random.choice([\"You don't believe that I can\",\n",
    "                           \"Do you want me to be able to\"])\n",
    "reply = re.sub(r\"Can you\", r\"\", reply)\n",
    "print(beginning, reply)"
   ]
  },
  {
   "cell_type": "markdown",
   "metadata": {},
   "source": [
    "This worked fairly well, except that we have two spaces between *can* and *drain* instead of one.\n",
    "That's because after deleting *Can you*, `reply` starts with a space, which Python won't automatically remove for us.\n",
    "But Python does automatically insert a space between the arguments inside `print`, so we get two spaces: first the automatically inserted one, then the one that wasn't deleted from `reply`."
   ]
  },
  {
   "cell_type": "markdown",
   "metadata": {},
   "source": [
    "**Exercise.**\n",
    "Copy-paste the code above into the cell below.\n",
    "Then adapt the regular expression so that we now longer get two spaces in a row."
   ]
  },
  {
   "cell_type": "code",
   "execution_count": null,
   "metadata": {
    "collapsed": true
   },
   "outputs": [],
   "source": [
    "# put the adapted code here"
   ]
  },
  {
   "cell_type": "markdown",
   "metadata": {},
   "source": [
    "But the code still has several problems.\n",
    "Run your fixed version with the following inputs:\n",
    "\n",
    "1. can you drain the ocean with a tea egg?\n",
    "1. Can you drain the ocean with a tea egg\n",
    "1. Can you help me and my friends?"
   ]
  },
  {
   "cell_type": "markdown",
   "metadata": {},
   "source": [
    "These example sentences show three things:\n",
    "\n",
    "1. When the user ignores capitalization, our regular expression fails to delete *can you*.\n",
    "1. When the user does not add punctuation, our output lacks it too.\n",
    "1. We need to change the pronouns in the reply.\n",
    "\n",
    "Let us tackle each one in turn."
   ]
  },
  {
   "cell_type": "markdown",
   "metadata": {},
   "source": [
    "## Ignoring case\n",
    "\n",
    "The first problem concerns the distinction between lowercase and uppercase letters.\n",
    "This is actually fairly easy to solve, although the most obvious solution won't work.\n",
    "Initially, you might think that we can just use the `str.lower` function to make the whole input lowercase.\n",
    "Then we just change the regular expression from `\"Can you \"` to `\"can you \"` and everything should work fine."
   ]
  },
  {
   "cell_type": "code",
   "execution_count": null,
   "metadata": {
    "collapsed": true
   },
   "outputs": [],
   "source": [
    "import random\n",
    "import re\n",
    "\n",
    "reply = input()\n",
    "\n",
    "beginning = random.choice([\"You don't believe that I can\",\n",
    "                           \"Do you want me to be able to\"])\n",
    "reply = re.sub(r\"can you \", r\"\", str.lower(reply))\n",
    "print(beginning, reply)"
   ]
  },
  {
   "cell_type": "markdown",
   "metadata": {},
   "source": [
    "This code does indeed word as intended for the input *can you drain the ocean with a tea egg*.\n",
    "But see what happens when we make a minor change to the input sentence."
   ]
  },
  {
   "cell_type": "code",
   "execution_count": null,
   "metadata": {
    "collapsed": false
   },
   "outputs": [],
   "source": [
    "import random\n",
    "import re\n",
    "\n",
    "reply = \"Can you drain the Pacific with a tea egg?\"\n",
    "\n",
    "beginning = random.choice([\"You don't believe that I can\",\n",
    "                           \"Do you want me to be able to\"])\n",
    "reply = re.sub(r\"can you \", r\"\", str.lower(reply))\n",
    "print(beginning, reply)"
   ]
  },
  {
   "cell_type": "markdown",
   "metadata": {},
   "source": [
    "By using the `str.lower` function, we have not only undone the capitalization of *Can*, but also the one of the proper name *Pacific*.\n",
    "That's not good, we don't want a chatbot that turns *John* into *john*, or *Microsoft* into *microsoft*."
   ]
  },
  {
   "cell_type": "markdown",
   "metadata": {},
   "source": [
    "Alright, back to the drawing board.\n",
    "Another choice would be to use two different regular expressions, one for uppercase and one for lowercase.\n",
    "Here we first replace `reply` by the result of deleting all instances of *can you *, and then we take that string, delete all instances of *Can you *, and save that as the variable `reply`.\n",
    "This code should work correctly irrespective of whether the user starts their reply with *Can you* or *can you*."
   ]
  },
  {
   "cell_type": "markdown",
   "metadata": {},
   "source": [
    "**Exercise.**\n",
    "Copy-paste the version of the code without `str.lower` and make the suggested modifications.\n",
    "Then run the code with two example sentences, one that starts with *Can you* and one that starts with *can you*."
   ]
  },
  {
   "cell_type": "code",
   "execution_count": null,
   "metadata": {
    "collapsed": true
   },
   "outputs": [],
   "source": [
    "# put your modified code here"
   ]
  },
  {
   "cell_type": "markdown",
   "metadata": {},
   "source": [
    "While this solution seems to work, it is very clunky.\n",
    "Fortunately, there is a much nicer solution.\n",
    "We can make a regular expression case-insensitive by adding `(?i)` at the beginning.\n",
    "So `\"(?i)Can you \"` and `\"(?i)can you\"` do the same thing, they both match *Can you * and *can you *.\n",
    "This allows us to make the code almost as simple as the version we started out with."
   ]
  },
  {
   "cell_type": "code",
   "execution_count": null,
   "metadata": {
    "collapsed": true
   },
   "outputs": [],
   "source": [
    "import random\n",
    "import re\n",
    "\n",
    "reply = input()\n",
    "\n",
    "beginning = random.choice([\"You don't believe that I can\",\n",
    "                           \"Do you want me to be able to\"])\n",
    "reply = re.sub(r\"(?i)can you \", r\"\", reply)\n",
    "print(beginning,reply)"
   ]
  },
  {
   "cell_type": "markdown",
   "metadata": {},
   "source": [
    "But this piece of code is still not flawless.\n",
    "Run the code above and enter *Can you let me can you to end this conversation?*.\n",
    "This is a well-formed sentence of English as the second *can you* is an instance of the phrase *to can somebody*, which means to fire somebody.\n",
    "A user may indeed enter a sentence like this.\n",
    "So what does the program do with such an input?\n",
    "\n",
    "The result may or may not be surprising to you - both instances of *can you * are gone.\n",
    "By making our match for *Can you * case insensitive, we now match every instance of *can you * in the string although we only want to delete the one at the very beginning of the sentence.\n",
    "\n",
    "In order to fix this, we have to use yet another regular expression operator: the symbol `^`, which matches the beginning of a string.\n",
    "By replacing `\"(?i)can you \"` with `\"(?i)^can you \"`, we now tell Python to do a case insensitive search for *can you * at the beginning of the string.\n",
    "The symbol `^` is called *caret*, and on American keyboards it is entered with SHIFT 6."
   ]
  },
  {
   "cell_type": "code",
   "execution_count": null,
   "metadata": {
    "collapsed": false
   },
   "outputs": [],
   "source": [
    "import random\n",
    "import re\n",
    "\n",
    "reply = input()\n",
    "\n",
    "beginning = random.choice([\"You don't believe that I can\",\n",
    "                           \"Do you want me to be able to\"])\n",
    "reply = re.sub(r\"(?i)^can you \", r\"\", reply)\n",
    "print(beginning, reply)"
   ]
  },
  {
   "cell_type": "markdown",
   "metadata": {},
   "source": [
    "Try this code on a variety of inputs that start with *Can you* or *can you*, it should work just fine."
   ]
  },
  {
   "cell_type": "markdown",
   "metadata": {},
   "source": [
    "**Exercise.**\n",
    "Eliza doesn't just take a part of the user's question when it starts with *Can you* or *can you*, but also when it starts with *Do you* or *do you*.\n",
    "In regular expressions, such alternatives can be specified as `(alternative1|alternative2)`.\n",
    "So the alternatives must be between parentheses, separated by the *pipe* symbol `|` (to enter this symbol, hit SHIFT key and \\ at the same time).\n",
    "Modify the code below (it's the same as the one above) so that the regular expression also works for *Do you* and *do you*."
   ]
  },
  {
   "cell_type": "code",
   "execution_count": null,
   "metadata": {
    "collapsed": true
   },
   "outputs": [],
   "source": [
    "import random\n",
    "import re\n",
    "\n",
    "reply = input()\n",
    "\n",
    "beginning = random.choice([\"You don't believe that I can\",\n",
    "                           \"Do you want me to be able to\"])\n",
    "reply = re.sub(r\"(?i)^can you \", r\"\", reply)\n",
    "print(beginning, reply)"
   ]
  },
  {
   "cell_type": "markdown",
   "metadata": {},
   "source": [
    "## Stripping punctuation\n",
    "\n",
    "Another problem with the current code is that we rely on the user to supply correct punctuation.\n",
    "But as anyybody who has ever read a Youtube comment can tell you, people are really sloppy with punctuation.\n",
    "So rather than rely on the user, we will do it ourselves in two steps.\n",
    "First, we strip away all punctuation at the end of the input, and then we add the question mark ourselves.\n",
    "\n",
    "Let's start very simple, by deleting all instances of `.`, `?`, and `!`.\n",
    "We have already seen how to do this with `re.sub`, so this should be easy."
   ]
  },
  {
   "cell_type": "markdown",
   "metadata": {},
   "source": [
    "**Exercise.**\n",
    "Guess what you have to do now! ;)"
   ]
  },
  {
   "cell_type": "code",
   "execution_count": null,
   "metadata": {
    "collapsed": false
   },
   "outputs": [],
   "source": [
    "# adding a regex for stripping away punctuation\n",
    "# we will add our own punctuation in a later version\n",
    "\n",
    "# copy-paste the code here, then extend it so that it deletes punctuation symbols (.?!;)"
   ]
  },
  {
   "cell_type": "markdown",
   "metadata": {},
   "source": [
    "But once again this doesn't work well in all cases.\n",
    "Sure, for inputs like *Can you tell me what time it is?* it does just fine for stripping away the final `?`.\n",
    "But try the slightly different *Can you help me? What time is it?*, and things go horribly wrong.\n",
    "Again our match is too general.\n",
    "We only want to remove punctuation symbols at the end of the string.\n",
    "For this we need the counterpart of `^`: `$` matches the end of the string."
   ]
  },
  {
   "cell_type": "code",
   "execution_count": null,
   "metadata": {
    "collapsed": false
   },
   "outputs": [],
   "source": [
    "# adding a regex for stripping away punctuation\n",
    "# we will add our own punctuation in a later version\n",
    "\n",
    "reply = input()\n",
    "\n",
    "beginning = random.choice([\"You don't believe that I can\",\n",
    "                           \"Do you want me to be able to\"])\n",
    "reply = re.sub(r\"(?i)^can you \", r\"\", reply)\n",
    "# also remove punctuation from end\n",
    "reply = re.sub(r\"[\\.\\?!]$\", r\"\", reply)\n",
    "print(beginning, reply)"
   ]
  },
  {
   "cell_type": "markdown",
   "metadata": {},
   "source": [
    "Alright, this is much better (although the chatbot's reply is still somewhat strange because it also contains the follow-up question; we will deal with that later).\n",
    "\n",
    "Before we proceed, a quick remark on `^` and `$`, which aren't exactly the most intuitive choices for indicating the beginning and the end of a string.\n",
    "Things are made even worse by the fact that on American keyboards, `^` is SHIFT 6 whereas `$` is SHIFT 4.\n",
    "At the very least, one would expect that the symbol for the beginning of the string is to the **left** of the symbol for the end of the string, not the other way round.\n",
    "These conventions are mostly a historical accident - they were established in the 60s and 70s, when computer keyboards still looked very different from today.\n",
    "But here is a mnemonic that helps me remember which is which:\n",
    "\n",
    "1. Since `$` kind of looks like an S, we can take it be short for *string*.\n",
    "   So there is some link between `$` and strings.\n",
    "1. When you **start** drawing an `$` by hand, you first add the curve at the top, which kind of looks like `^`.\n",
    "   So `^` is the beginning of the string.\n",
    "1. You only get `$` once you're done writing the symbol, at the very **end**.\n",
    "   So `$` is the end of the string.\n",
    "\n",
    "Alright, let's return to the chatbot itself.\n",
    "There is still an issue with the code above.\n",
    "You will notice it immediately when you run it with the input *Can you help me...*.\n",
    "Go ahead, try it!"
   ]
  },
  {
   "cell_type": "code",
   "execution_count": null,
   "metadata": {
    "collapsed": true
   },
   "outputs": [],
   "source": [
    "# adding a regex for stripping away punctuation\n",
    "# we will add our own punctuation in a later version\n",
    "\n",
    "# This is the same code as before!\n",
    "\n",
    "reply = input()\n",
    "\n",
    "beginning = random.choice([\"You don't believe that I can\",\n",
    "                           \"Do you want me to be able to\"])\n",
    "reply = re.sub(r\"(?i)^can you \", r\"\", reply)\n",
    "# also remove punctuation from end\n",
    "reply = re.sub(r\"[\\.\\?!]$\", r\"\", reply)\n",
    "print(beginning, reply)"
   ]
  },
  {
   "cell_type": "markdown",
   "metadata": {},
   "source": [
    "As you can see, our regular expression only deletes the last period at the end of the sentence, rather than all of them.\n",
    "That's because `[\\.\\?!]` only matches a single character, it cannot match a sequence of characters.\n",
    "If we want it to mean \"match one or more instances of these characters\", we have to add `+` right after it."
   ]
  },
  {
   "cell_type": "code",
   "execution_count": null,
   "metadata": {
    "collapsed": false
   },
   "outputs": [],
   "source": [
    "# adding a regex for stripping away punctuation\n",
    "# we will add our own punctuation in a later version\n",
    "\n",
    "reply = input()\n",
    "\n",
    "beginning = random.choice([\"You don't believe that I can\",\n",
    "                           \"Do you want me to be able to\"])\n",
    "reply = re.sub(r\"(?i)^can you \", r\"\", reply)\n",
    "# also remove puncttuation from end\n",
    "# we now match all punctuation symbols at the end, not just the last\n",
    "reply = re.sub(r\"[\\.\\?!]+$\", r\"\", reply)\n",
    "print(beginning, reply)"
   ]
  },
  {
   "cell_type": "markdown",
   "metadata": {},
   "source": [
    "Great, this does indeed work!"
   ]
  },
  {
   "cell_type": "markdown",
   "metadata": {},
   "source": [
    "**Exercise.**\n",
    "The two instances of `re.sub` in the code above can be combined into one using the `|` symbol for alternatives.\n",
    "Copy-paste the code into the cell below and make the requested change."
   ]
  },
  {
   "cell_type": "code",
   "execution_count": null,
   "metadata": {
    "collapsed": true
   },
   "outputs": [],
   "source": [
    "# put your modified code here"
   ]
  },
  {
   "cell_type": "markdown",
   "metadata": {},
   "source": [
    "So now we only have to add our question mark at the end of the string.\n",
    "We could add it as a third argument of `print`, but that would add a space before the question mark."
   ]
  },
  {
   "cell_type": "code",
   "execution_count": null,
   "metadata": {
    "collapsed": false
   },
   "outputs": [],
   "source": [
    "# adding a regex for stripping away punctuation\n",
    "# we now add our own punctuation\n",
    "\n",
    "reply = input()\n",
    "\n",
    "beginning = random.choice([\"You don't believe that I can\",\n",
    "                           \"Do you want me to be able to\"])\n",
    "reply = re.sub(r\"(?i)^can you \", r\"\", reply)\n",
    "reply = re.sub(r\"[\\.\\?!]+$\", r\"\", reply)\n",
    "print(beginning, reply, \"?\")"
   ]
  },
  {
   "cell_type": "markdown",
   "metadata": {},
   "source": [
    "Okay, so adding the punctuation inside the `print` statement won't work.\n",
    "But there is a simple alternative: instead of deleting the punctuation symbols at the end, we just replace them by `?`."
   ]
  },
  {
   "cell_type": "markdown",
   "metadata": {},
   "source": [
    "**Exercise.**\n",
    "Copy-paste the latest version of the code into the cell below, then modify is so that punctuation symbols are replaced by `?` rather than being deleted."
   ]
  },
  {
   "cell_type": "code",
   "execution_count": null,
   "metadata": {
    "collapsed": false
   },
   "outputs": [],
   "source": [
    "# put your coe here"
   ]
  },
  {
   "cell_type": "markdown",
   "metadata": {},
   "source": [
    "If you run the code above with the input *Can you help me...*, you will now get something like *You don't believe that I can help me?* as the answer.\n",
    "Far from perfect, but the punctuation now works exactly as we want.\n",
    "Except... yes, I'm sorry to say it, there is still one problem.\n",
    "Instead of *Can you help me...*, try the code with *Can you help me*, without any punctuation at the end.\n",
    "The answer you will get won't have a question mark at the end.\n",
    "\n",
    "Why don't we get a question mark?\n",
    "Because our regular expression basically says \"if there is one or more punctuation symbols at the end of the string, replace them by a question mark\".\n",
    "But if the string has no punctuation symbols at the end, then there is nothing to replace and we don't get a question mark.\n",
    "Instead, we want to say something more like this \"replace the end of the string, and any punctuatution symbols you might find there, by a single question mark\".\n",
    "In other words, we want the punctuation symbols to be **optional**: if they are there, they get replaced, if they aren't, we still do our substituation.\n",
    "The regular expression operator `()?` indicates this optionality, where the optional match is listed between the brackets.\n",
    "So instead of `[\\.\\?!]+$`, we need `([\\.\\?!]+)?$`."
   ]
  },
  {
   "cell_type": "code",
   "execution_count": null,
   "metadata": {
    "collapsed": false
   },
   "outputs": [],
   "source": [
    "# adding a regex for stripping away punctuation\n",
    "# we now add our own punctuation\n",
    "\n",
    "reply = input()\n",
    "\n",
    "beginning = random.choice([\"You don't believe that I can\",\n",
    "                           \"Do you want me to be able to\"])\n",
    "reply = re.sub(r\"(?i)^can you \", r\"\", reply)\n",
    "# also remove punctuation from end\n",
    "# we now match all punctuation symbols at the end, not just the last\n",
    "# and we replace them by ?\n",
    "reply = re.sub(r\"([\\.\\?!]+)?$\", r\"?\", reply)\n",
    "print(beginning, reply)"
   ]
  },
  {
   "cell_type": "markdown",
   "metadata": {},
   "source": [
    "At this point your eyes may glaze over from all the symbol salad.\n",
    "Don't despair!\n",
    "Regular expressions can be a little tricky, but they're just a matter of practice.\n",
    "You don't have to be a rocket engineer to figure out how they work, once you've gotten used to the confusing notation they're actually fairly easy most of the time.\n",
    "Here are the symbols we have encountered so far:\n",
    "\n",
    "**Symbol** | **Meaning**\n",
    ":-- | :--\n",
    ". | matches everything\n",
    "[xyz] | match any one of the characters x, y, z, between the brackets\n",
    "(X)? | the match X between parentheses is optional\n",
    "X+ | match one or more of the preceding pattern X\n",
    "^ | match beginning of string\n",
    "$ | match end of string\n",
    "\n",
    "But you've got a point, we've covered quite a lot in this section.\n",
    "Let's continue with something simpler, just to give you a breather."
   ]
  },
  {
   "cell_type": "markdown",
   "metadata": {},
   "source": [
    "## Pronoun replacement\n",
    "\n",
    "Our chatbot still copies large parts of the user's input *verbatim*, without any changes.\n",
    "In English this trick works mostly fine, but it runs into a serious issue with pronouns.\n",
    "If the user asks *Can you help me*, the chatbot should reply *Do you want me to be able to help you*, not *Do you want me to be able to help me*.\n",
    "Similarly, if the user says *Can you help yourself*, we should reply *You don't believe that I can help myself*, not *You don't believe that I can help yourself*.\n",
    "So all first person pronouns must be replaced by their second person counterparts, and the other way round.\n",
    "This is really easy compared to handling punctuation, but there's still several traps to avoid.\n",
    "\n",
    "Let's try the following first."
   ]
  },
  {
   "cell_type": "code",
   "execution_count": null,
   "metadata": {
    "collapsed": false
   },
   "outputs": [],
   "source": [
    "# adding a regex for stripping away punctuation\n",
    "# we now add our own punctuation\n",
    "\n",
    "reply = input()\n",
    "\n",
    "beginning = random.choice([\"You don't believe that I can\",\n",
    "                           \"Do you want me to be able to\"])\n",
    "reply = re.sub(r\"(?i)^can you \", r\"\", reply)\n",
    "# also remove punctuation from end\n",
    "# we now match all punctuation symbols at the end, not just the last\n",
    "# and we replace them by ?\n",
    "reply = re.sub(r\"([\\.\\?!]+)?$\", r\"?\", reply)\n",
    "\n",
    "# replace first person pronouns by second person\n",
    "reply = re.sub(r\" I \", r\" you \", reply)\n",
    "reply = re.sub(r\" me \", r\" you \", reply)\n",
    "reply = re.sub(r\" my \", r\" your \", reply)\n",
    "reply = re.sub(r\" mine \", r\" yours \", reply)\n",
    "\n",
    "# replace second person pronouns by first person\n",
    "reply = re.sub(r\" you \", r\" me \", reply)\n",
    "reply = re.sub(r\" your \", r\" my \", reply)\n",
    "reply = re.sub(r\" yours \", r\" mine \", reply)\n",
    "\n",
    "print(beginning, reply)"
   ]
  },
  {
   "cell_type": "markdown",
   "metadata": {},
   "source": [
    "This does not work.\n",
    "When you type in *Can you help me please*, you still get a reply like *Do you want me to be able to help me please?*.\n",
    "The reason is actually obvious: we first tell Python to replace all first person pronouns by second person pronouns, and then all second person pronouns by first person pronouns.\n",
    "So the string *Can you help me please* changes as follows:\n",
    "\n",
    "1. Delete *Can you*, leaving *help me please*.\n",
    "1. Replace first person by second person, leaving *help you please*.\n",
    "1. Replace second person by first person, leaving *help me please*.\n",
    "\n",
    "The problem is that the second set of substitutions undoes the first.\n",
    "We have to somehow mark the new second person pronouns as special.\n",
    "One way of doing this is to put a rarely used symbol sequence in front of them, e.g. `@@@` (this string is a good choice because the user is unlikely to ever use it in a sentence).\n",
    "Then the second person substitution will no longer apply to those pronouns.\n",
    "At the end, we delete `@@@` before pronouns and get the desired string."
   ]
  },
  {
   "cell_type": "code",
   "execution_count": null,
   "metadata": {
    "collapsed": false
   },
   "outputs": [],
   "source": [
    "# adding a regex for stripping away punctuation\n",
    "# we now add our own punctuation\n",
    "\n",
    "reply = input()\n",
    "\n",
    "beginning = random.choice([\"You don't believe that I can\",\n",
    "                           \"Do you want me to be able to\"])\n",
    "reply = re.sub(r\"(?i)^can you \", r\"\", reply)\n",
    "# also remove punctuation from end\n",
    "# we now match all punctuation symbols at the end, not just the last\n",
    "# and we replace them by ?\n",
    "reply = re.sub(r\"([\\.\\?!]+)?$\", r\"?\", reply)\n",
    "\n",
    "# replace first person pronouns by second person;\n",
    "# since we add a @ in front, they won't be rewritten later on\n",
    "reply = re.sub(r\" I \", r\" @@@you \", reply)\n",
    "reply = re.sub(r\" me \", r\" @@@you \", reply)\n",
    "reply = re.sub(r\" my \", r\" @@@your \", reply)\n",
    "reply = re.sub(r\" mine \", r\" @@@yours \", reply)\n",
    "\n",
    "# replace second person pronouns by first person\n",
    "reply = re.sub(r\" you \", r\" me \", reply)\n",
    "reply = re.sub(r\" your \", r\" my \", reply)\n",
    "reply = re.sub(r\" yours \", r\" mine \", reply)\n",
    "\n",
    "# delete all instances of @@@\n",
    "reply = re.sub(r\"@@@\", \"\", reply)\n",
    "\n",
    "print(beginning, reply)"
   ]
  },
  {
   "cell_type": "markdown",
   "metadata": {},
   "source": [
    "This code now works for *Can you help me please*, but it still fails for *Can you help me*.\n",
    "That is because we only replace pronouns between spaces, but a sentence-final pronoun is not followed by a space.\n",
    "And actually we're going to run into the same problem if for some reason a personal pronoun occurs at the beginning of the string.\n",
    "There's a very elegant way to solve this, which is to first break the string into words, replace words, and then reassemble the words into a string.\n",
    "We cannot do this yet, so let us try a somewhat hacky solution that has the advantage that it can be done just with regular expressions: we will make sure that the string in which we do the substitutions always starts with a space and ends with a space.\n",
    "That way, we don't run into the problems with sentence-initial or sentence-final pronouns.\n",
    "\n",
    "The overall procedure then works as follows:\n",
    "\n",
    "1. Suppose user enter *Can you help me???*\n",
    "1. Delete *Can you*, but leave the space before *help* (as we did at the very beginning of the unit).\n",
    "1. The string is now ` help me???`.\n",
    "1. Instead of replacing `???` by `?`, substitute only a space.\n",
    "   The string is now ` help me `.\n",
    "1. Do the first round of pronoun subsitutions.\n",
    "   The string is now ` help @@@you `.\n",
    "1. Delete all instnaces of `@@@`.\n",
    "   The string is now ` help you `.\n",
    "1. Delete sentence-initial space.\n",
    "   The string is now `help you `.\n",
    "1. Replace sentence-final space by question mark.\n",
    "   The string is now `help you?`.\n",
    "   \n",
    "Here's the corresponding code:"
   ]
  },
  {
   "cell_type": "code",
   "execution_count": null,
   "metadata": {
    "collapsed": false
   },
   "outputs": [],
   "source": [
    "# adding a regex for stripping away punctuation\n",
    "# we now add our own punctuation\n",
    "\n",
    "reply = input()\n",
    "\n",
    "beginning = random.choice([\"You don't believe that I can\",\n",
    "                           \"Do you want me to be able to\"])\n",
    "# keep space after you\n",
    "reply = re.sub(r\"(?i)^can you\", r\"\", reply)\n",
    "# also remove punctuation from end\n",
    "# but replace it by space now\n",
    "reply = re.sub(r\"([\\.\\?!]+)?$\", r\" \", reply)\n",
    "\n",
    "# replace first person pronouns by second person;\n",
    "# since we add a @ in front, they won't be rewritten later on\n",
    "reply = re.sub(r\" I \", r\" @@@you \", reply)\n",
    "reply = re.sub(r\" me \", r\" @@@you \", reply)\n",
    "reply = re.sub(r\" my \", r\" @@@your \", reply)\n",
    "reply = re.sub(r\" mine \", r\" @@@yours \", reply)\n",
    "\n",
    "# replace second person pronouns by first person\n",
    "reply = re.sub(r\" you \", r\" me \", reply)\n",
    "reply = re.sub(r\" your \", r\" my \", reply)\n",
    "reply = re.sub(r\" yours \", r\" mine \", reply)\n",
    "\n",
    "# delete all instances of @@@\n",
    "reply = re.sub(r\"@@@\", r\"\", reply)\n",
    "\n",
    "# delete initial space\n",
    "reply = re.sub(r\"^ \", r\"\", reply)\n",
    "# replace final space by ?\n",
    "reply = re.sub(r\" $\", r\"?\", reply)\n",
    "\n",
    "print(beginning, reply)"
   ]
  },
  {
   "cell_type": "markdown",
   "metadata": {},
   "source": [
    "Pretty convoluted, but that is what a lot of work with regular expressions is like.\n",
    "You have to think about a way to set up an elaborate system of pattern matching rules that step by step converts the input into the output you want.\n",
    "This isn't particularly elegant, but in a system that doesn't even understand what a pronoun is, that's the only way to do it."
   ]
  },
  {
   "cell_type": "markdown",
   "metadata": {},
   "source": [
    "**Exercise.**\n",
    "Our pronoun substitution system works fairly well, but you might have noticed that we do not cover cases where the user entered *Me* or *My* instead of *me* and *my*.\n",
    "Similarly, we always replace *you* by *me*, although it might sometimes be a subject and thus need to be replaced by *I*.\n",
    "A general solution is difficult, but at the very least we want to account for the most common cases:\n",
    "\n",
    "- *you are* should be *I am*, and the other way round\n",
    "- *you're* should be *I'm*, and the other way round\n",
    "- *you* should be replaced by *I* before *may*, *must*, *have*, *need*, *should*, *feel*, and *think*.\n",
    "\n",
    "Adapt the code below so that it handles those additional cases."
   ]
  },
  {
   "cell_type": "code",
   "execution_count": null,
   "metadata": {
    "collapsed": true
   },
   "outputs": [],
   "source": [
    "# adding a regex for stripping away punctuation\n",
    "# we now add our own punctuation\n",
    "\n",
    "reply = input()\n",
    "\n",
    "beginning = random.choice([\"You don't believe that I can\",\n",
    "                           \"Do you want me to be able to\"])\n",
    "# keep space after you\n",
    "reply = re.sub(r\"(?i)^can you\", r\"\", reply)\n",
    "# also remove punctuation from end\n",
    "# but replace it by space now\n",
    "reply = re.sub(r\"([\\.\\?!]+)?$\", r\" \", reply)\n",
    "\n",
    "# replace first person pronouns by second person;\n",
    "# since we add a @ in front, they won't be rewritten later on\n",
    "reply = re.sub(r\" I \", r\" @@@you \", reply)\n",
    "reply = re.sub(r\" me \", r\" @@@you \", reply)\n",
    "reply = re.sub(r\" my \", r\" @@@your \", reply)\n",
    "reply = re.sub(r\" mine \", r\" @@@yours \", reply)\n",
    "\n",
    "# replace second person pronouns by first person\n",
    "reply = re.sub(r\" you \", r\" me \", reply)\n",
    "reply = re.sub(r\" your \", r\" my \", reply)\n",
    "reply = re.sub(r\" yours \", r\" mine \", reply)\n",
    "\n",
    "# delete all instances of @@@\n",
    "reply = re.sub(r\"@@@\", r\"\", reply)\n",
    "\n",
    "# delete initial space\n",
    "reply = re.sub(r\"^ \", r\"\", reply)\n",
    "# replace final space by ?\n",
    "reply = re.sub(r\" $\", r\"?\", reply)\n",
    "\n",
    "print(beginning, reply)"
   ]
  },
  {
   "cell_type": "markdown",
   "metadata": {},
   "source": [
    "Well, we covered quite a lot of ground in this unit.\n",
    "We still don't know everything there is to know about regular expressions, but we have the basics under our belts now.\n",
    "The next unit will teach you one more important technique, and after that we will slowly grow our collection of regular expression tricks throughout the semester.\n",
    "It might all still feel pretty awkward to you, but you'll be a *regex wizard* in no time."
   ]
  }
 ],
 "metadata": {
  "kernelspec": {
   "display_name": "Python 3",
   "language": "python",
   "name": "python3"
  },
  "language_info": {
   "codemirror_mode": {
    "name": "ipython",
    "version": 3
   },
   "file_extension": ".py",
   "mimetype": "text/x-python",
   "name": "python",
   "nbconvert_exporter": "python",
   "pygments_lexer": "ipython3",
   "version": "3.5.3"
  }
 },
 "nbformat": 4,
 "nbformat_minor": 2
}
