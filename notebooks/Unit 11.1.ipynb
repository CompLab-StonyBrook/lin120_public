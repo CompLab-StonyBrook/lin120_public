{
 "cells": [
  {
   "cell_type": "markdown",
   "metadata": {},
   "source": [
    "# Functions for Word Counts\n",
    "\n",
    "This unit is a recommended supplementary reading for unit 11.\n",
    "It is **not** an expansion unit.\n",
    "All the material covered here is also part of unit 11 or unit 12.\n",
    "The purpose of this unit is to provide an easier entrance point to custom functions.\n",
    "Unit 11 attempts to give a fairly realistic example of why custom functions are useful in the real world, including chatbots: custom functions greatly simplify the code.\n",
    "But in order to get this point across, unit 11 has to use a fairly complex program that is gradually simplified by using functions.\n",
    "This means that you have to spend a fair amount of your mental capacities on understanding the code before you can start to learn about functions.\n",
    "This unit instead presents a very simple program where functions already pay off."
   ]
  },
  {
   "cell_type": "markdown",
   "metadata": {},
   "source": [
    "## Counting words\n",
    "\n",
    "Suppose we want to determine for some string how often each word type occurs in it.\n",
    "To do so, we have to first tokenize the string with a regular expression, and then ask Python to determine the number of word tokens for each word type.\n",
    "The code for this is shown below.\n",
    "Do not worry too much about the specifics for now, those will be covered in Unit 12."
   ]
  },
  {
   "cell_type": "code",
   "execution_count": null,
   "metadata": {
    "collapsed": false
   },
   "outputs": [],
   "source": [
    "# load the re module, we need regular expressions for tokenization\n",
    "import re\n",
    "# then load the Counter function from the collections module;\n",
    "# we need this to count word tokens\n",
    "from collections import Counter\n",
    "\n",
    "# our example string\n",
    "string1 = \"The sun shone, having no alternative, on the nothing new.\"\n",
    "print(string1)\n",
    "\n",
    "# re.findall takes a string as input and computes a list of all the matches;\n",
    "# since \\w+ matches 1 or more word characters, this will split the string into a list of words;\n",
    "# we also use str.lower because capitalization is misleading for word counts (\"The\" and \"the\" are the same word type)\n",
    "words1 = re.findall(r\"\\w+\", str.lower(string1))\n",
    "print(words1)\n",
    "\n",
    "# now we just feed the list words1 into Counter\n",
    "counts1 = Counter(words1)\n",
    "print(counts1)"
   ]
  },
  {
   "cell_type": "markdown",
   "metadata": {},
   "source": [
    "But now suppose that we want to print the counts for five different strings.\n",
    "This gets rather tedious."
   ]
  },
  {
   "cell_type": "code",
   "execution_count": null,
   "metadata": {
    "collapsed": false
   },
   "outputs": [],
   "source": [
    "import re\n",
    "from collections import Counter\n",
    "\n",
    "string1 = \"The sun shone, having no alternative, on the nothing new.\"\n",
    "string2 = \"Murphy sat out of it, as though he were free, in a mew in West Brompton.\"\n",
    "string3 = \"Here for what might have been six months he had eaten, drunk, slept, and put his clothes on and off, in a medium-sized cage of north-western aspect commanding an unbroken view of medium-sized cages of south-eastern aspect.\"\n",
    "string4 = \"Soon he would have to make other arrangements, for the mew had been condemned.\"\n",
    "string5 = \"Soon he would have to buckle to and start eating, drinking, sleeping, and putting his clothes on and off, in quite alien surroundings.\"\n",
    "\n",
    "# tokenize the normalized strings, count the words, and print to screen\n",
    "words1 = re.findall(r\"\\w+\", str.lower(string1))\n",
    "counts1 = Counter(words1)\n",
    "print(counts1)\n",
    "\n",
    "words2 = re.findall(r\"\\w+\", str.lower(string2))\n",
    "counts2 = Counter(words2)\n",
    "print(counts2)\n",
    "\n",
    "words3 = re.findall(r\"\\w+\", str.lower(string3))\n",
    "counts3 = Counter(words3)\n",
    "print(counts3)\n",
    "\n",
    "words4 = re.findall(r\"\\w+\", str.lower(string4))\n",
    "counts4 = Counter(words4)\n",
    "print(counts4)\n",
    "\n",
    "words5 = re.findall(r\"\\w+\", str.lower(string5))\n",
    "counts5 = Counter(words5)\n",
    "print(counts5)\n",
    "\n",
    "# and now do counts for everything together\n",
    "passage = string1 + \" \" + string2 + \" \" + string3 + \" \" + string4 + \" \" + string5\n",
    "words = re.findall(r\"\\w+\", str.lower(passage))\n",
    "counts = Counter(words)\n",
    "print(counts)"
   ]
  },
  {
   "cell_type": "markdown",
   "metadata": {},
   "source": [
    "As you can see, we are repeating the same code over and over again, changing only the variable names.\n",
    "It would be much nicer if we could attach a name `foo` to those chunks of code and just tell Python to execute `foo` with `string1`, then with `string2`, then with `string3`, and so on.\n",
    "Custom functions allow us to do just that."
   ]
  },
  {
   "cell_type": "code",
   "execution_count": null,
   "metadata": {
    "collapsed": true
   },
   "outputs": [],
   "source": [
    "import re\n",
    "from collections import Counter\n",
    "\n",
    "string1 = \"The sun shone, having no alternative, on the nothing new.\"\n",
    "string2 = \"Murphy sat out of it, as though he were free, in a mew in West Brompton.\"\n",
    "string3 = \"Here for what might have been six months he had eaten, drunk, slept, and put his clothes on and off, in a medium-sized cage of north-western aspect commanding an unbroken view of medium-sized cages of south-eastern aspect.\"\n",
    "string4 = \"Soon he would have to make other arrangements, for the mew had been condemned.\"\n",
    "string5 = \"Soon he would have to buckle to and start eating, drinking, sleeping, and putting his clothes on and off, in quite alien surroundings.\"\n",
    "\n",
    "\n",
    "# define a custom function for counting words\n",
    "def count_words(string):\n",
    "    words = re.findall(r\"\\w+\", str.lower(string))\n",
    "    counts = Counter(words)\n",
    "    return counts\n",
    "\n",
    "# tokenize the normalized strings, count the words, and print to screen;\n",
    "# the normalization, tokenization and word counting now all happens inside the count_words function\n",
    "print(count_words(string1))\n",
    "print(count_words(string2))\n",
    "print(count_words(string3))\n",
    "print(count_words(string4))\n",
    "print(count_words(string5))\n",
    "\n",
    "# and now do counts for everything together\n",
    "passage = string1 + \" \" + string2 + \" \" + string3 + \" \" + string4 + \" \" + string5\n",
    "print(count_words(passage))"
   ]
  },
  {
   "cell_type": "markdown",
   "metadata": {},
   "source": [
    "## How functions work\n",
    "\n",
    "A custom function is similar to a variable in that it allows us to attach a name to a specific thing.\n",
    "But whereas variables attach names to values, custom functions attach names to chunks of code.\n",
    "Functions always follow the same format:\n",
    "\n",
    "```\n",
    "def function_name(argument1, argument2, ..., argument999):\n",
    "    # do something with the arguments\n",
    "    # and return an output\n",
    "    return output\n",
    "```\n",
    "\n",
    "1. they start with `def`, which is short for *define*\n",
    "1. then we get the function name; as usual, names should be lowercase and use _ instead of spaces\n",
    "1. after that we have opening and closing parenthesis, with zero or more arguments in between\n",
    "1. arguments can be used like defined variables inside the function code\n",
    "1. once the function is done computing, it returns a specific output based on the previous computations\n",
    "\n",
    "Let us look again at the function `count_words`."
   ]
  },
  {
   "cell_type": "code",
   "execution_count": null,
   "metadata": {
    "collapsed": true
   },
   "outputs": [],
   "source": [
    "# we define the function count_words with a single argument, called string\n",
    "def count_words(string):\n",
    "    # since string is an argument, we can use it like a variable name on the next line\n",
    "    words = re.findall(r\"\\w+\", str.lower(string))\n",
    "    counts = Counter(words)\n",
    "    # we have computed a value, stored as the variable counts\n",
    "    # we now return this as the output of the function\n",
    "    return counts"
   ]
  },
  {
   "cell_type": "markdown",
   "metadata": {},
   "source": [
    "And this is what happens internally in Python when we run `count_words(string1)`:\n",
    "\n",
    "1. `string1` refers to `\"The sun shone, having no alternative, on the nothing new.\"`, so Python runs `count_words(\"The sun shone, having no alternative, on the nothing new.\")`.\n",
    "1.  The definition of `count_words` tells Python that it should compute `re.findall(r\"\\w+\", str.lower(\"The sun shone, having no alternative, on the nothing new.\"))`.\n",
    "1.  It then stores this as a **local** variable `words`.\n",
    "    Local means that the variable cannot be used outside the function.\n",
    "    And if you already defined a variable `words` outside the function, its value will not be overwritten by what happens inside the function.\n",
    "    When it comes to variables, you can think of functions as a black hole: nothing gets out.\n",
    "1.  It then computes `Counter(words)` using the local variable `words`.\n",
    "    The value of `Counter(words)` is stored as the local variable `counts`.\n",
    "    Again this does not conflict with any variable `counts` that you might have defined outside the function.\n",
    "1.  Finally, the function returns the value of `counts` as its output.\n",
    "\n",
    "We can see each step by adding `print` statements to the function"
   ]
  },
  {
   "cell_type": "code",
   "execution_count": null,
   "metadata": {
    "collapsed": false
   },
   "outputs": [],
   "source": [
    "import re\n",
    "from collections import Counter\n",
    "\n",
    "string1 = \"The sun shone, having no alternative, on the nothing new.\"\n",
    "\n",
    "# we define the function count_words with a single argument, called string\n",
    "def count_words(string):\n",
    "    print(\"Value of string is:\", string)\n",
    "    words = re.findall(r\"\\w+\", str.lower(string))\n",
    "    print(\"Value of words is:\", words)\n",
    "    counts = Counter(words)\n",
    "    print(\"Value of counts is:\", counts)\n",
    "    # we have computed a value, stored as the variable counts\n",
    "    # we now return this as the output of the function\n",
    "    return counts\n",
    "\n",
    "print(\"Output of function is:\", count_words(string1))"
   ]
  },
  {
   "cell_type": "markdown",
   "metadata": {},
   "source": [
    "And here is a code snippet that shows that local variables within a function do not conflict with variables outside the function."
   ]
  },
  {
   "cell_type": "code",
   "execution_count": null,
   "metadata": {
    "collapsed": false
   },
   "outputs": [],
   "source": [
    "words = \"This is not a list of words\"\n",
    "\n",
    "# the count_words function uses a local variable words\n",
    "count_words(string1)\n",
    "\n",
    "print(\"Value of words outside of function is:\", words)"
   ]
  },
  {
   "cell_type": "markdown",
   "metadata": {},
   "source": [
    "## More Examples\n",
    "\n",
    "Here are a few more examples of custom functions.\n",
    "Most of them aren't very useful, but they are short and simple so that you can focus on figuring out what they do, and **how** they do it.\n",
    "Pay close attention to how arguments are used inside the function, and where a `return` statement may occur."
   ]
  },
  {
   "cell_type": "code",
   "execution_count": null,
   "metadata": {
    "collapsed": false
   },
   "outputs": [],
   "source": [
    "def double_string(string):\n",
    "    return string + \" \" + string\n",
    "\n",
    "print(double_string(\"I don't want to repeat myself!\"))"
   ]
  },
  {
   "cell_type": "code",
   "execution_count": null,
   "metadata": {
    "collapsed": false
   },
   "outputs": [],
   "source": [
    "def politics_filter(string):\n",
    "    if \"Trump\" in string or \"Hillary\" in string:\n",
    "        return \"censored\"\n",
    "    else:\n",
    "        return string\n",
    "    \n",
    "print(politics_filter(\"Vote Trump!\"))\n",
    "print(politics_filter(\"Hillary should have won!\"))\n",
    "print(politics_filter(\"Politics have no relation to morals.\"))"
   ]
  },
  {
   "cell_type": "code",
   "execution_count": null,
   "metadata": {
    "collapsed": false
   },
   "outputs": [],
   "source": [
    "import random\n",
    "\n",
    "def random_greeting(names):\n",
    "    greeting = random.choice([\"Hi, \", \"Hello, \"])\n",
    "    name = random.choice(names)\n",
    "    return greeting + name + \"!\"\n",
    "\n",
    "print(random_greeting([\"John\", \"Mary\", \"Sue\", \"Bill\", \"Paul\", \"Anne\"]))"
   ]
  },
  {
   "cell_type": "code",
   "execution_count": null,
   "metadata": {
    "collapsed": false
   },
   "outputs": [],
   "source": [
    "def madlibs(adjective, verb, noun):\n",
    "    string = \"An \" + adjective + \" man was \" + verb + \"ing his \" + noun\n",
    "    return string\n",
    "\n",
    "print(madlibs(\"expensive\", \"fail\", \"tardiness\"))"
   ]
  },
  {
   "cell_type": "code",
   "execution_count": null,
   "metadata": {
    "collapsed": false
   },
   "outputs": [],
   "source": [
    "def always_do_the_same():\n",
    "    return \"The output of this function never changes\"\n",
    "\n",
    "print(always_do_the_same())"
   ]
  },
  {
   "cell_type": "markdown",
   "metadata": {},
   "source": [
    "Don't worry too much about where you should or should not use custom functions, that is something you will naturally figure out as we add more and more functions to our code.\n",
    "For now, the important thing is that you learn to write a correct function definition."
   ]
  }
 ],
 "metadata": {
  "kernelspec": {
   "display_name": "Python 3",
   "language": "python",
   "name": "python3"
  },
  "language_info": {
   "codemirror_mode": {
    "name": "ipython",
    "version": 3
   },
   "file_extension": ".py",
   "mimetype": "text/x-python",
   "name": "python",
   "nbconvert_exporter": "python",
   "pygments_lexer": "ipython3",
   "version": "3.5.3"
  }
 },
 "nbformat": 4,
 "nbformat_minor": 2
}
