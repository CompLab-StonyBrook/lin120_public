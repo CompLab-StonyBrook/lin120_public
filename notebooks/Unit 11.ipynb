{
 "cells": [
  {
   "cell_type": "markdown",
   "metadata": {},
   "source": [
    "# Reusing Code with Functions\n",
    "\n",
    "At this point, you could write a pretty impressive chatbot if you put in the necessary time to write several hundred lines of code that cover all kinds of possible user inputs.\n",
    "If you do so, you will quickly notice that you have to copy-paste the same code over and over again for distinct cases, so if you later realize you have to change a piece of code, there may be dozens of copies where you have to make that change.\n",
    "That's not a nice situation to be in, and this is why Python offers an alternative to copy-pasting code."
   ]
  },
  {
   "cell_type": "markdown",
   "metadata": {},
   "source": [
    "## Seeing the problem: a more complex chatbot\n",
    "\n",
    "Suppose we now want to design a more elaborate chatbot.\n",
    "It should be able to do multiple things:\n",
    "\n",
    "1. If a user reply starts with *Can you* or *Do you*, the bot will either say *Let's not talk about me.* or reuse the user input for a suitable reply.\n",
    "1. If a user reply starts with *Can I* or *May I*, the bot will either say *Of course!*, *Certainly.*, *No.*, or reuse the user input for a suitable reply.\n",
    "1. In all other cases, a random answer is chosen.\n",
    "1. Whenever input is reused, the bot switches first and second person pronouns and fixes the punctuation.\n",
    "\n",
    "Let us develop this chatbot step by step, starting with just the random replies without user input."
   ]
  },
  {
   "cell_type": "code",
   "execution_count": null,
   "metadata": {
    "collapsed": false
   },
   "outputs": [],
   "source": [
    "# a simple chatbot that gives random replies\n",
    "\n",
    "# we need the random module\n",
    "import random\n",
    "\n",
    "# define some random greetings\n",
    "greetings = [\"Hi!\",\n",
    "             \"Hello!\",\n",
    "             \"Greetings!\",\n",
    "             \"How do you do?\",\n",
    "             \"How's it going?\"]\n",
    "\n",
    "# define some random answers\n",
    "answers = [\"Very interesting.\",\n",
    "           \"I do not understand.\",\n",
    "           \"Can you tell me more about this?\"]\n",
    "\n",
    "# pick a random greeting\n",
    "print(random.choice(greetings))\n",
    "\n",
    "# tell the user how to quit\n",
    "print(\"I am a very chatty chatbot.\")\n",
    "print(\"If you want me to stop talking to you, just say stop.\")\n",
    "print(\"Alright, your turn!\")\n",
    "\n",
    "# get the first user reply\n",
    "reply = input()\n",
    "\n",
    "# we start our infinite talking loop\n",
    "while str.lower(reply) != \"stop\":\n",
    "    print(random.choice(answers))\n",
    "    reply = input()\n",
    "\n",
    "# farewell message\n",
    "print(\"It was nice talking to you.\")"
   ]
  },
  {
   "cell_type": "markdown",
   "metadata": {},
   "source": [
    "### Input normalization and regular conditions with `re.search`\n",
    "\n",
    "Before we continue adding more functionality to this chatbot, there is already one thing we would like to fix, and that's how the user can make the chatbot stop.\n",
    "Right now, the user has to enter *Stop* or *stop*, but *Stop.* or *stop!!!* won't work.\n",
    "That's because we only normalize the user input with `str.lower`.\n",
    "We could instead normalize the input with `re.sub`:"
   ]
  },
  {
   "cell_type": "code",
   "execution_count": null,
   "metadata": {
    "collapsed": false
   },
   "outputs": [],
   "source": [
    "# only the relevant part of the chatbot is shown here\n",
    "\n",
    "# now we also need the re module\n",
    "import re\n",
    "\n",
    "# get the first user reply\n",
    "reply = input()\n",
    "# normalize reply by rewriting every string that contains no word except stop as \"stop\"\n",
    "normalized_reply = re.sub(r\"(?i)^[^\\w]*stop[^\\w]*$\", r\"stop\", reply)\n",
    "\n",
    "# we start our infinite talking loop\n",
    "while normalized_reply != \"stop\":\n",
    "    print(random.choice(answers))\n",
    "    reply = input()\n",
    "    # normalize reply by rewriting every string that contains no word except stop as \"stop\"\n",
    "    normalized_reply = re.sub(r\"(?i)^[^\\w]*stop[^\\w]*$\", r\"stop\", reply)"
   ]
  },
  {
   "cell_type": "markdown",
   "metadata": {},
   "source": [
    "This regular expression is a little complicated, so let's go through it step by step:\n",
    "\n",
    "1. `(?i)`: case-insensitive matching\n",
    "1. `^`: beginning of the string\n",
    "1. `[^\\w]`: any character that is **not** a word character; `\\w` is a shorthand for `[A-Za-z0-9_]`\n",
    "1.  `*`: 0 or more times\n",
    "1.  `stop`: matches *stop* and any capitalization variant thereof\n",
    "1.  `[^\\w]*`: 0 or more instances of any characters that are not word characters\n",
    "1.  `$`: end of string\n",
    "\n",
    "Ignoring capitalization, this regular expression matches any string of the form *XstopY* where *X* and *Y* are arbitrary sequences of spaces, punctuation symbols, and any other characters that are not word characters.\n",
    "So the user could type *@/,   sToP ???--* and the chatbot would still quit."
   ]
  },
  {
   "cell_type": "markdown",
   "metadata": {},
   "source": [
    "**Exercise.**\n",
    "In the lecture slides on regular expression we saw a more succinct regex for *not a word character*.\n",
    "Adapt the regular expressions in the code below accordingly (it's the same code as in the previous cell)."
   ]
  },
  {
   "cell_type": "code",
   "execution_count": null,
   "metadata": {
    "collapsed": true
   },
   "outputs": [],
   "source": [
    "# only the relevant part of the chatbot is shown here\n",
    "\n",
    "# now we also need the re module\n",
    "import re\n",
    "\n",
    "# get the first user reply\n",
    "reply = input()\n",
    "# normalize reply by rewriting every string that contains no word except stop as \"stop\"\n",
    "normalized_reply = re.sub(r\"(?i)^[^\\w]*stop[^\\w]*$\", r\"stop\", reply)\n",
    "\n",
    "# we start our infinite talking loop\n",
    "while normalized_reply != \"stop\":\n",
    "    print(random.choice(answers))\n",
    "    reply = input()\n",
    "    # normalize reply by rewriting every string that contains no word except stop as \"stop\"\n",
    "    normalized_reply = re.sub(r\"(?i)^[^\\w]*stop[^\\w]*$\", r\"stop\", reply)"
   ]
  },
  {
   "cell_type": "markdown",
   "metadata": {},
   "source": [
    "**Exercise.**\n",
    "Let's practice the use of \\w for word characters and ^ for negation.\n",
    "The code cell below contains several instances of `re.sub` using these symbols.\n",
    "You can run the code to see what output each line produces.\n",
    "Then add comments to the code that explain step by step how each regular expression works, similar to the list in the preceding text."
   ]
  },
  {
   "cell_type": "code",
   "execution_count": 1,
   "metadata": {
    "collapsed": false
   },
   "outputs": [
    {
     "name": "stdout",
     "output_type": "stream",
     "text": [
      "Output 1: (word) (word) (word) --- (word) (word) (word) (word) (word) (word) (word) (word) --- (word)'(word) (word) (word) (word) (word) (word) (word) (word), (word)'(word) (word) (word), (word) (word)'(word) (word) (word). \n",
      "\n",
      "Output 2: John(non-word)and(non-word)I(non-word)who(non-word)have(non-word)been(non-word)friends(non-word)for(non-word)a(non-word)long(non-word)time(non-word)haven(non-word)t(non-word)talked(non-word)to(non-word)each(non-word)other(non-word)for(non-word)a(non-word)while(non-word)don(non-word)t(non-word)want(non-word)to(non-word)and(non-word)won(non-word)t(non-word)ever(non-word)again(non-word) \n",
      "\n",
      "Output 3: John and I (non-word/non-space) who have been friends for a long time (non-word/non-space) haven(non-word/non-space)t talked to each other for a while(non-word/non-space) don(non-word/non-space)t want to(non-word/non-space) and won(non-word/non-space)t ever again(non-word/non-space) \n",
      "\n",
      "Output 4: (two words w/space) I --- (two words w/space) (two words w/space) (two words w/space) (two words w/space) --- haven'(two words w/space) (two words w/space) (two words w/space) (two words w/space), don'(two words w/space) to, (two words w/space)'(two words w/space) again. \n",
      "\n",
      "Output 5: (two words w/misc) (two words w/misc) (two words w/misc) (two words w/misc) (two words w/misc) (two words w/misc)'(two words w/misc) (two words w/misc) (two words w/misc) (two words w/misc), don'(two words w/misc) (two words w/misc) won'(two words w/misc) again. \n",
      "\n"
     ]
    }
   ],
   "source": [
    "import re\n",
    "\n",
    "# define an input string for testing purposes\n",
    "test = \"John and I --- who have been friends for a long time --- haven't talked to each other for a while, don't want to, and won't ever again.\"\n",
    "\n",
    "# Print output of each substitution, with additional empty line at the end\n",
    "print(\"Output 1:\", re.sub(r\"\\w+\", r\"(word)\", test), \"\\n\")\n",
    "print(\"Output 2:\", re.sub(r\"[^\\w]+\", r\"(non-word)\", test), \"\\n\")\n",
    "print(\"Output 3:\", re.sub(r\"[^\\w ]+\", r\"(non-word/non-space)\", test), \"\\n\")\n",
    "print(\"Output 4:\", re.sub(r\"\\w+ \\w+\", r\"(two words w/space)\", test), \"\\n\")\n",
    "print(\"Output 5:\", re.sub(r\"\\w+[^\\w']+\\w+\", r\"(two words w/misc)\", test), \"\\n\")"
   ]
  },
  {
   "cell_type": "markdown",
   "metadata": {},
   "source": [
    "**Exercise.**\n",
    "Now let's do the opposite: the comments in the code tell you what the output should be, and you have to put in the correct regular expression."
   ]
  },
  {
   "cell_type": "code",
   "execution_count": null,
   "metadata": {
    "collapsed": false
   },
   "outputs": [],
   "source": [
    "import re\n",
    "\n",
    "# define an input string for testing purposes\n",
    "test = \"John and I --- who have been friends for a long time --- haven't talked to each other for a while, don't want to, and won't ever again.\"\n",
    "\n",
    "# Print output of each substitution, with additional empty line at the end\n",
    "# Output 1: if a word contains an uppercase letter, replace the word by \"(uppercase)\"; do not use an if-else for this!\n",
    "print(\"Output 1:\", re.sub(r\"\", r\"\", test), \"\\n\")\n",
    "# Output 2: replace any letter except a by z; spaces and punctuation symbols (-;,!?.) should not be changed, either\n",
    "print(\"Output 2:\", re.sub(r\"\", r\"\", test), \"\\n\")\n",
    "# Output 3: replace all sequences of characters between spaces that do not contain a, b, or c by \" (not abc) \"\n",
    "# (careful here, make sure you don't match too much;\n",
    "#  if your output starts with \"John and (not abc) have\", you've matched too many words at once)\n",
    "print(\"Output 3:\", re.sub(r\"\", r\"\", test), \"\\n\")\n",
    "\n",
    "# hint: another way of saying this is \"replace every instance of xUy by (uppercase),\n",
    "# where x and y are sequences of 0 or more word characters and U is an uppercase letter.\""
   ]
  },
  {
   "cell_type": "markdown",
   "metadata": {},
   "source": [
    "*Hints for the exercise*:\n",
    "- Another way of phrasing the condition for Output 1 is the following: replace every instance of `xUy` by `(uppercase)`, where `x` and `y` are sequences of 0 or more word characters and `U` is an uppercase letter.\n",
    "- For Output 2, focus on what characters should not be changed into `z`.\n",
    "- In Output 3, it is important that you get the shortest possible match. In *John or Bill left*, the first match should be *or*, not *or Bill*. You can do this by making sure that matches cannot contain spaces."
   ]
  },
  {
   "cell_type": "markdown",
   "metadata": {},
   "source": [
    "While the code for our chatbot is functional, it is also redundant.\n",
    "We have one line for normalizing the reply outside the `while` loop, which is for the very first user reply.\n",
    "But inside the `while` loop the exact same line reoccurs to normalize later inputs.\n",
    "Duplicating code like this is usually a sign of bad design.\n",
    "If it turns out later on that the regular expression is not quite right, we have to fix it in two places.\n",
    "In a more complex program, it's easy to forget where the changes have to be made, so we might end up with an inconsistent program where inputs are sometimes normalized in one way and sometimes in another.\n",
    "\n",
    "One way to fix this is to store the regular expression as a variable."
   ]
  },
  {
   "cell_type": "code",
   "execution_count": null,
   "metadata": {
    "collapsed": false
   },
   "outputs": [],
   "source": [
    "# only the relevant part of the chatbot is shown here\n",
    "\n",
    "# now we also need the re module\n",
    "import re\n",
    "\n",
    "# define a normalization pattern\n",
    "normalization = r\"(?i)^[^\\w]*stop[^\\w]*$\"\n",
    "\n",
    "# get the first user reply\n",
    "reply = input()\n",
    "# normalize reply by rewriting every string that contains no word except stop as \"stop\"\n",
    "normalized_reply = re.sub(normalization, r\"stop\", reply)\n",
    "\n",
    "# we start our infinite talking loop\n",
    "while normalized_reply != \"stop\":\n",
    "    print(random.choice(answers))\n",
    "    reply = input()\n",
    "    # normalize reply by rewriting every string that contains no word except stop as \"stop\"\n",
    "    normalized_reply = re.sub(normalization, r\"stop\", reply)"
   ]
  },
  {
   "cell_type": "markdown",
   "metadata": {},
   "source": [
    "This code works exactly as before, except that now we have a single place where we can change the normalization pattern.\n",
    "However, we still have to define `normalized_reply` twice.\n",
    "And when you think about it, even defining this variable complicates our code because it is not immediately apparent why we define this variable anyways.\n",
    "All we want to do is to have a more powerful string matching condition for the `while` loop, and our way of accomplishing this is to first normalize the string so that it can be used with the simple condition `!= \"stop\"`.\n",
    "A more direct solution would be to just use the regular operation directly in the condition."
   ]
  },
  {
   "cell_type": "code",
   "execution_count": null,
   "metadata": {
    "collapsed": false
   },
   "outputs": [],
   "source": [
    "# only the relevant part of the chatbot is shown here\n",
    "\n",
    "# now we also need the re module\n",
    "import re\n",
    "\n",
    "# get the first user reply\n",
    "reply = input()\n",
    "\n",
    "# we start our infinite talking loop,\n",
    "# which now contains a regular substitution as part of the condition\n",
    "while re.sub(r\"(?i)^[^\\w]*stop[^\\w]*$\", r\"stop\", reply) != \"stop\":\n",
    "    print(random.choice(answers))\n",
    "    reply = input()"
   ]
  },
  {
   "cell_type": "markdown",
   "metadata": {},
   "source": [
    "Nice, this code is much shorter and easier to understand than what we had before!\n",
    "But we can still make it a smidgen more elegant.\n",
    "Right now, we rewrite strings according some regular expression *R* and then check whether the output does or does not match a given string.\n",
    "This is a very roundabout way of checking whether a string matches *R*.\n",
    "Instead, we can just use `re.search(R, string)` to check if *string* matches the regular expression *R*."
   ]
  },
  {
   "cell_type": "code",
   "execution_count": null,
   "metadata": {
    "collapsed": false
   },
   "outputs": [],
   "source": [
    "# only the relevant part of the chatbot is shown here\n",
    "\n",
    "# now we also need the re module\n",
    "import re\n",
    "\n",
    "# get the first user reply\n",
    "reply = input()\n",
    "\n",
    "# we start our infinite talking loop,\n",
    "# as long as the reply does not match the search pattern\n",
    "while not re.search(r\"(?i)^[^\\w]*stop[^\\w]*$\", reply):\n",
    "    print(random.choice(answers))\n",
    "    reply = input()"
   ]
  },
  {
   "cell_type": "markdown",
   "metadata": {},
   "source": [
    "Now the `while` loop is run only as long as `reply` does **not** match the pattern `r\"(?i)^[^\\w]*stop[^\\w]*$\"`."
   ]
  },
  {
   "cell_type": "markdown",
   "metadata": {},
   "source": [
    "**Exercise.**\n",
    "Write a program that asks the user who their favorite actor is.\n",
    "Use `re.search` to check if the answer contains *Arnold*, possibly followed by *Schwarzenegger*, but not followed by any other last name and not preceded by any other word.\n",
    "If so, the program says *Hasta la vista, baby!*.\n",
    "Otherwise, is just says *Lame!*.\n",
    "\n",
    "*Examples*\n",
    "- `Arnold -> Hasta la vista, baby`\n",
    "- ` arnold   schwarzenegger !!!  -> Hasta la vista, baby`\n",
    "- `!!!Arnold SchwarzenEgger -> Hasta la vista, baby`\n",
    "- `Tom Arnold -> Lame!`\n",
    "- `Arnold Weizenstecker -> Lame!`\n",
    "\n",
    "*Hints*:\n",
    "- Remember that you can do case-insensitive matching.\n",
    "- Any sequence of characters before *Arnold* is fine as long as they are not word characters.\n",
    "- Any sequence of characters at the end is fine as long as they are not word characters.\n",
    "- Remember the special use of ? for optionality."
   ]
  },
  {
   "cell_type": "code",
   "execution_count": null,
   "metadata": {
    "collapsed": true
   },
   "outputs": [],
   "source": [
    "# put your code here"
   ]
  },
  {
   "cell_type": "markdown",
   "metadata": {},
   "source": [
    "### Adding context-dependent replies\n",
    "\n",
    "With the help of `re.search`, we can also add some `if` statements to the chatbot to produce more tailored replies for certain inputs.\n",
    "Remember, these were our design goals for the chatbot:\n",
    "\n",
    "1. If a user reply starts with *Can you* or *Do you*, the bot will either say *Let's not talk about me.* or reuse the user input for a suitable reply.\n",
    "1. If a user reply starts with *Can I* or *May I*, the bot will either say *Of course!*, *Certainly.*, *No.*, or reuse the user input for a suitable reply.\n",
    "1. In all other cases, a random answer is chosen.\n",
    "1. Whenever input is reused, the bot switches first and second person pronouns and fixes the punctuation.\n",
    "\n",
    "We already have the random answer part covered, now let's tackle the first two points.\n",
    "First, we put the general structure in place with `if`, `else`, and `re.search`."
   ]
  },
  {
   "cell_type": "code",
   "execution_count": null,
   "metadata": {
    "collapsed": false
   },
   "outputs": [],
   "source": [
    "# only the relevant part of the chatbot is shown here\n",
    "\n",
    "# now we also need the re module\n",
    "import re\n",
    "\n",
    "# get the first user reply\n",
    "reply = input()\n",
    "\n",
    "# we start our infinite talking loop,\n",
    "# as long as the reply does not match the search pattern\n",
    "while not re.search(r\"(?i)^[^\\w]*stop[^\\w]*$\", reply):\n",
    "    # does the reply start with \"can you\" or \"do you \"?\n",
    "    if re.search(r\"(?i)^(can|do) you \", reply):\n",
    "        print(\"Let's not talk about me.\")\n",
    "    # if not, we have other constructions\n",
    "    else:\n",
    "        # does the reply start with \"can I \" or \"may I \"?\n",
    "        if re.search(r\"(?i)^(can|may) I \", reply):\n",
    "            print(random.choice([\"Of course!\", \"Certainly.\", \"No.\"]))\n",
    "        # we didn't match anything in the input, just give a random reply\n",
    "        else:\n",
    "            print(random.choice(answers))\n",
    "    reply = input()"
   ]
  },
  {
   "cell_type": "markdown",
   "metadata": {},
   "source": [
    "The code above already has all the conditions in place that are needed for the chatbot to provide specific answers to inputs that match certain patterns.\n",
    "But it only replies certain pre-canned replies for those special cases, it still does not reuse the user input.\n",
    "Let's add at least a basic solution for the first case, i.e. strings that start with *can you* or *do you*."
   ]
  },
  {
   "cell_type": "code",
   "execution_count": null,
   "metadata": {
    "collapsed": false
   },
   "outputs": [],
   "source": [
    "# only the relevant part of the chatbot is shown here\n",
    "\n",
    "# now we also need the re module\n",
    "import re\n",
    "\n",
    "# get the first user reply\n",
    "reply = input()\n",
    "\n",
    "# we start our infinite talking loop,\n",
    "# as long as the reply does not match the search pattern\n",
    "while not re.search(r\"(?i)^[^\\w]*stop[^\\w]*$\", reply):\n",
    "    # does the reply start with \"can you\" or \"do you \"?\n",
    "    # then we give a pretty sophisticated reply now\n",
    "    if re.search(r\"(?i)^(can|do) you \", reply):\n",
    "        # define some possible starts for dynamically generated replies\n",
    "        starts = [\"You don't believe that I can\",\n",
    "                  \"Do you want me to be able to\"]\n",
    "        # from reply of the form \"can/do you [sentence] [end of sentence] [other stuff]\" produce \"[sentence]?\"\n",
    "        reply = re.sub(r\"(?i)^(can|do) you ([^\\.\\?!]*).*\", r\"\\2?\", reply)\n",
    "        # combine reply with a randomly chosen start\n",
    "        bot_reply = random.choice(starts) + \" \" + reply\n",
    "        # print either a precanned response or the bot_reply\n",
    "        print(random.choice([\"Let's not talk about me.\",\n",
    "                             bot_reply]))\n",
    "    # if not, we have other constructions\n",
    "    # nothing has changed here\n",
    "    else:\n",
    "        # does the reply start with \"can I \" or \"may I \"?\n",
    "        if re.search(r\"(?i)^(can|may) I \", reply):\n",
    "            print(random.choice([\"Of course!\", \"Certainly.\", \"No.\"]))\n",
    "        # we didn't match anything in the input, just give a random reply\n",
    "        else:\n",
    "            print(random.choice(answers))\n",
    "    reply = input()"
   ]
  },
  {
   "cell_type": "markdown",
   "metadata": {},
   "source": [
    "The only change compared to the previous version of the bot is that now we also reuse parts of the input whenever the reply starts with *can you* or *do you*.\n",
    "Compared to the solution we saw in an earlier unit, this code does many things in a single instance of `re.sub` by using a backreference.\n",
    "The regular expression works as follows:\n",
    "\n",
    "1. `(?i)`: case-insensitive matching\n",
    "1. `^`: match beginning of string\n",
    "1.  `(can|do)`: match *can* or *do*; since this is bracketed, it is also group 1 for backreferences\n",
    "1.  `you`: match *you*\n",
    "1.  `(`: begin the second group for backreferences\n",
    "1.  `[^\\.\\?!]*`: zero or mor instances of any character that is not `.`, `?`, or `!`\n",
    "1.  `)`: end of second group for backreferences\n",
    "1.  `.*`: 0 or more instances of any characters; this matches whatever appears after the first sentence-ending punctuation\n",
    "\n",
    "By rewriting this as `\\2` we instruct Python to keep only the part between *can you* or *do you* and the first sentence-ending punctuation symbol.\n",
    "Everything else is thrown away.\n",
    "We also take care of our own punctuation by rewriting the string as `\\2?` instead of `\\2`.\n",
    "\n",
    "Alright, now let us do the same for the second case, where we match *can I* and *may I*."
   ]
  },
  {
   "cell_type": "code",
   "execution_count": null,
   "metadata": {
    "collapsed": true
   },
   "outputs": [],
   "source": [
    "# only the relevant part of the chatbot is shown here\n",
    "\n",
    "# now we also need the re module\n",
    "import re\n",
    "\n",
    "# get the first user reply\n",
    "reply = input()\n",
    "\n",
    "# we start our infinite talking loop,\n",
    "# as long as the reply does not match the search pattern\n",
    "while not re.search(r\"(?i)^[^\\w]*stop[^\\w]*$\", reply):\n",
    "    # does the reply start with \"can you\" or \"do you \"?\n",
    "    # then we give a pretty sophisticated reply now\n",
    "    if re.search(r\"(?i)^(can|do) you \", reply):\n",
    "        # define some possible starts for dynamically generated replies\n",
    "        starts = [\"You don't believe that I can\",\n",
    "                  \"Do you want me to be able to\"]\n",
    "        # from reply of the form \"can/do you [sentence] [end of sentence] [other stuff]\" produce \"[sentence]?\"\n",
    "        reply = re.sub(r\"(?i)^(can|do) you ([^\\.\\?!]*).*\", r\"\\2?\", reply)\n",
    "        # combine reply with a randomly chosen start\n",
    "        bot_reply = random.choice(starts) + \" \" + reply\n",
    "        # print either a precanned response or the bot_reply\n",
    "        print(random.choice([\"Let's not talk about me.\",\n",
    "                             bot_reply]))\n",
    "    # if not, we have other constructions\n",
    "    else:\n",
    "        # does the reply start with \"can I \" or \"may I \"?\n",
    "        if re.search(r\"(?i)^(can|may) I \", reply):\n",
    "            # again we define some possible starts for dynamically generated replies\n",
    "            starts = [\"Why do you want to\",\n",
    "                      \"Why are you asking for permission to\"]\n",
    "            # from reply of the form \"can/may I [sentence] [end of sentence] [other stuff]\" produce \"[sentence]\"\n",
    "            reply = re.sub(r\"(?i)^(can|may) I ([^\\.\\?!]*).*\", r\"\\2?\", reply)\n",
    "            # combine reply with a randomly chosen start\n",
    "            bot_reply = random.choice(starts) + \" \" + reply\n",
    "            print(random.choice([\"Of course!\", \"Certainly.\", \"No.\",\n",
    "                                 bot_reply]))\n",
    "        # we didn't match anything in the input, just give a random reply\n",
    "        else:\n",
    "            print(random.choice(answers))\n",
    "    reply = input()"
   ]
  },
  {
   "cell_type": "markdown",
   "metadata": {},
   "source": [
    "Oh boy, our code is certainly getting long and unwieldy.\n",
    "And if you look at the *can you* case and compare it to the *can I* case, you can see that the two are almost exactly the same.\n",
    "We are replicating a lot of code verbatim without any changes.\n",
    "The only meaningful difference is in how we define `starts`, the final selection of random choices, and whether the regular expression contains `(can|do) you` or `(can|may) I`.\n",
    "We even repeat many of the comments without any changes.\n",
    "If we can find a way to reuse the code in a smarter way than just copy-pasting it with minor differences, the code will become much more readable.\n",
    "Python offers *custom functions* for exactly this purpose."
   ]
  },
  {
   "cell_type": "markdown",
   "metadata": {},
   "source": [
    "## Custom functions\n",
    "\n",
    "You already know a fair amount of Python functions:\n",
    "\n",
    "- `print`\n",
    "- `input`\n",
    "- `list.append`\n",
    "- `str.lower`\n",
    "- `str.upper`\n",
    "- `str.title`\n",
    "- `re.sub`\n",
    "- `re.search`\n",
    "\n",
    "But those are all built-in functions.\n",
    "Python also allows programmers to define their own custom functions.\n",
    "Once defined, a custom function behaves like a built-in one:\n",
    "\n",
    "1. It has a specific name.\n",
    "1. It must be followed by `(` and `)`, with 0 or more arguments between the parentheses.\n",
    "1. How many arguments a function allows depends on how the programmer defined it."
   ]
  },
  {
   "cell_type": "markdown",
   "metadata": {},
   "source": [
    "### Some simple examples\n",
    "\n",
    "Before we use functions to clean up the chatbot code above, let us start with a very simple example to get a better idea of how functions are defined."
   ]
  },
  {
   "cell_type": "code",
   "execution_count": null,
   "metadata": {
    "collapsed": false
   },
   "outputs": [],
   "source": [
    "def greeting(name):\n",
    "    string = \"Nice to meet you, \" + name + \"!\"\n",
    "    return string\n",
    "\n",
    "print(greeting(\"Mary\"))\n",
    "print(greeting(\"Gandalf the Gray\"))\n",
    "print(greeting(\"well this is a weird sentence\"))"
   ]
  },
  {
   "cell_type": "markdown",
   "metadata": {},
   "source": [
    "The code above defines a function `greeting`, which takes a single argument.\n",
    "Within the function, we can refer to this argument as the variable `name`.\n",
    "Whatever string the function gets as its argument, it will combine it with the strings `\"Nice to meet you, \"` and `\"!\"`.\n",
    "The result of that concatenation is returned as the output of the function.\n",
    "\n",
    "The general format for defining a function is as follows:\n",
    "\n",
    "```def name_of_function(argument1, argument2, ..., last_argument):\n",
    "        # some Python code of your choice\n",
    "        return output_of_the_function\n",
    "```\n",
    "\n",
    "Here is a slightly more complex example."
   ]
  },
  {
   "cell_type": "code",
   "execution_count": null,
   "metadata": {
    "collapsed": false
   },
   "outputs": [],
   "source": [
    "def conditional_greeting(user_name, chatbot_name):\n",
    "    if user_name == chatbot_name:\n",
    "        return \"Hey, my name is also \" + user_name + \"!\"\n",
    "    else:\n",
    "        return \"Nice to meet you, \" + user_name + \"! My name is \" + chatbot_name + \".\"\n",
    "    \n",
    "print(conditional_greeting(\"Mary\", \"Mary\"))\n",
    "print(conditional_greeting(\"John\", \"Mary\"))"
   ]
  },
  {
   "cell_type": "markdown",
   "metadata": {},
   "source": [
    "Custom functions are like a more powerful version of variables.\n",
    "Whereas variables store certain values, functions store specific pieces of code.\n",
    "So we can use functions to assign names to certain computations and then call them later on with that name.\n",
    "In fact, we can even call a function from within another function."
   ]
  },
  {
   "cell_type": "code",
   "execution_count": null,
   "metadata": {
    "collapsed": false
   },
   "outputs": [],
   "source": [
    "def same_name(name):\n",
    "    return \"Hey, my name is also \" + name + \"!\"\n",
    "\n",
    "def different_name(name1, name2):\n",
    "    return \"Nice to meet you, \" + name1 + \"! My name is \" + name2 + \".\"\n",
    "\n",
    "def conditional_greeting(user_name, chatbot_name):\n",
    "    if user_name == chatbot_name:\n",
    "        return same_name(user_name)\n",
    "    else:\n",
    "        return different_name(user_name, chatbot_name)\n",
    "    \n",
    "print(conditional_greeting(\"Mary\", \"Mary\"))\n",
    "print(conditional_greeting(\"John\", \"Mary\"))"
   ]
  },
  {
   "cell_type": "markdown",
   "metadata": {},
   "source": [
    "Here's what happens when we call `conditional_greeting(\"Mary\", \"Mary\")`.\n",
    "We run the code for the function, which starts with `if user_name == chatbot_name`, which in our case reduces to `if \"Mary\" == \"Mary\"`.\n",
    "Since this condition is satisfied, we move on to the code in the scope of this if statement: `return same_name(user_name)`.\n",
    "This tells us that the value returned by `conditional_greeting(\"Mary\", \"Mary\")` is whatever is returned by `same_name(\"Mary\")`.\n",
    "So now we have to compute the output of `same_name(\"Mary\")`.\n",
    "But this is simple: the output is `\"Hey, my name is also \" + \"Mary\" + \"!\"`, which is the same as `\"Hey, my name is also Mary!\"`.\n",
    "And this is therefore the output of `conditional_greeting(\"Mary\", \"Mary\")`."
   ]
  },
  {
   "cell_type": "markdown",
   "metadata": {},
   "source": [
    "**Exercise.**\n",
    "Explain how the output of `conditional_greeting(\"John\", \"Mary\")` is computed in a step-by-step fashion."
   ]
  },
  {
   "cell_type": "markdown",
   "metadata": {},
   "source": [
    "*put your explanation here*"
   ]
  },
  {
   "cell_type": "markdown",
   "metadata": {},
   "source": [
    "And this is all you need to know to get going with functions.\n",
    "There's some additional bells and whistles that are convenient once in a while, for instance specifying default values for arguments.\n",
    "We will introduce those later down the road if they should happen to suit our needs.\n",
    "For now, let's get back to our chatbot."
   ]
  },
  {
   "cell_type": "markdown",
   "metadata": {},
   "source": [
    "### Factorizing the chatbot code with functions\n",
    "\n",
    "For the sake of reference, the full chatbot code is shown belong.\n",
    "This is quite a bit longer than anything we have written so far, so take your time to fully absorb the code.\n",
    "Make sure you fully understand each line and the overal structure of the code."
   ]
  },
  {
   "cell_type": "code",
   "execution_count": null,
   "metadata": {
    "collapsed": true
   },
   "outputs": [],
   "source": [
    "# a simple chatbot that gives random replies\n",
    "\n",
    "# we need the random module\n",
    "import random\n",
    "\n",
    "# define some random greetings\n",
    "greetings = [\"Hi!\",\n",
    "             \"Hello!\",\n",
    "             \"Greetings!\",\n",
    "             \"How do you do?\",\n",
    "             \"How's it going?\"]\n",
    "\n",
    "# define some random answers\n",
    "answers = [\"Very interesting.\",\n",
    "           \"I do not understand.\",\n",
    "           \"Can you tell me more about this?\"]\n",
    "\n",
    "# pick a random greeting\n",
    "print(random.choice(greetings))\n",
    "\n",
    "# tell the user how to quit\n",
    "print(\"I am a very chatty chatbot.\")\n",
    "print(\"If you want me to stop talking to you, just say stop.\")\n",
    "print(\"Alright, your turn!\")\n",
    "\n",
    "# now we also need the re module\n",
    "import re\n",
    "\n",
    "# get the first user reply\n",
    "reply = input()\n",
    "\n",
    "# we start our infinite talking loop,\n",
    "# as long as the reply does not match the search pattern\n",
    "while not re.search(r\"(?i)^[^\\w]*stop[^\\w]*$\", reply):\n",
    "    # does the reply start with \"can you\" or \"do you \"?\n",
    "    # then we give a pretty sophisticated reply now\n",
    "    if re.search(r\"(?i)^(can|do) you \", reply):\n",
    "        # define some possible starts for dynamically generated replies\n",
    "        starts = [\"You don't believe that I can\",\n",
    "                  \"Do you want me to be able to\"]\n",
    "        # from reply of the form \"can/do you [sentence] [end of sentence] [other stuff]\" produce \"[sentence]?\"\n",
    "        reply = re.sub(r\"(?i)^(can|do) you ([^\\.\\?!]*).*\", r\"\\2?\", reply)\n",
    "        # combine reply with a randomly chosen start\n",
    "        bot_reply = random.choice(starts) + \" \" + reply\n",
    "        # print either a precanned response or the bot_reply\n",
    "        print(random.choice([\"Let's not talk about me.\",\n",
    "                             bot_reply]))\n",
    "    # if not, we have other constructions\n",
    "    else:\n",
    "        # does the reply start with \"can I \" or \"may I \"?\n",
    "        if re.search(r\"(?i)^(can|may) I \", reply):\n",
    "            # again we define some possible starts for dynamically generated replies\n",
    "            starts = [\"Why do you want to\",\n",
    "                      \"Why are you asking for permission to\"]\n",
    "            # from reply of the form \"can/may I [sentence] [end of sentence] [other stuff]\" produce \"[sentence]\"\n",
    "            reply = re.sub(r\"(?i)^(can|may) I ([^\\.\\?!]*).*\", r\"\\2?\", reply)\n",
    "            # combine reply with a randomly chosen start\n",
    "            bot_reply = random.choice(starts) + \" \" + reply\n",
    "            print(random.choice([\"Of course!\", \"Certainly.\", \"No.\",\n",
    "                                 bot_reply]))\n",
    "        # we didn't match anything in the input, just give a random reply\n",
    "        else:\n",
    "            print(random.choice(answers))\n",
    "    reply = input()"
   ]
  },
  {
   "cell_type": "markdown",
   "metadata": {},
   "source": [
    "We will now make this code more readable by defining two functions, one for the *can you* case, the other one for the *can I* case.\n",
    "Let us look at each function in isolation first."
   ]
  },
  {
   "cell_type": "code",
   "execution_count": null,
   "metadata": {
    "collapsed": true
   },
   "outputs": [],
   "source": [
    "def can_you_reply(reply):\n",
    "    # define some possible starts for dynamically generated replies\n",
    "    starts = [\"You don't believe that I can\",\n",
    "              \"Do you want me to be able to\"]\n",
    "    # from reply of the form \"can/do you [sentence] [end of sentence] [other stuff]\" produce \"[sentence]?\"\n",
    "    reply = re.sub(r\"(?i)^(can|do) you ([^\\.\\?!]*).*\", r\"\\2?\", reply)\n",
    "    # combine reply with a randomly chosen start\n",
    "    bot_reply = random.choice(starts) + \" \" + reply\n",
    "    # print either a precanned response or the bot_reply\n",
    "    return random.choice([\"Let's not talk about me.\",\n",
    "                          bot_reply])\n",
    "\n",
    "def can_I_reply(reply):\n",
    "    # define some possible starts for dynamically generated replies\n",
    "    starts = [\"Why do you want to\",\n",
    "              \"Why are you asking for permission to\"]\n",
    "    # from reply of the form \"can/may I [sentence] [end of sentence] [other stuff]\" produce \"[sentence]\"\n",
    "    reply = re.sub(r\"(?i)^(can|may) I ([^\\.\\?!]*).*\", r\"\\2?\", reply)\n",
    "    # combine reply with a randomly chosen start\n",
    "    bot_reply = random.choice(starts) + \" \" + reply\n",
    "    return random.choice([\"Of course!\", \"Certainly.\", \"No.\",\n",
    "                          bot_reply])"
   ]
  },
  {
   "cell_type": "markdown",
   "metadata": {},
   "source": [
    "As you can see, those functions are no different from the code we had above for the distinct cases.\n",
    "So we haven't really enhanced our program in any way.\n",
    "But now we can write the code in a way that is slightly easier to read."
   ]
  },
  {
   "cell_type": "code",
   "execution_count": null,
   "metadata": {
    "collapsed": true
   },
   "outputs": [],
   "source": [
    "# a simple chatbot that gives random replies\n",
    "\n",
    "# we need the random module and the re module\n",
    "import random\n",
    "import re\n",
    "\n",
    "\n",
    "# define some random greetings\n",
    "greetings = [\"Hi!\",\n",
    "             \"Hello!\",\n",
    "             \"Greetings!\",\n",
    "             \"How do you do?\",\n",
    "             \"How's it going?\"]\n",
    "\n",
    "# define some random answers\n",
    "answers = [\"Very interesting.\",\n",
    "           \"I do not understand.\",\n",
    "           \"Can you tell me more about this?\"]\n",
    "\n",
    "# define some custom functions\n",
    "def can_you_reply(reply):\n",
    "    # define some possible starts for dynamically generated replies\n",
    "    starts = [\"You don't believe that I can\",\n",
    "              \"Do you want me to be able to\"]\n",
    "    # from reply of the form \"can/do you [sentence] [end of sentence] [other stuff]\" produce \"[sentence]?\"\n",
    "    reply = re.sub(r\"(?i)^(can|do) you ([^\\.\\?!]*).*\", r\"\\2?\", reply)\n",
    "    # combine reply with a randomly chosen start\n",
    "    bot_reply = random.choice(starts) + \" \" + reply\n",
    "    # print either a precanned response or the bot_reply\n",
    "    return random.choice([\"Let's not talk about me.\",\n",
    "                          bot_reply])\n",
    "\n",
    "def can_I_reply(reply):\n",
    "    # define some possible starts for dynamically generated replies\n",
    "    starts = [\"Why do you want to\",\n",
    "              \"Why are you asking for permission to\"]\n",
    "    # from reply of the form \"can/may I [sentence] [end of sentence] [other stuff]\" produce \"[sentence]\"\n",
    "    reply = re.sub(r\"(?i)^(can|may) I ([^\\.\\?!]*).*\", r\"\\2?\", reply)\n",
    "    # combine reply with a randomly chosen start\n",
    "    bot_reply = random.choice(starts) + \" \" + reply\n",
    "    return random.choice([\"Of course!\", \"Certainly.\", \"No.\",\n",
    "                          bot_reply])\n",
    "\n",
    "###################################\n",
    "# the chatbot starts talking here #\n",
    "###################################\n",
    "\n",
    "# pick a random greeting\n",
    "print(random.choice(greetings))\n",
    "\n",
    "# tell the user how to quit\n",
    "print(\"I am a very chatty chatbot.\")\n",
    "print(\"If you want me to stop talking to you, just say stop.\")\n",
    "print(\"Alright, your turn!\")\n",
    "\n",
    "\n",
    "# get the first user reply\n",
    "reply = input()\n",
    "\n",
    "# we start our infinite talking loop,\n",
    "# as long as the reply does not match the search pattern\n",
    "while not re.search(r\"(?i)^[^\\w]*stop[^\\w]*$\", reply):\n",
    "    # does the reply start with \"can you\" or \"do you \"?\n",
    "    # then we give a pretty sophisticated reply now\n",
    "    if re.search(r\"(?i)^(can|do) you \", reply):\n",
    "        print(can_you_reply(reply))\n",
    "    # if not, we have other constructions\n",
    "    else:\n",
    "        # does the reply start with \"can I \" or \"may I \"?\n",
    "        if re.search(r\"(?i)^(can|may) I \", reply):\n",
    "            print(can_I_reply(reply))\n",
    "        # we didn't match anything in the input, just give a random reply\n",
    "        else:\n",
    "            print(random.choice(answers))\n",
    "    reply = input()"
   ]
  },
  {
   "cell_type": "markdown",
   "metadata": {},
   "source": [
    "This code is much nicer because it is now easy to see how the chatbot moves through the distinct cases based on certain matches.\n",
    "But we can still tighten it up a bit because the two functions `can_you_reply` and `can_I_reply` share a lot of code.\n",
    "This means that we can break them up into subfunctions, too."
   ]
  },
  {
   "cell_type": "code",
   "execution_count": null,
   "metadata": {
    "collapsed": true
   },
   "outputs": [],
   "source": [
    "# define some custom functions\n",
    "def produce_reply(starts, reply):\n",
    "    # only keep part of reply until first punctuation symbol\n",
    "    reply = re.sub(r\"(?i)^([^\\.\\?!]*).*\", r\"\\1?\", reply)\n",
    "    bot_reply = random.choice(starts) + \" \" + reply\n",
    "    return bot_reply\n",
    "    \n",
    "def can_you_reply(reply):\n",
    "    # define some possible starts for dynamically generated replies\n",
    "    starts = [\"You don't believe that I can\",\n",
    "              \"Do you want me to be able to\"]\n",
    "    # delete sentence-initial \"can|do you \"\n",
    "    reply = re.sub(r\"(?i)^(can|do) you \", r\"\", reply)\n",
    "    # print either a precanned response or a dynamic reply\n",
    "    return random.choice([\"Let's not talk about me.\",\n",
    "                          produce_reply(starts, reply)])\n",
    "\n",
    "def can_I_reply(reply):\n",
    "    # define some possible starts for dynamically generated replies\n",
    "    starts = [\"Why do you want to\",\n",
    "              \"Why are you asking for permission to\"]\n",
    "    # delete sentence-initial \"can|do I \"\n",
    "    reply = re.sub(r\"(?i)^(can|may) I \", r\"\", reply)\n",
    "    # print either a precanned response or a dynamic reply\n",
    "    return random.choice([\"Of course!\", \"Certainly.\", \"No.\",\n",
    "                          produce_reply(starts, reply)])"
   ]
  },
  {
   "cell_type": "markdown",
   "metadata": {},
   "source": [
    "Here we define a general purpose function `produce_reply` that takes two arguments, a list of strings for possible starts and a single string, called `reply` here.\n",
    "It throws away everything from `reply` except the part that occurs before the first sentence-ending punctuation symbol.\n",
    "Then it combines a randomly chosen start with the remainder of `reply`.\n",
    "The functions `can_you_reply` and `can_I_reply` is now reduced to defining a list `starts` of possible starts and deleting the initial *can|do you* or *can|do I* from `reply`.\n",
    "At the end, they randomly choose between precanned responses or the output of `produce_reply(starts, reply)`.\n",
    "\n",
    "Here is what the full chatbot code looks like now.\n",
    "Notice that we did not change anything below the line `the chatbot starts talking here`.\n",
    "This is one of the great advantages of functions: we can hammer out a general structure for where certain steps in a program take place, and then we can define and modify the respective function for each step somewhere else without changing the overall structure of the program."
   ]
  },
  {
   "cell_type": "code",
   "execution_count": null,
   "metadata": {
    "collapsed": true
   },
   "outputs": [],
   "source": [
    "# a simple chatbot that gives random replies\n",
    "\n",
    "# we need the random module and the re module\n",
    "import random\n",
    "import re\n",
    "\n",
    "\n",
    "# define some random greetings\n",
    "greetings = [\"Hi!\",\n",
    "             \"Hello!\",\n",
    "             \"Greetings!\",\n",
    "             \"How do you do?\",\n",
    "             \"How's it going?\"]\n",
    "\n",
    "# define some random answers\n",
    "answers = [\"Very interesting.\",\n",
    "           \"I do not understand.\",\n",
    "           \"Can you tell me more about this?\"]\n",
    "\n",
    "# define some custom functions\n",
    "def produce_reply(starts, reply):\n",
    "    # only keep part of reply until first punctuation symbol\n",
    "    reply = re.sub(r\"(?i)^([^\\.\\?!]*).*\", r\"\\1?\", reply)\n",
    "    bot_reply = random.choice(starts) + \" \" + reply\n",
    "    return bot_reply\n",
    "    \n",
    "def can_you_reply(reply):\n",
    "    # define some possible starts for dynamically generated replies\n",
    "    starts = [\"You don't believe that I can\",\n",
    "              \"Do you want me to be able to\"]\n",
    "    # delete sentence-initial \"can|do you \"\n",
    "    reply = re.sub(r\"(?i)^(can|do) you \", r\"\", reply)\n",
    "    # print either a precanned response or a dynamic reply\n",
    "    return random.choice([\"Let's not talk about me.\",\n",
    "                          produce_reply(starts, reply)])\n",
    "\n",
    "def can_I_reply(reply):\n",
    "    # define some possible starts for dynamically generated replies\n",
    "    starts = [\"Why do you want to\",\n",
    "              \"Why are you asking for permission to\"]\n",
    "    # delete sentence-initial \"can|do I \"\n",
    "    reply = re.sub(r\"(?i)^(can|may) I \", r\"\", reply)\n",
    "    # print either a precanned response or a dynamic reply\n",
    "    return random.choice([\"Of course!\", \"Certainly.\", \"No.\",\n",
    "                          produce_reply(starts, reply)])\n",
    "\n",
    "###################################\n",
    "# the chatbot starts talking here #\n",
    "###################################\n",
    "\n",
    "# pick a random greeting\n",
    "print(random.choice(greetings))\n",
    "\n",
    "# tell the user how to quit\n",
    "print(\"I am a very chatty chatbot.\")\n",
    "print(\"If you want me to stop talking to you, just say stop.\")\n",
    "print(\"Alright, your turn!\")\n",
    "\n",
    "\n",
    "# get the first user reply\n",
    "reply = input()\n",
    "\n",
    "# we start our infinite talking loop,\n",
    "# as long as the reply does not match the search pattern\n",
    "while not re.search(r\"(?i)^[^\\w]*stop[^\\w]*$\", reply):\n",
    "    # does the reply start with \"can you\" or \"do you \"?\n",
    "    # then we give a pretty sophisticated reply now\n",
    "    if re.search(r\"(?i)^(can|do) you \", reply):\n",
    "        print(can_you_reply(reply))\n",
    "    # if not, we have other constructions\n",
    "    else:\n",
    "        # does the reply start with \"can I \" or \"may I \"?\n",
    "        if re.search(r\"(?i)^(can|may) I \", reply):\n",
    "            print(can_I_reply(reply))\n",
    "        # we didn't match anything in the input, just give a random reply\n",
    "        else:\n",
    "            print(random.choice(answers))\n",
    "    reply = input()"
   ]
  },
  {
   "cell_type": "markdown",
   "metadata": {},
   "source": [
    "**Exercise.**\n",
    "The current code satisfies almost all of our initial design goals, except that pronouns do not get replaced.\n",
    "The code fragment below gives you a starting point for how to do this.\n",
    "Complete the definition of the function `substitute_pronouns` that carries out these substitutions with regular expressions.\n",
    "It is alright to recycle code from an earlier unit, the important thing is that at the end `substitute_pronouns` correctly exchanges first and second person pronouns.\n",
    "Once you have the function working the way you want, call it at the appropriate place in `produce_reply`."
   ]
  },
  {
   "cell_type": "code",
   "execution_count": null,
   "metadata": {
    "collapsed": true
   },
   "outputs": [],
   "source": [
    "# define some custom functions\n",
    "def substitute_pronouns(string):\n",
    "    # some magic happens here\n",
    "    return string\n",
    "\n",
    "# careful: don't forget to call the function somewhere below\n",
    "\n",
    "def produce_reply(starts, reply):\n",
    "    # only keep part of reply until first punctuation symbol\n",
    "    reply = re.sub(r\"(?i)^([^\\.\\?!]*).*\", r\"\\1?\", reply)\n",
    "    bot_reply = random.choice(starts) + \" \" + reply\n",
    "    return bot_reply\n",
    "    \n",
    "def can_you_reply(reply):\n",
    "    # define some possible starts for dynamically generated replies\n",
    "    starts = [\"You don't believe that I can\",\n",
    "              \"Do you want me to be able to\"]\n",
    "    # delete sentence-initial \"can|do you \"\n",
    "    reply = re.sub(r\"(?i)^(can|do) you \", r\"\", reply)\n",
    "    # print either a precanned response or a dynamic reply\n",
    "    return random.choice([\"Let's not talk about me.\",\n",
    "                          produce_reply(starts, reply)])\n",
    "\n",
    "def can_I_reply(reply):\n",
    "    # define some possible starts for dynamically generated replies\n",
    "    starts = [\"Why do you want to\",\n",
    "              \"Why are you asking for permission to\"]\n",
    "    # delete sentence-initial \"can|do I \"\n",
    "    reply = re.sub(r\"(?i)^(can|may) I \", r\"\", reply)\n",
    "    # print either a precanned response or a dynamic reply\n",
    "    return random.choice([\"Of course!\", \"Certainly.\", \"No.\",\n",
    "                          produce_reply(starts, reply)])"
   ]
  },
  {
   "cell_type": "markdown",
   "metadata": {},
   "source": [
    "That's it for this unit.\n",
    "Congrats for making it this far!\n",
    "The code in this unit is more challenging because this is the first time we move beyond toy examples and instead look at something that is structured more like an actual programming.\n",
    "When you come across Python code in the wild, you will probably be intimidated at first because there may be several dozen lines of code, if not hundreds or thousands, and they combine all the tricks we know: variables, if, while, complex conditionals, commands from Python modules, and custom functions.\n",
    "The important thing is not to get discouraged.\n",
    "Sure, figuring out a program with 100 lines takes more concentration than one with 10 lines, but it isn't impossible.\n",
    "Just like running 3 miles is harder than running 1 mile, neither one is particularly challenging once you've been working out for a few weeks.\n",
    "The code above may look intimidating, but with a few more weeks of practice you'll breeze right through it.\n",
    "Just keep at it!"
   ]
  }
 ],
 "metadata": {
  "kernelspec": {
   "display_name": "Python 3",
   "language": "python",
   "name": "python3"
  },
  "language_info": {
   "codemirror_mode": {
    "name": "ipython",
    "version": 3
   },
   "file_extension": ".py",
   "mimetype": "text/x-python",
   "name": "python",
   "nbconvert_exporter": "python",
   "pygments_lexer": "ipython3",
   "version": "3.5.3"
  }
 },
 "nbformat": 4,
 "nbformat_minor": 2
}
