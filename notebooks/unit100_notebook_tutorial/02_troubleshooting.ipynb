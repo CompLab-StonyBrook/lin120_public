{
 "cells": [
  {
   "cell_type": "markdown",
   "metadata": {
    "collapsed": true
   },
   "source": [
    "# Troubleshooting Python notebooks\n",
    "\n",
    "As always when technology is involved, things are bound to break sooner or later.\n",
    "The good news is that nothing you do in Python notebooks can damage your device.\n",
    "You're running the notebooks on a Cocalc server in the cloud, and they know how to protect their equipment from user errors. ;)\n",
    "\n",
    "For now, this is good enough, and you can skip the rest of this notebook.\n",
    "But as you dive deeper into the notebooks for this class, some issue is bound to come up.\n",
    "In this case, come back here and check whether you're dealing with one of the problems below.\n",
    "If not, go to the Python support forum and start a new thread explaining your issue.\n",
    "Make sure to read the instructions for how to report bugs and technical issues."
   ]
  },
  {
   "cell_type": "markdown",
   "metadata": {},
   "source": [
    "## Problem 1: Cells run out of order\n",
    "\n",
    "### Description\n",
    "\n",
    "As you know by now, each code cell holds a piece of Python code that you can execute.\n",
    "Sometimes, the code in a cell may require that you have already run a previous code cell.\n",
    "If that isn't the case, the code will fail.\n",
    "\n",
    "Here is a simple example.\n",
    "Below are two code cells.\n",
    "The second one requires that a piece of code in the first cell has already been run.\n",
    "For clarity, let's call the first cell the *dependent* and the second cell the *provider*.\n",
    "Before you go on any further, you should convince yourself that the dependent does indeed require the provider: skip the provider and immediately run the dependent, i.e. the second cell.\n",
    "You will get a nasty looking error message."
   ]
  },
  {
   "cell_type": "code",
   "execution_count": null,
   "metadata": {
    "collapsed": true
   },
   "outputs": [],
   "source": [
    "needed = \"The code in cell 1 is mandatory.\""
   ]
  },
  {
   "cell_type": "code",
   "execution_count": null,
   "metadata": {
    "collapsed": false
   },
   "outputs": [],
   "source": [
    "print(\"This cell will fail to execture.\")\n",
    "print(needed)"
   ]
  },
  {
   "cell_type": "markdown",
   "metadata": {},
   "source": [
    "Actually this error message isn't too bad, and as a beginning programmer you will see many error messages throughout the semester.\n",
    "No biggy, that's how it goes for everybody.\n",
    "The important thing is that you don't let errors discourage you and instead focus on how to deal with them.\n",
    "\n",
    "In the case at hand, the problem is that we skipped the supplier (= the first cell), which is required by the dependent (= the second cell).\n",
    "Note how to left of the dependent cell it now says `In [1]`.\n",
    "This means that it was the first code cell to be run in this notebook.\n",
    "Now run the provider.\n",
    "You won't see any output, but you can tell that it has been run because the `In [ ]` next to it has changed to `In [2]`. The 2 indicates that we ran this cell right after whatever cell was `In [1]` (the dependent, in this case).\n",
    "\n",
    "Now rerun the dependent.\n",
    "Not only do you get an output, `In [1]` also changes to `In [3]` to indicate that we ran the dependent after `In [2]`, which is the provider.\n",
    "If you the dependent again, the number increases to `In [4]`.\n",
    "Run it again, and it tunrs into `In [5]`, then `In [6]`, and so on.\n",
    "The number always indicates the most recent step at which a code cell was executed.\n",
    "\n",
    "### Solution\n",
    "\n",
    "Always make sure that you run the cells in a notebook in order.\n",
    "For many cells it will not matter because they are completely self-contained.\n",
    "But as our examples get bigger and more complex, it will be helpful to split code over multiple cells, and then you cannot run the fifth cell without having already run cells 1, 2, 3, and 4.\n",
    "Pay attention to the value of `x` for `In [x]`.\n",
    "Unless you are certain that a cell is self-contained, it should never have a lower value for `x` than any of the cells below it.\n",
    "\n",
    "### A useful trick\n",
    "\n",
    "Select the cell you want to run.\n",
    "Then move your mouse cursor to the toolbar and click `Cell`.\n",
    "Select `Run all above` to run all the cells above the one you selected.\n",
    "This way, you can be sure that any code the cell may depend on has been executed.\n",
    "Then run the selected cell in the usual fashion."
   ]
  },
  {
   "cell_type": "markdown",
   "metadata": {},
   "source": [
    "## Problem 2: Frozen notebook\n",
    "\n",
    "### Description\n",
    "\n",
    "Sometimes, a notebook may seem unresponsive.\n",
    "While you can still scroll around and read text, no code cells can be executed anymore.\n",
    "No matter how often you click the button, nothing is produced.\n",
    "Whenever this happens, it's most likely because another code cell is still running.\n",
    "This could be because the code being run is very demanding and may take a long time to compute.\n",
    "But since the tasks in this course are very simple, it's much more likely that something caused Python to get stuck while running the cell."
   ]
  },
  {
   "cell_type": "markdown",
   "metadata": {},
   "source": [
    "### Solution\n",
    "\n",
    "#### Step 1: Look for `In [*]`\n",
    "\n",
    "In Problem 1 I said that whenever a code cell is run, the `In [ ]` field gets some number, e.g. `In [17]`.\n",
    "But this is not quite correct.\n",
    "Actually, `In [ ]` first changes to `In [*]` to indicate that the cell is running.\n",
    "Once the code cell has been fully executed, `In [*]` changes to `In [17]` or whatever the appropriate number is.\n",
    "Most of the time the code runs so fast that you cannot see `In [*]`.\n",
    "But here is an example that takes a bit longer to run, and you can clearly see the `*`."
   ]
  },
  {
   "cell_type": "code",
   "execution_count": null,
   "metadata": {
    "collapsed": false
   },
   "outputs": [],
   "source": [
    "import time\n",
    "\n",
    "wait = 10\n",
    "\n",
    "print(\"Code has started.\")\n",
    "print(\"Waiting for\", wait, \"seconds before termination.\")\n",
    "time.sleep(wait)\n",
    "print(\"Code execution finished.\")"
   ]
  },
  {
   "cell_type": "markdown",
   "metadata": {},
   "source": [
    "Don't worry about how the code above works.\n",
    "Just run it, and pay attention to how the `In` field changes during and after execution.\n",
    "You might want to run the cell multiple times while changing the value of `wait`.\n",
    "\n",
    "If your notebook seems to be stuck, and upon closer inspection you find a cell with `In [*]`, then you're dealing with a stuck cell and it's time to move on to Step 2."
   ]
  },
  {
   "cell_type": "markdown",
   "metadata": {},
   "source": [
    "#### Step 2: Wait or restart\n",
    "\n",
    "Just because a code cell has `In [*]` next to it does not mean that it is stuck.\n",
    "The code may just take a long time to execute.\n",
    "But if you've waited a while and nothing changes, it's probably stuck.\n",
    "In this case, you have to restart the notebook's *kernel*.\n",
    "That's basically the machine that executes the Python code.\n",
    "\n",
    "To restart the kernel, move your mouse cursor to the toolbar, select `Kernel`, and then `Restart & Clear Output`.\n",
    "You'll get a pop-up with a big red button.\n",
    "Click the button.\n",
    "\n",
    "This resets the kernel to the very beginning before you ran any of the code cells in the notebook.\n",
    "As far as the kernel is concerned, it has never seen this notebook before.\n",
    "You may now run any cell you want.\n",
    "But if some cell depends on earlier cells, those must be run again - remember, it's now as if you're opening the notebook for the first time.\n",
    "\n",
    "If you want to try this for yourself, run the cell below.\n",
    "The code in it will never finish, so you really have to restart the kernel to get things working again.\n",
    "While the cell is running, you cannot run any of the other cells in this notebook.\n",
    "You can tell the kernel to run them, and it will add a `*` next to them, but it will never start working on them because it's wants to finish the code below first (which is impossible because the code cannot be finished)."
   ]
  },
  {
   "cell_type": "code",
   "execution_count": null,
   "metadata": {
    "collapsed": true
   },
   "outputs": [],
   "source": [
    "while True:\n",
    "    pass"
   ]
  }
 ],
 "metadata": {
  "kernelspec": {
   "display_name": "Python 3",
   "language": "python",
   "name": "python3"
  },
  "language_info": {
   "codemirror_mode": {
    "name": "ipython",
    "version": 3
   },
   "file_extension": ".py",
   "mimetype": "text/x-python",
   "name": "python",
   "nbconvert_exporter": "python",
   "pygments_lexer": "ipython3",
   "version": "3.5.3"
  }
 },
 "nbformat": 4,
 "nbformat_minor": 2
}
