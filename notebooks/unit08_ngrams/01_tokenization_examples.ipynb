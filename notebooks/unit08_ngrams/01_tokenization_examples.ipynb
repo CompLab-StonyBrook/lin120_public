{
 "cells": [
  {
   "cell_type": "markdown",
   "metadata": {},
   "source": [
    "# Tokenization: Simple uses\n",
    "\n",
    "Tokenizatin is incredibly useful.\n",
    "That's because it adds **structure** to sentences.\n",
    "A string is a linear sequence of characters, but as far as Python is concerned all the characters have equal status.\n",
    "In a string like `\"Sue ran.\"`, Python does not treat `S`, `u`, `e` as parts of a unit *Sue*.\n",
    "For Python, there is no noteworthy difference between *Sue* and *e r* or *an.*, they are all parts of the string.\n",
    "Tokenization imposes a list structure on the sentence, and we can use this list structure to do all kinds of nifty things.\n",
    "Once you are used to treating sentences as lists of words rather than strings, you won't want to go back."
   ]
  },
  {
   "cell_type": "markdown",
   "metadata": {},
   "source": [
    "## Counting words\n",
    "\n",
    "One very simple application for tokenization is word counts.\n",
    "Suppose you want the user to write a brief personal statement of no more than 250 words.\n",
    "If you already have a tokenizer, this is easy-peasy."
   ]
  },
  {
   "cell_type": "code",
   "execution_count": null,
   "metadata": {
    "collapsed": false
   },
   "outputs": [],
   "source": [
    "import re\n",
    "\n",
    "def tokenize(the_string):\n",
    "    \"\"\"Convert string to list of words.\"\"\"\n",
    "    return re.findall(r\"\\w+\", the_string)\n",
    "\n",
    "\n",
    "def get_description(n):\n",
    "    \"\"\"Get description of at most n words.\"\"\"\n",
    "    # request description\n",
    "    print(\"Welcome to Social Media Platform #729!\")\n",
    "    print(\"Please enter a description of yourself (at most\", n, \"words)\")\n",
    "    description = input()\n",
    "    \n",
    "    # check that word limit is obeyed\n",
    "    while len(tokenize(description)) > n:\n",
    "        print(\"Your description is too long, please enter a shorter one.\")\n",
    "        description = input()\n",
    "        \n",
    "    # acknowledge receipt of description\n",
    "    print(\"Thank you, your description will be added to your profile.\")\n",
    "    \n",
    "\n",
    "# ask the user for a 10 word description\n",
    "get_description(10)"
   ]
  },
  {
   "cell_type": "markdown",
   "metadata": {},
   "source": [
    "This piece of code contains two things we haven't encountered before, so let's go through them one by one.\n",
    "\n",
    "1. Each custom function starts with a **docstring**, e.g. \"\"\"Convert string to list of words.\"\"\".\n",
    "   A docstring is like a comment that describes what the function does.\n",
    "   Docstrings don't do anything on their own, they're just a summary for whoever is reading the code.\n",
    "   But there are specialized tools that can use docstrings to automatically create documentation for the code (which isn't possible with normal comments).\n",
    "   It is good practice to give each function its own docstring.\n",
    "   \n",
    "1. The `len` function return the **len**gth of a string or list.\n",
    "   For a list, it's length is the number of items it contains.\n",
    "   The length of a string is its number of characters."
   ]
  },
  {
   "cell_type": "code",
   "execution_count": null,
   "metadata": {
    "collapsed": false
   },
   "outputs": [],
   "source": [
    "len(\"abcde\")"
   ]
  },
  {
   "cell_type": "code",
   "execution_count": null,
   "metadata": {
    "collapsed": false
   },
   "outputs": [],
   "source": [
    "len([\"a\", \"b\", \"c\", \"d\", \"e\"])"
   ]
  },
  {
   "cell_type": "code",
   "execution_count": null,
   "metadata": {
    "collapsed": false
   },
   "outputs": [],
   "source": [
    "import re\n",
    "\n",
    "def tokenize(the_string):\n",
    "    \"\"\"Convert string to list of words.\"\"\"\n",
    "    return re.findall(r\"\\w+\", the_string)\n",
    "\n",
    "example_string = \"James Madison had 0 sons and fought the war of 1812.\"\n",
    "example_tokenized = tokenize(example_string)\n",
    "\n",
    "print(\"The string is:\")\n",
    "print(example_string)\n",
    "print(\"It has\", len(example_string), \"characters (including spaces and punctuation).\")\n",
    "print(\"It contains\", len(example_tokenized), \"words.\")"
   ]
  },
  {
   "cell_type": "markdown",
   "metadata": {},
   "source": [
    "So the code above works as follows:\n",
    "First, it gets the description from the user as a string.\n",
    "It then starts a `while` loop.\n",
    "Whether the loop is executed depends on the length of the list that results from tokenizing the description.\n",
    "The loop is entered whenever the length of this list exceeds *n*:\n",
    "\n",
    "```python\n",
    "len(tokenize(description)) > 10\n",
    "```\n",
    "\n",
    "That's the same as saying that the list contains more than *n* elements.\n",
    "But since each element of the list is a word of the description provided by the user, this means that the loop is entered whenever the description contains more than *n* words.\n",
    "In this case, the user is asked to provide a shorter description.\n",
    "The `while` loop keeps running until the user complies with the request for a suitably short description.\n",
    "\n",
    "This example may strike you as somewhat artificial, but there will be several occasions where we need to measure how many words are in a string.\n",
    "The procedure is always the same:\n",
    "\n",
    "1. Tokenize the string.\n",
    "1. Measure the length of the list with `len`."
   ]
  },
  {
   "cell_type": "markdown",
   "metadata": {},
   "source": [
    "**Exercise.**\n",
    "Write a custom function `wordchar_count` that takes a string as its only argument and returns the number of word characters in it.\n",
    "\n",
    "*Hints:*\n",
    "If you're stuck with the exercise, highlight the text below to read some tips.\n",
    "\n",
    "<span style=\"color:#000000;background-color:#000000;\">\n",
    "Use re.findall to match all word characters, then measure the length of this list.\n",
    "</span>"
   ]
  },
  {
   "cell_type": "code",
   "execution_count": null,
   "metadata": {
    "collapsed": true
   },
   "outputs": [],
   "source": [
    "# put your code here"
   ]
  },
  {
   "cell_type": "markdown",
   "metadata": {},
   "source": [
    "**Exercise.**\n",
    "Write a function `shorter` that compares two strings and returns the one of the two that contains fewer characters (including white space, punctuation, special symbols, and so on).\n",
    "If the strings have the same length, randomly choose one of the two to return."
   ]
  },
  {
   "cell_type": "code",
   "execution_count": null,
   "metadata": {
    "collapsed": true
   },
   "outputs": [],
   "source": [
    "# put your code here"
   ]
  },
  {
   "cell_type": "markdown",
   "metadata": {},
   "source": [
    "## Picking out specific words\n",
    "\n",
    "There is another big advantage to representing sentences as lists of words rather than flat strings.\n",
    "Items in a list can be explicitly referenced by their **index**.\n",
    "This makes it possible to check which word occurs in a specific position in a sentence."
   ]
  },
  {
   "cell_type": "code",
   "execution_count": null,
   "metadata": {
    "collapsed": false
   },
   "outputs": [],
   "source": [
    "sentence = [\"John\", \"likes\", \"Sue\"]\n",
    "\n",
    "# use the notation list[n] to get the element that is preceded by n elements\n",
    "print(sentence[0])\n",
    "print(sentence[1])\n",
    "print(sentence[2])"
   ]
  },
  {
   "cell_type": "markdown",
   "metadata": {},
   "source": [
    "Python allows us to use index notation with lists to pick out the specific element at this index.\n",
    "The format is very simple:\n",
    "\n",
    "```python\n",
    "some_list[some_index]\n",
    "```\n",
    "\n",
    "While indices are a fairly simple concept, Python beginners are usually tripped up by the fact that indices start at 0.\n",
    "So if you want the first word in a sentence, you have to look at `sentence[0]`, not `sentence[1]`.\n",
    "This can be confusing, but there's actually a good reason for that.\n",
    "You can think of a list like `[\"John\", \"likes\", \"Sue\"]` as a line where indices and elements are interspersed:\n",
    "\n",
    "```\n",
    "0 John 1 likes 2 Sue 3\n",
    "```\n",
    "\n",
    "The piece of code below also reveals this hidden pattern."
   ]
  },
  {
   "cell_type": "code",
   "execution_count": null,
   "metadata": {
    "collapsed": false
   },
   "outputs": [],
   "source": [
    "list(enumerate([\"John\", \"likes\", \"Sue\"]))"
   ]
  },
  {
   "cell_type": "markdown",
   "metadata": {},
   "source": [
    "So elements of a list don't occupy specific indices but rather occur between two indices.\n",
    "When we want a specific list element, we have to give Python the index to the left of the element."
   ]
  },
  {
   "cell_type": "markdown",
   "metadata": {},
   "source": [
    "**Exercise.**\n",
    "Experimentation time.\n",
    "Use the code cell below to figure out the answers to the following questions:\n",
    "\n",
    "1. What happens if we use an index that's not a number, e.g. `some_list['John']` or `some_list[$]`?\n",
    "1. What happens if the index does not exist, e.g. `[\"John\", \"likes\", \"Sue\"][3]`?\n",
    "1. Can indices be used with strings?"
   ]
  },
  {
   "cell_type": "code",
   "execution_count": null,
   "metadata": {
    "collapsed": true
   },
   "outputs": [],
   "source": [
    "# experiment here"
   ]
  },
  {
   "cell_type": "markdown",
   "metadata": {},
   "source": [
    "*put your answers here*"
   ]
  },
  {
   "cell_type": "markdown",
   "metadata": {},
   "source": [
    "Once an item has been retrieved from a list by its index, it behaves as usual."
   ]
  },
  {
   "cell_type": "code",
   "execution_count": null,
   "metadata": {
    "collapsed": false
   },
   "outputs": [],
   "source": [
    "# John is John\n",
    "[\"John\", \"likes\", \"Sue\"][0] == \"John\""
   ]
  },
  {
   "cell_type": "code",
   "execution_count": null,
   "metadata": {
    "collapsed": false
   },
   "outputs": [],
   "source": [
    "# Sue is not John\n",
    "[\"John\", \"likes\", \"Sue\"][2] == \"John\""
   ]
  },
  {
   "cell_type": "markdown",
   "metadata": {},
   "source": [
    "**Exercise.**\n",
    "There is a prescriptive rule that sentences should not start with *because*.\n",
    "Write a custom function `because_check` that takes as its input a string and prints a warning if the first word is *because* or *Because*."
   ]
  },
  {
   "cell_type": "code",
   "execution_count": null,
   "metadata": {
    "collapsed": true
   },
   "outputs": [],
   "source": [
    "# put your code here"
   ]
  },
  {
   "cell_type": "markdown",
   "metadata": {},
   "source": [
    "One curious feature of Python is that we can also use negative indices for lists."
   ]
  },
  {
   "cell_type": "code",
   "execution_count": null,
   "metadata": {
    "collapsed": true
   },
   "outputs": [],
   "source": [
    "sentence = [\"John\", \"likes\", \"Sue\"]\n",
    "\n",
    "# use the notation list[-n] to get the n-th element from the back\n",
    "print(sentence[-1])\n",
    "print(sentence[-2])\n",
    "print(sentence[-3])"
   ]
  },
  {
   "cell_type": "markdown",
   "metadata": {},
   "source": [
    "Note that negative indices start with 1, not 0.\n",
    "That seems awfully inconsistent: positive indices start with 0 (\"the first element is preceded by 0 elements\"), but negative indices start with 1 (\"the last element is the first element from the right\").\n",
    "This makes more sense if you again think of lists as sequences of indices and list elements.\n",
    "Remember, the list `[\"John\", \"likes\", \"Sue\"]` actually looks more likes this under the hood:\n",
    "\n",
    "```\n",
    "0 John 1 likes 2 Sue 3\n",
    "```\n",
    "\n",
    "Negative indices are exactly the same, except that we number from right to left:\n",
    "\n",
    "```\n",
    "-3 John -2 likes -1 Sue -0\n",
    "```\n",
    "\n",
    "Now keep in mind that we always refer to an element by the index to its left.\n",
    "This is why the last element is at the index -1 rather than -0.\n",
    "\n",
    "I know, I know, that's still fairly confusing.\n",
    "We will mostly be using positive indices for the rest of this course.\n",
    "But when we do use negative indices and you can't figure out what's going on, refer back to this passage.\n",
    "It all gets a lot clearer once you've seen it in action a few times."
   ]
  },
  {
   "cell_type": "markdown",
   "metadata": {},
   "source": [
    "**Exercise.**\n",
    "Say whether following statement is true or false:\n",
    "\n",
    "- For every list `some_list`, it holds that `some_list[-1] == some_list[len(some_list) - 1]`.\n",
    "\n",
    "Justify your answer."
   ]
  },
  {
   "cell_type": "markdown",
   "metadata": {},
   "source": [
    "*put your answer here*"
   ]
  },
  {
   "cell_type": "markdown",
   "metadata": {},
   "source": [
    "**Exercise.**\n",
    "Write a custom function `sandwich_sentence` that checks whether a word starts with the same word that it ends with.\n",
    "If so, it returns `True`, otherwise it returns `False`.\n",
    "For example:\n",
    "\n",
    "```python\n",
    "sandwich_sentence(\"John's name has always been John\")\n",
    "True\n",
    "\n",
    "sandwich_sentence(\"John's true name is unpronouncable in your human tongue\")\n",
    "False\n",
    "```"
   ]
  },
  {
   "cell_type": "code",
   "execution_count": null,
   "metadata": {
    "collapsed": true
   },
   "outputs": [],
   "source": [
    "# put your solution here"
   ]
  },
  {
   "cell_type": "markdown",
   "metadata": {},
   "source": [
    "## What's the point?\n",
    "\n",
    "The examples in this notebook all very simplistic.\n",
    "Considered in isolation, they do not seem to have much to do with language technology.\n",
    "But that's because they are such basic techniques.\n",
    "True, they do not amount to much on their own.\n",
    "But they are essential for more interesting applications, such as stylistic analysis.\n",
    "More on that in the next notebook."
   ]
  },
  {
   "cell_type": "markdown",
   "metadata": {},
   "source": [
    "## Bullet point summary\n",
    "\n",
    "- Tokenization adds structure to sentences, which opens up many new techniques.\n",
    "- Functions should have docstrings at the very top to explain their basic functionality:\n",
    "    \n",
    "```python\n",
    "def some_function(first_argument, ..., last_argument):\n",
    "    \"\"\"This is a docstring.\"\"\"\n",
    "    some code\n",
    "```\n",
    "\n",
    "- `len` measures the length of a list (number of elements) or a string (number of characters)\n",
    "- Each item in a list has an index.\n",
    "  Use the index to retrieve the item from the list.\n",
    "  \n",
    "  - `some_list[0]`: first element from the left (0 elements to its left)\n",
    "  - `some_list[7]`: 8th element from the left (7 elements to its left)\n",
    "  - `some_list[-1]`: last element (1st from the right)\n",
    "  - `some_list[-7]`: 7th element from the right"
   ]
  }
 ],
 "metadata": {
  "kernelspec": {
   "display_name": "Python 3",
   "language": "python",
   "name": "python3"
  },
  "language_info": {
   "codemirror_mode": {
    "name": "ipython",
    "version": 3
   },
   "file_extension": ".py",
   "mimetype": "text/x-python",
   "name": "python",
   "nbconvert_exporter": "python",
   "pygments_lexer": "ipython3",
   "version": "3.5.3"
  }
 },
 "nbformat": 4,
 "nbformat_minor": 2
}
