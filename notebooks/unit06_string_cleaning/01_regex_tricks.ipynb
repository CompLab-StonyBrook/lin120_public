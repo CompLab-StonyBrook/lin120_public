{
 "cells": [
  {
   "cell_type": "markdown",
   "metadata": {},
   "source": [
    "# Additional regex tricks\n",
    "\n",
    "A regex master can pull of some amazing tricks, but even a novice can wield them to great effect when working with natural language data.\n",
    "This unit introduces some essential tricks that will be with us for the rest of the semester.\n",
    "They are:\n",
    "\n",
    "1. `+` for matching sequences of 1 or more characters, and\n",
    "1. `\\w` for matching **w**ord characters."
   ]
  },
  {
   "cell_type": "markdown",
   "metadata": {},
   "source": [
    "## Using `+` for \"one or more\"\n",
    "\n",
    "One exercise in the previous unit had you replace punctuation symbols, e.g. exclamation points (`!`) by dots (`.`).\n",
    "So `\"Hi!!! You know me!! I'm a chatbot!\"` would become `\"Hi... You know me.. I'm a chatbot.\"`.\n",
    "But what if your instructions were instead to replace each sequence of exclamation points by a single dot so that `\"Hi!!! You know me!! I'm a chatbot!\"` is converted to `\"Hi. You know me. I'm a chatbot.\"`.\n",
    "How could you do this?\n",
    "Your first instinct might be something like this:"
   ]
  },
  {
   "cell_type": "code",
   "execution_count": null,
   "metadata": {
    "collapsed": false
   },
   "outputs": [],
   "source": [
    "import re\n",
    "\n",
    "line = \"Hi!!! You know me!! I'm a chatbot!\"\n",
    "\n",
    "# replace one !\n",
    "line = re.sub(r\"!\", r\".\", line)\n",
    "# replace two !\n",
    "line = re.sub(r\"!!\", r\".\", line)\n",
    "# replace three !\n",
    "line = re.sub(r\"!!!\", r\".\", line)\n",
    "\n",
    "print(line)"
   ]
  },
  {
   "cell_type": "markdown",
   "metadata": {},
   "source": [
    "As you can see, this does not work at all.\n",
    "The first line replaces every `!` by a dot, and after that none of the other lines of code get to apply because there are no `!` left.\n",
    "We can add `print` statements to make this clearer"
   ]
  },
  {
   "cell_type": "code",
   "execution_count": null,
   "metadata": {
    "collapsed": false
   },
   "outputs": [],
   "source": [
    "import re\n",
    "\n",
    "line = \"Hi!!! You know me!! I'm a chatbot!\"\n",
    "\n",
    "# replace one !\n",
    "line = re.sub(r\"!\", r\".\", line)\n",
    "# show result, with tabulator before line\n",
    "print(\"Replaced ! by .:\\t\", line)\n",
    "# replace two !\n",
    "line = re.sub(r\"!!\", r\".\", line)\n",
    "print(\"Replaced !! by .:\\t\", line)\n",
    "# replace three !\n",
    "line = re.sub(r\"!!!\", r\".\", line)\n",
    "print(\"Replaced !!! by .:\\t\", line)"
   ]
  },
  {
   "cell_type": "markdown",
   "metadata": {},
   "source": [
    "Clearly the first substitution has already destroyed all configurations where the others could have applied.\n",
    "\n",
    "By the way, if you're wondering about the `\\t` in the code above, this is how Python represents a tabulator (the big key right above CapsLock on the left side of your keyboard).\n",
    "Whenever you want a tabulator in a Python string, you have to use `\\t`.\n",
    "The tab key on your keyboard won't work.\n",
    "\n",
    "But let's return to our problem.\n",
    "The code above does not work because the substitutions are carried out in the wrong order.\n",
    "The most specific substition should come first, not last.\n",
    "If a substition *X* matches all configurations where substitution *Y* should apply, *Y* must be carried out before *X*.\n",
    "So in our case, we have to reverse the order of substitutions."
   ]
  },
  {
   "cell_type": "code",
   "execution_count": null,
   "metadata": {
    "collapsed": false
   },
   "outputs": [],
   "source": [
    "import re\n",
    "\n",
    "line = \"Hi!!! You know me!! I'm a chatbot!\"\n",
    "\n",
    "# replace three !\n",
    "line = re.sub(r\"!!!\", r\".\", line)\n",
    "print(\"Replaced !!! by .:\\t\", line)\n",
    "# replace two !\n",
    "line = re.sub(r\"!!\", r\".\", line)\n",
    "print(\"Replaced !! by .:\\t\", line)\n",
    "# replace one !\n",
    "line = re.sub(r\"!\", r\".\", line)\n",
    "print(\"Replaced ! by .:\\t\", line)"
   ]
  },
  {
   "cell_type": "markdown",
   "metadata": {},
   "source": [
    "So now we have a solution that works for our example string.\n",
    "But this is not a good solution.\n",
    "It will fail for any string that contains more than three exclamation points in a row."
   ]
  },
  {
   "cell_type": "code",
   "execution_count": null,
   "metadata": {
    "collapsed": false
   },
   "outputs": [],
   "source": [
    "import re\n",
    "\n",
    "line = \"Hi!!! You know me!! I'm a chatbot! I really love shouting!!!!\"\n",
    "\n",
    "# replace three !\n",
    "line = re.sub(r\"!!!\", r\".\", line)\n",
    "print(\"Replaced !!! by .:\\t\", line)\n",
    "# replace two !\n",
    "line = re.sub(r\"!!\", r\".\", line)\n",
    "print(\"Replaced !! by .:\\t\", line)\n",
    "# replace one !\n",
    "line = re.sub(r\"!\", r\".\", line)\n",
    "print(\"Replaced ! by .:\\t\", line)"
   ]
  },
  {
   "cell_type": "markdown",
   "metadata": {},
   "source": [
    "As you can see, `!!!!` is rewritten as `.!` by the first substitution because if you have 4 `!` in a row, then you obviously have 3 `!` in a row, and the first substitution replaces 3 `!` by a single dot.\n",
    "The last substitution then turns all remaining `!` into `.`, so `.!` becomes `..`.\n",
    "As we wanted `!!!!` to become `.` rather than `..`, this code does not work."
   ]
  },
  {
   "cell_type": "markdown",
   "metadata": {},
   "source": [
    "**Exercise.**\n",
    "You might think that replacing `..` by `.` would fix the problem, but that won't work either.\n",
    "Expand the code below so that it carries out this substitution, then change the example string so that the output will still contain `..` somewhere."
   ]
  },
  {
   "cell_type": "code",
   "execution_count": null,
   "metadata": {
    "collapsed": false
   },
   "outputs": [],
   "source": [
    "import re\n",
    "\n",
    "line = \"Hi!!! You know me!! I'm a chatbot! I really love shouting!!!!\"\n",
    "\n",
    "# replace three !\n",
    "line = re.sub(r\"!!!\", r\".\", line)\n",
    "print(\"Replaced !!! by .:\\t\", line)\n",
    "# replace two !\n",
    "line = re.sub(r\"!!\", r\".\", line)\n",
    "print(\"Replaced !! by .:\\t\", line)\n",
    "# replace one !\n",
    "line = re.sub(r\"!\", r\".\", line)\n",
    "print(\"Replaced ! by .:\\t\", line)"
   ]
  },
  {
   "cell_type": "markdown",
   "metadata": {},
   "source": [
    "If you like a challenge, you might now sit down and try to figure out some complex way of chaining substitutions in such a way that you can never get two dots in a row.\n",
    "That might be entertaining, but it is far from necessary.\n",
    "In fact, whatever solution you would come up with would be clunky and inelegant.\n",
    "Regular expressions provide a much nicer solution."
   ]
  },
  {
   "cell_type": "code",
   "execution_count": null,
   "metadata": {
    "collapsed": false
   },
   "outputs": [],
   "source": [
    "import re\n",
    "\n",
    "line = \"Hi!!! You know me!! I'm a chatbot! I really love shouting!!!!\"\n",
    "\n",
    "# replace three !\n",
    "line = re.sub(r\"!+\", r\".\", line)\n",
    "print(\"Replaced !-sequences by .:\\t\", line)"
   ]
  },
  {
   "cell_type": "markdown",
   "metadata": {},
   "source": [
    "There you have it, all in one line, short and sweet.\n",
    "The `+` character means \"1 or more instances of whatever is right before me\":\n",
    "\n",
    "- `!+` means \"1 ore more instances of `!`\",\n",
    "- `A+` means \"1 or more instances of `A`\",\n",
    "- `[Aa]+` means \"1 or more instances of characters that match `A` or `a`\"."
   ]
  },
  {
   "cell_type": "markdown",
   "metadata": {},
   "source": [
    "**Exercise.**\n",
    "Look at the two code cells below.\n",
    "The first one replaces `!+` and `\\?+` by `.`, whereas the second one applies this substitution to `[!\\?]+`.\n",
    "The two do not produce the same output for `\"What!? Why did you do this??? You're insane!!!\".\n",
    "Before you run the code, think about what the difference will be.\n",
    "Then verify your answer by running the cells.\n",
    "Provide a brief explanation why we get this difference."
   ]
  },
  {
   "cell_type": "code",
   "execution_count": null,
   "metadata": {
    "collapsed": false
   },
   "outputs": [],
   "source": [
    "import re\n",
    "\n",
    "line = \"What!? Why did you do this??? You're insane!!!\"\n",
    "\n",
    "line = re.sub(r\"!+\", \".\", line)\n",
    "line = re.sub(r\"\\?+\", \".\", line)\n",
    "\n",
    "print(line)"
   ]
  },
  {
   "cell_type": "code",
   "execution_count": null,
   "metadata": {
    "collapsed": false
   },
   "outputs": [],
   "source": [
    "import re\n",
    "\n",
    "line = \"What!? Why did you do this??? You're insane!!!\"\n",
    "\n",
    "line = re.sub(r\"[!\\?]+\", \".\", line)\n",
    "\n",
    "print(line)"
   ]
  },
  {
   "cell_type": "markdown",
   "metadata": {},
   "source": [
    "*put your explanation here*"
   ]
  },
  {
   "cell_type": "markdown",
   "metadata": {},
   "source": [
    "*Hints:*\n",
    "If you're stuck with the exercise, highlight the text below to read some tips.\n",
    "\n",
    "<span style=\"color:#000000;background-color:#000000;\">\n",
    "Insert print statements to see how the line changes after each substitution.\n",
    "</span>"
   ]
  },
  {
   "cell_type": "markdown",
   "metadata": {},
   "source": [
    "**Exercise.**\n",
    "By default, `+` only pays attention to whatever character or character range is immediately to its left.\n",
    "So `Aa+` means \"an A followed by 1 or more instances of a\".\n",
    "But what might `(Aa)+` mean?\n",
    "Or `(!!!)+` compared to `!!!+`, for instance?\n",
    "Use the code cell below for some experiments of your own, then add your answer underneath."
   ]
  },
  {
   "cell_type": "code",
   "execution_count": null,
   "metadata": {
    "collapsed": true
   },
   "outputs": [],
   "source": [
    "# experiment here"
   ]
  },
  {
   "cell_type": "markdown",
   "metadata": {},
   "source": [
    "*put your answer here*"
   ]
  },
  {
   "cell_type": "markdown",
   "metadata": {},
   "source": [
    "In sum, whenever you want to replace 1 or more instances of *X*, use *X* followed by `+`.\n",
    "Here *X* may be a single character, a range of characters inside `[` and `]`, or a sequence inside `(` and `)`."
   ]
  },
  {
   "cell_type": "markdown",
   "metadata": {},
   "source": [
    "## Matching specific character classes\n",
    "\n",
    "You already know that you can use `[` and `]` to define a range of possible matches.\n",
    "So `[abD!\\?]` will match every character that is either `a`, `b`, `D`, `!`, or `?`."
   ]
  },
  {
   "cell_type": "code",
   "execution_count": null,
   "metadata": {
    "collapsed": false
   },
   "outputs": [],
   "source": [
    "import re\n",
    "\n",
    "line = \"This string contains D? Sure, but not T!!\"\n",
    "\n",
    "line = re.sub(r\"[abD!\\?]\", r\"X\", line)\n",
    "\n",
    "print(line)"
   ]
  },
  {
   "cell_type": "markdown",
   "metadata": {},
   "source": [
    "But what if you want to match every word character, for instance to play a word game?"
   ]
  },
  {
   "cell_type": "code",
   "execution_count": null,
   "metadata": {
    "collapsed": false
   },
   "outputs": [],
   "source": [
    "import re\n",
    "import random\n",
    "\n",
    "print(\"Hey, let's play a word game!\")\n",
    "print(\"You have to guess the secret animal.\")\n",
    "\n",
    "secret = random.choice([\"cat\", \"dog\", \"duck\", \"elephant\"])\n",
    "\n",
    "# we split the print-command across two lines to keep it readable\n",
    "print(\"Here's what it looks like:\",\n",
    "      # this masks out all lowercase characters\n",
    "      re.sub(r\"[abcdefghijklmnopqrstuvwxyz]\", r\"*\", secret))\n",
    "\n",
    "print(\"What is it?\")\n",
    "answer = input()\n",
    "\n",
    "while answer not in [secret, \"STOP\"]:\n",
    "    print(\"Sorry, wrong guess!\")\n",
    "    print(\"Try again or type STOP to quit playing.\")\n",
    "    answer = input()\n",
    "\n",
    "if answer == \"STOP\":\n",
    "    print(\"Okay. The correct answer would have been\", secret)\n",
    "else:\n",
    "    print(\"That's it! Good job!!!\")"
   ]
  },
  {
   "cell_type": "markdown",
   "metadata": {},
   "source": [
    "In the code above, we use\n",
    "\n",
    "```python\n",
    "re.sub(r\"[abcdefghijklmnopqrstuvwxyz]\", r\"*\", secret)\n",
    "```\n",
    "\n",
    "to replace the secret word by an equally long string of starts.\n",
    "This is awfully long, though, and, it gets even worse if we play this game with, say, famous rock and metal bands whose name is a single word."
   ]
  },
  {
   "cell_type": "code",
   "execution_count": null,
   "metadata": {
    "collapsed": false
   },
   "outputs": [],
   "source": [
    "import re\n",
    "import random\n",
    "\n",
    "print(\"Hey, let's play a word game!\")\n",
    "print(\"You have to guess which rock/metal band I'm thinking of.\")\n",
    "\n",
    "secret = random.choice([\"Megadeth\", \"Metallica\", \"Nirvana\", \"Opeth\",\n",
    "                        \"Rammstein\", \"Sepultura\", \"Tool\"])\n",
    "\n",
    "# we split the print-command across two lines to keep it readable\n",
    "print(\"Here's what it looks like:\",\n",
    "      # this masks out all lowercase characters\n",
    "      re.sub(r\"[ABCDEFGHIJKLMNOPQRSTUVWXZYabcdefghijklmnopqrstuvwxyz]\", r\"*\", secret))\n",
    "\n",
    "print(\"What is it?\")\n",
    "answer = input()\n",
    "\n",
    "while answer not in [secret, \"STOP\"]:\n",
    "    print(\"Sorry, wrong guess!\")\n",
    "    print(\"Try again or type STOP to quit playing.\")\n",
    "    answer = input()\n",
    "\n",
    "if answer == \"STOP\":\n",
    "    print(\"Okay. The correct answer would have been\", secret)\n",
    "else:\n",
    "    print(\"That's it! Good job!!!\")"
   ]
  },
  {
   "cell_type": "markdown",
   "metadata": {},
   "source": [
    "Now that is one superlong `re.sub` to replace letters by stars.\n",
    "And you know what?\n",
    "It doesn't even work reliably!\n",
    "Run the code below, where the list of bands has been changed a bit."
   ]
  },
  {
   "cell_type": "code",
   "execution_count": null,
   "metadata": {
    "collapsed": false
   },
   "outputs": [],
   "source": [
    "import re\n",
    "import random\n",
    "\n",
    "print(\"Hey, let's play a word game!\")\n",
    "print(\"You have to guess which rock/metal band I'm thinking of.\")\n",
    "\n",
    "secret = random.choice([\"Deströyer 666\", \"Motörhead\", \"Mötley Crüe\", \"Schweißer\"])\n",
    "\n",
    "# we split the print-command across two lines to keep it readable\n",
    "print(\"Here's what it looks like:\",\n",
    "      # this masks out all letters, but not spaces or punctuation\n",
    "      re.sub(r\"[ABCDEFGHIJKLMNOPQRSTUVWXZYabcdefghijklmnopqrstuvwxyz]\", r\"*\", secret))\n",
    "\n",
    "print(\"What is it?\")\n",
    "answer = input()\n",
    "\n",
    "while answer not in [secret, \"STOP\"]:\n",
    "    print(\"Sorry, wrong guess!\")\n",
    "    print(\"Try again or type STOP to quit playing.\")\n",
    "    answer = input()\n",
    "\n",
    "if answer == \"STOP\":\n",
    "    print(\"Okay. The correct answer would have been\", secret)\n",
    "else:\n",
    "    print(\"That's it! Good job!!!\")"
   ]
  },
  {
   "cell_type": "markdown",
   "metadata": {},
   "source": [
    "Our substitution only works for letters of the Latin alphabet.\n",
    "But many Metal bandnames love their Metal umlauts, for instance the *ö* in *Motörhead*.\n",
    "And others have non-English names and thus may use letters that aren't part of the Latin alaphabet.\n",
    "In the code above, that's the case for the German metal band *Schweißer* (German for *welder*).\n",
    "So this clearly isn't a good way of handling things: it takes forever to type, and it doesn't even work well.\n",
    "\n",
    "Again regular expressions provide a simple solution.\n",
    "You can use `\\w` to match any **w**ord character.\n",
    "That is to say, `\\w` matches all the letters of the Latin alphabet used in English, but also special letters from other languages like ö, ü, ß, æ, ð, þ, and much more.\n",
    "It also matches numbers, but not punctuation (`.`, `!`, `?`, `;`, `-`, `'`) or white space (spaces and tabs)."
   ]
  },
  {
   "cell_type": "code",
   "execution_count": null,
   "metadata": {
    "collapsed": false
   },
   "outputs": [],
   "source": [
    "import re\n",
    "import random\n",
    "\n",
    "print(\"Hey, let's play a word game!\")\n",
    "print(\"You have to guess which rock/metal band I'm thinking of.\")\n",
    "\n",
    "secret = random.choice([\"Deströyer 666!!!\", \"Motörhead\", \"Mötley Crüe\", \"Schweißer\"])\n",
    "\n",
    "# we split the print-command across two lines to keep it readable\n",
    "print(\"Here's what it looks like:\",\n",
    "      # this masks out all letters, but not spaces or punctuation\n",
    "      re.sub(r\"\\w\", r\"*\", secret))\n",
    "\n",
    "print(\"What is it?\")\n",
    "answer = input()\n",
    "\n",
    "while answer not in [secret, \"STOP\"]:\n",
    "    print(\"Sorry, wrong guess!\")\n",
    "    print(\"Try again or type STOP to quit playing.\")\n",
    "    answer = input()\n",
    "\n",
    "if answer == \"STOP\":\n",
    "    print(\"Okay. The correct answer would have been\", secret)\n",
    "else:\n",
    "    print(\"That's it! Good job!!!\")"
   ]
  },
  {
   "cell_type": "markdown",
   "metadata": {},
   "source": [
    "**Exercise.**\n",
    "Instead of `re.sub(r\"\\w\", r\"*\", secret)` we could have used `re.sub(r\".\", r\"*\", secret)` to replace every character by a star.\n",
    "This would have made a difference for two of the band names in the code above.\n",
    "Why is it more appropriate to use `\\w` rather than `.` in this program?"
   ]
  },
  {
   "cell_type": "markdown",
   "metadata": {},
   "source": [
    "*put your answer here*"
   ]
  },
  {
   "cell_type": "markdown",
   "metadata": {},
   "source": [
    "*Hints:*\n",
    "If you're stuck with the exercise, highlight the text below to read some tips.\n",
    "\n",
    "<span style=\"color:#000000;background-color:#000000;\">\n",
    "The relevant band names are \"Deströyer 666\" and \"Mötley Crüe\".\n",
    "</span>"
   ]
  },
  {
   "cell_type": "markdown",
   "metadata": {},
   "source": [
    "The combination of `\\w` and `+` is particularly powerful.\n",
    "The regex `\\w+` matches sequences of word characters.\n",
    "In other words, words!\n",
    "At this point it might not be clear why this is powerful.\n",
    "After all, we only use regexes with `re.sub` to rewrite parts of a string.\n",
    "There's no tangible benefit to rewriting every word by, say, `*` or `word`."
   ]
  },
  {
   "cell_type": "markdown",
   "metadata": {},
   "source": [
    "**Exercise.**\n",
    "While there is no tangible benefit to it, it's still a good exercise.\n",
    "Write a piece of code that asks the user for a random input and rewrites every word by *word*.\n",
    "Then test your code on the following sentences:\n",
    "\n",
    "- True that!\n",
    "- John's car got totaled.\n",
    "- 1337 speak is used by h4x0rz.\n",
    "\n",
    "Reflect on what your program considers a word.\n",
    "Does it match your own intuition?\n",
    "There is no wrong or right here, just think about it."
   ]
  },
  {
   "cell_type": "code",
   "execution_count": null,
   "metadata": {
    "collapsed": true
   },
   "outputs": [],
   "source": [
    "# put your code here"
   ]
  },
  {
   "cell_type": "markdown",
   "metadata": {},
   "source": [
    "In future units, we will encounter other uses for regular expressions, in particular with the function `re.findall`.\n",
    "This is still a few weeks away, but nonetheless you should spend some time right now on mastering the use of `+` and `\\w`.\n",
    "It will makes things much easier later on."
   ]
  },
  {
   "cell_type": "markdown",
   "metadata": {},
   "source": [
    "## Bullet point summary\n",
    "\n",
    "- `+` means *1 or more of*\n",
    "    - `a+` = 1 or more `a`s; matched by `aaaa`, but not `AAAA`\n",
    "    - `A+` = 1 or more `A`s; matched by `AAAA`, but not `aaaa`\n",
    "    - `[Aa]+` = 1 or more characters matching `A` or `a`; matched by `aaaa`, `AAAA`, `AAaA`, `aAAa`, and many more\n",
    "    - `(Aa)+` = 1 or more instances of `Aa` in a row; matched by `AaAa`, but not `aaaa`, `AAAA`, or `aAAA`\n",
    "- `\\w` matches **w**ord characters\n",
    "    - all letters of the Latin alphabet (A, B, C, ..., X, Y, Z, a, b, c, ..., x, y, z)\n",
    "    - letters of other alphabets (æ, ö, ð, ü, ß, ç, and many more)\n",
    "    - digits (0, 1, 2, ..., 9)\n",
    "- `\\w` does **not** match\n",
    "    - white space (space, tab)\n",
    "    - special characters (!, ?, &, %, #, -, ;,)"
   ]
  }
 ],
 "metadata": {
  "kernelspec": {
   "display_name": "Python 3",
   "language": "python",
   "name": "python3"
  },
  "language_info": {
   "codemirror_mode": {
    "name": "ipython",
    "version": 3
   },
   "file_extension": ".py",
   "mimetype": "text/x-python",
   "name": "python",
   "nbconvert_exporter": "python",
   "pygments_lexer": "ipython3",
   "version": "3.5.3"
  }
 },
 "nbformat": 4,
 "nbformat_minor": 2
}
