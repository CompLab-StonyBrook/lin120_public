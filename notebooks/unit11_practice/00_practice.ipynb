{
 "cells": [
  {
   "cell_type": "markdown",
   "metadata": {},
   "source": [
    "# Practice Session"
   ]
  },
  {
   "cell_type": "markdown",
   "metadata": {},
   "source": [
    "Exercise 1: Write a function that tokenizes a string. Ask for the user's input and use that function to tokenize the string."
   ]
  },
  {
   "cell_type": "code",
   "execution_count": 3,
   "metadata": {},
   "outputs": [
    {
     "name": "stdout",
     "output_type": "stream",
     "text": [
      "What would you like to tokenize?hi my name\n"
     ]
    },
    {
     "data": {
      "text/plain": [
       "['hi', 'my', 'name']"
      ]
     },
     "execution_count": 3,
     "metadata": {},
     "output_type": "execute_result"
    }
   ],
   "source": [
    "import re\n",
    "\n",
    "u_input = input(\"What would you like to tokenize?\")\n",
    "\n",
    "def tokenize(user_input):\n",
    "    \"\"\"Convert string to list of words\"\"\"\n",
    "    return re.findall(r\"\\w+\", u_input)\n",
    "\n",
    "tokenize(u_input)"
   ]
  },
  {
   "cell_type": "markdown",
   "metadata": {},
   "source": [
    "Exercise 2: Write a function that iterates through integers 0 to 20. For all multiples of 2, print out the number and the word \"linguistics\". Otherwise, print just the number."
   ]
  },
  {
   "cell_type": "code",
   "execution_count": 5,
   "metadata": {},
   "outputs": [
    {
     "name": "stdout",
     "output_type": "stream",
     "text": [
      "0  linguistics\n",
      "1\n",
      "2  linguistics\n",
      "3\n",
      "4  linguistics\n",
      "5\n",
      "6  linguistics\n",
      "7\n",
      "8  linguistics\n",
      "9\n",
      "10  linguistics\n",
      "11\n",
      "12  linguistics\n",
      "13\n",
      "14  linguistics\n",
      "15\n",
      "16  linguistics\n",
      "17\n",
      "18  linguistics\n",
      "19\n"
     ]
    }
   ],
   "source": [
    "for number in range(20):\n",
    "    if number % 2 == 0:\n",
    "        print(number, \" linguistics\")\n",
    "    else:\n",
    "        print(number)"
   ]
  },
  {
   "cell_type": "markdown",
   "metadata": {},
   "source": [
    "Exercise 3: Write a program that looks at these three strings: supercalifragilisticexpialidocious, sesquipedalianism, and squirreled. The program should print the length of each string and the average character length of all three strings."
   ]
  },
  {
   "cell_type": "code",
   "execution_count": 8,
   "metadata": {},
   "outputs": [
    {
     "name": "stdout",
     "output_type": "stream",
     "text": [
      "supercalifragilisticexpialidocious : 34\n",
      "sesquipedalianism : 17\n",
      "squirreled : 10\n",
      "The average word length is:  20.333333333333332\n"
     ]
    }
   ],
   "source": [
    "words = [\"supercalifragilisticexpialidocious\", \"sesquipedalianism\", \"squirreled\"]\n",
    "counter = 0\n",
    "for word in words:\n",
    "    counter = counter + len(word)\n",
    "    print(word, \":\", len(word))\n",
    "    \n",
    "print(\"The average word length is: \", counter/3)"
   ]
  },
  {
   "cell_type": "markdown",
   "metadata": {},
   "source": [
    "Exercise 4: Write a function that takes in a list of classes and counts the number of LIN classes. If there are any AMS classes, subtract them from the count.\n",
    "Example of a list of classes: LIN 120, LIN 347, LIN 405, AMS 161, EST 581"
   ]
  },
  {
   "cell_type": "code",
   "execution_count": 10,
   "metadata": {},
   "outputs": [
    {
     "name": "stdout",
     "output_type": "stream",
     "text": [
      "2\n"
     ]
    }
   ],
   "source": [
    "#if they know how to make a string into a list, they can do user input\n",
    "\n",
    "classes = [\"LIN 120\", \"LIN 347\", \"LIN 405\", \"AMS 161\", \"EST 581\"]\n",
    "\n",
    "def hundred_level(classes):\n",
    "    counter = 0\n",
    "    for the_class in classes:\n",
    "        if \"LIN\" in the_class:\n",
    "            counter = counter +1 \n",
    "        elif \"AMS\" in the_class:\n",
    "            counter = counter-1\n",
    "        else:\n",
    "            counter = counter\n",
    "    print(counter)\n",
    "        \n",
    "hundred_level(classes)"
   ]
  },
  {
   "cell_type": "code",
   "execution_count": null,
   "metadata": {},
   "outputs": [],
   "source": []
  },
  {
   "cell_type": "code",
   "execution_count": null,
   "metadata": {},
   "outputs": [],
   "source": []
  }
 ],
 "metadata": {
  "kernelspec": {
   "display_name": "Python 3",
   "language": "python",
   "name": "python3"
  },
  "language_info": {
   "codemirror_mode": {
    "name": "ipython",
    "version": 3
   },
   "file_extension": ".py",
   "mimetype": "text/x-python",
   "name": "python",
   "nbconvert_exporter": "python",
   "pygments_lexer": "ipython3",
   "version": "3.6.5"
  }
 },
 "nbformat": 4,
 "nbformat_minor": 2
}
