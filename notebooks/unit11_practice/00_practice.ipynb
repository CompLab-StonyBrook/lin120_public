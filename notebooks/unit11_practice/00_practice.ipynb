{
 "cells": [
  {
   "cell_type": "markdown",
   "metadata": {},
   "source": [
    "# Practice Session"
   ]
  },
  {
   "cell_type": "markdown",
   "metadata": {},
   "source": [
    "### Section 1"
   ]
  },
  {
   "cell_type": "markdown",
   "metadata": {},
   "source": [
    "Suppose you are creating a chatbot, but you do not want it developing a potty-mouth. Knowing that people can be pretty inventive write with their profanity, you decide to ban all 4 letter words from your data. Write a regular expression that will delete all 4 letter words from a string. For example, `Hello, I want you to know my name is Bill` should become `Hello, I  you to  my  is ` (removing the extra space is optional). Write your regular expression below"
   ]
  },
  {
   "cell_type": "code",
   "execution_count": null,
   "metadata": {},
   "outputs": [],
   "source": [
    "import re \n",
    "\n",
    "regex = r'' # put regular expression here\n",
    "\n",
    "# code for testing your regular expression\n",
    "data = input(\"Enter some words: \")\n",
    "while data.lower() != 'quit':\n",
    "    # fill in the re.sub method with your code\n",
    "    print('Censored data: ', re.sub(  ))\n",
    "    data = input(\"Enter some words: \")"
   ]
  },
  {
   "cell_type": "markdown",
   "metadata": {},
   "source": [
    "Hint: You may have noticed that some of your longer-than-4-letter words are affected by your regular expression. If you only want to find 4 letter words try indicating the end of word somehow. Remember that `\\W` matches everything that `\\w` does not and `\\s` matches whitespace.\n",
    "\n",
    "Hint 2: if things still don't look right, remember that removing a word does not mean you must replace it with `r''`. Try replacing it with a different string."
   ]
  },
  {
   "cell_type": "markdown",
   "metadata": {},
   "source": [
    "### Section 2"
   ]
  },
  {
   "cell_type": "markdown",
   "metadata": {},
   "source": [
    "Write a program that iterates through all of the characters of a string and prints out only those that are vowels. (Do not include y). *Note that you can use `print(something, end=' ')` to avoid printing a lot of lines*"
   ]
  },
  {
   "cell_type": "code",
   "execution_count": 19,
   "metadata": {},
   "outputs": [],
   "source": [
    "# write your code here"
   ]
  },
  {
   "cell_type": "markdown",
   "metadata": {},
   "source": [
    "Now, modify your code so that you have a **function** that takes a string as an argument and iterates through it counting vowels (again do not include y) and returns the number of vowels in the string to the user. Be sure you **return** the value and do not simply print it"
   ]
  },
  {
   "cell_type": "code",
   "execution_count": null,
   "metadata": {},
   "outputs": [],
   "source": [
    "# write your code here"
   ]
  },
  {
   "cell_type": "markdown",
   "metadata": {},
   "source": [
    "### Section 3"
   ]
  },
  {
   "cell_type": "markdown",
   "metadata": {},
   "source": [
    "#### Part 1 \n",
    "Write a function that takes a single word in the form of a string and returns whether it is a *well-formatted token* A well formatted token is one that has no punctuation in it (you can consider !?.,;- to be all the punctuation you have to care about) and is all lowercase letters.\n",
    "\n",
    "For example: `Hello!` is not well formatted, nor is `why?` nor `Hi` \n",
    "but `me`, `you`, `all`, `hello`, `why` are well formatted tokens.\n",
    "\n",
    "The function should return `True` if the string is a well formatted token and `False` if it is not"
   ]
  },
  {
   "cell_type": "code",
   "execution_count": null,
   "metadata": {},
   "outputs": [],
   "source": [
    "def is_well_formatted(token):\n",
    "    '''token is a string that consists of 1 token\n",
    "       return True if the token is well formatted otherwie False'''\n",
    "    # put code here"
   ]
  },
  {
   "cell_type": "markdown",
   "metadata": {},
   "source": [
    "#### Part 2\n",
    "Now write another function that takes a list of strings and determines if all of them are well formatted tokens. You can copy the same code for the function you wrote above and call that function from within your new function, or you can rewrite the code in the new function. \n",
    "\n",
    "For example: `['hello', 'world', 'this', 'is', 'a', 'tokenized', 'string']` is well formatted\n",
    "but `['Hello,', 'world!', 'This', 'is', 'a', 'tokenized', 'String!']` is not\n",
    "\n",
    "The function should return `True` if all the words are well formatted and `False` if they are not"
   ]
  },
  {
   "cell_type": "code",
   "execution_count": null,
   "metadata": {},
   "outputs": [],
   "source": [
    "def all_well_formatted(tokens):\n",
    "    '''Tokens is a list of strings each of which is a single token\n",
    "       return True if ALL tokens are well formatted and false otherwise'''\n",
    "    # put code here"
   ]
  },
  {
   "cell_type": "markdown",
   "metadata": {},
   "source": [
    "#### Part 3\n",
    "There is a function in python called `all()`. `all()` takes a list and returns True if all the elements in the list are the value `True` and `False` if any of the elements in the list are not `True`. Combining `all()` with list comprehensions gives us a really useful way of checking the elements of a list for some condition. For example, given that there exists some function called `divisible_by_2()` that takes a number and returns whether it is divisible by two. If we have a list such as `l = [2,4,6,8,10]` we can see if all the numbers in that list are divisible by 2 using the following statement: `all(divisible_by_2(i) for i in l)`. This will give us `True` because all the elements are in fact divisible by 2. See some more examples below"
   ]
  },
  {
   "cell_type": "code",
   "execution_count": 23,
   "metadata": {},
   "outputs": [],
   "source": [
    "def divisible_by_2(num):\n",
    "    return num % 2 == 0\n",
    "\n",
    "def less_than_10(num):\n",
    "    return num < 10\n",
    "\n",
    "a = [1, 2, 3, 4]\n",
    "b = [2, 4, 6, 8]\n",
    "c = [2]\n",
    "d = [1]\n",
    "e = []\n",
    "f = [1,3,5]\n",
    "g = [1,2,4,6,8,10,12,14,16,18,20]\n",
    "h = [2,4,6,8,10,12,14,16,18,20]\n",
    "\n",
    "# run the code below to see what you get\n",
    "\n",
    "print(\"Is all of a divisible by 2? \", all(divisible_by_2(i) for i in a))\n",
    "print(\"Is all of b divisible by 2? \", all(divisible_by_2(i) for i in b))\n",
    "print(\"Is all of c divisible by 2? \", all(divisible_by_2(i) for i in c))\n",
    "print(\"Is all of d divisible by 2? \", all(divisible_by_2(i) for i in d))\n",
    "print(\"Is all of e divisible by 2? \", all(divisible_by_2(i) for i in e))\n",
    "print(\"Is all of f divisible by 2? \", all(divisible_by_2(i) for i in f))\n",
    "print(\"Is all of g divisible by 2? \", all(divisible_by_2(i) for i in g))\n",
    "print(\"Is all of h divisible by 2? \", all(divisible_by_2(i) for i in h))\n",
    "\n",
    "print(\"Is all of a less than 10? \", all(less_than_10(i) for i in a))\n",
    "print(\"Is all of b less than 10? \", all(less_than_10(i) for i in b))\n",
    "print(\"Is all of c less than 10? \", all(less_than_10(i) for i in c))\n",
    "print(\"Is all of d less than 10? \", all(less_than_10(i) for i in d))\n",
    "print(\"Is all of e less than 10? \", all(less_than_10(i) for i in e))\n",
    "print(\"Is all of f less than 10? \", all(less_than_10(i) for i in f))\n",
    "print(\"Is all of g less than 10? \", all(less_than_10(i) for i in g))\n",
    "print(\"Is all of h less than 10? \", all(less_than_10(i) for i in h))"
   ]
  },
  {
   "cell_type": "markdown",
   "metadata": {},
   "source": [
    "Now that you have an idea of how `all()` works, rewrite your function from part two using `all()`."
   ]
  },
  {
   "cell_type": "code",
   "execution_count": null,
   "metadata": {},
   "outputs": [],
   "source": [
    "def all_well_formatted(tokens):\n",
    "    '''Tokens is a list of strings each of which is a single token\n",
    "       return True if ALL tokens are well formatted and false otherwise'''\n",
    "    # put your code here\n",
    "    # be sure your function still returns True or False"
   ]
  }
 ],
 "metadata": {
  "kernelspec": {
   "display_name": "Python 3",
   "language": "python",
   "name": "python3"
  },
  "language_info": {
   "codemirror_mode": {
    "name": "ipython",
    "version": 3
   },
   "file_extension": ".py",
   "mimetype": "text/x-python",
   "name": "python",
   "nbconvert_exporter": "python",
   "pygments_lexer": "ipython3",
   "version": "3.7.1"
  }
 },
 "nbformat": 4,
 "nbformat_minor": 2
}
