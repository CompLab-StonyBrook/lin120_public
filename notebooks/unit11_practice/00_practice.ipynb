{
 "cells": [
  {
   "cell_type": "markdown",
   "metadata": {},
   "source": [
    "# Practice Session"
   ]
  },
  {
   "cell_type": "markdown",
   "metadata": {},
   "source": [
    "## Unit 6\n",
    "1. Recall one of the classifier programs from previous assignments (either the D&D classifier or the animal classifier). Remember having to write several different if-statements to handle whether the user typed `Yes`, `yes`, `y` or `Y`? Rewrite one of those programs using string.lower to simplify those if statements. Note that this also allows you to accept input like: `YES` `yEs`, and so on.\n",
    "\n",
    "## Unit 7\n",
    "1. Write a function that uses a regular expression to remove punctuation from a string and returns the modified string.\n",
    "2. Write a function that takes a string and returns a tokenized list of words in the string.\n",
    "3. Use the two above functions to write a program which takes a string from the user, removes punctuation, and then tokenizes the string to a list of words. (Note that if this is done in the right order, the string `Dr.Smith` would become one token [`DrSmith`].)\n",
    "4. Bonus: *[Requires type annotations expansion]* Add type annotations to each of the functions you wrote for extra readability.\n",
    "\n",
    "## Unit 8\n",
    "1. Write a program that takes a paragraph of text and tokenizes it into a list of sentences (assume `.`'s only denote the end of a sentence, ignoring things like \"Dr.\" or \"Apt.\"). Write a function that takes the paragraph as an argument and returns the tokenized list.\n",
    "\n",
    "## Unit 9\n",
    "1. Extend the above problem, 8.1, to further tokenize each sentence into a list of words, using a for-loop to iterate over each sentence in the list. Write a function that takes one sentence and returns the tokenized list and call it in your for-loop.\n",
    "2. Write another function for the program in the previous problem which uses a nested for-loop to iterate over each word in each sentence and counts the occurrances of each word (this should be case-insensitive).\n",
    "\n",
    "## Unit 10"
   ]
  }
 ],
 "metadata": {
  "kernelspec": {
   "display_name": "Python 3",
   "language": "python",
   "name": "python3"
  },
  "language_info": {
   "codemirror_mode": {
    "name": "ipython",
    "version": 3
   },
   "file_extension": ".py",
   "mimetype": "text/x-python",
   "name": "python",
   "nbconvert_exporter": "python",
   "pygments_lexer": "ipython3",
   "version": "3.6.7"
  }
 },
 "nbformat": 4,
 "nbformat_minor": 2
}
