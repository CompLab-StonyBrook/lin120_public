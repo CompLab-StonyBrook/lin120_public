{
 "cells": [
  {
   "cell_type": "markdown",
   "metadata": {},
   "source": [
    "# Storing data with lists\n",
    "\n",
    "You now know how to build complex conditionals for more sophisticated `if` statements.\n",
    "But these conditionals can sometimes get very long for what seems like simple cases.\n",
    "This notebook will teach you how these cases can be handled more easily with lists.\n",
    "But first we will talk one more time about `if`-statements."
   ]
  },
  {
   "cell_type": "markdown",
   "metadata": {},
   "source": [
    "## Revisiting the ban on unconditional conditionals\n",
    "\n",
    "Consider once more the (truncated) code for the chatbot Bran."
   ]
  },
  {
   "cell_type": "code",
   "execution_count": null,
   "metadata": {
    "collapsed": true
   },
   "outputs": [],
   "source": [
    "chatbot = \"Bran\"\n",
    "print(\"Hello, I'm\", chatbot, \"the branching chatbot.\")\n",
    "print(\"And who might you be?\")\n",
    "name = input()\n",
    "\n",
    "if name == chatbot:\n",
    "    print(\"Really, your name is also\", chatbot, \"?\")\n",
    "    print(\"Are you pulling my leg?\")\n",
    "    leg_pulling = input()\n",
    "    if leg_pulling == \"Yes\" or leg_pulling == \"Yes.\" or leg_pulling == \"yes\" or leg_pulling == \"yes.\":\n",
    "        print(\"Well, at least you're honest.\")"
   ]
  },
  {
   "cell_type": "markdown",
   "metadata": {},
   "source": [
    "That is one long `if` line for the `leg_pulling` test.\n",
    "And it would get even longer if we wanted to add some other possible answers like *Sure am* and *Definitely*.\n",
    "It would be nice if we could write this more compactly, but as you have learned by now Python doesn't seem to support that."
   ]
  },
  {
   "cell_type": "code",
   "execution_count": null,
   "metadata": {
    "collapsed": false
   },
   "outputs": [],
   "source": [
    "leg_pulling = \"no\"\n",
    "# shortening the if line does not do what you'd expect\n",
    "if leg_pulling == \"Yes\" or \"Yes.\" or \"yes\" or \"yes.\":\n",
    "    print(\"Well, at least you're honest.\")\n",
    "else:\n",
    "    print(\"I still think you're pulling my leg.\")"
   ]
  },
  {
   "cell_type": "markdown",
   "metadata": {},
   "source": [
    "When you run the code above, you will notice that we don't get the intended output.\n",
    "Even though the value of `leg_pulling` is not any of the *yes* variants, Python thinks the test has been passed.\n",
    "What is going on here?\n",
    "The problem is that Python, for reasons we will not go into here, treats every non-empty string as equivalent to `True` whenever it occurs in the position of a Boolean.\n",
    "Only the *empty string* `\"\"` is considered equivalent to `False`."
   ]
  },
  {
   "cell_type": "code",
   "execution_count": null,
   "metadata": {
    "collapsed": false
   },
   "outputs": [],
   "source": [
    "# the following test is always passed\n",
    "if \"Yes\":\n",
    "    print(\"Yes-test passed.\")\n",
    "else:\n",
    "    print(\"Yes-test failed.\")\n",
    "    \n",
    "# and this one is, too\n",
    "if \"No\":\n",
    "    print(\"No-test passed.\")\n",
    "else:\n",
    "    print(\"No-test failed.\")\n",
    "    \n",
    "# and this one always fails\n",
    "if \"\":\n",
    "    print(\"Empty-test passed.\")\n",
    "else:\n",
    "    print(\"Empty-test failed.\")"
   ]
  },
  {
   "cell_type": "markdown",
   "metadata": {},
   "source": [
    "Do not wonder too much about why the Python designers made this decision.\n",
    "For our purposes, the crucial issue is that the `if` statement above with all the variants of *yes* does not test what one might expect.\n",
    "It is not a shorthand for specifying possible values of `leg_pulling`.\n",
    "Instead, it is equivalent to the code below."
   ]
  },
  {
   "cell_type": "code",
   "execution_count": null,
   "metadata": {
    "collapsed": false
   },
   "outputs": [],
   "source": [
    "leg_pulling = \"no\"\n",
    "# an equivalent version of the if-line from the previous example\n",
    "if (leg_pulling == \"Yes\") or True or True or True:\n",
    "    print(\"Well, at least you're honest.\")\n",
    "else:\n",
    "    print(\"I still think you're pulling my leg.\")"
   ]
  },
  {
   "cell_type": "markdown",
   "metadata": {},
   "source": [
    "Remember that `p or q` is true whenever at least one of the two is true.\n",
    "So the condition in the `if` statement is always satisfied.\n",
    "In fact, the code is equivalent to a simple `if True`."
   ]
  },
  {
   "cell_type": "code",
   "execution_count": null,
   "metadata": {
    "collapsed": false
   },
   "outputs": [],
   "source": [
    "leg_pulling = \"no\"\n",
    "# the previous test reduces to True\n",
    "if True:\n",
    "    print(\"Well, at least you're honest.\")\n",
    "else:\n",
    "    print(\"I still think you're pulling my leg.\")"
   ]
  },
  {
   "cell_type": "markdown",
   "metadata": {},
   "source": [
    "And this piece of code, in turn, will always behave exactly the same as one without any `if` statement."
   ]
  },
  {
   "cell_type": "code",
   "execution_count": null,
   "metadata": {
    "collapsed": false
   },
   "outputs": [],
   "source": [
    "leg_pulling = \"no\"\n",
    "# the else code is never executed, so only the if-code remains\n",
    "print(\"Well, at least you're honest.\")"
   ]
  },
  {
   "cell_type": "markdown",
   "metadata": {},
   "source": [
    "So we cannot simplify the `if` condition as one might have hoped.\n",
    "But that does not mean that there isn't a shorter way of testing the value of the `leg_pulling` variable."
   ]
  },
  {
   "cell_type": "markdown",
   "metadata": {},
   "source": [
    "**Exercise. **\n",
    "The code above shows that Python only runs your code, it does not tell you whether your code makes much sense.\n",
    "So it is very easy to accidentally write `if`-tests that are always true or always false, which makes them pointless.\n",
    "But Python will still execute the test every single time because that's what you told it to do, and this will make your program inefficient.\n",
    "\n",
    "The cell below contains several if-else constructs.\n",
    "Some of the tests are useful, whereas others are a waste of computing resources.\n",
    "Sometimes the test serves a purpose, but it contains unncessary combinations with `and`/`or`.\n",
    "Tighten up the code by removing all redundant tests."
   ]
  },
  {
   "cell_type": "code",
   "execution_count": null,
   "metadata": {
    "collapsed": true
   },
   "outputs": [],
   "source": [
    "if 2 + 2 == 4:\n",
    "    print(\"This message is never printed to screen... or is it?\")\n",
    "    \n",
    "print(\"Enter an English word!\")\n",
    "word = input()\n",
    "if word != \" \":\n",
    "    print(\"Thank you for entering a word\")\n",
    "    if word == \"aaaaaaaaaaaaaaaaaa\" or not word != \" \":\n",
    "        print(\"That's not a word of English\")\n",
    "    else:\n",
    "        print(\"I will now say your word three times:\", word, word, word)\n",
    "        \n",
    "if 2 + 2 == 4 and not word == \" \":\n",
    "    print(\"Now I'll say your word two times in a row:\", word, word)"
   ]
  },
  {
   "cell_type": "markdown",
   "metadata": {},
   "source": [
    "*Hints:*\n",
    "If you're stuck with the exercise, highlight the text below to read some tips.\n",
    "\n",
    "<span style=\"color:#000000;background-color:#000000;\">\n",
    "The goal is to remove all conditions that do not change the behavior of the program.\n",
    "For instance, if a condition is always true, then the code in the if-statement is always executed.\n",
    "But the code would also be executed if it weren't in the scope of an if-statement to begin with.\n",
    "This if-statement thus can be removed.\n",
    "And in cases where two if-statements have similar conditions, it might be possible to combine them to a single statement\n",
    "</span>\n",
    "\n",
    "<span style=\"color:#000000;background-color:#000000;\">\n",
    "Keeping all of this in mind, pay close attention to two conditions: 2 + 2 == 4, and word != \" \".\n",
    "Also keep in mind that word != \" \" is equivalent to not word == \" \".\n",
    "</span>"
   ]
  },
  {
   "cell_type": "markdown",
   "metadata": {},
   "source": [
    "## Defining a list of possible answers\n",
    "\n",
    "Let's briefly think about how this situation might be handled if you're dealing with a human rather than a computer.\n",
    "Suppose the human does not speak English (but you speak their language, so you can give them instructions).\n",
    "Then you might decide to write down a list of words and tell them that if the reply is identical to one of these words, then they should do X, and Y otherwise.\n",
    "We can do something very similar in Python."
   ]
  },
  {
   "cell_type": "code",
   "execution_count": null,
   "metadata": {
    "collapsed": false
   },
   "outputs": [],
   "source": [
    "# three individual strings\n",
    "print(\"Moving\", \"towards\", \"lists\")\n",
    "\n",
    "# and now a list of strings\n",
    "print([\"Moving\", \"towards\", \"lists\"])"
   ]
  },
  {
   "cell_type": "markdown",
   "metadata": {},
   "source": [
    "In Python, we can use `[` and `]` to define a list.\n",
    "All members of the list must occur within those brackets, and they must be separated by commas.\n",
    "We can also use `in` to test if a particular item is in a list."
   ]
  },
  {
   "cell_type": "code",
   "execution_count": null,
   "metadata": {
    "collapsed": false
   },
   "outputs": [],
   "source": [
    "print(\"Moving\" in [\"Moving\", \"towards\", \"lists\"])"
   ]
  },
  {
   "cell_type": "markdown",
   "metadata": {},
   "source": [
    "But notice that the item must be exactly the same as what we have in the list."
   ]
  },
  {
   "cell_type": "code",
   "execution_count": null,
   "metadata": {
    "collapsed": false
   },
   "outputs": [],
   "source": [
    "# list members must be matched exactly for `in` to be true\n",
    "print(\"Moving towards\" in [\"Moving\", \"towards\", \"lists\"])\n",
    "print(\"Mov\" in [\"Moving\", \"towards\", \"lists\"])"
   ]
  },
  {
   "cell_type": "markdown",
   "metadata": {},
   "source": [
    "And this is all we need to write our original `if` test in a more elegant fashion."
   ]
  },
  {
   "cell_type": "code",
   "execution_count": null,
   "metadata": {
    "collapsed": false
   },
   "outputs": [],
   "source": [
    "leg_pulling = input()\n",
    "if leg_pulling in [\"Yes\", \"Yes.\", \"yes\", \"yes.\"]:\n",
    "    print(\"Well, at least you're honest.\")"
   ]
  },
  {
   "cell_type": "markdown",
   "metadata": {},
   "source": [
    "We could also use variables in the code."
   ]
  },
  {
   "cell_type": "code",
   "execution_count": null,
   "metadata": {
    "collapsed": false
   },
   "outputs": [],
   "source": [
    "leg_pulling = input()\n",
    "yes_variants = [\"Yes\", \"Yes.\", \"yes\", \"yes.\"]\n",
    "if leg_pulling in yes_variants:\n",
    "    print(\"Well, at least you're honest.\")"
   ]
  },
  {
   "cell_type": "markdown",
   "metadata": {},
   "source": [
    "**Exercise. **\n",
    "In class we discussed the thought experiment of the *Chinese room*, a room with tons of books that are essentially a giant list of suitable Chinese replies for any given Chinese sentence.\n",
    "Since not all of us speak Chinese, let us consider the case of an *English room* instead.\n",
    "Part of such an English room could be represented by the table below:\n",
    "\n",
    "*Input* | *Reply*\n",
    ":--     | :--\n",
    "Any news? | Not much, just the same old same old.\n",
    "Good.    | Glad to hear it.\n",
    "Hello.   | Hey, how's it going?\n",
    "Hi.      | Hey, how's it going?\n",
    "How are you doing? | Good, thanks.\n",
    "Long time no see! | Hey, how's it going?\n",
    "What's going on? | Not much. How about you?\n",
    "What's up? | Not much. How about you?\n",
    "\n",
    "Write a simple chatbot that checks the user's input against this table and produces the corresponding reply.\n",
    "You do not need to worry about checking for capitalization or punctuation, assume that the user is handling both properly.\n",
    "Make sure you use lists where appropriate."
   ]
  },
  {
   "cell_type": "code",
   "execution_count": null,
   "metadata": {
    "collapsed": true
   },
   "outputs": [],
   "source": [
    "# put your chatbot code here"
   ]
  },
  {
   "cell_type": "markdown",
   "metadata": {},
   "source": [
    "## More tricks with lists\n",
    "\n",
    "Lists are an incredibly useful tool, and they will be with us for the rest of the semester.\n",
    "There's a lot of things one can do with and to lists, and we will keep exploring lists in later units.\n",
    "For now, let's just look at another example of how lists can be used for chatbots.\n",
    "\n",
    "One thing chatbots often do is to keep track of things the user has said already so that they can give an indignant reply, which makes them seem more human.\n",
    "How does this work?\n",
    "Well, the code is actually very simple."
   ]
  },
  {
   "cell_type": "code",
   "execution_count": null,
   "metadata": {
    "collapsed": false
   },
   "outputs": [],
   "source": [
    "# a simple chatbot with a memory of the conversation\n",
    "\n",
    "# instantiate the chatbots memory as an empty list\n",
    "memory = []\n",
    "\n",
    "# greet the user\n",
    "print(\"Hi, I am the supercomputer Deep Thought.\")\n",
    "print(\"What do you wish to ask me?\")\n",
    "\n",
    "# get user reply\n",
    "reply = input()\n",
    "# and store it in memory\n",
    "list.append(memory, reply)\n",
    "\n",
    "# answer the question\n",
    "print(\"Computing...\")\n",
    "print(\"Computing...\")\n",
    "print(\"Computing...\")\n",
    "print(\"Finished computing.\")\n",
    "print(\"The answer to your question is:\")\n",
    "print(\"42\")\n",
    "\n",
    "# get another question\n",
    "print(\"Is there anything else you want to ask me?\")\n",
    "\n",
    "# get second user reply\n",
    "reply = input()\n",
    "# test if the user has asked this before\n",
    "if reply in memory:\n",
    "    print(\"You have asked this question before.\")\n",
    "    print(\"But I shall answer it nonetheless.\")\n",
    "\n",
    "# give answer\n",
    "print(\"Computing...\")\n",
    "# and so on"
   ]
  },
  {
   "cell_type": "markdown",
   "metadata": {},
   "source": [
    "The central trick in this code is the use of the function `list.append`.\n",
    "This function takes two arguments.\n",
    "The first one is a list, the second one an item that is to be added to the list."
   ]
  },
  {
   "cell_type": "markdown",
   "metadata": {},
   "source": [
    "**Exercise. **\n",
    "Experiment with the `list.append` function.\n",
    "Add at least 5 lines of code to the cell below.\n",
    "Each one should include a comment that explains what you are trying to test.\n",
    "Then formulate a hypothesis about how it can and cannot be used.\n",
    "\n",
    "Pay particular attention to the following issues:\n",
    "- Can you add an item to a list that already contains that item?\n",
    "  If so, what kind of list do you get?\n",
    "- Can you append a list to a list?\n",
    "  Is the output what you expected it to be?\n",
    "- Can you pass multiple items to `list.append` at once so that they are added to the list in one fell swoop?"
   ]
  },
  {
   "cell_type": "code",
   "execution_count": null,
   "metadata": {
    "collapsed": false
   },
   "outputs": [],
   "source": [
    "# put your test code here\n",
    "# here's an example to get you started\n",
    "lst = []\n",
    "print(\"Initially, list is empty:\", lst)\n",
    "item = \"a\"\n",
    "list.append(lst, item)\n",
    "print(\"After adding\", item, \"to the list, we get:\", lst)"
   ]
  },
  {
   "cell_type": "markdown",
   "metadata": {},
   "source": [
    "*put your summary of `list.append` here*"
   ]
  },
  {
   "cell_type": "markdown",
   "metadata": {},
   "source": [
    "The `list.append` function only does a very simple thing: it adds something to the end of a list.\n",
    "Simple as it sounds, this is an incredibly powerful tool."
   ]
  },
  {
   "cell_type": "markdown",
   "metadata": {},
   "source": [
    "## Bullet point summary\n",
    "\n",
    "- You can collect things with lists.\n",
    "- A list starts with `[` and ends with `]`.\n",
    "  All elements are separated by commas.\n",
    "- Use `x in some_list` to test membership of `x` in `some_list`.\n",
    "- Use `list.append(some_list, x)` to add `x` to `some_list`.\n",
    "- Lists can contain whatever you want.\n",
    "  For instance, `[\"hi\", 234, [\"another\", \"list\"], some_variable]` is a valid list."
   ]
  }
 ],
 "metadata": {
  "kernelspec": {
   "display_name": "Python 3",
   "language": "python",
   "name": "python3"
  },
  "language_info": {
   "codemirror_mode": {
    "name": "ipython",
    "version": 3
   },
   "file_extension": ".py",
   "mimetype": "text/x-python",
   "name": "python",
   "nbconvert_exporter": "python",
   "pygments_lexer": "ipython3",
   "version": "3.5.3"
  }
 },
 "nbformat": 4,
 "nbformat_minor": 2
}
