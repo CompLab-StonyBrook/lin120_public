{
 "cells": [
  {
   "cell_type": "markdown",
   "metadata": {},
   "source": [
    "Write a program that based on a student's alphabetic (letter) grade, will print out if they have passed or failed the class. (if-else statements)"
   ]
  },
  {
   "cell_type": "code",
   "execution_count": 4,
   "metadata": {},
   "outputs": [
    {
     "name": "stdout",
     "output_type": "stream",
     "text": [
      "What is your grade on the last test in LIN 120?\n",
      "3\n",
      "Please try again. We only accept alphabetic grades.\n"
     ]
    }
   ],
   "source": [
    "print(\"What is your grade on the last test in LIN 120?\")\n",
    "grade = input()\n",
    "\n",
    "if grade == \"A\" or grade == \"B\" or grade == \"C\":\n",
    "    print(\"You passed.\")\n",
    "else:\n",
    "    if grade == \"D\" or grade == \"F\":\n",
    "        print(\"You failed.\")\n",
    "    else:\n",
    "        print(\"Please try again. We only accept alphabetic grades.\")"
   ]
  },
  {
   "cell_type": "raw",
   "metadata": {},
   "source": [
    "Write a program that prints a random word from a category (like fruits) and allows the user to add more fruits to the list. The user can exit by typing \"exit\". The user cannot write a duplicate. (lists, random)"
   ]
  },
  {
   "cell_type": "code",
   "execution_count": 2,
   "metadata": {},
   "outputs": [
    {
     "name": "stdout",
     "output_type": "stream",
     "text": [
      "Write the name of a fruit or type exit if you would like to close the program.\n",
      "cherries\n",
      "grapes\n",
      "peaches\n",
      "grapes\n",
      "peaches\n",
      "That it is a duplicate. Please try again.\n",
      "exit\n"
     ]
    }
   ],
   "source": [
    "import random\n",
    "fruits = [\"apples\", \"bananas\", \"pears\", \"grapes\"]\n",
    "print(\"Write the name of a fruit or type exit if you would like to close the program.\")\n",
    "answer = input()\n",
    "\n",
    "while answer != \"exit\":\n",
    "    if answer not in fruits:\n",
    "        fruits.append(answer)\n",
    "        print(random.choice(fruits))\n",
    "        answer = input()\n",
    "    else:\n",
    "        print(\"That it is a duplicate. Please try again.\")\n",
    "        answer = input()"
   ]
  },
  {
   "cell_type": "markdown",
   "metadata": {},
   "source": [
    "This program has some errors. Please fix them so that it will work properly."
   ]
  },
  {
   "cell_type": "code",
   "execution_count": null,
   "metadata": {},
   "outputs": [],
   "source": [
    "print(\"Hi! This program has a lot of errors, please fix them \"\")\n",
    "print(\"What class is this?\")\n",
    "\n",
    "the_class = input()\n",
    "if the_class != \":\n",
    "      print(the_class)\n",
    "else:\n",
    "    print(\"Oh, you seem to not be in the right class.\")\n",
    "\n",
    "print(\"I would like to numerically add these two numbers together.\")\n",
    "x == 2\n",
    "y = \"3\"\n",
    "z = x + y\n",
    "print(z)\n",
    "      "
   ]
  }
 ],
 "metadata": {
  "kernelspec": {
   "display_name": "Python 3",
   "language": "python",
   "name": "python3"
  }
 },
 "nbformat": 4,
 "nbformat_minor": 2
}
