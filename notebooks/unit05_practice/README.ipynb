{
 "cells": [
  {
   "cell_type": "markdown",
   "metadata": {},
   "source": [
    "# What is this unit?\n",
    "\n",
    "Students on the advanced track will read the units ahead of their peers and design practice exercises for them.\n",
    "This units collects all the practice exercises for units 01-04."
   ]
  },
  {
   "cell_type": "markdown",
   "metadata": {},
   "source": [
    "## Unit 1\n",
    "\n",
    "1. Windows uses backslashes instead of foreward slashes to represent different folder-levels. So, if a user named \"guest\" has a file called \"assignment.pdf\" on their desktop, its full path would be: `\"C:\\Users\\guest\\Desktop\\assignment.pdf\"`. Write a print statement to output this string, including the quotes."
   ]
  },
  {
   "cell_type": "markdown",
   "metadata": {},
   "source": [
    "## Unit 2\n",
    "\n",
    "1. [Requires f-strings expansion unit] Rewrite the Mad-Libs program from Unit 02.01 using f-strings."
   ]
  },
  {
   "cell_type": "markdown",
   "metadata": {},
   "source": [
    "## Unit 3\n",
    "\n",
    "1. Similar to the D&D classifier in 03.01, write a classifier that asks questions about what animal you're thinking of, and guesses based on the following rules:\n",
    "\n",
    "| Animal | Has hair? | Hops? | Insect? | Eats meat? |\n",
    "|:-------|:----------|:------|:--------|:-----------|\n",
    "| Beetle | No        | No    | Yes     | No         |\n",
    "| Cat    | Yes       | No    | No      | Yes        |\n",
    "| Lizard | No        | No    | No      | Yes        |\n",
    "| Panda  | Yes       | No    | No      | No         |\n",
    "| Rabbit | Yes       | Yes   | No      | No         |\n",
    "\n",
    "2. Fix the following program, which contains many typos. Bonus: [Requires elif expansion unit] rewrite it using elif statements where possible."
   ]
  },
  {
   "cell_type": "code",
   "execution_count": null,
   "metadata": {},
   "outputs": [],
   "source": [
    "# A small Choose-Your-Own-Adventure-style game\n",
    "\n",
    "print(\"Welcome to Basements and Basilisks\")\n",
    "print(\"You are standing at a fork in a road.\"\n",
    "print(\"1 - Go left\")\n",
    "print(\"2 - Go right\")\n",
    "user_choice = input()\n",
    "\n",
    "if user_choice == \"1\"\n",
    "print(\"You come to the entrance of a dark cave.)\n",
    "print(\"In the distance, you see a pleasant looking beach.\")\n",
    "print(\"1 - Go inside\")\n",
    "print(\"2 - Go to the beach\")\n",
    "user_choice = Input()\n",
    "    if user_choice = \"1\":\n",
    "        print(\"The cave is very dark.\")\n",
    "        print(\"You are eaten by Grue.\")\n",
    "    else:\n",
    "        if user_choice == 2:\n",
    "        print(\"You enjoy a pleasant day at the beach and go home)\n",
    "        else:\n",
    "        print(\"You try to do something else, but suddenly a bird flies down and pecks you to death.\")\n",
    "else:\n",
    "    if user_choice == \"2\"\n",
    "        print(\"You come to a small village.\")\n",
    "        print(\"1 - Visit the tavern)\n",
    "        print(\"2 - Get a drink from the well\")\n",
    "        user_choice = input()\n",
    "        if user_choice == \"1\"\n",
    "        print(\"You learn some new Dwarven drinking songs.\"\n",
    "        print(\"You are thrown out when the owner realizes you have no money.\")\n",
    "        else:\n",
    "            if user_choice = \"2\"\n",
    "            Print(\"You take a drink from the well.\")\n",
    "            print(\"You feel sick.)\n",
    "            print(\"You have died of dysentery.\")\n",
    "    else:\n",
    "    if \"less travelled\" in user_choice\n",
    "        print(\"This is not a Robert Frost poem.\")\n",
    "            print(\"Both paths appear equally worn.\")\n",
    "            print(\"You go home and read poetry.)\n",
    "        else:\n",
    "        Print(\"A Keystone Kop takes you to jail for not following directions.\"\n",
    "\n",
    "print(\"Your adventure has ended.\")\n",
    "print(\"Please play again!)"
   ]
  },
  {
   "cell_type": "markdown",
   "metadata": {},
   "source": [
    "## Unit 4\n",
    "\n",
    "1. Add a while loop to the above program that asks the user if they wish to play again and restarts the game if they answer: `yes` `yes.` `Yes` `Yes.` `y` or `Y` but quits the game if they answer anything else.\n",
    "2. Modify the above program by replacing each call to input with a random choice between the options, effectively allowing the computer to play by itself.\n",
    "3. Write a random sentence generator. Define lists like `articles = [\"a\", \"the\"]` (\"an\" gets messy), and `subjects = [\"cats\", \"people\", \"chairs\"]` and so on. Then use random choices to print a random (probably silly, but grammatical) sentence. Bonus: Use a while loop and a \"counter\" variable (set `count = 0` outside of the loop, and then add one to it inside it) to print multiple random sentences. Depending on the nouns and verbs you put in your lists, you may get some funny paragraphs."
   ]
  }
 ],
 "metadata": {
  "kernelspec": {
   "display_name": "Python 3",
   "language": "python",
   "name": "python3"
  },
  "language_info": {
   "codemirror_mode": {
    "name": "ipython",
    "version": 3
   },
   "file_extension": ".py",
   "mimetype": "text/x-python",
   "name": "python",
   "nbconvert_exporter": "python",
   "pygments_lexer": "ipython3",
   "version": "3.6.5"
  }
 },
 "nbformat": 4,
 "nbformat_minor": 2
}
