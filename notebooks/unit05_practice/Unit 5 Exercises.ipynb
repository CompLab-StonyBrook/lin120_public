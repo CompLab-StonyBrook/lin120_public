{
 "cells": [
  {
   "cell_type": "markdown",
   "metadata": {},
   "source": [
    "# exercises for unit 5 "
   ]
  },
  {
   "cell_type": "markdown",
   "metadata": {},
   "source": [
    "## Unit 1 \n",
    "\n",
    "Try printing the following using two print statements "
   ]
  },
  {
   "cell_type": "code",
   "execution_count": 6,
   "metadata": {},
   "outputs": [],
   "source": [
    "'''\n",
    "_  _  _\n",
    " \\ O /\n",
    "   | \n",
    "  / \\\n",
    " \"   \" \n",
    "'''\n",
    "\n",
    "None \n",
    "### ignore the three single quotes on the top and bottom \n",
    "### IGNORE the word None\n",
    "### enter print statements here. \n",
    "\n"
   ]
  },
  {
   "cell_type": "markdown",
   "metadata": {},
   "source": [
    "## Unit 2 and 3\n",
    "\n",
    "Have the user enter a sentence and a word and print out True if the word is in the sentence and False if it is not"
   ]
  },
  {
   "cell_type": "code",
   "execution_count": null,
   "metadata": {},
   "outputs": [],
   "source": [
    "# exercise here"
   ]
  },
  {
   "cell_type": "markdown",
   "metadata": {},
   "source": [
    "Have the user enter their name and print \"Cool my name is also (NAME)\" where (NAME) is replaced with what they enter, if the enter your name. Otherwise have the program print \"My name is (YOUR NAME). It's nice to meet you, (INPUT_NAME)\" where INPUT_NAME is the name they type in"
   ]
  },
  {
   "cell_type": "code",
   "execution_count": null,
   "metadata": {},
   "outputs": [],
   "source": [
    "# exercise here"
   ]
  },
  {
   "cell_type": "markdown",
   "metadata": {},
   "source": [
    "Next do a similar exercise. Print \"that is almost my name too\" if the name they enter is in your name. For example, if my name is Katherine, and someone enters \"Kat\" then the program should print \"that is almost my name too\". Otherwise the program should behave as it did before"
   ]
  },
  {
   "cell_type": "code",
   "execution_count": null,
   "metadata": {},
   "outputs": [],
   "source": [
    "# exercise here"
   ]
  },
  {
   "cell_type": "markdown",
   "metadata": {},
   "source": [
    "## Unit 4\n",
    "\n",
    "Create a list of names using the brackets and quotes as it showed in the notebook and name it with a variable called names.\n",
    "\n",
    "Ask the user to input a name and then add it to the list of names you created and stored in a variable.\n",
    "\n",
    "At the end of the program print out \"Here are all the names I know\" then the list of names\n",
    "\n",
    "For example if I started with a list of \"John\", \"Michael\", and \"Julia\" and the user inputs \"Joan\" I would expect the end of the program to print \n",
    "\n",
    "`Here are all the names I know: [\"John\", \"Michael\", \"Julia\", \"Joan\"]`"
   ]
  },
  {
   "cell_type": "code",
   "execution_count": null,
   "metadata": {},
   "outputs": [],
   "source": [
    "# exercise here"
   ]
  },
  {
   "cell_type": "code",
   "execution_count": null,
   "metadata": {},
   "outputs": [],
   "source": [
    "# Copy the list of names and the variable from the previous exercise and add you name to the end of the list\n",
    "# use random and while loops together to pick names from the list of names you created \n",
    "# above until your name is chosen. Print out each name as it is picked and then print \n",
    "# \"Done!\" after your name is chosen\n",
    "\n",
    "# exercise here"
   ]
  }
 ],
 "metadata": {
  "kernelspec": {
   "display_name": "Python 3",
   "language": "python",
   "name": "python3"
  },
  "language_info": {
   "codemirror_mode": {
    "name": "ipython",
    "version": 3
   },
   "file_extension": ".py",
   "mimetype": "text/x-python",
   "name": "python",
   "nbconvert_exporter": "python",
   "pygments_lexer": "ipython3",
   "version": "3.6.5"
  }
 },
 "nbformat": 4,
 "nbformat_minor": 2
}
