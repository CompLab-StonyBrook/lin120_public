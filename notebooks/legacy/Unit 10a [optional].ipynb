{
 "cells": [
  {
   "cell_type": "markdown",
   "metadata": {},
   "source": [
    "# Even More Regex Tricks\n",
    "\n",
    "While wrestling with regular expressions, you might have at some point resorted to Google in order to find help on an aspect of regexes that you do not fully understand.\n",
    "Odds are that while doing so you came across the [documentation for Python's re module](https://docs.python.org/3/library/re.html).\n",
    "If so, your head probably exploded halfway in - there really are a tons of special commands, functions, and parameters.\n",
    "But the thing is, most of the time you do not need any of those.\n",
    "That's the 90-10 rule: 90% of the time you only need 10% of the features.\n",
    "\n",
    "The previous units were all about covering those 10% so that you can work productively with regular expressions.\n",
    "This expansion unit dips within the remaining 10%.\n",
    "But we still don't cover everything, that would take an entire book (like Friedl's [Mastering Regular Expressions](http://shop.oreilly.com/product/9780596528126.do), which spans a whopping 544 pages).\n",
    "Instead, we'll once again apply the 90-10 rule: within those features that are only needed in 10% of all cases, which ones cover the majority of those rare cases?"
   ]
  },
  {
   "cell_type": "markdown",
   "metadata": {},
   "source": [
    "## Making regular expressions more readable\n",
    "\n",
    "The main problem with regular expressions is that for anything but the simplest cases they are just so damn hard to read.\n",
    "That's why we took our time in previous units to carefully look at each part of a regex and explain what it does.\n",
    "The Python creators also realized that is a problem, so they added a bit of functionality that allows you to add comments to your regular expressions.\n",
    "\n",
    "Just look at how much of a difference this makes for the regex we encountered in the last part of the previous unit."
   ]
  },
  {
   "cell_type": "code",
   "execution_count": null,
   "metadata": {
    "collapsed": true
   },
   "outputs": [],
   "source": [
    "# regular expressions without comments can be a nightmare\n",
    "import re\n",
    "\n",
    "# a test string for demonstration purposes\n",
    "string = r\"The correct syntax is \\frac{x}{y} not \\frac{x,y}, so both \\frac{1,2} and \\frac{101, \\pi} are incorrect\"\n",
    "print(string)\n",
    "# replace \\frac{x, y} with \\frac{x}{y}\n",
    "string = re.sub(r\"frac{([^,]*),\\s*([^}]*)}\", r\"frac{\\1}{\\2}\", string)\n",
    "print(string)"
   ]
  },
  {
   "cell_type": "code",
   "execution_count": null,
   "metadata": {
    "collapsed": true
   },
   "outputs": [],
   "source": [
    "# this is much nicer\n",
    "import re\n",
    "\n",
    "# a test string for demonstration purposes\n",
    "string = r\"The correct syntax is \\frac{x}{y} not \\frac{x,y}, so both \\frac{1,2} and \\frac{101, \\pi} are incorrect\"\n",
    "print(string)\n",
    "# replace \\frac{x, y} with \\frac{x}{y}\n",
    "string = re.sub(r\"\"\"\n",
    "    frac  # we only match after frac\n",
    "    {     # beginning of arguments\n",
    "    (     # start group 1\n",
    "    [^,]* # match any sequence of characters that are not ,\n",
    "    )     # end of group 1\n",
    "    ,     # , separates the two arguments\n",
    "    \\s*   # we may have an arbitrary amount of whitespace after ,\n",
    "    (     # start group 2\n",
    "    [^}]* # match anything before }, which ends the list of arguments\n",
    "    )     # end group 2\n",
    "    }     # we end the list of arguments for frac\n",
    "    \"\"\",\n",
    "    r\"frac{\\1}{\\2}\",\n",
    "    string,\n",
    "    re.VERBOSE)\n",
    "print(string)"
   ]
  },
  {
   "cell_type": "markdown",
   "metadata": {},
   "source": [
    "Commented regular expressions are much easier to read.\n",
    "The format is very similar to standard regular expressions, except for two changes:\n",
    "\n",
    "1. the double quotes have to be trippled, so we use `r\"\"\"xyz\"\"\"` instead of `r\"xyz\"`,\n",
    "1. we have to specify `re.VERBOSE` at the end of the `re.sub` function."
   ]
  },
  {
   "cell_type": "markdown",
   "metadata": {},
   "source": [
    "**Exercise.**\n",
    "Go back to one of the previous units and find a regex that you found difficult to understand.\n",
    "Copy-paste it into the cell below and then convert it into a commented version as in the example above."
   ]
  },
  {
   "cell_type": "code",
   "execution_count": null,
   "metadata": {
    "collapsed": true
   },
   "outputs": [],
   "source": [
    "# put your commented regex here"
   ]
  },
  {
   "cell_type": "markdown",
   "metadata": {},
   "source": [
    "Another way of making `re.sub` commands easier to read is to use variable name for backreferences instead of numbers.\n",
    "At the beginning of a group, we can add `?P<foo>` to assign the group the name `foo` (allegedly, the `P` here means ***P**ython specific extension*, because few regular expressions systems outside Python support this notation).\n",
    "And then we can use the backreference `\\g<foo>` to refer to this group (I think of `\\g` as a shorthand for ***g**et this group*)."
   ]
  },
  {
   "cell_type": "code",
   "execution_count": null,
   "metadata": {
    "collapsed": false
   },
   "outputs": [],
   "source": [
    "# convert US date to European date\n",
    "date_us = \"03/11/2012\"\n",
    "\n",
    "# use re.sub with backreferences and \\d as a shorthand for [0-9]\n",
    "date_eu = re.sub(r\"(?P<month>\\d+)/(?P<day>\\d+)/(?P<year>\\d+)\", r\"\\g<day>.\\g<month>.\\g<year>\", date_us)\n",
    "print(\"European conversion:\", date_us, \"becomes\", date_eu)"
   ]
  },
  {
   "cell_type": "markdown",
   "metadata": {},
   "source": [
    "It's up to you whether you think named groups and backreferences are worth it.\n",
    "The notation is so strange that it probably will make most of your regexes harder to read than the original.\n",
    "But if you have more than 5 different groups in a single regex, naming them might make it easier to keep track of what is what."
   ]
  },
  {
   "cell_type": "markdown",
   "metadata": {},
   "source": [
    "# Lookahead and Lookbehind assertions\n",
    "\n",
    "Sometimes it would be nice to be able to rewrite a string based on its context without changing the context.\n",
    "We encountered a case of that when we wanted to replace *you* by *I* when it appears before verbs like *can*, *may*, *must*, or *should*. \n",
    "The most cumbersome way to do this is with many different instances of `re.sub`."
   ]
  },
  {
   "cell_type": "code",
   "execution_count": null,
   "metadata": {
    "collapsed": false
   },
   "outputs": [],
   "source": [
    "import re\n",
    "\n",
    "string = \"You can say that John hates you but you must know it isn't true.\"\n",
    "\n",
    "# replace you by I before verbs\n",
    "string = re.sub(r\"(?i)you can \", r\"I can \", string)\n",
    "string = re.sub(r\"(?i)you may \", r\"I may \", string)\n",
    "string = re.sub(r\"(?i)you must \", r\"I must \", string)\n",
    "string = re.sub(r\"(?i)you should \", r\"I should \", string)\n",
    "\n",
    "# all other instances of you become me\n",
    "string = re.sub(r\" you \", r\" me \", string)\n",
    "\n",
    "print(string)"
   ]
  },
  {
   "cell_type": "markdown",
   "metadata": {},
   "source": [
    "Here we are repeating a lot of code just to capture the different cases.\n",
    "A better alternative uses backreferences to condense the first four substitutions into a single line."
   ]
  },
  {
   "cell_type": "code",
   "execution_count": null,
   "metadata": {
    "collapsed": false
   },
   "outputs": [],
   "source": [
    "import re\n",
    "\n",
    "string = \"You can say that John hates you but you must know it isn't true.\"\n",
    "\n",
    "# replace you by I before verbs\n",
    "string = re.sub(r\"(?i)you (can|may|must|should) \", r\"I \\1 \", string)\n",
    "\n",
    "# all other instances of you become me\n",
    "string = re.sub(r\"(?i) you \", r\" me \", string)\n",
    "\n",
    "print(string)"
   ]
  },
  {
   "cell_type": "markdown",
   "metadata": {},
   "source": [
    "But if you think about it, this accomplishes the task in a pretty round-about way: we want to replace *you* by *I* in context *C*, but since we want to also keep *C* we copy it into the output with a backreference.\n",
    "Intuitively, we should just see if *you* matches the context and then replace it by *I*.\n",
    "We can do this with a *lookahead assertion*.\n",
    "A lookahead assertion is specified as `(?=pattern)`.\n",
    "\n",
    "*Caution*: Any instance of `(?  ... )` does **not** count as a group for backreference numbering.\n",
    "That's also why `(?i)` does not matter for backreference numbering."
   ]
  },
  {
   "cell_type": "code",
   "execution_count": null,
   "metadata": {
    "collapsed": false
   },
   "outputs": [],
   "source": [
    "import re\n",
    "\n",
    "string = \"You can say that John hates you but you must know it isn't true.\"\n",
    "\n",
    "# replace you by I before verbs\n",
    "string = re.sub(r\"(?i)you(?= (can|may|must|should))\", r\"I\", string)\n",
    "\n",
    "# all other instances of you become me\n",
    "string = re.sub(r\"(?i) you \", r\" me \", string)\n",
    "\n",
    "print(string)"
   ]
  },
  {
   "cell_type": "markdown",
   "metadata": {},
   "source": [
    "If the context appears to the left of the relevant match, we use a *lookbehind assertion* instead.\n",
    "The format for lookbehind assertions is `(?<=pattern)`.\n",
    "So if we want to make sure that *you* always becomes *me* after *loves* or *hates*, we can do this by specifying a context `(?<=(loves|hates) )`."
   ]
  },
  {
   "cell_type": "code",
   "execution_count": null,
   "metadata": {
    "collapsed": false
   },
   "outputs": [],
   "source": [
    "import re\n",
    "\n",
    "string = \"You can say that John hates you but you must know it isn't true.\"\n",
    "\n",
    "# replace you by I before verbs\n",
    "string = re.sub(r\"(?i)you(?= (can|may|must|should))\", r\"I\", string)\n",
    "\n",
    "# you becomes me after loves or hates\n",
    "string = re.sub(r\"(?i)(?<=(loves|hates)) you \", r\" me \", string)\n",
    "\n",
    "print(string)"
   ]
  },
  {
   "cell_type": "markdown",
   "metadata": {},
   "source": [
    "The examples above use *positive* lookahead and lookbehind assertions.\n",
    "But sometimes we don't want to say what the context looks like, but rather what it does **not** look like.\n",
    "In that case we use *negative* lookahead and lookbehind assertions.\n",
    "The syntax is very similar, except that `=` is replaced by `!`, mirroring the difference between `==` and `!=`."
   ]
  },
  {
   "cell_type": "code",
   "execution_count": null,
   "metadata": {
    "collapsed": false
   },
   "outputs": [],
   "source": [
    "import re\n",
    "\n",
    "string = \"You can say that John hates you but you must know it isn't true.\"\n",
    "\n",
    "# replace you by I unless it is before can, may, must, or should\n",
    "string = re.sub(r\"(?i)you(?! (can|may|must|should))\", r\"I\", string)\n",
    "\n",
    "# you becomes me unless it occurs after loves or hates\n",
    "string = re.sub(r\"(?i)(?<!(loves|hates)) you \", r\" me \", string)\n",
    "\n",
    "# and now we get a very strange string\n",
    "print(string)"
   ]
  },
  {
   "cell_type": "markdown",
   "metadata": {},
   "source": [
    "We probably won't have many cases in this course where any of these techniques will be very useful for you.\n",
    "But you aren't learning for the course, you're learning for life.\n",
    "And at least once in a while you'll encounter a case where lookahead and lookbehind make it much easier to write a working regex."
   ]
  }
 ],
 "metadata": {
  "kernelspec": {
   "display_name": "Python 3",
   "language": "python",
   "name": "python3"
  },
  "language_info": {
   "codemirror_mode": {
    "name": "ipython",
    "version": 3
   },
   "file_extension": ".py",
   "mimetype": "text/x-python",
   "name": "python",
   "nbconvert_exporter": "python",
   "pygments_lexer": "ipython3",
   "version": "3.5.3"
  }
 },
 "nbformat": 4,
 "nbformat_minor": 2
}
