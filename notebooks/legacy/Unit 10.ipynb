{
 "cells": [
  {
   "cell_type": "markdown",
   "metadata": {},
   "source": [
    "# Backreferences for smarter input recycling\n",
    "\n",
    "By now our regular expression repertoire is large enough to allow for some impressive tricks.\n",
    "Sure, our few lines of code aren't enough to fool anybody for very long into believing that they are talking to a real human.\n",
    "But the **techniques** themselves already cover an enormous amount of ground.\n",
    "If you were to sit down for a week and just keep adding more and more code and regular expressions to cover all kinds of cases, you would end up with a fairly convincing chatbot.\n",
    "You could easily do much better than Eliza.\n",
    "\n",
    "That said, there is still one more trick that is needed to cover some edge cases.\n",
    "Namely how we can turn *Can you help this man?* into *Would you like helping this man?*."
   ]
  },
  {
   "cell_type": "code",
   "execution_count": null,
   "metadata": {
    "collapsed": true
   },
   "outputs": [],
   "source": []
  },
  {
   "cell_type": "markdown",
   "metadata": {},
   "source": [
    "## Adding -ing inside the input: A failed attempt\n",
    "\n",
    "Consider the example above where the user's input *Can you help this man?* gets the reply *Would you like helping this man?*.\n",
    "By now you know how such input reusal works, it's just the result of some regular expression substitutions.\n",
    "But notice that this example is slightly different form what we have encountered so far.\n",
    "In previous cases, we deleted part of the user input and combined the rest with some prewritten string.\n",
    "More precisely, we would delete *Can you* from the input and print the remainder right after *Would you like*.\n",
    "But this isn't sufficient in this case:"
   ]
  },
  {
   "cell_type": "code",
   "execution_count": null,
   "metadata": {
    "collapsed": false
   },
   "outputs": [],
   "source": [
    "# our current solution for reusing user inputs\n",
    "\n",
    "# as always, we have to import the re module first\n",
    "import re\n",
    "\n",
    "# let's fix the user's reply to keep the example easy to test\n",
    "reply = \"Can you help this man?\"\n",
    "\n",
    "# delete \"can you \"\n",
    "reply = re.sub(r\"(?i)^can you \", r\"\", reply)\n",
    "# here we might have some other code for pronoun substitutions and punctuation\n",
    "\n",
    "print(\"Would you like\", reply)"
   ]
  },
  {
   "cell_type": "markdown",
   "metadata": {},
   "source": [
    "The code above produces the output *Would you like help this man*, which is not a grammatical sentence of English.\n",
    "We are missing the *ing* after *help*.\n",
    "But how could we possibly get it there?\n",
    "It seems that we have to insert *ing* inside of reply, but that's tricky to do.\n",
    "\n",
    "We could also delete *help* and then insert *Would you like helping* before the remainder of the user's reply."
   ]
  },
  {
   "cell_type": "code",
   "execution_count": null,
   "metadata": {
    "collapsed": false
   },
   "outputs": [],
   "source": [
    "# a first attempt at inserting -ing after the verb\n",
    "\n",
    "# as always, we have to import the re module first\n",
    "import re\n",
    "\n",
    "# let's fix the user's reply to keep the example easy to test\n",
    "reply = \"Can you help this man?\"\n",
    "\n",
    "# delete \"can you \"\n",
    "reply = re.sub(r\"(?i)^can you help \", r\"\", reply)\n",
    "# here we might have some other code for pronoun substitutions and punctuation\n",
    "\n",
    "print(\"Would you like helping\", reply)"
   ]
  },
  {
   "cell_type": "markdown",
   "metadata": {},
   "source": [
    "This works for any question of the form *Can you help XZY?*, but it obviously produces wrong results with other inputs:"
   ]
  },
  {
   "cell_type": "code",
   "execution_count": null,
   "metadata": {
    "collapsed": false
   },
   "outputs": [],
   "source": [
    "# a first attempt at inserting -ing after the verb;\n",
    "# now with a different input, producing a bad reply\n",
    "\n",
    "# as always, we have to import the re module first\n",
    "import re\n",
    "\n",
    "# let's fix the user's reply to keep the example easy to test\n",
    "reply = \"Can you fix this man?\"\n",
    "\n",
    "# delete \"can you help \"\n",
    "reply = re.sub(r\"(?i)^can you help \", r\"\", reply)\n",
    "# here we might have some other code for pronoun substitutions and punctuation\n",
    "\n",
    "print(\"Would you like helping\", reply)"
   ]
  },
  {
   "cell_type": "markdown",
   "metadata": {},
   "source": [
    "Hmm, not good, not good at all.\n",
    "Alright, maybe we can fix this with a bunch of `if` statements to ensure we only use a substitution when it is appropriate.\n",
    "But that's not really a good solution."
   ]
  },
  {
   "cell_type": "code",
   "execution_count": null,
   "metadata": {
    "collapsed": true
   },
   "outputs": [],
   "source": [
    "# a second attempt at inserting -ing after the verb;\n",
    "# now with many if-then tests\n",
    "\n",
    "# as always, we have to import the re module first\n",
    "import re\n",
    "\n",
    "# let's fix the user's reply to keep the example easy to test\n",
    "reply = \"Can you fix this man?\"\n",
    "\n",
    "if \"Can you help\" in reply:\n",
    "    # delete \"can you help \"\n",
    "    reply = re.sub(r\"(?i)^can you help \", r\"\", reply)\n",
    "    # here we might have some other code for pronoun substitutions and punctuation\n",
    "    print(\"Would you like helping\", reply)\n",
    "    \n",
    "if \"Can you fix\" in reply:\n",
    "    # delete \"can you help \"\n",
    "    reply = re.sub(r\"(?i)^can you fix \", r\"\", reply)\n",
    "    # here we might have some other code for pronoun substitutions and punctuation\n",
    "    print(\"Would you like fixing\", reply)"
   ]
  },
  {
   "cell_type": "markdown",
   "metadata": {},
   "source": [
    "**Exercise.**\n",
    "Think carefully about how well this code would work in practice, then list at least three shortcomings.\n",
    "You could give example sentences where the code won't work as intended, e.g. because the chatbot produces an ungrammatical reply or multiple replies.\n",
    "You can also talk about why the code is inelegant and wouldn't be much fun to write for a programmer."
   ]
  },
  {
   "cell_type": "markdown",
   "metadata": {},
   "source": [
    "*put your answers here*"
   ]
  },
  {
   "cell_type": "markdown",
   "metadata": {},
   "source": [
    "## Storing multiple parts of the input\n",
    "\n",
    "The solution above clearly isn't usable in practice, so let's consider another option.\n",
    "Intuitively, it seems that whenever we get an input of the form *Can you verb XZY*, we want to delete *Can you* and split the remainder into two strings, *verb* and *XYZ*.\n",
    "Then we should be able to produce an output of the form *Would you like verbing XYZ?*."
   ]
  },
  {
   "cell_type": "code",
   "execution_count": null,
   "metadata": {
    "collapsed": false
   },
   "outputs": [],
   "source": [
    "# a second attempt at inserting -ing after the verb;\n",
    "# now we store different parts of the input in distinct variables\n",
    "\n",
    "# as always, we have to import the re module first\n",
    "import re\n",
    "\n",
    "# let's fix the user's reply to keep the example easy to test\n",
    "reply = \"Can you help this man?\"\n",
    "\n",
    "# delete \"can you \"\n",
    "reply = re.sub(r\"(?i)^can you \", r\"\", reply)\n",
    "# delete everything after the first space, and store the remainder as verb\n",
    "verb = re.sub(r\" .*\", r\"\", reply)\n",
    "# delete the first word and space, and store the remainder as end; \\w is a shorthand for [A-Za-z0-9_]\n",
    "end = re.sub(r\"^\\w+ \", r\"\", reply)\n",
    "# here we might have some other code for pronoun substitutions and punctuation\n",
    "\n",
    "# put everything together\n",
    "print(\"Would you like\", verb, \"ing\", end)"
   ]
  },
  {
   "cell_type": "markdown",
   "metadata": {},
   "source": [
    "This works much better than the previous version of the code.\n",
    "It produces a useable reply with any input of the form *Can you verb XYZ*, not just for those verbs for which we wrote a dedicated regular expression.\n",
    "And we do not need to juggle around all those `if-then` statements."
   ]
  },
  {
   "cell_type": "markdown",
   "metadata": {},
   "source": [
    "**Exercise.**\n",
    "The code above does not work correctly if the user made a typo and accidentally entered two spaces after *Can you*, or a tab.\n",
    "First, describe the problem and why it arises.\n",
    "Then fix the first instance of `re.sub` so that the problem no longer arises.\n",
    "\n",
    "*Hints*:\n",
    "- `\\s` matches the characters space, newline (`\\n`), and tabulator (`\\t`).\n",
    "- Remember that you can use `+` and `*` to iterate a class of characters."
   ]
  },
  {
   "cell_type": "code",
   "execution_count": null,
   "metadata": {
    "collapsed": false
   },
   "outputs": [],
   "source": [
    "# a second attempt at inserting -ing after the verb;\n",
    "# we have to fix a minor bug\n",
    "\n",
    "# as always, we have to import the re module first\n",
    "import re\n",
    "\n",
    "# let's fix the user's reply to keep the example easy to test\n",
    "reply = \"Can you help this man?\"\n",
    "\n",
    "# delete \"can you \";\n",
    "# FIXME: something isn't quite right with this substitution\n",
    "reply = re.sub(r\"(?i)^can you \", r\"\", reply)\n",
    "# delete everything after the first space, and store the remainder as verb\n",
    "verb = re.sub(r\" .*\", r\"\", reply)\n",
    "# delete the first word and space, and store the remainder as end; \\w is a shorthand for [A-Za-z0-9_]\n",
    "end = re.sub(r\"^\\w+ \", r\"\", reply)\n",
    "# here we might have some other code for pronoun substitutions and punctuation\n",
    "\n",
    "# put everything together\n",
    "print(\"Would you like\", verb, \"ing\", end)"
   ]
  },
  {
   "cell_type": "markdown",
   "metadata": {},
   "source": [
    "**Exercise.**\n",
    "Even with your fix the code above still runs into a problem if the user is careless with how many spaces he or she inserts.\n",
    "What is this second problem, and how can it be fixed?"
   ]
  },
  {
   "cell_type": "markdown",
   "metadata": {},
   "source": [
    "*put your explanation of the problem here*"
   ]
  },
  {
   "cell_type": "code",
   "execution_count": null,
   "metadata": {
    "collapsed": true
   },
   "outputs": [],
   "source": [
    "# fix the line below so that it avoids the problem you noticed\n",
    "reply = re.sub(r\"(?i)^can you\", r\"\", reply)"
   ]
  },
  {
   "cell_type": "markdown",
   "metadata": {},
   "source": [
    "One obvious quibble with the current code is the space between the verb and *ing*.\n",
    "Instead of *Would you like helping this man?* we get *Would you like help ing this man?*.\n",
    "There are two ways of fixing this.\n",
    "\n",
    "1. We can tell Python not to insert a space between the arguments of `print`.\n",
    "1. We can combine `verb` and `ing` into a string before they are printed.\n",
    "\n",
    "For the first solution, we have to set the parameter `sep` in the `print` function to the *empty string* `\"\"` and then insert the spaces ourselves."
   ]
  },
  {
   "cell_type": "code",
   "execution_count": null,
   "metadata": {
    "collapsed": false
   },
   "outputs": [],
   "source": [
    "# Solution 1: change the print statement\n",
    "\n",
    "# as always, we have to import the re module first\n",
    "import re\n",
    "\n",
    "# let's fix the user's reply to keep the example easy to test\n",
    "reply = \"Can you help this man?\"\n",
    "\n",
    "# delete \"can you \"\n",
    "reply = re.sub(r\"(?i)can you \", r\"\", reply)\n",
    "# delete everything after the first space, and store the remainder as verb\n",
    "verb = re.sub(r\" .*\", r\"\", reply)\n",
    "# delete the first word and space, and store the remainder as end\n",
    "end = re.sub(r\"^\\w+ \", r\"\", reply)\n",
    "# here we might have some other code for pronoun substitutions and punctuation\n",
    "\n",
    "# put everything together;\n",
    "# we use sep=\"\" so that no spaces are inserted between arguments,\n",
    "# then we add some spaces on our own whereever we need them\n",
    "print(\"Would you like\", \" \", verb, \"ing\", \" \", end, sep=\"\")"
   ]
  },
  {
   "cell_type": "markdown",
   "metadata": {},
   "source": [
    "**Exercise.**\n",
    "For each one of the input-output pairings below, write a `print` statement that automatically prints the input as the output:"
   ]
  },
  {
   "cell_type": "code",
   "execution_count": null,
   "metadata": {
    "collapsed": false
   },
   "outputs": [],
   "source": [
    "# finish the code here\n",
    "print(\"ba\", \"a\", \"a\")  # -> banana\n",
    "print(\"John\", \"Mary\", \"Sue\")  # -> John, Mary, Sue\n",
    "print(\"Police\", \"police\", \"police\") # -> Police police police police police\n",
    "print(\"A\", \"list\", \"of\", \"words\") # -> A\n",
    "                                  #    list\n",
    "                                  #    of\n",
    "                                  #    words\n",
    "                                  #    (Hint: what's the special character for printing a new line?)"
   ]
  },
  {
   "cell_type": "markdown",
   "metadata": {},
   "source": [
    "The second solution is a lot simpler: whenever we have two strings, we can tell Python to concatenate them into a single string with the operator `+`."
   ]
  },
  {
   "cell_type": "code",
   "execution_count": null,
   "metadata": {
    "collapsed": false
   },
   "outputs": [],
   "source": [
    "verb = \"help\"\n",
    "verbing = verb + \"ing\"\n",
    "print(verbing)"
   ]
  },
  {
   "cell_type": "markdown",
   "metadata": {},
   "source": [
    "**Exercise.**\n",
    "Do you know what we haven't had in a while?\n",
    "Experimentation time!\n",
    "List at least five commands that explore possible usages of `+`, and for each one add a comment that explains what you are trying to find out.\n",
    "Then provide a summary of your findings at the end.\n",
    "Two things you should pay particular attention to:\n",
    "\n",
    "- Can we combine multiple strings with `+`?\n",
    "- Can we combine strings with other things, e.g. numbers or lists?"
   ]
  },
  {
   "cell_type": "code",
   "execution_count": null,
   "metadata": {
    "collapsed": true
   },
   "outputs": [],
   "source": [
    "# put your experimentation code here"
   ]
  },
  {
   "cell_type": "markdown",
   "metadata": {},
   "source": [
    "*put your summary here*"
   ]
  },
  {
   "cell_type": "markdown",
   "metadata": {},
   "source": [
    "By using `+`, we can greatly simplify the `print` statement:"
   ]
  },
  {
   "cell_type": "code",
   "execution_count": null,
   "metadata": {
    "collapsed": false
   },
   "outputs": [],
   "source": [
    "# Solution 2: combine verb and \"ing\" with +\n",
    "\n",
    "# as always, we have to import the re module first\n",
    "import re\n",
    "\n",
    "# let's fix the user's reply to keep the example easy to test\n",
    "reply = \"Can you help this man?\"\n",
    "\n",
    "# delete \"can you \"\n",
    "reply = re.sub(r\"(?i)can you \", r\"\", reply)\n",
    "# delete everything after the first space, and store the remainder as verb\n",
    "verb = re.sub(r\" .*\", r\"\", reply)\n",
    "# delete the first word and space, and store the remainder as end\n",
    "end = re.sub(r\"^\\w+ \", r\"\", reply)\n",
    "# here we might have some other code for pronoun substitutions and punctuation\n",
    "\n",
    "# put everything together\n",
    "print(\"Would you like\", verb + \"ing\", end)"
   ]
  },
  {
   "cell_type": "markdown",
   "metadata": {},
   "source": [
    "Well, this pretty much does what we want, and it is a fair bit nicer than changing the separator for `print`.\n",
    "So, end of story?\n",
    "No, not quite."
   ]
  },
  {
   "cell_type": "markdown",
   "metadata": {},
   "source": [
    "## A more elegant solution: Backreferences\n",
    "\n",
    "The solution above works, but it is clunky.\n",
    "For each part of the string, we have to define a new variable and use `re.sub` to delete everything from the string except the part that we want to store in that variable.\n",
    "That's pretty tedious, and it also makes the code hard to read for others.\n",
    "Regular expressions provide a much simpler solution: *backreferences*.\n",
    "\n",
    "Backreferences couldn't be easier.\n",
    "Whenever a part of a regular expression appears in parenthesis, we can refer to the part that is matched by it by a number.\n",
    "For a concrete example, consider date conversions:\n",
    "\n",
    "- An American date is of the form `MM/DD/YYYY`, i.e. two-digit number of the month, two-digit number of the day, and the four-digit year, all separated by slashes.\n",
    "- A European date, on the other hand, is of the form `DD.MM.YYYY`, so the order of day and month is switched and the separator is a dot instead of a slash.\n",
    "- An ISO date is of the form `YYYY-MM-DD`, so the units are ordered from largest to smallest and separated by hyphens.\n",
    "\n",
    "Now suppose that we have a document full of US-style dates and want to convert them to the European format.\n",
    "Intuitively we want to switch the order of days and months, and replace dots by slashes.\n",
    "This is very easy with backreferences."
   ]
  },
  {
   "cell_type": "code",
   "execution_count": null,
   "metadata": {
    "collapsed": false
   },
   "outputs": [],
   "source": [
    "# convert US date to European date\n",
    "date_us = \"03/11/2012\"\n",
    "\n",
    "# use re.sub with backreferences and \\d as a shorthand for [0-9]\n",
    "date_eu = re.sub(r\"(\\d+)/(\\d+)/(\\d+)\", r\"\\2.\\1.\\3\", date_us)\n",
    "print(\"European conversion:\", date_us, \"becomes\", date_eu)"
   ]
  },
  {
   "cell_type": "markdown",
   "metadata": {},
   "source": [
    "In the code above, we first define a match of the form `\\d+/\\d+/\\d+`.\n",
    "This doesn't look very nice because of all the slashes and backslashes, but it's not too complicated once we move through it step by step:\n",
    "\n",
    "1. `\\d` represents a digit, i.e. any member of `[0-9]`\n",
    "1. `+` tells us that the previous item should be matched one or more times; hence `\\d+` means \"one or more digits\"\n",
    "1. `/` matches a slash\n",
    "1. and at this point the pattern repeats, matching sequences of digits separated by slashes.\n",
    "\n",
    "But the code above doesn't just use the regular expression `\\d+/\\d+/\\d+`, it uses `(\\d+)/(\\d+)/(\\d+)`.\n",
    "This is the crucial trick that allows us to use backreferences.\n",
    "Each pair of parentheses defines a new group, and we can reference these groups by escaped numbers:\n",
    "\n",
    "1. `\\1` matches the first group, i.e. month in the US format\n",
    "1. `\\2` matches the second group, i.e. day in the US format\n",
    "1. `\\3` matches the third group, i.e. year in the US format\n",
    "\n",
    "So when we tell Python to replace `(\\d+)/(\\d+)/(\\d+)` by `\\2.\\1.\\3`, we are saying \"start with the second group, then put in a dot, then the first group, then a dot, then the third group."
   ]
  },
  {
   "cell_type": "markdown",
   "metadata": {},
   "source": [
    "**Exercise.**\n",
    "Complete the code below so that it converts the US date to the ISO format YYYY-MM-DD instead."
   ]
  },
  {
   "cell_type": "code",
   "execution_count": null,
   "metadata": {
    "collapsed": true
   },
   "outputs": [],
   "source": [
    "# convert US date to European date\n",
    "date_us = \"03/11/2012\"\n",
    "\n",
    "# use re.sub with backreferences and \\d as a shorthand for [0-9]\n",
    "date_iso = re.sub(r\"\", r\"\", date_us)  # FIXME: add correct regexes\n",
    "print(\"ISO conversion:\", date_us, \"becomes\", date_iso)"
   ]
  },
  {
   "cell_type": "markdown",
   "metadata": {},
   "source": [
    "Alright, so how can backreferences help us with the problem of inserting *ing*?\n",
    "We can write a single regular expression that will define two groups, one consisting of the first word, the second of everything after the first word.\n",
    "Then we replace the match by `\\1ing\\2`, i.e. the word followed by *ing* and then the second match."
   ]
  },
  {
   "cell_type": "code",
   "execution_count": null,
   "metadata": {
    "collapsed": false
   },
   "outputs": [],
   "source": [
    "# The final solution: use backreferences\n",
    "\n",
    "# as always, we have to import the re module first\n",
    "import re\n",
    "\n",
    "# let's fix the user's reply to keep the example easy to test\n",
    "reply = \"Can you help this man?\"\n",
    "\n",
    "# immediately produce the desired output by\n",
    "# - deleting \"can you \"\n",
    "# - using \\w+ to match the first word after \"can you \"; in the output, we insert \"ing\" right after the match\n",
    "# - following this up by whatever the rest of the input is (remember, .* matches everything!)\n",
    "reply = re.sub(r\"(?i)can you (\\w+)(.*)\", r\"\\1ing\\2\", reply)\n",
    "# here we might have some other code for pronoun substitutions and punctuation\n",
    "\n",
    "# put everything together\n",
    "print(\"Would you like\", reply)"
   ]
  },
  {
   "cell_type": "markdown",
   "metadata": {},
   "source": [
    "**Exercise.**\n",
    "Earlier on we saw that assuming a single space between `you` and the next word isn't safe because the user may make typos.\n",
    "This problem is still present with the code above.\n",
    "Modify the code in the cell below so that this problem no longer arises."
   ]
  },
  {
   "cell_type": "code",
   "execution_count": null,
   "metadata": {
    "collapsed": true
   },
   "outputs": [],
   "source": [
    "# The final solution with a minor tweak to space matching\n",
    "import re\n",
    "reply = \"Can you help this man?\"\n",
    "\n",
    "reply = re.sub(r\"(?i)can you (\\w+)(.*)\", r\"\\1ing\\2\", reply)  # FIXME: this regex needs to be adjusted\n",
    "# here we might have some other code for pronoun substitutions and punctuation\n",
    "\n",
    "print(\"Would you like\", reply)"
   ]
  },
  {
   "cell_type": "markdown",
   "metadata": {},
   "source": [
    "The code above works like a charm, and it does it all with a single regular expression.\n",
    "Backreferences are a tremendously useful tool because in almost all cases where one wants to modify a string, one also wants to preserve certain parts of it.\n",
    "This isn't limited to chatbots, it is also essential for cleaning up any data that one wants to use in a program.\n",
    "For example, we may want to analyse the writing style of Shakespeare, but when we download an ebook of Hamlet, it may be full of crud like HTML tags that are obviously not part of Hamlet, but just instructions for how the file should be displayed on an Ebook reader or in a web browser.\n",
    "All of this stuff should be ripped out while preserving the text, and that's exactly what backreferences are good for."
   ]
  },
  {
   "cell_type": "markdown",
   "metadata": {},
   "source": [
    "## Another application for backreferences\n",
    "\n",
    "Backreferences will be important for the rest of this course, but they are also very useful for your daily work.\n",
    "Or at least, they are in mine.\n",
    "Let me show you two examples.\n",
    "\n",
    "All the notebooks for this course are written in [Markdown](https://www.markdowntutorial.com/).\n",
    "Intuitively, markdown allows you to write text with some basic formatting such as italics and lists without using a word processor.\n",
    "Markdown even allows you to write mathematical formulas in a convenient fashion.\n",
    "For example, `\\frac{1}{2}` is displayed as $\\frac{1}{2}$.\n",
    "(If you cannot see the formula, make sure Javascript is activated in your browser.)\n",
    "\n",
    "I use notebooks with mathematical formulas a fair bit for some of my other classes.\n",
    "But sometimes I get confused and accidentally use Python-like syntax, typing `\\frac{1,2}`, which displays incorrectly as $\\frac{1,2}$.\n",
    "I could go through the whole notebook and fix those errors by hand, but it is much faster to do it with a regular expression that uses backreferences:"
   ]
  },
  {
   "cell_type": "code",
   "execution_count": null,
   "metadata": {
    "collapsed": false
   },
   "outputs": [],
   "source": [
    "import re\n",
    "\n",
    "# a test string for demonstration purposes\n",
    "string = r\"The correct syntax is \\frac{x}{y} not \\frac{x,y}, so both \\frac{1,2} and \\frac{101, \\pi} are incorrect\"\n",
    "print(string)\n",
    "# replace \\frac{x, y} with \\frac{x}{y}\n",
    "string = re.sub(r\"frac{([^,]*),\\s*([^}]*)}\", r\"frac{\\1}{\\2}\", string)\n",
    "print(string)"
   ]
  },
  {
   "cell_type": "markdown",
   "metadata": {},
   "source": [
    "Here's how this regular expression works in detail.\n",
    "Basically, we want to split any expression of the form `frac{x, y}` into `frac-group1-,-whitespace-group2-}`.\n",
    "The regular expression accomplishes this as follows:\n",
    "\n",
    "1. `frac{`: matches frac{\n",
    "1. `(`: starts the first group\n",
    "1. `[^,]*`: 0 or more characters that are not a comma\n",
    "1.  `)`: ends the first group\n",
    "1.  `,`: matches the comma\n",
    "1.  `\\s*`: 0 or more whitespace characters (space, tabulator, newline)\n",
    "1.  `(`: starts the second group\n",
    "1.  `[^}]*`: 0 ore more characters that are not }\n",
    "1.  `)`: ends the second group\n",
    "1.  `}`: matches }\n",
    "\n",
    "As you can see, the regex may look like an intimidating barrage of strange characters at first, but if you carefully work through it from left to right you can make sense of it soon enough.\n",
    "\n",
    "Here's another case where I use regular expressions a fair bit in my daily routine: inserting links.\n",
    "In markdown, any string can be made a link by surrounding it in square brackets and following it up by a URL in parenthesis.\n",
    "For example, the link\n",
    "\n",
    "[Markdown](https://www.markdowntutorial.com/)\n",
    "\n",
    "is created from the code\n",
    "\n",
    "`[Markdown](https://www.markdowntutorial.com/)`.\n",
    "\n",
    "Sometimes I want to make every instance of certain words and phrases a link, but doing that by hand is tedious.\n",
    "Instead, I add the links later on with a regular expression.\n",
    "Below is a code snippet that will replace every instance of *Markdown*, *markdown*, or *[Mm]arkdown tutorial* by a link to the markdown tutorial."
   ]
  },
  {
   "cell_type": "code",
   "execution_count": null,
   "metadata": {
    "collapsed": false
   },
   "outputs": [],
   "source": [
    "import re\n",
    "\n",
    "# define a test string for demonstration purposes\n",
    "string = \"The markdown tutorial teaches you a bit about Markdown, which allows you to use markdown notation for text formatting.\"\n",
    "print(string)\n",
    "\n",
    "# now we add the markdown command for the link\n",
    "string = re.sub(r\"(?i)(markdown( tutorial)?)\", r\"[\\1](https://www.markdowntutorial.com)\", string)\n",
    "print(string)"
   ]
  },
  {
   "cell_type": "markdown",
   "metadata": {},
   "source": [
    "**The moral of the story:**\n",
    "Put some effort into mastering regular expressions, and soon you'll also be able to save time by automatically fixing your own documents!\n",
    "\n",
    "**The secondary moral of the story:**\n",
    "[Markdown](https://www.markdowntutorial.com) is really cool, you should give it a try!\n",
    "Why deal with a clunky and slow word processor that only works on PCs if you can write your essay as a txt file with markdown on any device you want and then convert it to docx, pdf, a website, an ebook, or whatever else you want."
   ]
  }
 ],
 "metadata": {
  "kernelspec": {
   "display_name": "Python 3",
   "language": "python",
   "name": "python3"
  },
  "language_info": {
   "codemirror_mode": {
    "name": "ipython",
    "version": 3
   },
   "file_extension": ".py",
   "mimetype": "text/x-python",
   "name": "python",
   "nbconvert_exporter": "python",
   "pygments_lexer": "ipython3",
   "version": "3.5.3"
  }
 },
 "nbformat": 4,
 "nbformat_minor": 2
}
