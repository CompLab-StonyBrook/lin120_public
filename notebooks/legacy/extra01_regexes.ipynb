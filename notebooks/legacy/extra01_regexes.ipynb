{
 "cells": [
  {
   "cell_type": "markdown",
   "metadata": {},
   "source": [
    "# Regular Expressions: Additional Exercises\n",
    "\n",
    "*Note by TG:* These exercises were created by Orel and Suji to give you another opportunity to practice your regular expression skills.\n",
    "I highly recommend that you work through them and meet with Orel and Suji during their office hours (see Blackboard) to discuss your solutions."
   ]
  },
  {
   "cell_type": "markdown",
   "metadata": {},
   "source": [
    "## Part  1\n",
    "\n",
    "Below you can find regular expressions, and lists of strings inside the code cell. For each string, comment whether a given regular expression matches it or not, and why. For example, consider the following regular expression: `r'a.a'`. It means *a, followed by any symbol, followed by a*. \n",
    "In Python, you can check whether a string matches the regular expression using the following command: `re.match(regex, string)`: it produces an output (don't worry about what exacly that output means) whenever the regex matches the string or some of its part, and returns `None` (empty) value if the regex does not match the given string.\n",
    "\n",
    "Consider the following example:\n"
   ]
  },
  {
   "cell_type": "code",
   "execution_count": 1,
   "metadata": {},
   "outputs": [
    {
     "name": "stdout",
     "output_type": "stream",
     "text": [
      "ana -- <_sre.SRE_Match object; span=(0, 3), match='ana'>\n",
      "Mary had a little lamb -- None\n",
      "Stony Brook -- None\n"
     ]
    }
   ],
   "source": [
    "import re\n",
    "\n",
    "#RegEx = `r'a.a'`\n",
    "\n",
    "a = \"ana\" # matches the regular expression: 'a' is followed by a symbol ('n'), and followed by 'a'\n",
    "print(a, \"--\", re.match(r'a.a', a))\n",
    "\n",
    "b = \"Mary had a little lamb\" # does not match: there are more than one symbol in-between two 'a'\n",
    "print(b, \"--\", re.match(r'a.a', b))\n",
    "\n",
    "c = \"Stony Brook\" # does not match: there is no 'a' in the sequence to begin with\n",
    "print(c, \"--\", re.match(r'a.a', c))"
   ]
  },
  {
   "cell_type": "markdown",
   "metadata": {},
   "source": [
    "##### Exercise\n",
    "\n",
    "Now it's your turn to determine whether the following strings can be matched by the following regular expression!\n",
    "\n",
    "##### 1. RegEx = `a`"
   ]
  },
  {
   "cell_type": "code",
   "execution_count": null,
   "metadata": {
    "collapsed": true
   },
   "outputs": [],
   "source": [
    "a = \"Mary had a little lamb.\"\n",
    "b = \"And everywhere that Mary\"\n",
    "c = \"went, the lamb was sure\"\n",
    "d = \"to go."
   ]
  },
  {
   "cell_type": "markdown",
   "metadata": {},
   "source": [
    "##### 2. RegEx = `Mary`"
   ]
  },
  {
   "cell_type": "code",
   "execution_count": null,
   "metadata": {
    "collapsed": true
   },
   "outputs": [],
   "source": [
    "a = \"Mary had a little lamb.\"\n",
    "b = \"And everywhere that Mary\"\n",
    "c = \"went, the lamb was sure\"\n",
    "d = \"to go."
   ]
  },
  {
   "cell_type": "markdown",
   "metadata": {},
   "source": [
    "##### 3. RegEx = `Mary$`"
   ]
  },
  {
   "cell_type": "code",
   "execution_count": null,
   "metadata": {
    "collapsed": true
   },
   "outputs": [],
   "source": [
    "a = \"Mary had a little lamb.\"\n",
    "b = \"And everywhere that Mary\"\n",
    "c = \"went, the lamb was sure\"\n",
    "d = \"to go."
   ]
  },
  {
   "cell_type": "markdown",
   "metadata": {},
   "source": [
    "##### 4. RegEx = `^Mary`"
   ]
  },
  {
   "cell_type": "code",
   "execution_count": null,
   "metadata": {
    "collapsed": true
   },
   "outputs": [],
   "source": [
    "a = \"Mary had a little lamb.\"\n",
    "b = \"And everywhere that Mary\"\n",
    "c = \"went, the lamb was sure\"\n",
    "d = \"to go."
   ]
  },
  {
   "cell_type": "markdown",
   "metadata": {},
   "source": [
    "##### 5. RegEx = `.a`"
   ]
  },
  {
   "cell_type": "code",
   "execution_count": null,
   "metadata": {
    "collapsed": true
   },
   "outputs": [],
   "source": [
    "a = \"Mary had a little lamb.\"\n",
    "b = \"And everywhere that Mary\"\n",
    "c = \"went, the lamb was sure\"\n",
    "d = \"to go."
   ]
  },
  {
   "cell_type": "markdown",
   "metadata": {},
   "source": [
    "##### 6. RegEx = `[a-z]a`"
   ]
  },
  {
   "cell_type": "code",
   "execution_count": null,
   "metadata": {
    "collapsed": true
   },
   "outputs": [],
   "source": [
    "a = \"Mary had a little lamb.\"\n",
    "b = \"And everywhere that Mary\"\n",
    "c = \"went, the lamb was sure\"\n",
    "d = \"to go."
   ]
  },
  {
   "cell_type": "markdown",
   "metadata": {},
   "source": [
    "##### 7. RegEx = `A+B*C?D`"
   ]
  },
  {
   "cell_type": "code",
   "execution_count": null,
   "metadata": {
    "collapsed": true
   },
   "outputs": [],
   "source": [
    "a = \"AAAD\"\n",
    "b = \"[ABBBBCD\"\n",
    "c = \"BBBCD\"\n",
    "d = \"ABCCD\"\n",
    "e = \"AAABBBC\""
   ]
  },
  {
   "cell_type": "markdown",
   "metadata": {},
   "source": [
    "## Part B\n",
    "\n",
    "Below you can find descriptions of strings. Your goal is to write a regular expression in the cell below that will find the strings matching this descriptions! For example, if the description is *starts with 'hello', and the capitalization does not matter*, the corresponding regular expression would be `(?i)^hello`.\n",
    "\n",
    "Your turn!\n",
    "\n",
    "##### Exercise. Write a regular expression matching every string that\n",
    "##### 1. contains an 'a'"
   ]
  },
  {
   "cell_type": "code",
   "execution_count": 1,
   "metadata": {},
   "outputs": [
    {
     "ename": "NameError",
     "evalue": "name 're' is not defined",
     "output_type": "error",
     "traceback": [
      "\u001b[1;31m---------------------------------------------------------------------------\u001b[0m",
      "\u001b[1;31mNameError\u001b[0m                                 Traceback (most recent call last)",
      "\u001b[1;32m<ipython-input-1-f56d84502dad>\u001b[0m in \u001b[0;36m<module>\u001b[1;34m()\u001b[0m\n\u001b[1;32m----> 1\u001b[1;33m \u001b[0mre\u001b[0m\u001b[1;33m.\u001b[0m\u001b[0mmatch\u001b[0m\u001b[1;33m(\u001b[0m\u001b[1;34m\"a\"\u001b[0m\u001b[1;33m)\u001b[0m\u001b[1;33m\u001b[0m\u001b[0m\n\u001b[0m",
      "\u001b[1;31mNameError\u001b[0m: name 're' is not defined"
     ]
    }
   ],
   "source": [
    "re.match(\"a\")"
   ]
  },
  {
   "cell_type": "markdown",
   "metadata": {},
   "source": [
    "##### 2. starts with an 'a'"
   ]
  },
  {
   "cell_type": "code",
   "execution_count": null,
   "metadata": {
    "collapsed": true
   },
   "outputs": [],
   "source": [
    "re.match(^a)"
   ]
  },
  {
   "cell_type": "markdown",
   "metadata": {},
   "source": [
    "##### 3. contains 'th'"
   ]
  },
  {
   "cell_type": "code",
   "execution_count": null,
   "metadata": {
    "collapsed": true
   },
   "outputs": [],
   "source": [
    "re.match(\"th\")"
   ]
  },
  {
   "cell_type": "markdown",
   "metadata": {},
   "source": [
    "##### 4. has an 'a' or an 'A'"
   ]
  },
  {
   "cell_type": "code",
   "execution_count": null,
   "metadata": {
    "collapsed": true
   },
   "outputs": [],
   "source": [
    "re.match(\"A|a\")"
   ]
  },
  {
   "cell_type": "markdown",
   "metadata": {},
   "source": [
    "##### 5. has a star symbol ('\\*') in it"
   ]
  },
  {
   "cell_type": "code",
   "execution_count": null,
   "metadata": {
    "collapsed": true
   },
   "outputs": [],
   "source": [
    "re.match(\"\\*\")"
   ]
  },
  {
   "cell_type": "markdown",
   "metadata": {},
   "source": [
    "##### 6. starts with an 'a' or 'A'"
   ]
  },
  {
   "cell_type": "code",
   "execution_count": null,
   "metadata": {
    "collapsed": true
   },
   "outputs": [],
   "source": [
    "re.match(\"^a|^A\")"
   ]
  },
  {
   "cell_type": "markdown",
   "metadata": {},
   "source": [
    "##### 7. has at least 2 consecutive vowels (a,e,i,o,u)"
   ]
  },
  {
   "cell_type": "code",
   "execution_count": null,
   "metadata": {
    "collapsed": true
   },
   "outputs": [],
   "source": [
    "re.match(\"[aeiou]{2,}\")"
   ]
  },
  {
   "cell_type": "markdown",
   "metadata": {},
   "source": [
    "##### 8. has at least 3 vowels"
   ]
  },
  {
   "cell_type": "code",
   "execution_count": null,
   "metadata": {
    "collapsed": true
   },
   "outputs": [],
   "source": [
    "re.match(\"[3aeiou]\")"
   ]
  },
  {
   "cell_type": "markdown",
   "metadata": {},
   "source": [
    "##### 9. has at least 6 characters"
   ]
  },
  {
   "cell_type": "code",
   "execution_count": null,
   "metadata": {
    "collapsed": true
   },
   "outputs": [],
   "source": [
    "re.match(\"[6\\w]\")"
   ]
  },
  {
   "cell_type": "markdown",
   "metadata": {},
   "source": [
    "##### 10. has exactly 6 characters"
   ]
  },
  {
   "cell_type": "code",
   "execution_count": null,
   "metadata": {
    "collapsed": true
   },
   "outputs": [],
   "source": [
    "re.match(\"\\w{6}\")"
   ]
  },
  {
   "cell_type": "markdown",
   "metadata": {},
   "source": [
    "## Part C\n",
    "\n",
    "##### 1. Let's clean the string!\n",
    "\n",
    "The code below is supposed to remove all parts of the string that start with &lt; and end with &gt;, such as *&lt;a&gt;*, *&lt;/a&gt;*, or *&lt;anything else&gt;*. However, as you can see from the output of this code, it does not work as intended: *&lt;/a&gt;* is not removed from the original string... Your task is to fix it!"
   ]
  },
  {
   "cell_type": "code",
   "execution_count": null,
   "metadata": {
    "collapsed": true
   },
   "outputs": [],
   "source": [
    "import re\n",
    "\n",
    "example_string = '<a>sss</a><i>'\n",
    "\n",
    "r = re.sub(r\"<.?>\", r\"\", example_string)\n",
    "\n",
    "print(\"Original string:\", example_string )\n",
    "print(\"Changed string: \", r)"
   ]
  },
  {
   "cell_type": "markdown",
   "metadata": {},
   "source": [
    "##### 2. Password tests\n",
    "\n",
    "We are creating the test for the website that will help users to choose a password. The reguar expression for the intended passwords is the following:\n",
    "\n",
    "`^[a-z0- 9]{7,9}$`\n",
    "\n",
    "Below you can find 3 propositions, and one of them is wrong. Your task is to determine which one, and to explain why.\n",
    "\n",
    "1. Password must contain at least one number\n",
    "2. Password must be at least 7 characters long\n",
    "3. Password must not contain any special character (!@#$%^&amp;*)\n",
    "\n",
    "\n",
    "Place your answer below and a brief explanation why.\n",
    "\n",
    "*your answer*"
   ]
  },
  {
   "cell_type": "code",
   "execution_count": null,
   "metadata": {
    "collapsed": true
   },
   "outputs": [],
   "source": [
    "# you can test your assumptions here"
   ]
  },
  {
   "cell_type": "markdown",
   "metadata": {},
   "source": [
    "##### 3. Combine the sentences!\n",
    "\n",
    "Below you can find a code that is supposed to merge together the two sentences *She is smart. She is strong.* so that the resulting sentence will be *She is smart and strong.* Unfortunately, the code doesn't do it yet... Your task is to replace the placeholder in the regular expression by something that will make the intended changes."
   ]
  },
  {
   "cell_type": "code",
   "execution_count": null,
   "metadata": {
    "collapsed": true
   },
   "outputs": [],
   "source": [
    "import re\n",
    "\n",
    "example_string = \"She is smart. She is strong.\"\n",
    "\n",
    "r = re.sub(r\"placeholder\", r\" and\", example_string)\n",
    "\n",
    "print(\"Original string:\", example_string )\n",
    "print(\"Changed string:\" + r)"
   ]
  },
  {
   "cell_type": "markdown",
   "metadata": {},
   "source": [
    "##### 4. Report instead of data\n",
    "\n",
    "The code below is supposed to produce the sentence *Susan is 24 years old.* based on the given `sentence1` and `sentence2`. Your task is to substitute *placeholder* with an expression that would give us the intended result."
   ]
  },
  {
   "cell_type": "code",
   "execution_count": null,
   "metadata": {
    "collapsed": true
   },
   "outputs": [],
   "source": [
    "import re\n",
    "\n",
    "string1 = \"Name: Susan\"\n",
    "string2 = \"Age: 24\"\n",
    "\n",
    "name = re.sub(r\"Name: \", r\"\", string1)\n",
    "age = re.sub(r\"placeholder\", r\"\", string2)\n",
    "\n",
    "new_string = name + \" is \" + age + \" years old.\"\n",
    "                \n",
    "print(\"Our new string:\\n\" + new_string)"
   ]
  },
  {
   "cell_type": "markdown",
   "metadata": {},
   "source": [
    "###### 5. Find a match! ;)\n",
    "\n",
    "Which one of the following examples contain a match for the following regex:\n",
    "\n",
    "`^(0[1-9]|1[012])[-](0[1-9]|[12][0-9]|3[01])[-]\\d{4}$`\n",
    "\n",
    "1. 011111111\n",
    "2. Python1\n",
    "3. 12-30-1994\n",
    "4. 01-40-1997\n",
    "5. 0-0-0000\n",
    "6. 01/02/2000\n",
    "7. 01-10/2005\n",
    "8. 11-15-200\n",
    "\n",
    "Write your answers below, more than one of them may be correct.\n",
    "\n",
    "*your answers*"
   ]
  },
  {
   "cell_type": "code",
   "execution_count": null,
   "metadata": {
    "collapsed": true
   },
   "outputs": [],
   "source": [
    "# you can write some code for testing here"
   ]
  },
  {
   "cell_type": "markdown",
   "metadata": {},
   "source": [
    "##### 6. More matches\n",
    "\n",
    "Which of the following regular expression would match both strings *'Super Fast'* and *'super slow'*? \n",
    "\n",
    "1. Super.*\n",
    "2. [Ss]uper .+\n",
    "3. super .+\n",
    "\n",
    "*put your answer here*"
   ]
  },
  {
   "cell_type": "code",
   "execution_count": null,
   "metadata": {
    "collapsed": true
   },
   "outputs": [],
   "source": [
    "# again, you can use this cell for testing"
   ]
  },
  {
   "cell_type": "code",
   "execution_count": null,
   "metadata": {
    "collapsed": true
   },
   "outputs": [],
   "source": []
  }
 ],
 "metadata": {
  "kernelspec": {
   "display_name": "Python 3",
   "language": "python",
   "name": "python3"
  },
  "language_info": {
   "codemirror_mode": {
    "name": "ipython",
    "version": 3
   },
   "file_extension": ".py",
   "mimetype": "text/x-python",
   "name": "python",
   "nbconvert_exporter": "python",
   "pygments_lexer": "ipython3",
   "version": "3.6.5"
  }
 },
 "nbformat": 4,
 "nbformat_minor": 2
}
