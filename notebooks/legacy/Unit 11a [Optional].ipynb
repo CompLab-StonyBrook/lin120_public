{
 "cells": [
  {
   "cell_type": "markdown",
   "metadata": {},
   "source": [
    "# Type Annotations for Functions\n",
    "\n",
    "When writing Python functions, it is advisable to make sure that both the function and its arguments have meaningful names."
   ]
  },
  {
   "cell_type": "code",
   "execution_count": null,
   "metadata": {
    "collapsed": false
   },
   "outputs": [],
   "source": [
    "# a bad function definition\n",
    "def function_two(argument1, argument2):\n",
    "    return argument1 == argument2\n",
    "\n",
    "# a better version\n",
    "def compare_names(name1, name2):\n",
    "    return name1 == name2\n",
    "\n",
    "print(compare_names(\"John\", \"John\"))\n",
    "print(compare_names(\"John\", \"Mary\"))"
   ]
  },
  {
   "cell_type": "markdown",
   "metadata": {},
   "source": [
    "But even with meaningful names it is often difficult to figure out what exactly the arguments of a function look like.\n",
    "In the example above, it is pretty safe to assume that `name1` and `name2` are strings.\n",
    "But what about the function we saw in the previous unit?"
   ]
  },
  {
   "cell_type": "code",
   "execution_count": null,
   "metadata": {
    "collapsed": true
   },
   "outputs": [],
   "source": [
    "import random\n",
    "import re\n",
    "\n",
    "def produce_reply(starts, reply):\n",
    "    # only keep part of reply until first punctuation symbol\n",
    "    reply = re.sub(r\"(?i)^([^\\.\\?!]*).*\", r\"\\1?\", reply)\n",
    "    bot_reply = random.choice(starts) + \" \" + reply\n",
    "    return bot_reply"
   ]
  },
  {
   "cell_type": "markdown",
   "metadata": {},
   "source": [
    "We can infer that `reply` is a string because we use it as an argument of `re.sub`.\n",
    "But with `starts` we can be less sure.\n",
    "In principle, the `random.choice` function also works with strings.\n",
    "When the argument is a string rather than a list, the function randomly picks one of the characters in the string."
   ]
  },
  {
   "cell_type": "code",
   "execution_count": null,
   "metadata": {
    "collapsed": false
   },
   "outputs": [],
   "source": [
    "import random\n",
    "print(random.choice(\"Mary\"))"
   ]
  },
  {
   "cell_type": "markdown",
   "metadata": {},
   "source": [
    "Admittedly it is hard to imagine why anybody would want to add a random character from some strings `starts` before reply, but it isn't inconceivable.\n",
    "We can avoid some confusion by noting explicitly for each argument what kind of object it is."
   ]
  },
  {
   "cell_type": "code",
   "execution_count": null,
   "metadata": {
    "collapsed": true
   },
   "outputs": [],
   "source": [
    "import random\n",
    "import re\n",
    "\n",
    "# we now annotate each argument with its type\n",
    "def produce_reply(starts: list, reply: str):\n",
    "    # only keep part of reply until first punctuation symbol\n",
    "    reply = re.sub(r\"(?i)^([^\\.\\?!]*).*\", r\"\\1?\", reply)\n",
    "    bot_reply = random.choice(starts) + \" \" + reply\n",
    "    return bot_reply"
   ]
  },
  {
   "cell_type": "markdown",
   "metadata": {},
   "source": [
    "The code above now tells us explicitly that `starts` is a list and `reply` is a string.\n",
    "We can even add the information that the function produces a string as its output."
   ]
  },
  {
   "cell_type": "code",
   "execution_count": null,
   "metadata": {
    "collapsed": true
   },
   "outputs": [],
   "source": [
    "import random\n",
    "import re\n",
    "\n",
    "# we now annotate each argument with its type\n",
    "# and also add -> str to show that the output is a string\n",
    "def produce_reply(starts: list, reply: str) -> str:\n",
    "    # only keep part of reply until first punctuation symbol\n",
    "    reply = re.sub(r\"(?i)^([^\\.\\?!]*).*\", r\"\\1?\", reply)\n",
    "    bot_reply = random.choice(starts) + \" \" + reply\n",
    "    return bot_reply"
   ]
  },
  {
   "cell_type": "markdown",
   "metadata": {},
   "source": [
    "Adding this information to the function does not change the program at all.\n",
    "Python does not care whether we specify that `starts` is supposed to be a list and `reply` a string.\n",
    "For example, we can still call `produce_reply` with two strings as arguments."
   ]
  },
  {
   "cell_type": "code",
   "execution_count": null,
   "metadata": {
    "collapsed": false
   },
   "outputs": [],
   "source": [
    "import random\n",
    "import re\n",
    "\n",
    "# we now annotate each argument with its type\n",
    "# and also add -> str to show that the output is a string\n",
    "def produce_reply(starts: list, reply: str) -> str:\n",
    "    # only keep part of reply until first punctuation symbol\n",
    "    reply = re.sub(r\"(?i)^([^\\.\\?!]*).*\", r\"\\1?\", reply)\n",
    "    bot_reply = random.choice(starts) + \" \" + reply\n",
    "    return bot_reply\n",
    "\n",
    "print(produce_reply(\"!?@\", \"John likes Mary. Yes, it's true, he likes Mary!\"))"
   ]
  },
  {
   "cell_type": "markdown",
   "metadata": {},
   "source": [
    "These annotations are not meant for Python, they are meant to make your code easier to understand for whoever happens to be reading it (which might be yourself a few years after you last touched the code).\n",
    "\n",
    "By default, you can use the following annotations for arguments:\n",
    "\n",
    "1. `str` for strings\n",
    "1. `list` for lists\n",
    "1. `int` for integers (5, -17, 23450110)\n",
    "1. `float` for floating numbers (3.0, -2.71823)\n",
    "1. `bool` for Booleans (True, False)\n",
    "\n",
    "If you have already read the expansion unit *Functions vs Methods*, you will recognize these as some of the predefined *classes* or *types* of Python.\n",
    "For any object, you can use the function `type` to see which class/type it belongs to."
   ]
  },
  {
   "cell_type": "code",
   "execution_count": null,
   "metadata": {
    "collapsed": false
   },
   "outputs": [],
   "source": [
    "print(type(\"this is a string\"))\n",
    "print(type([\"This\", \"is\", \"a\", \"list\"]))\n",
    "print(type(50))\n",
    "print(type(5.0))\n",
    "print(type(True))\n",
    "print(type(False))"
   ]
  },
  {
   "cell_type": "markdown",
   "metadata": {},
   "source": [
    "Adding basic types to your function definitions helps keeping your code readable.\n",
    "For small projects it is rarely worth the hassle, but once you have half a dozen functions that take various arguments and interact with each other in intricate ways, it can be helpful to add types just so that you know what you are trying to do."
   ]
  },
  {
   "cell_type": "markdown",
   "metadata": {},
   "source": [
    "**Exercise.**\n",
    "Add type annotations to the function definition below."
   ]
  },
  {
   "cell_type": "code",
   "execution_count": null,
   "metadata": {
    "collapsed": true
   },
   "outputs": [],
   "source": [
    "def compare_names(name1, name2):\n",
    "    return name1 == name2"
   ]
  },
  {
   "cell_type": "markdown",
   "metadata": {},
   "source": [
    "Type annotations can be made a lot more sophisticated with the module `typing`.\n",
    "But for beginners the added functionality is rarely useful.\n",
    "For this course, I suggest that you add type annotations whenever you find them useful, but avoid loading the `typing` module since it is more of a hassle than it's worth for the short programs we will be writing."
   ]
  }
 ],
 "metadata": {
  "kernelspec": {
   "display_name": "Python 3",
   "language": "python",
   "name": "python3"
  },
  "language_info": {
   "codemirror_mode": {
    "name": "ipython",
    "version": 3
   },
   "file_extension": ".py",
   "mimetype": "text/x-python",
   "name": "python",
   "nbconvert_exporter": "python",
   "pygments_lexer": "ipython3",
   "version": "3.5.3"
  }
 },
 "nbformat": 4,
 "nbformat_minor": 2
}
