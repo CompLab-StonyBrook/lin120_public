{
 "cells": [
  {
   "cell_type": "markdown",
   "metadata": {},
   "source": [
    "# Expansion unit: Augmented assignments\n",
    "\n",
    "In the preceding unit, there were various points where we wanted to increase the value of a variable.\n",
    "An example of that is shown below."
   ]
  },
  {
   "cell_type": "code",
   "execution_count": null,
   "metadata": {
    "collapsed": false
   },
   "outputs": [],
   "source": [
    "total = 0\n",
    "print(\"Total is\", total)\n",
    "total = total + 1\n",
    "print(\"Total is\", total)"
   ]
  },
  {
   "cell_type": "markdown",
   "metadata": {},
   "source": [
    "Typing the name of the variable two times in a row is fairly annoying, in particular when the variable name is very long."
   ]
  },
  {
   "cell_type": "code",
   "execution_count": null,
   "metadata": {
    "collapsed": false
   },
   "outputs": [],
   "source": [
    "supercalifragilisticexpialidocious = 0\n",
    "supercalifragilisticexpialidocious = supercalifragilisticexpialidocious + 1\n",
    "print(supercalifragilisticexpialidocious)"
   ]
  },
  {
   "cell_type": "markdown",
   "metadata": {},
   "source": [
    "This is why Python offers a more condensed syntax for these cases.\n",
    "Instead of writing `x = x + 1`, you can simply write `x += 1`."
   ]
  },
  {
   "cell_type": "code",
   "execution_count": null,
   "metadata": {
    "collapsed": false
   },
   "outputs": [],
   "source": [
    "total = 0\n",
    "print(\"Total is\", total)\n",
    "total += 1\n",
    "print(\"Total is\", total)"
   ]
  },
  {
   "cell_type": "markdown",
   "metadata": {},
   "source": [
    "This is called an *augmented assignment* because it augments the variable assignment with the `+` operation.\n",
    "\n",
    "Augmented assignments aren't limited to `+`, they work with many different operators.\n",
    "For example, substraction in Python is `-`, and there is a corresponding augmented assignment operator `-=`.\n",
    "And for multiplication `*` there is the counterpart `*=`."
   ]
  },
  {
   "cell_type": "code",
   "execution_count": null,
   "metadata": {
    "collapsed": false
   },
   "outputs": [],
   "source": [
    "total = 10\n",
    "print(total)\n",
    "\n",
    "# subtract 5\n",
    "total -= 5\n",
    "print(total)\n",
    "\n",
    "# now multiply by 2\n",
    "total *= 2\n",
    "print(total)"
   ]
  },
  {
   "cell_type": "markdown",
   "metadata": {},
   "source": [
    "And augmented assignments aren't limited to numbers.\n",
    "Recall that `+` can be used to put strings together, so `+=` can also be used with strings."
   ]
  },
  {
   "cell_type": "code",
   "execution_count": null,
   "metadata": {
    "collapsed": false
   },
   "outputs": [],
   "source": [
    "string = \"A beginning\"\n",
    "string = string + \" with an\"\n",
    "print(string)\n",
    "\n",
    "string += \" end\"\n",
    "print(string)"
   ]
  },
  {
   "cell_type": "markdown",
   "metadata": {},
   "source": [
    "Under the hood, augmented assignments even run faster than their more verbose counterparts.\n",
    "So there really is no reason not to use augmented assignments, it saves you typing and makes your code more efficient."
   ]
  }
 ],
 "metadata": {
  "kernelspec": {
   "display_name": "Python 3",
   "language": "python",
   "name": "python3"
  },
  "language_info": {
   "codemirror_mode": {
    "name": "ipython",
    "version": 3
   },
   "file_extension": ".py",
   "mimetype": "text/x-python",
   "name": "python",
   "nbconvert_exporter": "python",
   "pygments_lexer": "ipython3",
   "version": "3.5.3"
  }
 },
 "nbformat": 4,
 "nbformat_minor": 2
}
