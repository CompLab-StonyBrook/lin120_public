{
 "cells": [
  {
   "cell_type": "markdown",
   "metadata": {},
   "source": [
    "# Repeating and reusing code\n",
    "\n",
    "In our first discussion of lists, we designed the chatbot Deep Thought.\n",
    "Let us look at it one more time."
   ]
  },
  {
   "cell_type": "code",
   "execution_count": null,
   "metadata": {
    "collapsed": false
   },
   "outputs": [],
   "source": [
    "# a simple chatbot with a memory of the conversation\n",
    "\n",
    "# instantiate the chatbots memory as an empty list\n",
    "memory = []\n",
    "\n",
    "# greet the user\n",
    "print(\"Hi, I am the supercomputer Deep Thought.\")\n",
    "print(\"What do you wish to ask me?\")\n",
    "\n",
    "# get user reply\n",
    "reply = input()\n",
    "# and store it in memory\n",
    "list.append(memory, reply)\n",
    "\n",
    "# answer the question\n",
    "print(\"Computing...\")\n",
    "print(\"Computing...\")\n",
    "print(\"Computing...\")\n",
    "print(\"Finished computing.\")\n",
    "print(\"The answer to your question is:\")\n",
    "print(\"42\")\n",
    "\n",
    "# get another question\n",
    "print(\"Is there anything else you want to ask me?\")\n",
    "\n",
    "# get second user reply\n",
    "reply = input()\n",
    "# test if the user has asked this before\n",
    "if reply in memory:\n",
    "    print(\"You have asked this question before.\")\n",
    "    print(\"But I shall answer it nonetheless.\")\n",
    "\n",
    "# give answer\n",
    "print(\"Computing...\")\n",
    "# and so on"
   ]
  },
  {
   "cell_type": "markdown",
   "metadata": {},
   "source": [
    "Notice that this chatbot asks the user twice, and then turns silent.\n",
    "But wouldn't it be much more fun if the conversation could go on forever, until the user says *Goodbye* or *Stop*?\n",
    "We can do this by telling Python to run the code in a loop."
   ]
  },
  {
   "cell_type": "markdown",
   "metadata": {},
   "source": [
    "## Looping code with `while`"
   ]
  },
  {
   "cell_type": "markdown",
   "metadata": {},
   "source": [
    "Python has a `while` statement that allows it to loop code.\n",
    "\n",
    "```python\n",
    "while some_condition:\n",
    "    # if some_condition holds, execute the code here;\n",
    "    # if some_condition still holds once the code has been executed,\n",
    "    # run the code again;\n",
    "    # repeat the loop until some_condition no longer holds\n",
    "```\n",
    "\n",
    "So the `while` statement is like an `if` statement, except that the code block below it gets repeated until the condition no longer holds.\n",
    "Here's a toy example of how this can be used for a chatbot."
   ]
  },
  {
   "cell_type": "code",
   "execution_count": null,
   "metadata": {
    "collapsed": false
   },
   "outputs": [],
   "source": [
    "# we start our code as usual\n",
    "print(\"Hi there, what's your name?\")\n",
    "# get the user's reply\n",
    "name = input()\n",
    "\n",
    "# we start our loop\n",
    "while name != \"Loretta\":\n",
    "    # the code below is executed unless the user entered Loretta\n",
    "    print(\"Hmm, I think Loretta is a much nicer name for you.\")\n",
    "    print(\"So, tell me, what's your name?\")\n",
    "    # get the user's new input\n",
    "    name = input()\n",
    "    # the code block ends here;\n",
    "    # Python jumps back to the while line and checks again if name != \"Loretta\";\n",
    "    # if so, we execute the whole code block again;\n",
    "    # otherwise, we continue below\n",
    "    \n",
    "print(\"Loretta is such a beautiful name, you should be proud.\")\n",
    "print(\"If you'll excuse me, I think I see another person over there that might be called Loretta.\")"
   ]
  },
  {
   "cell_type": "markdown",
   "metadata": {},
   "source": [
    "Run the code above and enter your name a few times (unless your name is Loretta, then please pick something else).\n",
    "As you'll see, the code keeps being executed from the beginning of the while loop over and over again.\n",
    "The loop ends only once you enter *Loretta* so that the condition `name != \"Loretta\"` is no longer satisfied."
   ]
  },
  {
   "cell_type": "markdown",
   "metadata": {},
   "source": [
    "If you still find this confusing, here's an analogy from the much older programming language *Basic*.\n",
    "In Basic, every line of code is assigned a number, and the programmer can instruct the computer to jump to specific lines of code.\n",
    "Python does not use line numbers like this (it's a really, really bad idea, and many programmers are only bald nowadays because Basic's line numbering made them rip their hair out in the 80s).\n",
    "But let's assume for a moment that Python had line numbers.\n",
    "Then we could rewrite the code above as the following:\n",
    "\n",
    "```python\n",
    "1 print(\"Hi there, what's your name?\")\n",
    "2 name = input()\n",
    "3 if name != \"Loretta\":\n",
    "4     print(\"Hmm, I think Loretta is a much nicer name for you.\")\n",
    "5     print(\"So tell me, what's your name?\")\n",
    "6     name = input()\n",
    "7     goto(3) # this tells us to go back to line 3\n",
    "8 print(\"Loretta is such a beautiful name, you should be proud.\")\n",
    "9 print(\"If you'll excuse me, I think I see another person over there that might be called Loretta.\")\n",
    "```\n",
    "\n",
    "So a `while` is just an `if` where the end of the code block contains an instruction to go back up to the `if`."
   ]
  },
  {
   "cell_type": "markdown",
   "metadata": {},
   "source": [
    "Now let's see how we can add a `while` loop to our Deep Thought chatbot."
   ]
  },
  {
   "cell_type": "code",
   "execution_count": null,
   "metadata": {
    "collapsed": false
   },
   "outputs": [],
   "source": [
    "# a simple chatbot with a memory of the conversation\n",
    "\n",
    "# instantiate the chatbots memory as an empty list\n",
    "memory = []\n",
    "\n",
    "# greet the user\n",
    "print(\"Hi, I am the supercomputer Deep Thought.\")\n",
    "print(\"What do you wish to ask me?\")\n",
    "\n",
    "# get user reply\n",
    "reply = input()\n",
    "# and store it in memory\n",
    "list.append(memory, reply)\n",
    "\n",
    "# and now we start our loop,\n",
    "# which keeps repeating until the user says one of the following\n",
    "# 1) Goodbye\n",
    "# 2) Stop\n",
    "# 3) Shut up!\n",
    "while reply not in [\"Goodbye\", \"Stop\", \"Shut up!\"]:\n",
    "    # test if the user has asked this before\n",
    "    if reply in memory:\n",
    "        print(\"You have asked this question before.\")\n",
    "        print(\"But I shall answer it nonetheless.\")\n",
    "        \n",
    "    # answer the question\n",
    "    print(\"Computing...\")\n",
    "    print(\"Computing...\")\n",
    "    print(\"Computing...\")\n",
    "    print(\"Finished computing.\")\n",
    "    print(\"The answer to your question is:\")\n",
    "    print(\"42\")\n",
    "\n",
    "    # get another question\n",
    "    print(\"Is there anything else you want to ask me?\")\n",
    "    # get new user reply\n",
    "    reply = input()\n",
    "    # and save it in memory\n",
    "    list.append(memory, reply)\n",
    "    # if reply is not one of the words above,\n",
    "    # we start again from \"Computing...\";\n",
    "    # otherwise, the loop stops here and we proceed below\n",
    "\n",
    "# the while loop is over, let's say goodbye\n",
    "print(\"You have learned everything there is to know.\")\n",
    "print(\"Farewell.\")"
   ]
  },
  {
   "cell_type": "markdown",
   "metadata": {},
   "source": [
    "Run the code above and chat with the bot for a few turns.\n",
    "Play close attention to how the code loops after your reply.\n",
    "Also repeat a few inputs so that you can verify that Deep Thought still memorizes all replies correctly.\n",
    "Then end the chat with one of the three break words."
   ]
  },
  {
   "cell_type": "markdown",
   "metadata": {},
   "source": [
    "**Exercise. **\n",
    "What would happen if we changed the `while` statement in Deep Thought so that it says `while True:`?"
   ]
  },
  {
   "cell_type": "markdown",
   "metadata": {},
   "source": [
    "## Reusing code with functions\n",
    "\n",
    "The Deep Thought code above is a change from what we have done before because now we have a program that can execute parts of its code over and over again.\n",
    "In our earlier programs, that was never the case, the code simply got executed one line after the other.\n",
    "The ability to execute code multiple times is a crucial aspect of programming.\n",
    "But there is also another one: lazyness.\n",
    "Lazyness is one of the driving motives in the design of programming languages --- there's many things in programming languages that are there not because they make the language more powerful, but because they make it more convenient.\n",
    "The `while` loop is a bit of both: it really allows Python to do things that it couldn't do otherwise, but in some sense it's also just a more convenient version of an `if` statement with Basic's line numbering and goto statements.\n",
    "\n",
    "Another nice Python tool, however, is in the convenience camp: *functions*.\n",
    "This statement might surprise you.\n",
    "Didn't we say that `print` and `input` are functions?\n",
    "And without those, none of our chatbots would work!\n",
    "That is true, but we aren't talking about Python's *built-in* functions, but rather **custom** functions.\n",
    "Those are functions that the programmer can define by himself or herself.\n",
    "And the main reason for a programmer to use custom functions is because it makes the code easier to read, modify, and maintain.\n",
    "But in principle one could write a program without those custom functions.\n",
    "\n",
    "So what are custom functions, and more importantly, what are they good for?\n",
    "Let's look once more at the code for Deep Thought.\n",
    "It contains three lines with exactly the same `print(\"Computing...\")`.\n",
    "Isn't that a bit tedious to type?\n",
    "And if we decide to change the text to `print(\"Please holds on, busy computing...\")`, we would have to do that on all three lines.\n",
    "Not the end of the world, but tedious nonetheless.\n",
    "\n",
    "With a custom function, we can solve this more efficiently."
   ]
  },
  {
   "cell_type": "code",
   "execution_count": 2,
   "metadata": {
    "collapsed": false
   },
   "outputs": [
    {
     "name": "stdout",
     "output_type": "stream",
     "text": [
      "Computing...\n",
      "Computing...\n",
      "Computing...\n",
      "Computing...\n"
     ]
    }
   ],
   "source": [
    "# define a \"Computing...\" function\n",
    "def computing():\n",
    "    print(\"Computing...\")\n",
    "    \n",
    "computing()\n",
    "computing()\n",
    "computing()\n",
    "computing()"
   ]
  },
  {
   "cell_type": "markdown",
   "metadata": {},
   "source": [
    "Here's what's going on in this mini-program.\n",
    "We first define a custom function `computing()`.\n",
    "We tell Python that whenever we write `computing()`, we want it to replace that by the code `print(\"Computing...\")`.\n",
    "So in a sense, we are using `computing()` as a shorthand for `print(\"Computing...\")`.\n",
    "We then call the `computing()` function four times, which is the same as having four lines with `print(\"Computing...\")`.\n",
    "\n",
    "In the example above, we didn't really save ourselves much typing.\n",
    "But we did get the advantage that we can easily change the code on the fly.\n",
    "Go back to the previous example, change the `print` statement inside the function, and run the code again.\n",
    "The output on all four lines will change accordingly.\n",
    "\n",
    "Note that we have to keep the `()` after `computing`.\n",
    "That's because `computing` is a function, so just like `print` and `input` it must be followed by `(` and `)`.\n",
    "But this also means that we can define custom functions that, just like `print` and `input`, take some *argument*."
   ]
  },
  {
   "cell_type": "code",
   "execution_count": 4,
   "metadata": {
    "collapsed": false
   },
   "outputs": [
    {
     "name": "stdout",
     "output_type": "stream",
     "text": [
      "Hello, Tiber Septim\n",
      "I have heard much about you.\n",
      "And who might you be?\n",
      "Thomas\n",
      "Hello, Thomas\n",
      "I have heard much about you.\n"
     ]
    }
   ],
   "source": [
    "def greet(name):\n",
    "    print(\"Hello,\", name)\n",
    "    print(\"I have heard much about you.\")\n",
    "    \n",
    "greet(\"Tiber Septim\")\n",
    "\n",
    "print(\"And who might you be?\")\n",
    "\n",
    "user_name = input()\n",
    "\n",
    "greet(user_name)"
   ]
  },
  {
   "cell_type": "markdown",
   "metadata": {},
   "source": [
    "The general format for defining a custom function is as follows:\n",
    "\n",
    "```python\n",
    "def function_name(argument_1, argument_2, ..., argument_n):\n",
    "    # some python code\n",
    "    # you may use each argument like an already defined variable\n",
    "```\n",
    "\n",
    "Function names follow similar naming conventions as variables.\n",
    "So it is a good idea to use lower caps with underscores.\n",
    "**Never** use spaces!\n",
    "\n",
    "Just like variables and lists, functions are a very important aspect of modern programming, and they will be with us for the rest of the semester.\n",
    "There is still a few tricks and stumbling blocks we have to master, but our coding repertoire is quickly reaching the level where you can do pretty much anything."
   ]
  }
 ],
 "metadata": {
  "kernelspec": {
   "display_name": "Python 3",
   "language": "python",
   "name": "python3"
  },
  "language_info": {
   "codemirror_mode": {
    "name": "ipython",
    "version": 3
   },
   "file_extension": ".py",
   "mimetype": "text/x-python",
   "name": "python",
   "nbconvert_exporter": "python",
   "pygments_lexer": "ipython3",
   "version": "3.5.3"
  }
 },
 "nbformat": 4,
 "nbformat_minor": 2
}
