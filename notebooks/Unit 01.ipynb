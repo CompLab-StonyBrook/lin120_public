{
 "cells": [
  {
   "cell_type": "markdown",
   "metadata": {},
   "source": [
    "# Your first steps in Python3\n",
    "\n",
    "## The ultimate goal: Thinking like a programmer\n",
    "\n",
    "As part of this class, you will learn the basics of programming in *Python* --- or more specifically, the current version 3.6 of Python.\n",
    "While there are thousands of programming languages out there, the concepts you will learn apply to all them.\n",
    "This includes basic data types (strings, integers, lists), storing and retrieving values with variables, and control flow (if-then, for).\n",
    "But it's not just the grammar of programming, you will also get a better understanding of how to approach a problem as a programmer.\n",
    "You see, programming is not so much about knowing a programming language, it's about thinking in a way that can be translated into programs.\n",
    "\n",
    "If that sounds confusing to you, consider this analogy: being a writer entails more than simply being able to write English sentences.\n",
    "You also have to understand how to structure a text and draw in the reader, what to include and what to cut, and even when to break a rule for greater effect.\n",
    "In the same vein, a programmer has to be able to analyze a problem, cut it down into a sequence of subproblems, come up with mechanical solutions for each subproblem, and then stitch it all back together into a program that solves the original problem.\n",
    "\n",
    "## An example\n",
    "\n",
    "Suppose you want to know how often the word `Hamlet` is said by somebody in Shakespeare's little known play *Hamlet*.\n",
    "That sounds straight-forward, and in a non-programming world it is: grab your copy of Hamlet, and start counting.\n",
    "Boring, but simple.\n",
    "With computers, however, there's a whole slew of issues to sort out.\n",
    "\n",
    "1.  A computer can't read a book, so how do you use a copy of *Hamlet*?\n",
    "    Sure, there's digital versions available for free online, but how do you feed that into your program?\n",
    "    \n",
    "1.  Once you somehow managed to get Hamlet into your program, what do you do with it?\n",
    "    How do you tell a computer what a word is, and that you want it to find all those words that exactly match the string `Hamlet`?\n",
    "    And how do you ensure that it only looks at lines that are being uttered by some character, rather than the stage instructions?\n",
    "    \n",
    "1.  How do you do the counting?\n",
    "    It's not enough to just say \"Computer, count!\".\n",
    "    Instead you have to do the equivalent of \"Computer, create a variable with the name `hamlet_counter`, and set it to zero.\n",
    "    Whenever you encounter another instance of `Hamlet`, increase the value of `hamlet_counter` by 1.\"\n",
    "    That's already much more explicit then you have to be for a human.\n",
    "    And guess what?\n",
    "    It's not enough, because you forgot the final instruction: \"Computer, once you've looked at all words in *Hamlet*, tell me the value of `hamlet_counter`.\"\n",
    "    Without that, the computer will gladly count and never reveal the result of its counting.\n",
    "    \n",
    "Just as the old clichee says, computers need extremely explicit instructions for everything.\n",
    "Whereas humans constantly infer obvious and implicit information to figure out what you have in mind, computers will happily follow your instructions by the letter.\n",
    "If there's something missing or unclear, too bad, your program doesn't work.\n",
    "\n",
    "Nowadays pretty much everybody is aware of this at a general level, but few are able to formulate their thoughts and ideas at a level of explicitness that is suitable for computers.\n",
    "And that is the true challenge of programming.\n",
    "\n",
    "\n",
    "## Why Python?\n",
    "\n",
    "### Bang for the buck\n",
    "\n",
    "Python is a *scripting language*, which essentially means a programming language that is easy to learn while still being useful for most projects.\n",
    "Unless you are trying to design your own operating system, model protein folding, or create the next Photoshop, Python will work just fine.\n",
    "Rudimentary knowledge of Python is already enough to write some neat scripts than can make your life easier.\n",
    "Even if something like a \"best programming language\" existed, there would be no point in learning it if were just too cumbersome to use for daily tasks.\n",
    "    \n",
    "### Great community\n",
    "\n",
    "There's tons of learning materials for Python, from textbooks to online course and Youtube videos.\n",
    "And as if that wasn't enough, there's blogs, and a great online community.\n",
    "In general, your problem won't be that you can't get any help with Python, but rather that there's so much stuff that it's hard to pick something.\n",
    "    \n",
    "### Longevity\n",
    "\n",
    "Since Python has so many users and so many programs have been written in it, it's not going to disappear any time soon.\n",
    "Many programming languages are just a fad and disappear within a decade, but Python has been very popular for over 20 years now and there are no signs that this will change anytime soon.\n",
    "So your Python skills won't be suddenly obsolete within ten years.\n",
    "    \n",
    "### Great libraries\n",
    "\n",
    "In programming, a *library* is a piece of code that provides all kinds of helper tools to the programmer.\n",
    "This makes it much easier and faster to write programs because you don't have to design everything yourself from scratch.\n",
    "Python has a humongous number of libraries, \n",
    "    \n",
    "Suppose you want to download *Hamlet* as an HTML file from [Project Gutenberg](http://www.gutenberg.org).\n",
    "If you want to do it yourself, you would have to have a serious understanding of networking infrastructure and how you can establish a connection with a server at a specific URL, request a file transfer, and then save the incoming data.\n",
    "Instead of wasting days or weeks on figuring this out, you can just import the `urllib.request` library and put the line `urllib.request.urlretrieve(\"http://www.gutenberg.org/cache/epub/1524/pg1524.html\", \"hamlet.html\")` in your program.\n",
    "Don't believe me?\n",
    "Try it for yourself!"
   ]
  },
  {
   "cell_type": "code",
   "execution_count": null,
   "metadata": {
    "collapsed": false
   },
   "outputs": [],
   "source": [
    "# we import the urllib.request library\n",
    "import urllib.request\n",
    "\n",
    "# and then we download Hamlet from Project Gutenberg,\n",
    "# using the urlretrieve command of the urllib.request library\n",
    "urllib.request.urlretrieve(\"http://www.gutenberg.org/cache/epub/1524/pg1524.html\", \"hamlet.html\")"
   ]
  },
  {
   "cell_type": "markdown",
   "metadata": {},
   "source": [
    "## Working with notebook cells\n",
    "\n",
    "Above this line is a *code cell*.\n",
    "You can click on the cell to highlight it.\n",
    "At this point you could type in any text you want, and in the future we will use this to have you modify existing programs or write your own from scratch.\n",
    "But for now, we only want to run the code.\n",
    "For this, click on the play button in the top toolbar (it's to the right of the up and down arrows, right next to the big stop button).\n",
    "\n",
    "Once you click the play button, the code is executed and a new cell is added below it, which shows the output of the program.\n",
    "In this case, the output is rather cryptic and will look something like this (the numbers will probably be different on your computer):\n",
    "\n",
    "```python\n",
    "('hamlet.html', <http.client.HTTPMessage at 0x7f1c607f5b00>)\n",
    "```\n",
    "\n",
    "But if you open your filebrowser and go to the folder where you saved this notebook, you will see that it now contains a file `hamlet.html`.\n",
    "And when you open that in your internet browser, you can see for yourself that it is indeed a digital version of *Hamlet*.\n",
    "So the code did download the file as claimed.\n",
    "\n",
    "Working with code cells is an integral part of homeworks in this course, so it's important that you get the hang of it.\n",
    "Don't worry, we'll start with simple things for now and slowly phase in more complicated aspects."
   ]
  },
  {
   "cell_type": "markdown",
   "metadata": {},
   "source": [
    "**Exercise. **\n",
    "Run the code below and look at the output.\n",
    "Then remove the `#` at the beginning of the last line, run the code again, and observe how the output changes."
   ]
  },
  {
   "cell_type": "code",
   "execution_count": null,
   "metadata": {
    "collapsed": false
   },
   "outputs": [],
   "source": [
    "print(\"Please use the play button to execute this code.\")\n",
    "print(\"The next line of code won't be run unless you remove the #.\")\n",
    "# print(\"Lines with a # at the beginning are ignored by Python. This makes it easy to add comments to your code.\")"
   ]
  },
  {
   "cell_type": "markdown",
   "metadata": {},
   "source": [
    "**Exercise. **\n",
    "Your turn!\n",
    "Below is an empty cell.\n",
    "Add at least 5 `print` statements of your choice.\n",
    "While typing, observe how colors are added automatically to make the code more readable.\n",
    "Then run the code and look at the output."
   ]
  },
  {
   "cell_type": "code",
   "execution_count": null,
   "metadata": {
    "collapsed": false
   },
   "outputs": [],
   "source": []
  },
  {
   "cell_type": "markdown",
   "metadata": {},
   "source": [
    "Did everything work out the way you expected?\n",
    "If it didn't, here's a few things to watch out for:\n",
    "\n",
    "- no extra space before `print`\n",
    "- both `(` and `)` must be present\n",
    "- the text must occur between `\"`\n",
    "- if `\"` should appear as text (e.g. `I like the \" sign`), it must be typed `\\\"`\n",
    "\n",
    "Yeah, computers are picky about these things.\n",
    "If you had problems, fix them and run the code again until everything comes out as it should.\n"
   ]
  },
  {
   "cell_type": "markdown",
   "metadata": {},
   "source": [
    "## Learning tip 1\n",
    "\n",
    "In the beginning, you'll often find that your program doesn't run because you forgot about a symbol, made a typo, or confused two similar but distinct symbols like `=` and `==`.\n",
    "That's why it is very important that you practice your Python skills on a daily basis.\n",
    "If you put off the homework until you have to do it in one evening, then you only get very limited exposure to Python each week, and that will make it hard to remember all these things.\n",
    "And if you have to worry about the small stuff, there's no way you can focus on the actual thinking challenges of programming --- just like you can't write a nice essay if you constantly have to think about English grammar.\n",
    "So make an effort to write at least a few simple Python commands each day.\n",
    "It only takes a few minutes and really helps build your muscle memory.\n",
    "\n",
    "**A little bit of Python a day keeps the typos away!**"
   ]
  },
  {
   "cell_type": "markdown",
   "metadata": {},
   "source": [
    "## Learning tip 2\n",
    "\n",
    "If you are like most students, you probably just used a couple of English sentences for your `print` statements.\n",
    "That's not the best choice.\n",
    "Don't just go for the obvious, try to experiment as much as you can.\n",
    "See how far you can push the system before it breaks.\n",
    "Nothing you do in a notebook affects the rest of your system, so you can try all kinds of things.\n",
    "This kind of trial and error is a very healthy habit for learning programming languages.\n",
    "Don't just wait for somebody to tell you what to do and then repeat it, be proactive!\n",
    "Think about what you would expect to be possible and impossible, then test if things actually work the way you thought."
   ]
  },
  {
   "cell_type": "markdown",
   "metadata": {},
   "source": [
    "**Exercise. **\n",
    "Alright, let's do this again.\n",
    "This time, try some more unusual strings to figure out what the text inside a `print` statement may look like.\n",
    "\n",
    "- Can it be a random sequence of characters?\n",
    "- What about special symbol like `@` or `|`?\n",
    "- Are non-English letters okay, for instance `é`, `ü`, `æ` or `ß`?\n",
    "- Does it work with Asian characters like `丑`?\n",
    "- What if a sentence contains a `\\`, as in\n",
    "    - `Backslash is the name of the symbol \\`\n",
    "    - `The symbol \\ is called backslash`\n",
    "- What about adding a line break so that the print statement spans multiple lines?\n",
    "\n",
    "Write at least 5 `print` statements that allow you to figure out more about what kind of text may occur inside `print`."
   ]
  },
  {
   "cell_type": "code",
   "execution_count": null,
   "metadata": {
    "collapsed": false
   },
   "outputs": [],
   "source": []
  },
  {
   "cell_type": "markdown",
   "metadata": {},
   "source": [
    "*Double click this text to make it editable.\n",
    "Then give a brief answer as to what kind of things seem to be allowed or disallowed for `print`.\n",
    "Bullet points are enough, you don't have to write full sentences.*"
   ]
  },
  {
   "cell_type": "markdown",
   "metadata": {},
   "source": [
    "**Maintenance. **\n",
    "As part of this class, you should maintain a glossary that you can use as your personal reference for Python commands, like a vocabulary or expression list for a foreign language.\n",
    "This glossary could be a doc or txt-file on your computer, a binder with handwritten notes, or a collection of flashcards - use whatever works best for you.\n",
    "\n",
    "Add the `print( )` command as your very first entry to the glossary.\n",
    "Write down an informal description of what it does, and include some examples.\n",
    "Also add any comments you might find useful (*\"avoid linebreaks\"*, *\"careful with \\\"*, and so on).\n",
    "In the next notebook, you'll learn more about `print`."
   ]
  }
 ],
 "metadata": {
  "kernelspec": {
   "display_name": "Python 3",
   "language": "python",
   "name": "python3"
  },
  "language_info": {
   "codemirror_mode": {
    "name": "ipython",
    "version": 3
   },
   "file_extension": ".py",
   "mimetype": "text/x-python",
   "name": "python",
   "nbconvert_exporter": "python",
   "pygments_lexer": "ipython3",
   "version": "3.5.3"
  }
 },
 "nbformat": 4,
 "nbformat_minor": 2
}
