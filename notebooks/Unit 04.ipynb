{
 "cells": [
  {
   "cell_type": "markdown",
   "metadata": {},
   "source": [
    "# Control flow with `if` and `else`\n",
    "\n",
    "The previous unit ended with a brief glance at `if` statements and how they allow us to add forks into our program.\n",
    "This ability is also called *control flow*.\n",
    "This is one the most fundamental tools of programming, and every programming language has something like `if`.\n",
    "So it is important for you to have a robust understanding of how this works.\n",
    "\n",
    "## The basic format\n",
    "\n",
    "An `if` statement always takes the same form:\n",
    "\n",
    "```python\n",
    "if Boolean condition:\n",
    "    code to execute if condtion holds\n",
    "```\n",
    "\n",
    "Let us decompose this into distinct components:\n",
    "\n",
    "1.  the code starts with `if`\n",
    "1.  on the same line there must be some piece of code that evaluates to a Boolean (`True` or `False`)\n",
    "1.  the line must end with `:`\n",
    "1.  the next line contains the code to be executed if the conditions evaluates to `True`;\n",
    "    this code can span multiple lines, but every line must be indented by a tabulator relative to the `if` statement"
   ]
  },
  {
   "cell_type": "markdown",
   "metadata": {},
   "source": [
    "**Exercise. **\n",
    "The cell below contains all kinds of errors in its `if` statements.\n",
    "Fix as many as you can find."
   ]
  },
  {
   "cell_type": "code",
   "execution_count": null,
   "metadata": {
    "collapsed": false
   },
   "outputs": [],
   "source": [
    "word = input()\n",
    "\n",
    "if word == \"Hello\": print(\"Hi\")\n",
    "if word != \"Goodbye\"\n",
    "        print(\"Wanna talk some more?\")\n",
    "word not in \"M.C.\" not in \"M.C. Escher\", thus:\n",
    "    print(\"What's going on here?\")\n",
    "if print(\"John == John\"):\n",
    "    print(\"You can't argue with logic.\")"
   ]
  },
  {
   "cell_type": "markdown",
   "metadata": {},
   "source": [
    "## Scope\n",
    "\n",
    "The indentation is very important.\n",
    "It is used to signal the *scope* of the `if` statement.\n",
    "The importance of *scope* is best illustrated with an example."
   ]
  },
  {
   "cell_type": "code",
   "execution_count": null,
   "metadata": {
    "collapsed": false
   },
   "outputs": [],
   "source": [
    "# here's a really long word of English\n",
    "word = \"pneumonoultramicroscopicsilicovolcanoconiosis\"\n",
    "\n",
    "# let's ask the user to guess one of its letters\n",
    "print(\"I know a really long word.\")\n",
    "print(\"Can you guess one of its letters?\")\n",
    "letter = input()\n",
    "\n",
    "if letter in word:\n",
    "    # this is in the scope of the if-statement,\n",
    "    # so it only runs if the condition holds\n",
    "    print(\"Hey, you correctly guessed a letter!\")\n",
    "    print(\"With such a long word it is really easy.\")  \n",
    "print(\"Btw, here's the word I thought of:\", word)"
   ]
  },
  {
   "cell_type": "markdown",
   "metadata": {},
   "source": [
    "Try the code above with several inputs, including some that are not part of the word.\n",
    "You will notice that the last `print` statement is always executed, whereas the two in the `if` statement only show up if `letter` occurs in `word`.\n",
    "That's because the indentation shows that these two statements are in the scope of `if`, but the very last `print` is not.\n",
    "So it gets executed in the normal fashion.\n",
    "\n",
    "Now observe what happens when we change the indentation a bit."
   ]
  },
  {
   "cell_type": "code",
   "execution_count": null,
   "metadata": {
    "collapsed": false
   },
   "outputs": [],
   "source": [
    "# here's a really long word of English\n",
    "word = \"pneumonoultramicroscopicsilicovolcanoconiosis\"\n",
    "\n",
    "# let's ask the user to guess one of its letters\n",
    "print(\"I know a really long word.\")\n",
    "print(\"Can you guess one of its letters?\")\n",
    "letter = input()\n",
    "\n",
    "if letter in word:\n",
    "    # this is in the scope of the if-statement,\n",
    "    # so it only runs if the condition holds\n",
    "    print(\"Hey, you correctly guessed a letter!\")\n",
    "print(\"With such a long word it is really easy.\")\n",
    "print(\"Btw, here's the word I thought of:\", word)"
   ]
  },
  {
   "cell_type": "markdown",
   "metadata": {},
   "source": [
    "By changing the indentation, we have changed which lines `if` has scope over.\n",
    "Now the last two `print` statements are always executed, and only the line `\"Hey, you correctly guessed a letter!\"` is limited to cases where the user guessed correctly.\n",
    "So indentation in Python isn't just a matter of aesthetics, it determines how your program works!\n",
    "Even adding extra lines does not change how indentation determines scope.\n",
    "The code above works exactly like the first example.\n",
    "But change the indentation, and you get the second example.\n",
    "Remember: indentation == scope == what gets executed when"
   ]
  },
  {
   "cell_type": "code",
   "execution_count": null,
   "metadata": {
    "collapsed": false
   },
   "outputs": [],
   "source": [
    "# here's a really long word of English\n",
    "word = \"pneumonoultramicroscopicsilicovolcanoconiosis\"\n",
    "\n",
    "# let's ask the user to guess one of its letters\n",
    "print(\"I know a really long word.\")\n",
    "print(\"Can you guess one of its letters?\")\n",
    "letter = input()\n",
    "\n",
    "if letter in word:\n",
    "    # this is in the scope of the if-statement,\n",
    "    # so it only runs if the condition holds\n",
    "    \n",
    "    \n",
    "    print(\"Hey, you correctly guessed a letter!\")\n",
    "    \n",
    "    \n",
    "    \n",
    "    print(\"With such a long word it is really easy.\")\n",
    "    \n",
    "print(\"Btw, here's the word I thought of:\", word)"
   ]
  },
  {
   "cell_type": "markdown",
   "metadata": {},
   "source": [
    "## If not `if`, then `else`\n",
    "\n",
    "In the example above, it would be nice if we had not only a special reply for when the user makes a correct guess, but also for wrong guesses.\n",
    "We could do this with two separate `if` statements."
   ]
  },
  {
   "cell_type": "code",
   "execution_count": null,
   "metadata": {
    "collapsed": true
   },
   "outputs": [],
   "source": [
    "# here's a really long word of English\n",
    "word = \"pneumonoultramicroscopicsilicovolcanoconiosis\"\n",
    "\n",
    "# let's ask the user to guess one of its letters\n",
    "print(\"I know a really long word.\")\n",
    "print(\"Can you guess one of its letters?\")\n",
    "letter = input()\n",
    "\n",
    "if letter in word:\n",
    "    # correct guess\n",
    "    print(\"Hey, you correctly guessed a letter!\")\n",
    "    print(\"With such a long word it is really easy.\")\n",
    "\n",
    "if letter not in word:\n",
    "    # incorrect guess\n",
    "    print(\"Sorry, wrong guess!\")\n",
    "    print(\"And it would have been so easy.\")\n",
    "    \n",
    "print(\"Btw, here's the word I thought of:\", word)"
   ]
  },
  {
   "cell_type": "markdown",
   "metadata": {},
   "source": [
    "But that's not particularly convenient.\n",
    "We end up repeating ourselves quite a bit, and while this isn't too bad in our little toy example, it can be very annoying in practice.\n",
    "In a realistically sized program, the Boolean condition may be very complex, so repeating large parts of it is a pointless time sink.\n",
    "There may also be a lot of code in the scope of the first `if` statement, so that the two instances of `if` are hundreds of lines away from each other.\n",
    "That makes it even more tedious to copy and negate the condition correctly.\n",
    "Since the whole point of programming is to indulge human laziness, it isn't too surprising that there is a more convenient solution: the `else` statement.\n",
    "Whenever you have an `if`, you can add an `else` to cover the case when the condition for the `if` statement is not satisfied."
   ]
  },
  {
   "cell_type": "code",
   "execution_count": null,
   "metadata": {
    "collapsed": true
   },
   "outputs": [],
   "source": [
    "# here's a really long word of English\n",
    "word = \"pneumonoultramicroscopicsilicovolcanoconiosis\"\n",
    "\n",
    "# let's ask the user to guess one of its letters\n",
    "print(\"I know a really long word.\")\n",
    "print(\"Can you guess one of its letters?\")\n",
    "letter = input()\n",
    "\n",
    "if letter in word:\n",
    "    # correct guess\n",
    "    print(\"Hey, you correctly guessed a letter!\")\n",
    "    print(\"With such a long word it is really easy.\")\n",
    "else:\n",
    "    # incorrect guess\n",
    "    print(\"Sorry, wrong guess!\")\n",
    "    print(\"And it would have been so easy.\")\n",
    "    \n",
    "print(\"Btw, here's the word I thought of:\", word)"
   ]
  },
  {
   "cell_type": "markdown",
   "metadata": {},
   "source": [
    "So our initial format for `if` can be expanded a bit.\n",
    "\n",
    "```python\n",
    "if Boolean condition:\n",
    "    code to execute if condtion holds\n",
    "[optional\n",
    "else:\n",
    "    code to execute if condition does not hold\n",
    "]\n",
    "```"
   ]
  },
  {
   "cell_type": "markdown",
   "metadata": {},
   "source": [
    "**Exercise. **\n",
    "And again we are dealing with some really faulty code.\n",
    "Fix all mistakes."
   ]
  },
  {
   "cell_type": "code",
   "execution_count": null,
   "metadata": {
    "collapsed": true
   },
   "outputs": [],
   "source": [
    "word = input()\n",
    "\n",
    "if word != \"Supercalifragilisticexpialidocious\":\n",
    "    print(\"My word is better!\")\n",
    "    else:\n",
    "        print(\"You cheated!\")\n",
    "        else\n",
    "        print(\"I don't play with cheaters.\")\n",
    "        \n",
    "if word == \"I\":\n",
    "    print(\"You're pretty self-centered, hmm?\")\n",
    "else:\n",
    "    \n",
    "if word == \"you\"\n",
    "    print(\"Finally somebody who cares about me!\")\n",
    "else word != \"you\"\n",
    "print(\"Nobody cares about me...\")"
   ]
  },
  {
   "cell_type": "markdown",
   "metadata": {},
   "source": [
    "## Nested code\n",
    "\n",
    "Notice that our description of `if` and `else` puts no real restrictions on what code may appear in its scope.\n",
    "So far we have only used `print` statements, but we could have just as well invoked `input`, defined variables, and even used other `if` statements."
   ]
  },
  {
   "cell_type": "code",
   "execution_count": null,
   "metadata": {
    "collapsed": true
   },
   "outputs": [],
   "source": [
    "chatbot = \"Bran\"\n",
    "print(\"Hello, I'm\", chatbot, \"the branching chatbot.\")\n",
    "print(\"And who might you be?\")\n",
    "name = input()\n",
    "\n",
    "if name == chatbot:\n",
    "    print(\"Really, your name is also\", chatbot, \"?\")\n",
    "    print(\"Are you pulling my leg?\")\n",
    "    leg_pulling = input()\n",
    "    if leg_pulling == \"Yes\":\n",
    "        print(\"Well, at least you're honest.\")\n",
    "        print(\"So what's your real name?\")\n",
    "        name = input()\n",
    "    else:\n",
    "        print(\"Oh, but we can't both be called\", chatbot, \".\")\n",
    "        print(\"Do you want to change your name?\")\n",
    "        change_name = input()\n",
    "        if change_name == \"Yes\":\n",
    "            print(\"Wow, thank you, I didn't expect that.\")\n",
    "            print(\"What's your new name?\")\n",
    "            name = input()\n",
    "        else:\n",
    "            print(\"Alright, I guess I'll have to change mine then.\")\n",
    "            chatbot = \"Bbrraann\"\n",
    "            print(\"Henceforth, I shall be known as\", chatbot, \".\")\n",
    "            print(\"Come on, repeat after me:\")\n",
    "            print(chatbot)\n",
    "            repeat = input()\n",
    "            if repeat != chatbot:\n",
    "                print(\"That's not my new name.\")\n",
    "                print(\"Have you already forgotten? My new name is\", chatbot, \".\")\n",
    "                print(\"I changed mine becaues yours is\", name, \"and we can't have the same name.\")\n",
    "\n",
    "print(\"Oh shoot. Sorry\", name, \"I completely forgot about the time.\")\n",
    "print(\"I have to go now.\")\n",
    "print(chatbot, \"signing out...\")"
   ]
  },
  {
   "cell_type": "markdown",
   "metadata": {},
   "source": [
    "**Exercise. **\n",
    "Try several runs of the program above, with a variety of different answers.\n",
    "Based on your results, draw a flow chart of the program, just like you did at the end of the previous unit.\n",
    "If you find it hard to type up your flow chart, you can draw it on paper and scan it (in this case you should submit a zip file with the notebook and the scanned picture)."
   ]
  },
  {
   "cell_type": "markdown",
   "metadata": {},
   "source": [
    "*put your flow chart here*"
   ]
  },
  {
   "cell_type": "markdown",
   "metadata": {},
   "source": [
    "**Exercise. **\n",
    "Consider a chatbot that asks the user if they are in a chatty mood.\n",
    "If the answer is `\"No\"`, the chatbot says goodbye.\n",
    "Otherwise, it asks the user if they are still in a chatty mood.\n",
    "If the answer is  `\"No\"`, the chatbot says goodbye.\n",
    "Otherwise, it tells the user that it doesn't feel like talking right now and says goodbye.\n",
    "\n",
    "There's multiple ways the code for this chatbot can be constructed.\n",
    "First, write up the chatbot using `if` and `else`.\n",
    "In the second run, write up a version that only uses `if`.\n",
    "Reflect on which one you find more intuitive, and why this might be."
   ]
  },
  {
   "cell_type": "code",
   "execution_count": null,
   "metadata": {
    "collapsed": true
   },
   "outputs": [],
   "source": [
    "# chatbot code, using both if and else"
   ]
  },
  {
   "cell_type": "code",
   "execution_count": null,
   "metadata": {
    "collapsed": true
   },
   "outputs": [],
   "source": [
    "# chatbot code, using only if"
   ]
  }
 ],
 "metadata": {
  "kernelspec": {
   "display_name": "Python 3",
   "language": "python",
   "name": "python3"
  },
  "language_info": {
   "codemirror_mode": {
    "name": "ipython",
    "version": 3
   },
   "file_extension": ".py",
   "mimetype": "text/x-python",
   "name": "python",
   "nbconvert_exporter": "python",
   "pygments_lexer": "ipython3",
   "version": "3.5.3"
  }
 },
 "nbformat": 4,
 "nbformat_minor": 2
}
