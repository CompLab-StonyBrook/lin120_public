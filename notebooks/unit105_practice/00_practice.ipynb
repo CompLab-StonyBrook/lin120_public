{
 "cells": [
  {
   "cell_type": "markdown",
   "metadata": {},
   "source": [
    "# Practice Session\n",
    "\n",
    "We have covered quite a bit of ground by now:\n",
    "\n",
    "- `print` for displaying messages to the user\n",
    "- `input` for receiving information from the user\n",
    "- strings VS numbers\n",
    "- `if` and `else` for controlling the flow of a program\n",
    "- comparing strings with `==` and `!=`\n",
    "- building larger Boolean conditions (`and`, `or`)\n",
    "- writing lists and adding items with `list.append`\n",
    "- using `in` and `not in` to check if an item is in a list/string\n",
    "- `while` loops\n",
    "- loading libraries with `import`\n",
    "- using `random.choice` to pick items from a list\n",
    "\n",
    "It is important that you are on top of all these things as the next units will keep building on them.\n",
    "If you have some gaps in your understanding at this point, they will only grow larger as the semester goes on.\n",
    "\n",
    "To give you an idea of how you're doing so far, this notebook contains a collection of practice exercises.\n",
    "None of them involve any new material, so if you've kept on top of things they shouldn't pose much of a challenge.\n",
    "**If you struggle with the exercises, that's an important warning sign.**\n",
    "In this case, you should react immediately: reread the relevant units, talk to your TAs, and go to tutorial sessions and office hours."
   ]
  },
  {
   "cell_type": "markdown",
   "metadata": {},
   "source": [
    "## Basics\n",
    "\n",
    "These exercises test your basic knowledge of Python's syntax and that you can use Python commands to write very simple programs.\n",
    "They should not require great effort on your part."
   ]
  },
  {
   "cell_type": "markdown",
   "metadata": {},
   "source": [
    "**Exercise.**\n",
    "Use `print` to display the figure below to the user:\n",
    "\n",
    "```\n",
    "_  _  _\n",
    " \\ O /\n",
    "   | \n",
    "  / \\\n",
    " \"   \"\n",
    "```"
   ]
  },
  {
   "cell_type": "code",
   "execution_count": null,
   "metadata": {
    "collapsed": true
   },
   "outputs": [],
   "source": [
    "# put your code here"
   ]
  },
  {
   "cell_type": "markdown",
   "metadata": {},
   "source": [
    "**Optional exercise.**\n",
    "The special instruction `\\n` can be used in a string to insert a linebreak.\n",
    "Use `\\n` to produce the figure with a single `print` statement."
   ]
  },
  {
   "cell_type": "code",
   "execution_count": null,
   "metadata": {
    "collapsed": true
   },
   "outputs": [],
   "source": [
    "# put your code here"
   ]
  },
  {
   "cell_type": "markdown",
   "metadata": {},
   "source": [
    "**Exercise.**\n",
    "Write a program that accomplishes the following:\n",
    "\n",
    "1. It asks the user to enter a sentence.\n",
    "1. Then it asks the user to enter a word.\n",
    "1. The program prints out `True` if the word is in the sentence.\n",
    "   Otherwise it prints out `False`."
   ]
  },
  {
   "cell_type": "code",
   "execution_count": null,
   "metadata": {
    "collapsed": true
   },
   "outputs": [],
   "source": [
    "# put your code here"
   ]
  },
  {
   "cell_type": "markdown",
   "metadata": {},
   "source": [
    "**Exercise.**\n",
    "Go through the code below and fix all problems so that you can run the cell without any errors."
   ]
  },
  {
   "cell_type": "code",
   "execution_count": null,
   "metadata": {
    "collapsed": true
   },
   "outputs": [],
   "source": [
    "print(\"Hi! This program has a lot of errors, please fix them \"\")\n",
    "print(\"What class is this?\")\n",
    "\n",
    "the_class = input()\n",
    "if the_class not != LIN120:\n",
    "      print(\"Correct, this is\" the_class)\n",
    "else:\n",
    "   print(\"Oh, you seem to not be in the right class.\")\n",
    "\n",
    "print(\"I would like to numerically add these two numbers together.\")\n",
    "x == 2\n",
    "y = \"3\"\n",
    "z = x + y\n",
    "print(z)"
   ]
  },
  {
   "cell_type": "markdown",
   "metadata": {},
   "source": [
    "**Exercise.**\n",
    "Write a program that accomplishes the following:\n",
    "\n",
    "1. Ask the user to enter their name and store it in the variable `user_name`.\n",
    "1. The program randomly chooses a name from a list.\n",
    "   The value is stored in the variable `prog_name`.\n",
    "1. If `user_name` and `prog_name` are identical, the program says *Cool, my name is also XXX* (XXX is the actual name).\n",
    "1. If the names are not identical, check if one name is part of the other.\n",
    "   For instance, *Kat* is a part of *Kathy*, and *Richard* contains *Rich*.\n",
    "   But *Kathy* is not a part of *Katherine*, even though the names are clearly related.\n",
    "   If one name is part of the other, the program replies *Wow, that is almost my name. My name is XXX* (XXX is the program's name).\n",
    "1. If neither condition is met, the program replies *My name is XXX. Nice to meet you, YYY.*\n",
    "   Here XXX is the program's name, and YYY is the user's name."
   ]
  },
  {
   "cell_type": "code",
   "execution_count": null,
   "metadata": {
    "collapsed": true
   },
   "outputs": [],
   "source": [
    "# put your code here"
   ]
  },
  {
   "cell_type": "markdown",
   "metadata": {},
   "source": [
    "**Exercise.**\n",
    "Write a program that does the following:\n",
    "\n",
    "1. It contains a list of names, which is stored as the variable `names`.\n",
    "1. The programs asks the user to input a name.\n",
    "   It then adds it to `names`.\n",
    "1. The program then prints out *Here are all the names I know:*, immediately followed by the list of names.\n",
    "\n",
    "Suppose, for example, that we start with a list that consists of *John*, *Michael*, and *Julia*.\n",
    "The user then inputs *Joan*.\n",
    "Then the program should output the following:\n",
    "\n",
    "`Here are all the names I know: [\"John\", \"Michael\", \"Julia\", \"Joan\"]`"
   ]
  },
  {
   "cell_type": "code",
   "execution_count": null,
   "metadata": {
    "collapsed": true
   },
   "outputs": [],
   "source": [
    "# put your code here"
   ]
  },
  {
   "cell_type": "markdown",
   "metadata": {},
   "source": [
    "**Exercise.**\n",
    "Write a program that does the following:\n",
    "\n",
    "1. It contains a list of names, which is stored as the variable `names`.\n",
    "1. The program asks the user to input a name, It then adds it to `names`.\n",
    "1. The program randomly prints names from the list until it prints the name entered by the user.\n",
    "1. The program ends by printing *Done!*."
   ]
  },
  {
   "cell_type": "code",
   "execution_count": null,
   "metadata": {
    "collapsed": true
   },
   "outputs": [],
   "source": [
    "# put your code here"
   ]
  },
  {
   "cell_type": "markdown",
   "metadata": {},
   "source": [
    "## Advanced exercises\n",
    "\n",
    "These exercises require more effort on your part.\n",
    "That's either because they're on the long side, or because you have to be able to understand and design longer programs without much help, or because they ask you to use familiar techniques to solve an unfamiliar problem.\n",
    "\n",
    "If you can solve these exercises without breaking a sweat, then you can be certain that you've mastered the concepts covered so far."
   ]
  },
  {
   "cell_type": "markdown",
   "metadata": {},
   "source": [
    "**Exercise.**\n",
    "The program below implements a Choose-Your-Own-Adventure (CYOA) style game.\n",
    "Unfortunately, the code contains many typos and mistakes, and some of the `if`-statements might not be needed.\n",
    "Fix these issues so that the program can be run without any errors (test all possible choices)."
   ]
  },
  {
   "cell_type": "code",
   "execution_count": null,
   "metadata": {
    "collapsed": true
   },
   "outputs": [],
   "source": [
    "# A small Choose-Your-Own-Adventure-style game\n",
    "\n",
    "print(\"Welcome to Basements and Basilisks\")\n",
    "print(\"You are standing at a fork in a road.\"\n",
    "print(\"1 - Go left\")\n",
    "print(\"2 - Go right\")\n",
    "user_choice = input()\n",
    "\n",
    "if user_choice == \"1\"\n",
    "print(\"You come to the entrance of a dark cave.)\n",
    "print(\"In the distance, you see a pleasant looking beach.\")\n",
    "print(\"1 - Enter the cave\")\n",
    "print(\"2 - Go to the beach\")\n",
    "user_choice = Input()\n",
    "    if user_choice = \"1\":\n",
    "        print(\"The cave is very dark.\")\n",
    "        print(\"You are eaten by Grue.\")\n",
    "    else:\n",
    "        if user_choice == 2:\n",
    "        print(\"You enjoy a pleasant day at the beach and go home)\n",
    "        else:\n",
    "        print(\"You try to do something else, but suddenly a bird flies down and pecks you to death.\")\n",
    "else:\n",
    "    if user_choice == \"2\"\n",
    "        print(\"You come to a small village.\")\n",
    "        print(\"1 - Visit the tavern)\n",
    "        print(\"2 - Get a drink from the well\")\n",
    "        user_choice = input()\n",
    "        if user_choice == \"1\"\n",
    "        print(\"You learn some new Dwarven drinking songs.\"\n",
    "        print(\"You are thrown out when the owner realizes you have no money.\")\n",
    "        else:\n",
    "            if user_choice = \"2\"\n",
    "            Print(\"You take a drink from the well.\")\n",
    "            print(\"You feel sick.)\n",
    "            print(\"You have died of dysentery.\")\n",
    "\n",
    "print(\"Your adventure has ended.\")\n",
    "print(\"Please play again!)"
   ]
  },
  {
   "cell_type": "markdown",
   "metadata": {},
   "source": [
    "**Optional exercise.**\n",
    "This exercise enhances the previous one.\n",
    "You do not have to do it, but it's highly recommended.\n",
    "\n",
    "Enhance the program above in the following ways:\n",
    "\n",
    "1. Add a while loop that asks the user if they wish to play again and restarts the game if they answer: `yes` `yes.` `Yes` `Yes.` `y` or `Y`. It quits the game if they answer anything else.\n",
    "2. Replace each call to input with a random choice between the options, effectively allowing the computer to play by itself."
   ]
  },
  {
   "cell_type": "code",
   "execution_count": null,
   "metadata": {
    "collapsed": true
   },
   "outputs": [],
   "source": [
    "# put the enhanced program here"
   ]
  },
  {
   "cell_type": "markdown",
   "metadata": {},
   "source": [
    "**Exercise.**\n",
    "The code below is a fragment of a basic chatbot that pretends to be an AI that is really, really, really into fruits.\n",
    "It already has a list of fruit names it knows, but it would like to know more:\n",
    "\n",
    "1. The program keeps asking the user for fruit names.\n",
    "1. If the name is already in the list, the program says *I already know this fruit* and asks for another fruit name.\n",
    "1. If the name is new, the program says *Thanks* and adds it to the list of fruit names.\n",
    "1. The program ends with an outraged message if the user enters the name of a common vegetable instead of a fruit."
   ]
  },
  {
   "cell_type": "code",
   "execution_count": null,
   "metadata": {
    "collapsed": true
   },
   "outputs": [],
   "source": [
    "# finish the code\n",
    "\n",
    "fruits = [\"apple\", \"banana\", \"cherry\"]\n",
    "\n",
    "# todo\n",
    "# 1) keep asking for fruit names\n",
    "# 2) complain about duplicates\n",
    "# 3) stop if user enters a vegetable name"
   ]
  },
  {
   "cell_type": "markdown",
   "metadata": {},
   "source": [
    "**Exercise.**\n",
    "Similar to the D&D classifier in unit 03.01, write a classifier that asks questions about what animal you're thinking of, and guesses based on the following rules:\n",
    "\n",
    "| Animal | Has hair? | Hops? | Insect? | Eats meat? |\n",
    "|:-------|:----------|:------|:--------|:-----------|\n",
    "| Beetle | No        | No    | Yes     | No         |\n",
    "| Cat    | Yes       | No    | No      | Yes        |\n",
    "| Lizard | No        | No    | No      | Yes        |\n",
    "| Panda  | Yes       | No    | No      | No         |\n",
    "| Rabbit | Yes       | Yes   | No      | No         |\n",
    "\n",
    "For example, the program might first ask *Does it have hair*, to which the user answers *Yes*.\n",
    "It then asks if the animal hops.\n",
    "The user answers *No*.\n",
    "It then asks if it is an insect.\n",
    "The user says *Yes*, at which point the program says that the animal is a beetle.\n",
    "It does not ask whether the animal eats meat because it is already clear from the user's answers that the animal must be a bettle, there simply is on other choice.\n",
    "\n",
    "It is up to you in which order the program asks questions.\n",
    "You can follow the order of the columns, or start with more informative questions (Hops? Insect?)."
   ]
  },
  {
   "cell_type": "code",
   "execution_count": null,
   "metadata": {
    "collapsed": true
   },
   "outputs": [],
   "source": [
    "# put your code here"
   ]
  },
  {
   "cell_type": "markdown",
   "metadata": {},
   "source": [
    "**Optional exercise.**\n",
    "This one is for those of you who want a more challenging version of the previous exercise:\n",
    "Can you write the program so that the order of questions is random and varies between runs?"
   ]
  },
  {
   "cell_type": "code",
   "execution_count": null,
   "metadata": {
    "collapsed": true
   },
   "outputs": [],
   "source": [
    "# put your code here"
   ]
  },
  {
   "cell_type": "markdown",
   "metadata": {},
   "source": [
    "**Exercise.**\n",
    "The code below is an incomplete attempt at a random sentence generator.\n",
    "Finish the code."
   ]
  },
  {
   "cell_type": "code",
   "execution_count": null,
   "metadata": {
    "collapsed": true
   },
   "outputs": [],
   "source": [
    "# A very simplistic random-sentence generator\n",
    "\n",
    "# a basic lexicon; should add more entries\n",
    "article_sg = [\"a\", \"the\", \"one\", \"this\", \"some\"]\n",
    "article_pl = [\"the\", \"these\", \"those\", \"two\", \"those two\", \"some\", \"some of the\"]\n",
    "adjective = [\"young\", \"heavy\", \"well-known\"]\n",
    "noun_sg = [\"cat\", \"table\", \"supreme court judge\", \"nation\"]\n",
    "verb_transitive = [\"played\", \"met\", \"amused\", \"shocked\"]\n",
    "verb_intransitive = [\"slept\", \"arrived\"]\n",
    "\n",
    "# fixme: how do I randomly choose between intransitive and transitive verb?\n",
    "if some_condition:\n",
    "    # we're building a sentence with an intransitive verb\n",
    "    print(random.choice(article_sg))\n",
    "    print(random.choice(noun_sg))\n",
    "    print(random.choice(verb_intransitive))\n",
    "    # fixme: how do I get all the words to print in a single line?\n",
    "else:\n",
    "    # todo: add transitive verb sentence\n",
    "\n",
    "# fixme: how do I randomly add an adjective?"
   ]
  },
  {
   "cell_type": "markdown",
   "metadata": {},
   "source": [
    "## Expansion units\n",
    "\n",
    "The exercises in this section are optional.\n",
    "You should only attempt them if you've done the expansion units."
   ]
  },
  {
   "cell_type": "markdown",
   "metadata": {},
   "source": [
    "**Optional exercise.**\n",
    "Rewrite the Mad-Libs program from Unit 02.01 using f-strings."
   ]
  },
  {
   "cell_type": "code",
   "execution_count": 1,
   "metadata": {
    "collapsed": true
   },
   "outputs": [],
   "source": [
    "# put your code here"
   ]
  },
  {
   "cell_type": "markdown",
   "metadata": {},
   "source": [
    "**Optional exercise.**\n",
    "Consider once more the Choose-Your-Own-Adventure program you fixed in one of the exercises above.\n",
    "Rewrite it using `elif`."
   ]
  },
  {
   "cell_type": "code",
   "execution_count": null,
   "metadata": {
    "collapsed": true
   },
   "outputs": [],
   "source": [
    "# put your code here"
   ]
  }
 ],
 "metadata": {
  "kernelspec": {
   "display_name": "Python 3",
   "language": "python",
   "name": "python3"
  },
  "language_info": {
   "codemirror_mode": {
    "name": "ipython",
    "version": 3
   },
   "file_extension": ".py",
   "mimetype": "text/x-python",
   "name": "python",
   "nbconvert_exporter": "python",
   "pygments_lexer": "ipython3",
   "version": "3.5.3"
  }
 },
 "nbformat": 4,
 "nbformat_minor": 2
}
