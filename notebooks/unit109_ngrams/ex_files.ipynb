{
 "cells": [
  {
   "cell_type": "markdown",
   "metadata": {},
   "source": [
    "# Working with files\n",
    "\n",
    "```python\n",
    "with open(\"path/to/file\", \"r\", encoding=\"utf-8\") as some_new_variable:\n",
    "    # read in file as string\n",
    "```\n",
    "\n",
    "- path (always use /, not \\)\n",
    "- mode (r,w,a)\n",
    "- encoding\n",
    "- what does `with` do?\n",
    "- read in file as string/list"
   ]
  }
 ],
 "metadata": {
  "kernelspec": {
   "display_name": "Python 3",
   "language": "python",
   "name": "python3"
  },
  "language_info": {
   "codemirror_mode": {
    "name": "ipython",
    "version": 3
   },
   "file_extension": ".py",
   "mimetype": "text/x-python",
   "name": "python",
   "nbconvert_exporter": "python",
   "pygments_lexer": "ipython3",
   "version": "3.5.3"
  }
 },
 "nbformat": 4,
 "nbformat_minor": 2
}
