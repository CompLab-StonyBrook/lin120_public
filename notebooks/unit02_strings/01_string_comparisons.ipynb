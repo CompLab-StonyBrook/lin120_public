{
 "cells": [
  {
   "cell_type": "markdown",
   "metadata": {},
   "source": [
    "# Combining and comparing strings\n",
    "\n",
    "You now have a few basic skills under your belt that are useful for any kind of programming project that involves language:\n",
    "\n",
    "- You can show text on the screen using `print`.\n",
    "- With `input` you can accept typed text from the user.\n",
    "- Variables allow you to name certain pieces of information and retrieve them later on.\n",
    "\n",
    "That is already enough for some simple programming projects, but it's clearly not enough to create the next [Cleverbot](http://www.cleverbot.com) or [Postmodernism Generator](http://www.elsewhere.org/journal/pomo/), let alone large-scale projects like [Google Translate](http://translate.google.com).\n",
    "\n",
    "But at least for a chatbot, we actually aren't too far away from producing something that can compete with the likes of Cleverbot.\n",
    "The most important tool for those is the ability to manipulate text, or as Python calls it, *strings*."
   ]
  },
  {
   "cell_type": "markdown",
   "metadata": {},
   "source": [
    "## What is a string?\n",
    "\n",
    "All programs are based on text, since that's the easiest way for humans to construct files.\n",
    "In principle, one could also design a programming language that revolves around drawing boxes and connecting them with lines.\n",
    "In fact, the video game engine *Unreal 4* has something along those lines, called [blueprint visual scripting](https://docs.unrealengine.com/latest/INT/Engine/Blueprints/).\n",
    "While these are often easier to use for novices, they are very clunky and scale badly.\n",
    "Entering text is much faster, and that's why all programs are ultimately based on text.\n",
    "\n",
    "But that does not mean that your program only operates with text.\n",
    "For example, the Python code `x = 5` is just a sequence of the five text characters `x`, space, `=`, space, and `5`.\n",
    "But Python instead treats the `5` as a number, rather than the character 5.\n",
    "This makes a huge difference:"
   ]
  },
  {
   "cell_type": "code",
   "execution_count": null,
   "metadata": {},
   "outputs": [],
   "source": [
    "# adding two numbers\n",
    "5 + 3"
   ]
  },
  {
   "cell_type": "code",
   "execution_count": null,
   "metadata": {},
   "outputs": [],
   "source": [
    "# adding two pieces of text that consist of numbers\n",
    "\"5\" + \"3\""
   ]
  },
  {
   "cell_type": "markdown",
   "metadata": {},
   "source": [
    "Don't worry too much about what the `+` here does, the crucial thing is that we get very different results for `5` and `\"5\"`.\n",
    "That's because the quotation marks tell Python that we don't want 5 to be a number, but text.\n",
    "Or as Python calls it, a *string*.\n",
    "In Python, a string is anything that occurs between single quotation marks `'` or double quotation marks `\"`.\n",
    "The two behave more or less the same, and in this class we will always use `\"` for strings.\n",
    "\n",
    "Since we are mostly interested in working with written language, strings are of great importance to us."
   ]
  },
  {
   "cell_type": "markdown",
   "metadata": {},
   "source": [
    "## Putting strings together\n",
    "\n",
    "In the last unit, we wrote a small chatbot.\n",
    "As a reminder, here's the initial code:"
   ]
  },
  {
   "cell_type": "code",
   "execution_count": null,
   "metadata": {},
   "outputs": [],
   "source": [
    "# A very simplistic chatbot\n",
    "print(\"Greetings and salutations! I am Bending Unit 22.\")\n",
    "print(\"What is your name?\")\n",
    "name = input()\n",
    "print(\"Wow, really? I have a cousin whose name is also\")\n",
    "print(name)"
   ]
  },
  {
   "cell_type": "markdown",
   "metadata": {},
   "source": [
    "One thing that is dissatisfying about this code is that the bot's answer is split across two lines in a very unnatural fashion.\n",
    "That's because each print statement always goes on its own line.\n",
    "So if we want the user's name to appear on the same line as the first part of the reply, they need be part of the same print statement.\n",
    "But as you also know by now, the code below does not work."
   ]
  },
  {
   "cell_type": "code",
   "execution_count": null,
   "metadata": {},
   "outputs": [],
   "source": [
    "print(\"Wow, really? I have a cousin whose name is also\" name)"
   ]
  },
  {
   "cell_type": "markdown",
   "metadata": {},
   "source": [
    "When you run this code, you get the error `SyntaxError: invalid syntax`.\n",
    "So Python won't allow us to do this.\n",
    "However, a minor variation of the above command does work."
   ]
  },
  {
   "cell_type": "code",
   "execution_count": null,
   "metadata": {},
   "outputs": [],
   "source": [
    "print(\"Wow, really? I have a cousin whose name is also\", name)"
   ]
  },
  {
   "cell_type": "markdown",
   "metadata": {},
   "source": [
    "Can you spot the difference? It is very subtle: there is now a `,` between the string and the variable `name`.\n",
    "Why is the comma so important?\n",
    "Well, `print` is what is called a *function*.\n",
    "That's a piece of code that takes one or more *arguments* as input and returns an output.\n",
    "It's similar to the mathematical notion of function that you have probably learned about in high school, for instance $f(x) = x + 1$ or $f(x,y) = x^y$.\n",
    "In these mathematical examples, $f$ is the *name* of the function, and $x$ and $y$ are its arguments.\n",
    "For the `print` function, `print` is the name and its arguments are whatever appears between `(` and `)`, separated by a comma.\n",
    "The `print` function combines all its arguments into a single string and then outputs this string.\n",
    "\n",
    "[*Remark:* If you can't see the mathematical functions in this cell, make sure javascript isn't deactivated in your browser.]"
   ]
  },
  {
   "cell_type": "markdown",
   "metadata": {},
   "source": [
    "**Exercise. **\n",
    "Now that you know that `print` can take multiple arguments and output them as a single string, copy-paste the code for your chatbot from Unit 02 into the cell below and modify it so that it no longer produces weird linebreaks."
   ]
  },
  {
   "cell_type": "code",
   "execution_count": null,
   "metadata": {
    "collapsed": true
   },
   "outputs": [],
   "source": [
    "# put your revised chatbot code here"
   ]
  },
  {
   "cell_type": "markdown",
   "metadata": {},
   "source": [
    "**Exercise. **\n",
    "With string concatenation you can also play a round of *Mad Libs*.\n",
    "If you aren't familiar with the game, here's how it works: you have a predetermined text where certain words have been replaced by their part of speech, for example *verb*, *noun*, *adjective*.\n",
    "For each gap, you ask a friend to say a word of that part of speech.\n",
    "You then put those words in the gap and read out the text aloud.\n",
    "Ideally, hilarity ensues.\n",
    "\n",
    "Here's an example adapted from the very first Mad Libs book:\n",
    "\n",
    "~~~\n",
    "\"[exclamation]! he said [adverb] as he jumped into his convertible\n",
    "[noun] and drove off with his [adjective] wife.\"\n",
    "\n",
    "\"Ron! he said better as he jumped into his convertible\n",
    "Laniado and drove off with his irritating wife.\"\n",
    "~~~\n",
    "\n",
    "Write a program that allows the user to play a single round of Mad Libs with the computer.\n",
    "So you should have some kind of prefabricated text, and a way of filling in the gaps with the words the user picked."
   ]
  },
  {
   "cell_type": "code",
   "execution_count": null,
   "metadata": {
    "collapsed": true
   },
   "outputs": [],
   "source": [
    "# put your Mad Libs code here"
   ]
  },
  {
   "cell_type": "markdown",
   "metadata": {},
   "source": [
    "*Hints:*\n",
    "If you're stuck with the exercise, highlight the text below to read some tips.\n",
    "\n",
    "<span style=\"color:#000000;background-color:#000000;\">\n",
    "For each word that you want the user to provide, add a variable and use input() to get a value from the user.\n",
    "Then use a single print statement with several arguments, some of which are text, some of which are variables.\n",
    "</span>"
   ]
  },
  {
   "cell_type": "markdown",
   "metadata": {},
   "source": [
    "## Comparing strings\n",
    "\n",
    "In Python, strings aren't just some unanalyzable object that you input, print to the screen, or save in a variable.\n",
    "As we just saw, the `print` function can produce a new strings from its arguments, and quite generally strings are objects that can be altered and compared.\n",
    "\n",
    "For example, we can ask Python whether two strings are the same."
   ]
  },
  {
   "cell_type": "code",
   "execution_count": null,
   "metadata": {},
   "outputs": [],
   "source": [
    "\"John\" == \"John\""
   ]
  },
  {
   "cell_type": "code",
   "execution_count": null,
   "metadata": {},
   "outputs": [],
   "source": [
    "\"Mary\" == \"John\""
   ]
  },
  {
   "cell_type": "code",
   "execution_count": null,
   "metadata": {},
   "outputs": [],
   "source": [
    "john = \"John\" # just a single = for defining a variable\n",
    "john == \"John\" # two == for string comparison"
   ]
  },
  {
   "cell_type": "code",
   "execution_count": null,
   "metadata": {},
   "outputs": [],
   "source": [
    "\"John\" == 'John'"
   ]
  },
  {
   "cell_type": "markdown",
   "metadata": {},
   "source": [
    "Here we are using the `==` operator to compare two expressions and see if they are the same value.\n",
    "Note that this is two equals signs, rather than just one.\n",
    "We use `=` to define variables, and `==` to test values for equality.\n",
    "Never confuse the two, it will certainly result in errors that immediately make your program stop."
   ]
  },
  {
   "cell_type": "code",
   "execution_count": null,
   "metadata": {},
   "outputs": [],
   "source": [
    "# a variable definition accidentally becomes an equality test\n",
    "mary == \"Mary\""
   ]
  },
  {
   "cell_type": "markdown",
   "metadata": {},
   "source": [
    "***The law of unequal equals*: = does not equal ==**"
   ]
  },
  {
   "cell_type": "markdown",
   "metadata": {},
   "source": [
    "**Exercise. **\n",
    "You know the drill: experimentation time!\n",
    "Play around with the `==` operator to figure out how it can and cannot be used.\n",
    "As usual, try to think of less obvious cases, e.g. whether one can compare more than two expressions at the same time, how it works with variables, and so on.\n",
    "Add at least 5 instructive comparisons to the cell below, and explain in short comments what each comparison demonstrates."
   ]
  },
  {
   "cell_type": "code",
   "execution_count": null,
   "metadata": {},
   "outputs": [],
   "source": [
    "# put your 5+ comparisons here"
   ]
  },
  {
   "cell_type": "markdown",
   "metadata": {},
   "source": [
    "Note that `==` can only produce two values; `True` if the equivalence holds, and `False` otherwise.\n",
    "These two values are also called *Booleans*, named after [George Boole](https://en.wikipedia.org/wiki/George_Boole) (a brilliant 19th century mathematician, who had the misfortune of dying a rather funny death at the hands of his doting wife).\n",
    "Many different Python operations produce Booleans as values.\n",
    "For example, there is also `in`."
   ]
  },
  {
   "cell_type": "code",
   "execution_count": null,
   "metadata": {},
   "outputs": [],
   "source": [
    "\"Dan\" in \"Mary met Dan and Paul.\""
   ]
  },
  {
   "cell_type": "markdown",
   "metadata": {},
   "source": [
    "**Exercise. **\n",
    "The next few cells contain a number of Python constructions with `in`.\n",
    "Before you run the code, try to make an educated guess for each one as to whether it is well-formed or not, and if so, whether it evaluates to `True` or `False`.\n",
    "Based on the outcome, formulate a hypothesis as to how `in` can be used and what it does.\n",
    "Feel free to add your own code to test your hypothesis"
   ]
  },
  {
   "cell_type": "code",
   "execution_count": null,
   "metadata": {},
   "outputs": [],
   "source": [
    "\"Dan\" in \"Daniel\""
   ]
  },
  {
   "cell_type": "code",
   "execution_count": null,
   "metadata": {},
   "outputs": [],
   "source": [
    "\"Dan\" in \"Dan\""
   ]
  },
  {
   "cell_type": "code",
   "execution_count": null,
   "metadata": {},
   "outputs": [],
   "source": [
    "\"Dan\" in \"Dandruff is a common problem for many Americans\""
   ]
  },
  {
   "cell_type": "code",
   "execution_count": 2,
   "metadata": {},
   "outputs": [
    {
     "data": {
      "text/plain": [
       "True"
      ]
     },
     "execution_count": 2,
     "metadata": {},
     "output_type": "execute_result"
    }
   ],
   "source": [
    "\"Dan\" in \"Dandruff\" in \"Dandruff is a common problem for many Americans\""
   ]
  },
  {
   "cell_type": "code",
   "execution_count": 1,
   "metadata": {},
   "outputs": [
    {
     "data": {
      "text/plain": [
       "False"
      ]
     },
     "execution_count": 1,
     "metadata": {},
     "output_type": "execute_result"
    }
   ],
   "source": [
    "\"Dan\" in \"Mary\" in \"Dandruff\""
   ]
  },
  {
   "cell_type": "code",
   "execution_count": null,
   "metadata": {},
   "outputs": [],
   "source": [
    "\"Dan\" in \"D and E are letters of the alphabet\""
   ]
  },
  {
   "cell_type": "code",
   "execution_count": null,
   "metadata": {},
   "outputs": [],
   "source": [
    "\"Dan\" in \"DaDaDaDan\""
   ]
  },
  {
   "cell_type": "code",
   "execution_count": null,
   "metadata": {},
   "outputs": [],
   "source": [
    "\"the\" in \"The woman saw a man\""
   ]
  },
  {
   "cell_type": "code",
   "execution_count": null,
   "metadata": {},
   "outputs": [],
   "source": [
    "\"the\" in \"The theory is wrong\""
   ]
  },
  {
   "cell_type": "code",
   "execution_count": 5,
   "metadata": {},
   "outputs": [
    {
     "data": {
      "text/plain": [
       "False"
      ]
     },
     "execution_count": 5,
     "metadata": {},
     "output_type": "execute_result"
    }
   ],
   "source": [
    "\"then\" in 'the' in \"thethen\""
   ]
  },
  {
   "cell_type": "markdown",
   "metadata": {},
   "source": [
    "*Write down your hypothesis in this cell*"
   ]
  },
  {
   "cell_type": "markdown",
   "metadata": {},
   "source": [
    "**Exercise. **\n",
    "There's two more operators that are very useful for comparing strings.\n",
    "Those are `!=` and `not in`.\n",
    "Fill the cell below with at least 5 examples for each operator to determine how they are used and what they do.\n",
    "Then add your own description of each operator."
   ]
  },
  {
   "cell_type": "code",
   "execution_count": null,
   "metadata": {},
   "outputs": [],
   "source": [
    "# put your 5+ examples for each operator in this cell"
   ]
  },
  {
   "cell_type": "markdown",
   "metadata": {},
   "source": [
    "*Write down your descriptions of `!=` and `not in` in this cell*"
   ]
  },
  {
   "cell_type": "markdown",
   "metadata": {},
   "source": [
    "You might be wondering at this point what these comparisons are good for.\n",
    "The answer is \"A million things!\", but let's look at how we can use them to make our chatbots a bit more responsive."
   ]
  },
  {
   "cell_type": "markdown",
   "metadata": {},
   "source": [
    "## Testing user input with `if`\n",
    "\n",
    "Let's look one more time at our very simple chatbot."
   ]
  },
  {
   "cell_type": "code",
   "execution_count": null,
   "metadata": {},
   "outputs": [],
   "source": [
    "# A very simplistic chatbot\n",
    "print(\"Greetings and salutations! I am Bending Unit 22.\")\n",
    "print(\"What is your name?\")\n",
    "name = input()\n",
    "print(\"Wow, really? I have a cousin whose name is also\", name)"
   ]
  },
  {
   "cell_type": "markdown",
   "metadata": {},
   "source": [
    "This chatbot cannot really react to the user's input, it just repeats it.\n",
    "This allows the user to shamelessly make fun of our poor chatbot."
   ]
  },
  {
   "cell_type": "code",
   "execution_count": null,
   "metadata": {},
   "outputs": [],
   "source": [
    "print(\"What is your name?\")\n",
    "# the user gives a facetious reply\n",
    "name = \"freaking stupid\"\n",
    "print(\"Wow, really? I have a cousin whose name is also\", name)"
   ]
  },
  {
   "cell_type": "markdown",
   "metadata": {},
   "source": [
    "Wouldn't it be nice if we could show that smart alec who's the boss?\n",
    "If we could somehow check if the user's reply contains undesirable words like *stupid*, then the chatbot could give an appropriately snarky reply.\n",
    "Fortunately, that's exactly what string comparisons allow us to do.\n",
    "All we need in addition is the `if` statement."
   ]
  },
  {
   "cell_type": "code",
   "execution_count": null,
   "metadata": {},
   "outputs": [],
   "source": [
    "print(\"What is your name?\")\n",
    "# the user's reply\n",
    "name = input()\n",
    "\n",
    "# but this time we're prepared for shenanigans:\n",
    "if \"stupid\" in name:\n",
    "    # the user's reply contained \"stupid\",\n",
    "    # so we retaliate\n",
    "    print(\"Damn, man, that is one stupid name.\")\n",
    "    print(\"I'll just call you Smart Alec instead.\")\n",
    "    name = \"Smart Alec\"\n",
    "    \n",
    "# the program continues normally\n",
    "print(\"Nice to meet you\", name)"
   ]
  },
  {
   "cell_type": "markdown",
   "metadata": {},
   "source": [
    "Run the program above twice, once with a name that contains *stupid*, and once with a regular name like *John* or the highly succinct *Adolph Blaine Charles David Earl Frederick Gerald Hubert Irvin John Kenneth Lloyd Martin Nero Oliver Paul Quincy Randolph Sherman Thomas Uncas Victor William Xerxes Yancy Wolfeschlegelsteinhausenbergerdorff* (no, I didn't make that one up; go ahead, google it).\n",
    "\n",
    "As you can see, you always get the *Nice to meet you {name}* part.\n",
    "But if the name contains *stupid*, some additional lines of text get printed.\n",
    "This is the result of using the `if` statement.\n",
    "This tells Python that a portion of code should be run only if a specific condition is met --- in our case, only if the user wrote *stupid* in their reply.\n",
    "Also note how the value of `name` changes in this case because we overwrite it with `\"Smart Alec\"`."
   ]
  },
  {
   "cell_type": "markdown",
   "metadata": {},
   "source": [
    "**Exercise.**\n",
    "Experiment with how the program changes if you change the indentation of lines.\n",
    "Do you get errors?\n",
    "Or does the program run but behave differently?\n",
    "Based on your observations, try to formulate a hypothesis of how `if` statements work."
   ]
  },
  {
   "cell_type": "markdown",
   "metadata": {},
   "source": [
    "*put your hypothesis here*"
   ]
  },
  {
   "cell_type": "markdown",
   "metadata": {},
   "source": [
    "An `if` statement is a way of making the program more flexible.\n",
    "Our programs so far were like a long straight road with only one way from the start to the end.\n",
    "The `if` statement introduces forks: \"if you meet the condition, take this detour\".\n",
    "And just like a road may contain multiple forks, a program can contain multiple `if` statements."
   ]
  },
  {
   "cell_type": "code",
   "execution_count": null,
   "metadata": {},
   "outputs": [],
   "source": [
    "print(\"What is your name?\")\n",
    "# the user's reply\n",
    "name = input()\n",
    "\n",
    "# but this time we're prepared for shenanigans:\n",
    "if \"stupid\" in name:\n",
    "    # the user's reply contained \"stupid\",\n",
    "    # so we retaliate\n",
    "    \n",
    "    # did user actually say both stupid and asshole?\n",
    "    # that son of a gun, we'll show him\n",
    "    if \"asshole\" in name:\n",
    "        print(\"You know what?\")\n",
    "        print(\"I don't want to talk to a rude person like you.\")\n",
    "        print(\"In fact, I don't want to live in a world with such rude people!\")\n",
    "        print(\"Farewell, my beloved human overlords!\")\n",
    "        # Chatbot prematurely ends its life with an error message\n",
    "        raise Exception(\"Chatbot lost will to live\")\n",
    "\n",
    "    print(\"Damn, man, that is one stupid name.\")\n",
    "    print(\"I'll just call you Smart Alec instead.\")\n",
    "    name = \"Smart Alec\"\n",
    "    \n",
    "if \"Nemo\" in name:\n",
    "    print(\"Ah, a classically trained user. Or a Pixar fan.\")\n",
    "\n",
    "# the program continues normally\n",
    "print(\"Nice to meet you\", name)"
   ]
  },
  {
   "cell_type": "markdown",
   "metadata": {},
   "source": [
    "**Exercise. **\n",
    "Carefully test the code above with various inputs.\n",
    "Also try one that contains both *stupid* and *Nemo*.\n",
    "Then draw a flowchart of the program's \"road\".\n",
    "Here is an example for the simpler version with only one `if` statement.\n",
    "\n",
    "```\n",
    "get name\n",
    "|\n",
    "name contains stupid? yes ----> mock user\n",
    "no                                   |\n",
    "|                                    |\n",
    "|                               change name to Smart Alec\n",
    "|                                    |\n",
    "V                                    |\n",
    "|<-----------------------------------|\n",
    "|\n",
    "greet user with name\n",
    "```\n",
    "\n",
    "The flow-chart is read from top to bottom and gives an informal description of the program's behavior.\n",
    "We start with *get name*.\n",
    "Then comes the `if`-statement.\n",
    "In a flow-chart, an `if`-statement is always drawn in the same way.\n",
    "First one describes the condition and adds a question mark at the end (e.g. *name contains stupid?* in the chart above).\n",
    "Then an arrow to the right shows what happens if the answer is Yes.\n",
    "In the case at hand, we mock the user and then change the value of `name` to the string `\"Smart Alec\"`.\n",
    "The downward arrow tells us what happens if the condition is not met.\n",
    "Here, it takes us immediately to the last step of the program, greeting the user."
   ]
  },
  {
   "cell_type": "markdown",
   "metadata": {},
   "source": [
    "```\n",
    "put your flowchart here;\n",
    "when editing this cell, don't delete the backticks in the first and last line,\n",
    "they produce a typewriter-like font that make it easier to align parts of the chart\n",
    "```"
   ]
  },
  {
   "cell_type": "markdown",
   "metadata": {},
   "source": [
    "*Hints:*\n",
    "If you're stuck with the exercise, highlight the text below to read some tips.\n",
    "\n",
    "<span style=\"color:#000000;background-color:#000000;\">\n",
    "The code above contains nested if-statements.\n",
    "If the name contains \"stupid\", then we immediately check if the name contains \"asshole\".\n",
    "So the first right arrow will lead into another conditional, which also has an arrow going to the right and one going to the left.\n",
    "The \"Nemo\" test will always be carried out no matter how the previous two if-tests fared.\n",
    "Hence it should go right above \"greet user with name\" in the flowchart.\n",
    "</span>"
   ]
  },
  {
   "cell_type": "markdown",
   "metadata": {},
   "source": [
    "**Maintenance. **\n",
    "Your Python vocabulary has more than doubled with this unit.\n",
    "It has grown from `print`, `input`, and variables, to also include `==`, `!=`, `in`, `not in`, and the very important `if` statement.\n",
    "Make sure you include all of them in your reference notebook, with detailed descriptions of their usage."
   ]
  },
  {
   "cell_type": "markdown",
   "metadata": {},
   "source": [
    "## Bullet point summary\n",
    "\n",
    "- Text between quotation marks (`\"`) is called a *string*.\n",
    "- Never confuse `5` (a number) and `\"5\"` (a string).\n",
    "- Strings can be compared with `in`, `not in`, `==`, and `!=`.\n",
    "- Never confuse `=` and `==`.\n",
    "  Remember the *law of uneqal equals*."
   ]
  },
  {
   "cell_type": "markdown",
   "metadata": {},
   "source": [
    "***The law of unequal equals*: = does not equal ==**"
   ]
  },
  {
   "cell_type": "markdown",
   "metadata": {},
   "source": [
    "- A *Boolean* is a truth value.\n",
    "  It can be either `True` or `False`.\n",
    "- An `if`-statement is a fork in the code.\n",
    "  Code inside an `if`-statement is executed only if the condition evaluates to `True`.\n",
    "  See the next unit for details.\n",
    "- Flow charts are an intuitive way to represent the overall design and logic of a program."
   ]
  }
 ],
 "metadata": {
  "kernelspec": {
   "display_name": "Python 3",
   "language": "python",
   "name": "python3"
  },
  "language_info": {
   "codemirror_mode": {
    "name": "ipython",
    "version": 3
   },
   "file_extension": ".py",
   "mimetype": "text/x-python",
   "name": "python",
   "nbconvert_exporter": "python",
   "pygments_lexer": "ipython3",
   "version": "3.6.5"
  }
 },
 "nbformat": 4,
 "nbformat_minor": 2
}
