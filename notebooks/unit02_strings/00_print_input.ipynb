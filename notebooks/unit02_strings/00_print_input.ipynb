{
 "cells": [
  {
   "cell_type": "markdown",
   "metadata": {},
   "source": [
    "# `print`, `input`, and variables\n",
    "\n",
    "## Combining `print` and `input`\n",
    "You already know from the previous unit how to use `print` to output text.\n",
    "While `print` is indispensable whenever you want to show a message to the user of your program, it's hardly enough for writing a program.\n",
    "At the very least, a program needs not only a way to produce output, but also to receive input.\n",
    "The input could be a file, the current system time, or some value entered by the user.\n",
    "The last option is the simplest, as it can be handled by a single Python command: `input`.\n",
    "Let's look at a first example."
   ]
  },
  {
   "cell_type": "code",
   "execution_count": null,
   "metadata": {},
   "outputs": [],
   "source": [
    "print(\"Please enter one or more characters.\")\n",
    "input()"
   ]
  },
  {
   "cell_type": "markdown",
   "metadata": {},
   "source": [
    "You should have learned two things from this simple example:\n",
    "\n",
    "1.  `input()` is used to get some value or text from the user.\n",
    "1.  Both `input` and `print` must be followed by opening and closing brackets."
   ]
  },
  {
   "cell_type": "markdown",
   "metadata": {},
   "source": [
    "**Exercise. **\n",
    "Alright, it's experimentation time.\n",
    "Try to write a small program of your own that uses `print` and `input`.\n",
    "Focus again on pushing the envelope so that you get a deeper understanding of how these commands can and cannot be used.\n",
    "Once you're done, answer the following questions:\n",
    "\n",
    "1.  Can you have multiple instances of `input`?\n",
    "1.  Can you put them on the same line?\n",
    "1.  What if there's some text between the brackets in `input()`, like you can do for `print`?\n",
    "1.  Can you just write `print()`, similar to `input()`?"
   ]
  },
  {
   "cell_type": "code",
   "execution_count": 2,
   "metadata": {},
   "outputs": [
    {
     "name": "stdout",
     "output_type": "stream",
     "text": [
      "write something herehello\n",
      "hello world\n"
     ]
    }
   ],
   "source": [
    "# experiment with print and input in this cell\n",
    "input(\"write something here\")\n",
    "print(\"hello world\")"
   ]
  },
  {
   "cell_type": "markdown",
   "metadata": {},
   "source": [
    "*put your answers here*"
   ]
  },
  {
   "cell_type": "markdown",
   "metadata": {},
   "source": [
    "**Caution.**\n",
    "The input command opens a text box so that the user can enter some text.\n",
    "Unfortunately, there is a nasty bug with Python notebooks.\n",
    "The text box can disappear if you don't enter any text and then select a different cell.\n",
    "In this case, no more Python code can be executed.\n",
    "So alway enter something in the box and hit enter, don't leave it open.\n",
    "\n",
    "If things have already gone awry, don't worry, it's not too hard to fix.\n",
    "In the menu bar, click `Kernel`, then `Restart kernel and clear output`.\n",
    "This is basically a mini-reboot for Python so that things work like normal again.\n",
    "See the troubleshooting notebook in Unit 00 for further details.\n",
    "\n",
    "**/Caution**"
   ]
  },
  {
   "cell_type": "markdown",
   "metadata": {},
   "source": [
    "## Storing input with variables\n",
    "\n",
    "We now can print messages to the screen and ask the user for input.\n",
    "But what exactly is Python doing with the input?\n",
    "Right now, it just prints it immediately again as output.\n",
    "That's not very useful.\n",
    "If we ask the user for input, the idea is presumably that we use this input for some kind of computation.\n",
    "For instance, we might want to ask the user for a number and then reference this number later on in the program.\n",
    "But how can we do that?\n",
    "\n",
    "Intuitively, we want to say something like \"Computer, use the input that the user supplied\".\n",
    "But what if you asked the user several times to input something?\n",
    "Then it is not clear what *the input* is supposed to refer to.\n",
    "Of course you could say something like \"the second input that the user supplied\", but this is not all that save.\n",
    "If at some later point you decide that you need the user to provide some other input first, then what used to be the second input in your program is now the third input, so every instance of \"the second input that the user supplied\" would have to be changed to \"the third input that the user supplied\".\n",
    "That's a lot of tedious work.\n",
    "Since we're all lazy (no shame in admitting it), it would be much nicer to have a more robust and convenient way to deal with input.\n",
    "\n",
    "The solution is *variables*.\n",
    "A variable makes it possible to reference values by name.\n",
    "You can then use the variables throughout the program to refer to those values."
   ]
  },
  {
   "cell_type": "code",
   "execution_count": null,
   "metadata": {},
   "outputs": [],
   "source": [
    "# a very simple calculation\n",
    "5 + 3"
   ]
  },
  {
   "cell_type": "code",
   "execution_count": null,
   "metadata": {},
   "outputs": [],
   "source": [
    "# and now the same with variables\n",
    "x = 5 # assign name x to value 5\n",
    "y = 3 # assing name y to value 3\n",
    "x + y # add x and y (5 and 3)"
   ]
  },
  {
   "cell_type": "code",
   "execution_count": null,
   "metadata": {},
   "outputs": [],
   "source": [
    "# and now we assign variables to variables\n",
    "a = 5 # assign name a to value 5\n",
    "b = 3 # assign name b to value 3\n",
    "x = a # assign name x to what name a refers to, i.e. 5\n",
    "y = b # assign name y to what name b refers to, i.e. 3\n",
    "x + y # add x and y (same as a + b and 5 + 3)"
   ]
  },
  {
   "cell_type": "code",
   "execution_count": 3,
   "metadata": {},
   "outputs": [
    {
     "name": "stdout",
     "output_type": "stream",
     "text": [
      "Please enter a sentence.\n",
      "I love linguistics.\n",
      "Here is the sentence you entered:\n"
     ]
    },
    {
     "data": {
      "text/plain": [
       "'I love linguistics.'"
      ]
     },
     "execution_count": 3,
     "metadata": {},
     "output_type": "execute_result"
    }
   ],
   "source": [
    "# and now we store input in a variable\n",
    "print(\"Please enter a sentence.\")\n",
    "sentence = input()\n",
    "print(\"Here is the sentence you entered:\")\n",
    "sentence"
   ]
  },
  {
   "cell_type": "markdown",
   "metadata": {},
   "source": [
    "Variables are one of the most important programming tools, and pretty much every piece of code you will see for the rest of the course will use variables to some extent."
   ]
  },
  {
   "cell_type": "markdown",
   "metadata": {},
   "source": [
    "**Exercise. **\n",
    "And it's experimentation time again.\n",
    "But for this exercise I won't tell you what to look for.\n",
    "Instead, you should play around with variables until you have a decent understanding of how a variable is assigned a value.\n",
    "Then add a brief description below (as always, bullet points are enough).\n",
    "The description should be explicit enough so that it is clear how one assigns a name to a value, and whether variables can be reassigned to different values (and if so, how)."
   ]
  },
  {
   "cell_type": "code",
   "execution_count": 5,
   "metadata": {},
   "outputs": [
    {
     "name": "stdout",
     "output_type": "stream",
     "text": [
      "Enter a sentence.\n",
      "hello.\n",
      "hello.\n"
     ]
    }
   ],
   "source": [
    "# put your experimentation code with variables here\n",
    "print(\"Enter a sentence.\")\n",
    "sentence = input()\n",
    "print(sentence)"
   ]
  },
  {
   "cell_type": "markdown",
   "metadata": {},
   "source": [
    "*put your description here*"
   ]
  },
  {
   "cell_type": "markdown",
   "metadata": {},
   "source": [
    "## Variables and `print`: some common traps\n",
    "\n",
    "In the examples above, the variables were on their own line at the end, without any kind of accompanying command.\n",
    "Their value still showed up under `Out[  ]:`, but that is just because Jupyter is nice enough to show you the final result of a computation.\n",
    "That's not the same as printing the value to screen though, as the following example shows."
   ]
  },
  {
   "cell_type": "code",
   "execution_count": 6,
   "metadata": {},
   "outputs": [
    {
     "name": "stdout",
     "output_type": "stream",
     "text": [
      "Please enter a sentence.\n",
      "hi\n",
      "Here is the sentence you entered:\n",
      "Goodbye!\n"
     ]
    }
   ],
   "source": [
    "# as before we store input in a variable\n",
    "print(\"Please enter a sentence.\")\n",
    "sentence = input()\n",
    "print(\"Here is the sentence you entered:\")\n",
    "sentence\n",
    "\n",
    "# but now we also add a goodbye message,\n",
    "# and suddenly things go differently\n",
    "print('Goodbye!')"
   ]
  },
  {
   "cell_type": "markdown",
   "metadata": {},
   "source": [
    "As you can see, the value of the variable `sentence` did not show up this time around.\n",
    "That's because it is no longer the final result of the computation, so the notebook does not include an `Out` field.\n",
    "This may sound confusing to you, but the logic is very simple: if you want something to be displayed to the user, no matter what, then it must go inside a `print` statement.\n",
    "Commit this to memory!"
   ]
  },
  {
   "cell_type": "markdown",
   "metadata": {},
   "source": [
    "***The `print` principle*: Everything that should be displayed to the user must go inside a `print` statement! Everything that should not be displayed to the user must not got inside a `print` statement!**"
   ]
  },
  {
   "cell_type": "markdown",
   "metadata": {},
   "source": [
    "**Exercise. **\n",
    "Copy-paste the code above into the cell below, then fix it so that the value for `sentence` is actually displayed."
   ]
  },
  {
   "cell_type": "code",
   "execution_count": 7,
   "metadata": {},
   "outputs": [
    {
     "name": "stdout",
     "output_type": "stream",
     "text": [
      "Please enter a sentence.\n",
      "hi\n",
      "Here is the sentence you entered:\n",
      "hi\n",
      "Goodbye!\n"
     ]
    }
   ],
   "source": [
    "# copy-paste the code here, then fix it\n",
    "print(\"Please enter a sentence.\")\n",
    "sentence = input()\n",
    "print(\"Here is the sentence you entered:\")\n",
    "print(sentence)\n",
    "\n",
    "# but now we also add a goodbye message,\n",
    "# and suddenly things go differently\n",
    "print('Goodbye!')"
   ]
  },
  {
   "cell_type": "markdown",
   "metadata": {},
   "source": [
    "Notice how we do not use quotation marks (`\"`) when we want to print a variable.\n",
    "So contrary to what we said last time, `\"` is not mandatory for print statements.\n",
    "Rather, it is mandatory if you want to print text.\n",
    "This distinction can sometimes lead to confusion.\n",
    "Look at the two pieces of code below.\n",
    "Before you run them, try to figure out on your own what will happen."
   ]
  },
  {
   "cell_type": "code",
   "execution_count": null,
   "metadata": {},
   "outputs": [],
   "source": [
    "john = \"John\"\n",
    "print(\"John\")\n",
    "print(john)"
   ]
  },
  {
   "cell_type": "code",
   "execution_count": null,
   "metadata": {},
   "outputs": [],
   "source": [
    "john = \"Mary\"\n",
    "print(\"John\")\n",
    "print(john)"
   ]
  },
  {
   "cell_type": "code",
   "execution_count": null,
   "metadata": {},
   "outputs": [],
   "source": [
    "john = \"Mary\"\n",
    "print(\"John\")\n",
    "print(mary)"
   ]
  },
  {
   "cell_type": "markdown",
   "metadata": {},
   "source": [
    "Running the last cell should have resulted in an error message, more precisely a `NameError`.\n",
    "This has nothing to do with the print statement, it happens whenever you reference a variable that has not been defined yet.\n",
    "Just check the two code snippets below."
   ]
  },
  {
   "cell_type": "code",
   "execution_count": null,
   "metadata": {},
   "outputs": [],
   "source": [
    "x = 5\n",
    "x + z"
   ]
  },
  {
   "cell_type": "code",
   "execution_count": null,
   "metadata": {},
   "outputs": [],
   "source": [
    "z"
   ]
  },
  {
   "cell_type": "markdown",
   "metadata": {},
   "source": [
    "Python does not tolerate any references to undefined variables, even if you don't actually do anything with those variables.\n",
    "This is why `\"` is so important with `print` when you want to output text --- without the quotation marks, Python will think you are talking about a variable, but since no such variable has been defined, you get an error message.\n",
    "In fact, things are even worse: if your text contains several words, then Python will think each one of them is a variable, and that is not allowed even if every variable is defined."
   ]
  },
  {
   "cell_type": "code",
   "execution_count": null,
   "metadata": {},
   "outputs": [],
   "source": [
    "never = \"never\"\n",
    "forget = \"forget\"\n",
    "the = \"the\"\n",
    "quotation = \"quotation\"\n",
    "marks = \"marks\"\n",
    "around = \"around\"\n",
    "text = \"text\"\n",
    "print(never forget the quotation marks around text)"
   ]
  },
  {
   "cell_type": "markdown",
   "metadata": {},
   "source": [
    "Don't worry too much about why the above does not work, we will learn later on how `print` can be used with multiple variables.\n",
    "For now we will limit ourselves to usages of `print` with one variable or one piece of text between the brackets, but no more than that."
   ]
  },
  {
   "cell_type": "markdown",
   "metadata": {},
   "source": [
    "***The invariable laws of variables:***\n",
    "- **Quoted text cannot contain variables.**\n",
    "- **Variables are never quoted.**\n",
    "- **Undefined variables crash the program.**"
   ]
  },
  {
   "cell_type": "markdown",
   "metadata": {},
   "source": [
    "**Exercise. **\n",
    "Read the short section on variable names in [Chapter 1 of *Automate the Boring Stuff with Python*](https://automatetheboringstuff.com/chapter1/).\n",
    "The section title is *Variable Names*, and it starts right after Figure 1-3.\n",
    "Once you have read the section, say for each one of the following whether it is a licit variable name.\n",
    "For illicit ones, also say why they are not allowed.\n",
    "\n",
    "1.  5 ponies\n",
    "1.  TheLeagueOfExtraordinaryGentlementWasFirstPublishedIn1999\n",
    "1.  howmuchwoodwouldawoodchuckchuckifawoodchuckcouldchuckwood?\n",
    "1.  Abraham\\_Lincoln\\_Vampire\\_Slayer\n",
    "1.  My$0.02\n",
    "\n",
    "*Hint:* You can test the variable names in a code cell to check if they are allowed."
   ]
  },
  {
   "cell_type": "markdown",
   "metadata": {},
   "source": [
    "*put your answers here*"
   ]
  },
  {
   "cell_type": "markdown",
   "metadata": {},
   "source": [
    "While there is quite a bit of leeway with variable names, I suggest you stick with lowercase letters, possibly separated by underscores.\n",
    "This is all that is needed to create useful variable names that tell you immediately what the variable is used for (e.g. `full_username` rather than `input2`).\n",
    "\n",
    "Oh, and one more thing: **neverever** give your variable a name that's already an existing Python term, like `print` or `input`.\n",
    "Python won't complain when you do this, but since you're overwriting core functionality of Python with your own variable values, your program will soon produce some very weird bugs.\n",
    "Of course you do not know all Python terms yet, but you can be on the save side by using descriptive names like `user_reply` or `loves_star_trek` instead of generic names like `string` or `list`."
   ]
  },
  {
   "cell_type": "markdown",
   "metadata": {},
   "source": [
    "**Exercise. **\n",
    "With `print`, `input`, and variables, you can already write a simplistic chatbot.\n",
    "Continue the code below with a few more lines of code to keep the conversation going.\n",
    "You have full choice about what the program should talk to the user about.\n",
    "It could be the weather, their feelings, US politics, whatever you want.\n",
    "However, you should try to make the program's responses as natural as possible --- that's usually easier with very simple topics that only allow for a few highly standardized replies.\n",
    "That said, a funny response is also acceptable, as long as it is actually funny ;)"
   ]
  },
  {
   "cell_type": "code",
   "execution_count": null,
   "metadata": {},
   "outputs": [],
   "source": [
    "# A very simplistic chatbot\n",
    "print(\"Greetings and salutations! I am Bending Unit 22.\")\n",
    "print(\"What is your name?\")\n",
    "name = input()\n",
    "print(\"Wow, really? I have a cousin whose name is also\")\n",
    "print(name)\n",
    "\n",
    "# continue here"
   ]
  },
  {
   "cell_type": "markdown",
   "metadata": {},
   "source": [
    "**Exercise. **\n",
    "Alright, now that you've built a beautiful chatbot, it's time to break it.\n",
    "Copy-paste your code into the cell below, then change the variables to fixed values that would be possible answers but do not work with the replies the chatbot gives.\n",
    "In the code below, the value for the variable `name` has already been changed in this manner."
   ]
  },
  {
   "cell_type": "code",
   "execution_count": null,
   "metadata": {},
   "outputs": [],
   "source": [
    "# A very simplistic chatbot\n",
    "print(\"Greetings and salutations! I am Bending Unit 22.\")\n",
    "print(\"What is your name?\")\n",
    "name = \"I'd rather not tell you\"\n",
    "print(\"Wow, really? I have a cousin whose name is also\")\n",
    "print(name)\n",
    "\n",
    "# continue here"
   ]
  },
  {
   "cell_type": "markdown",
   "metadata": {},
   "source": [
    "**Maintenance. **\n",
    "Add an entry for `input` to your glossary.\n",
    "Again you should add helpful notes, warnings about common pitfalls, and some usage examples."
   ]
  },
  {
   "cell_type": "markdown",
   "metadata": {},
   "source": [
    "## Bullet point summary\n",
    "\n",
    "- `print` is for **showing** information to the user.\n",
    "    - The general format is `print(\"some text\")` or `print(variable)`.\n",
    "- `input` is for **getting** information from the user.\n",
    "    - Never forget the parentheses.\n",
    "      It's `input()`, not just `input`.\n",
    "- Variables store information, e.g. text or numbers.\n",
    "    - Use lowercase letters and underscores for variable names.\n",
    "- Always remember the *print principle* and the *invariable laws of variables*."
   ]
  },
  {
   "cell_type": "markdown",
   "metadata": {},
   "source": [
    "***The `print` principle*: Everything that should be displayed to the user must go inside a `print` statement! Everything that should not be displayed to the user must not got inside a `print` statement!**"
   ]
  },
  {
   "cell_type": "markdown",
   "metadata": {},
   "source": [
    "***The invariable laws of variables:***\n",
    "- **Quoted text cannot contain variables.**\n",
    "- **Variables are never quoted.**\n",
    "- **Undefined variables crash the program.**"
   ]
  }
 ],
 "metadata": {
  "kernelspec": {
   "display_name": "Python 3",
   "language": "python",
   "name": "python3"
  },
  "language_info": {
   "codemirror_mode": {
    "name": "ipython",
    "version": 3
   },
   "file_extension": ".py",
   "mimetype": "text/x-python",
   "name": "python",
   "nbconvert_exporter": "python",
   "pygments_lexer": "ipython3",
   "version": "3.6.5"
  }
 },
 "nbformat": 4,
 "nbformat_minor": 2
}
