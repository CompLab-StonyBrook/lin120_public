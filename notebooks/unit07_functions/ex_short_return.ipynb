{
 "cells": [
  {
   "cell_type": "markdown",
   "metadata": {},
   "source": [
    "# Ternary `if` for short `return` statements\n",
    "\n",
    "One of the previous exercises asked you to analyze what this function does"
   ]
  },
  {
   "cell_type": "code",
   "execution_count": null,
   "metadata": {
    "collapsed": false
   },
   "outputs": [],
   "source": [
    "def is_upper(chars):\n",
    "    if chars == str.upper(chars):\n",
    "        return True\n",
    "    else:\n",
    "        return False\n",
    "    \n",
    "print(is_upper(\"John\"))\n",
    "print(is_upper(\"ABBA\"))"
   ]
  },
  {
   "cell_type": "markdown",
   "metadata": {},
   "source": [
    "It's not hard to tell that it returns `True` if the string is in uppercase, and `False` otherwise.\n",
    "This is a very simple function, so it seems a little wasteful that Python requires us to write four lines of code for such a simple thing.\n",
    "But there is actually a much shorter alternative."
   ]
  },
  {
   "cell_type": "code",
   "execution_count": null,
   "metadata": {
    "collapsed": false
   },
   "outputs": [],
   "source": [
    "def is_upper(chars):\n",
    "    return True if chars == str.upper(chars) else False\n",
    "\n",
    "print(is_upper(\"John\"))\n",
    "print(is_upper(\"ABBA\"))"
   ]
  },
  {
   "cell_type": "markdown",
   "metadata": {},
   "source": [
    "You might think that this is some special feature of `return`, but it is actually a special feature of `if`.\n",
    "Whenever you have something of the form:\n",
    "\n",
    "```python\n",
    "if condition:\n",
    "   valueA\n",
    "else:\n",
    "   valueB\n",
    "```\n",
    "\n",
    "you can shorten this to\n",
    "\n",
    "```python\n",
    "valueA if condition else valueB\n",
    "```\n",
    "\n",
    "This is mostly used in combination with `return` to keep functions small, but it can also be used with variable definitions."
   ]
  },
  {
   "cell_type": "code",
   "execution_count": null,
   "metadata": {
    "collapsed": false
   },
   "outputs": [],
   "source": [
    "a = 5\n",
    "b = 10\n",
    "a = 0 if a + b > 10 else 20\n",
    "b = 0 if a + b > 10 else 20\n",
    "\n",
    "print(a)\n",
    "print(b)"
   ]
  },
  {
   "cell_type": "markdown",
   "metadata": {},
   "source": [
    "This one line usage of `if` is known as *ternary `if`*.\n",
    "Ternary means that it takes three arguments, represented in our schema above by `valueA`, `condition`, and `valueB`.\n",
    "Ternary `if` can make your code more pleasant to read.\n",
    "But you must use it wisely.\n",
    "Indiscriminate usage can give rise to Lovecraftian levels of horror.\n",
    "Behold:"
   ]
  },
  {
   "cell_type": "code",
   "execution_count": null,
   "metadata": {
    "collapsed": false
   },
   "outputs": [],
   "source": [
    "a = 0\n",
    "b = 10\n",
    "c = 1 if (a == 0 if ((6 if a + b > 10 else 0) < 5) else b == 0) else 5\n",
    "print(c)"
   ]
  }
 ],
 "metadata": {
  "kernelspec": {
   "display_name": "Python 3",
   "language": "python",
   "name": "python3"
  },
  "language_info": {
   "codemirror_mode": {
    "name": "ipython",
    "version": 3
   },
   "file_extension": ".py",
   "mimetype": "text/x-python",
   "name": "python",
   "nbconvert_exporter": "python",
   "pygments_lexer": "ipython3",
   "version": "3.5.3"
  }
 },
 "nbformat": 4,
 "nbformat_minor": 2
}
