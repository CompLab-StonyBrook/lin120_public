{
 "cells": [
  {
   "cell_type": "markdown",
   "metadata": {},
   "source": [
    "# Custom functions \n",
    "\n",
    "You now have several useful tools like `str.lower` and `re.sub` to clean up the user's input before processing it.\n",
    "If you try to write a chatbot in your sparetime (which you should totally do, it's very instructive), you'll soon notice that you'll carry out the same clean-up steps over and over.\n",
    "It would be nice if you could just tell Python \"clean the input\" instead of \"delete all punctuation (`.!?,;`), convert to lower case, and remove duplicate spaces\".\n",
    "This is what *custom functions* are for."
   ]
  },
  {
   "cell_type": "markdown",
   "metadata": {},
   "source": [
    "## Built-in functions VS custom functions\n",
    "\n",
    "You already know several Python functions:\n",
    "\n",
    "- `print`\n",
    "- `input`\n",
    "- `list.append`\n",
    "- `str.lower`, `str.upper`, `str.title`\n",
    "- `re.sub`\n",
    "\n",
    "These are all *built-in functions*.\n",
    "That is to say, Python already knows how these functions work and what they produce.\n",
    "This is different from *custom function*.\n",
    "A custom function is something you come up with on your own, say, your very own printing function `double_print`, or a function `clean_input` for cleaning input.\n",
    "Python needs your instructions to figure out how these functions work and what they produce.\n",
    "\n",
    "Intuitively, you can think of a custom function like a code word, e.g. *quarabarcle*.\n",
    "Nobody knows right away what that is supposed to mean.\n",
    "So if you say *quarabarcle* to a friend of yours, he or she might be worried that you've suffered a stroke.\n",
    "But you can describe to them what *quarabarcle* means:\n",
    "\n",
    "> Whenever I say *quarabarcle*, that means that you have a booger hanging out of your nose and should try to get rid of it in a discrete manner because that guy/gal you have a crush on can totally see it.\n",
    "\n",
    "You have given your friend a *definition*.\n",
    "Now they can use that definition to do the right thing whenever you say *quarabarcle*.\n",
    "\n",
    "A custom function in Python works pretty much the same.\n",
    "First you pick a completely new *function name*.\n",
    "It should not be the same as an existing Python function (e.g. `print`), and it must also be distinct from the names of all your variables.\n",
    "Then you give a *definition* of what the function does.\n",
    "And from that point on you can use the function name to have Python do what you said in the definition.\n",
    "\n",
    "Still sounds awfully abstract?\n",
    "Let's see how it would work for the custom function `double_print`.\n",
    "And in the next unit, we will take a look at `clean_input`."
   ]
  },
  {
   "cell_type": "markdown",
   "metadata": {},
   "source": [
    "## A very simple custom function: `double_print`\n",
    "\n",
    "Let's start by defining a custom function `double_print`.\n",
    "Based on the name, it's probably supposed to print a string twice rather than just once.\n",
    "Here's the Python definition for this function."
   ]
  },
  {
   "cell_type": "code",
   "execution_count": null,
   "metadata": {
    "collapsed": true
   },
   "outputs": [],
   "source": [
    "# definition of custom function double_print\n",
    "def double_print(x):\n",
    "    print(x)\n",
    "    print(x)"
   ]
  },
  {
   "cell_type": "markdown",
   "metadata": {},
   "source": [
    "As you can see, the syntax for defining a custom function is simple.\n",
    "The keyword `def` signals the start of the definition and is followed by a name of your choice.\n",
    "After that, the arguments of the function are listed between parenthesis.\n",
    "In this example, there is only one argument.\n",
    "As with `if` and `while`, the line ends with a colon `:`, and all the code that belongs to the function definition  must be indented by a tab.\n",
    "\n",
    "```python\n",
    "def function_name(argument1, argument2, ...):\n",
    "    indented_code\n",
    "```"
   ]
  },
  {
   "cell_type": "markdown",
   "metadata": {},
   "source": [
    "**Exercise.**\n",
    "Based on `double_print`, define a function `print5` that prints a single string five times in a row."
   ]
  },
  {
   "cell_type": "code",
   "execution_count": null,
   "metadata": {
    "collapsed": true
   },
   "outputs": [],
   "source": [
    "# put your code here"
   ]
  },
  {
   "cell_type": "markdown",
   "metadata": {},
   "source": [
    "**Exercise.**\n",
    "Consider the custom function `triple_mirror_print` below.\n",
    "Describe in plain English what this function is supposed to do."
   ]
  },
  {
   "cell_type": "code",
   "execution_count": null,
   "metadata": {
    "collapsed": true
   },
   "outputs": [],
   "source": [
    "def triple_mirror_print(x, y, z):\n",
    "    print(x)\n",
    "    print(y)\n",
    "    print(z)\n",
    "    print(z)\n",
    "    print(y)\n",
    "    print(x)"
   ]
  },
  {
   "cell_type": "markdown",
   "metadata": {},
   "source": [
    "*put your description here*"
   ]
  },
  {
   "cell_type": "markdown",
   "metadata": {},
   "source": [
    "## Definining a function != calling a function\n",
    "\n",
    "Consider once more the code for `double_print`."
   ]
  },
  {
   "cell_type": "code",
   "execution_count": null,
   "metadata": {
    "collapsed": true
   },
   "outputs": [],
   "source": [
    "# definition of custom function double_print\n",
    "def double_print(x):\n",
    "    print(x)\n",
    "    print(x)"
   ]
  },
  {
   "cell_type": "markdown",
   "metadata": {},
   "source": [
    "When you run the code above, nothing happens.\n",
    "That's because the cell only defines the function `double_print`, it doesn't actually use it for anything yet.\n",
    "Just think of the *quarabarcle* example above: when I define *quarabarcle* to you, that doesn't mean that you have a booger hanging from the nose.\n",
    "I'm only telling you what it means so that when I say it **in the future**, you do the right thing.\n",
    "\n",
    "For Python, defining a function does not result in any observable action.\n",
    "Python simply memorizes what you want to happen whenever you use the function `double_print`.\n",
    "But if you don't use the function, nothing happens.\n",
    "In order to actually make the function do any work for you, you have to *call* it."
   ]
  },
  {
   "cell_type": "code",
   "execution_count": null,
   "metadata": {
    "collapsed": true
   },
   "outputs": [],
   "source": [
    "# definition of custom function double_print\n",
    "def double_print(x):\n",
    "    print(x)\n",
    "    print(x)\n",
    "    \n",
    "# we now call double_print\n",
    "double_print(\"double_print has been called the first time\")"
   ]
  },
  {
   "cell_type": "markdown",
   "metadata": {},
   "source": [
    "When you run the cell above, something finally happens.\n",
    "Python sees that you are calling `double_print` with a very long string as an argument.\n",
    "It remembers that whenever it sees `double_print(x)`, it should run\n",
    "\n",
    "```\n",
    "print(x)\n",
    "print(x)\n",
    "```\n",
    "\n",
    "That's exactly what it does, substituting the string `\"double_print has been called the first time\"` for every occurrence of `x`.\n",
    "That's why the string ends up being printed twice.\n",
    "As far as Python is concerned, the cell above does pretty much the same as the one below:"
   ]
  },
  {
   "cell_type": "code",
   "execution_count": null,
   "metadata": {
    "collapsed": true
   },
   "outputs": [],
   "source": [
    "x = \"double_print has been called the first time\"\n",
    "print(x)\n",
    "print(x)"
   ]
  },
  {
   "cell_type": "markdown",
   "metadata": {},
   "source": [
    "But remember, this only happens if you call the function."
   ]
  },
  {
   "cell_type": "markdown",
   "metadata": {},
   "source": [
    "***Call me, maybe*: A function definition does not do anything unless you call the function.**"
   ]
  },
  {
   "cell_type": "markdown",
   "metadata": {},
   "source": [
    "**Exercise.**\n",
    "Verify your description of `triple_mirror_print` by calling the function with suitable arguments in the cell below."
   ]
  },
  {
   "cell_type": "code",
   "execution_count": null,
   "metadata": {
    "collapsed": true
   },
   "outputs": [],
   "source": [
    "def triple_mirror_print(x, y, z):\n",
    "    print(x)\n",
    "    print(y)\n",
    "    print(z)\n",
    "    print(z)\n",
    "    print(y)\n",
    "    print(x)\n",
    "    \n",
    "# call the function with arguments of your choice"
   ]
  },
  {
   "cell_type": "markdown",
   "metadata": {},
   "source": [
    "## Functions are blackboxes: Special behavior of arguments and variables\n",
    "\n",
    "Note that Python doesn't care at all what names we give to the arguments of a function.\n",
    "The following code cell does exactly the same thing as the previous one."
   ]
  },
  {
   "cell_type": "code",
   "execution_count": null,
   "metadata": {
    "collapsed": true
   },
   "outputs": [],
   "source": [
    "# definition of custom function double_print\n",
    "def double_print(this_is_not_x):\n",
    "    print(this_is_not_x)\n",
    "    print(this_is_not_x)\n",
    "    \n",
    "# we now call double_print\n",
    "double_print(\"double_print has been called the first time\")"
   ]
  },
  {
   "cell_type": "markdown",
   "metadata": {},
   "source": [
    "Python only needs the argument names to make the appropriate substitutions when you call the function.\n",
    "But this also means that all the argument names used inside the function must be part of the definition.\n",
    "The definition of `triple_mirror_print` below does not work because there aren't enough arguments."
   ]
  },
  {
   "cell_type": "code",
   "execution_count": null,
   "metadata": {},
   "outputs": [],
   "source": [
    "def broken_triple_mirror_print(x, y):\n",
    "    print(x)\n",
    "    print(y)\n",
    "    # z is not defined, so Python will raise an error at this point\n",
    "    print(z)\n",
    "    print(z)\n",
    "    print(y)\n",
    "    print(x)\n",
    "    \n",
    "broken_triple_mirror_print(\"first string\", \"second string\")"
   ]
  },
  {
   "cell_type": "markdown",
   "metadata": {},
   "source": [
    "If `z` has already been defined outside the function, things work as desired."
   ]
  },
  {
   "cell_type": "code",
   "execution_count": null,
   "metadata": {},
   "outputs": [],
   "source": [
    "z = \"a string from outside the function\"\n",
    "\n",
    "def broken_triple_mirror_print(x, y):\n",
    "    print(x)\n",
    "    print(y)\n",
    "    # z is now defined, so Python will no longer raise an error at this point\n",
    "    print(z)\n",
    "    print(z)\n",
    "    print(y)\n",
    "    print(x)\n",
    "    \n",
    "broken_triple_mirror_print(\"first string\", \"second string\")"
   ]
  },
  {
   "cell_type": "markdown",
   "metadata": {},
   "source": [
    "But while variables from outside a function can be used inside the function, the opposite does not hold.\n",
    "A variable that is defined inside a function cannot be used outside of it."
   ]
  },
  {
   "cell_type": "code",
   "execution_count": null,
   "metadata": {},
   "outputs": [],
   "source": [
    "z = \"a string from outside the function\"\n",
    "\n",
    "def broken_triple_mirror_print(x, y):\n",
    "    print(x)\n",
    "    print(y)\n",
    "    # z is not defined, so Python will raise an error at this point\n",
    "    print(z)\n",
    "    print(z)\n",
    "    print(y)\n",
    "    print(x)\n",
    "    u = \"this variable cannot be used outside the function\"\n",
    "    print(\"here we can still use u:\")\n",
    "    print(u)\n",
    "    \n",
    "print(\"we are now outside the function\")\n",
    "broken_triple_mirror_print(\"first string\", \"second string\")\n",
    "print(\"now u is no longer accessible\")\n",
    "print(u)"
   ]
  },
  {
   "cell_type": "markdown",
   "metadata": {},
   "source": [
    "That's probably a bit confusing to you.\n",
    "Variables from outside a function can be used inside the function, but variables from inside of it cannot be used outside.\n",
    "Why would Python be organized this way?\n",
    "There's a smart answer, but we'll dodge the question by making another observation:\n",
    "you shouldn't even use variables from outside the function unless you really know what you're doing.\n",
    "Ideally, all your functions are completely isolated from the rest of your code.\n",
    "They are like blackboxes."
   ]
  },
  {
   "cell_type": "markdown",
   "metadata": {},
   "source": [
    "***Functions function as blackboxes*: they should only have access to their arguments, and nothing from inside a function is freely accessible.**"
   ]
  },
  {
   "cell_type": "markdown",
   "metadata": {},
   "source": [
    "Always write your functions so that they are perfect blackboxes.\n",
    "\n",
    "1.  A blackbox function only uses variables that are arguments of the function (e.g. x and y in `broken_triple_mirror_print`).\n",
    "    It never uses variables that were defined outside the function.\n",
    "1.  Any variables that are used inside the function cannot be used outside of it.\n",
    "\n",
    "Basically, there is no overlap between the variables inside the function and the variables outside the function."
   ]
  },
  {
   "cell_type": "markdown",
   "metadata": {},
   "source": [
    "**Exercise.**\n",
    "The code below contains a function that doesn't take a single argument (that's okay).\n",
    "But inside the function there is a variable that has the same name as one defined outside the function.\n",
    "Take a moment to think about what might happen.\n",
    "Then run the code to see what is actually going on.\n",
    "Try to explain why Python is behaving the way it does."
   ]
  },
  {
   "cell_type": "code",
   "execution_count": null,
   "metadata": {},
   "outputs": [],
   "source": [
    "x = \"I'm outside the function\"\n",
    "\n",
    "def useless_function():\n",
    "    x = \"I'm inside the function\"\n",
    "    print(\"Inside the function, x is:\", x)\n",
    "\n",
    "useless_function()\n",
    "print(\"Outside the function, x is:\", x)"
   ]
  },
  {
   "cell_type": "markdown",
   "metadata": {},
   "source": [
    "*put your explanation here*"
   ]
  },
  {
   "cell_type": "markdown",
   "metadata": {},
   "source": [
    "## Why use custom functions?\n",
    "\n",
    "For Python, custom functions aren't a big deal, and in principle one could write even very large programs without them.\n",
    "But you would have to be a madman/madwoman to do so.\n",
    "Custom functions make it a lot easier for you to write well-structured, easily modifiable code that is free of bugs.\n",
    "That's because of their blackbox nature: you can write just the code for the function, and test it in isolation.\n",
    "Only when you are confident that your function works the way you want do you include it in your program.\n",
    "This allows you to build complex programs by combining simple programs, each one of which is a function or a collection of functions.\n",
    "It's a bit like LEGO, where you build complex things from very simple building blocks.\n",
    "\n",
    "This probably sounds a bit abstract to you at this point, so let's focus on a practical advantage that you can already appreciate: less typing."
   ]
  },
  {
   "cell_type": "markdown",
   "metadata": {},
   "source": [
    "**Exercise.**\n",
    "The cell below prints various strings five times in a row.\n",
    "Write a more compact version that uses your custom function `print5` instead.\n",
    "Try to make your version as short as possible (for instance, avoid defining variables if you don't need to)."
   ]
  },
  {
   "cell_type": "code",
   "execution_count": null,
   "metadata": {
    "collapsed": true
   },
   "outputs": [],
   "source": [
    "x = \"The sun shone, having no alternative, on the nothing new.\"\n",
    "print(x)\n",
    "print(x)\n",
    "print(x)\n",
    "print(x)\n",
    "print(x)\n",
    "\n",
    "x = \"Call me Ishmael.\"\n",
    "print(x)\n",
    "print(x)\n",
    "print(x)\n",
    "print(x)\n",
    "print(x)\n",
    "\n",
    "x = \"Someone must have slandered Josef K.\"\n",
    "print(x)\n",
    "print(x)\n",
    "print(x)\n",
    "print(x)\n",
    "print(x)\n",
    "\n",
    "x = \"The sky above the port was the color of television, tuned to a dead channel.\"\n",
    "print(x)\n",
    "print(x)\n",
    "print(x)\n",
    "print(x)\n",
    "print(x)\n",
    "\n",
    "x = \"It was a bright cold day in April, and the clocks were striking thirteen.\"\n",
    "print(x)\n",
    "print(x)\n",
    "print(x)\n",
    "print(x)\n",
    "print(x)"
   ]
  },
  {
   "cell_type": "code",
   "execution_count": null,
   "metadata": {
    "collapsed": true
   },
   "outputs": [],
   "source": [
    "# put your version with print5 here (include the definition of print5);\n",
    "# compare the output of the cells to make sure your code does the same work"
   ]
  },
  {
   "cell_type": "markdown",
   "metadata": {},
   "source": [
    "## Variables can be arguments\n",
    "\n",
    "One minor source of confusion for beginners is that variables can be used as arguments for functions."
   ]
  },
  {
   "cell_type": "code",
   "execution_count": null,
   "metadata": {},
   "outputs": [],
   "source": [
    "def double_print(x):\n",
    "    print(x)\n",
    "    print(x)\n",
    "    \n",
    "double_print(\"This string is not stored in any variable\")\n",
    "\n",
    "x = \"This string is stored in variable x\"\n",
    "\n",
    "double_print(x)\n",
    "\n",
    "y = \"This string is stored in variable y\"\n",
    "\n",
    "double_print(y)"
   ]
  },
  {
   "cell_type": "markdown",
   "metadata": {},
   "source": [
    "In order to make sense of this, you have to distinguish between variables and arguments.\n",
    "In the definition of `double_print`, `x` is an argument.\n",
    "It tells Python what parts in the definition of `double_print` should be replaced by whatever argument is passed into the function.\n",
    "Outside the function definition, we use `x` as variable.\n",
    "When we call `double_print(x)`, Python replaces the variable by its current value, so the actual function call is `double_print(\"This string is stored in variable x\")`.\n",
    "And this in turn is replaced by\n",
    "\n",
    "```python\n",
    "print(\"This string is stored in variable x\")\n",
    "print(\"This string is stored in variable x\")\n",
    "```"
   ]
  },
  {
   "cell_type": "markdown",
   "metadata": {},
   "source": [
    "Here's a slightly more complicated example:"
   ]
  },
  {
   "cell_type": "code",
   "execution_count": null,
   "metadata": {},
   "outputs": [],
   "source": [
    "def mirror_print(a, b, c, d):\n",
    "    print(d, c, b, a)\n",
    "    \n",
    "b = \"B\"\n",
    "d = \"D\"\n",
    "c = d\n",
    "\n",
    "mirror_print(\"D\", c, b, \"A\")"
   ]
  },
  {
   "cell_type": "markdown",
   "metadata": {},
   "source": [
    "**Exercise.**\n",
    "Explain in a step-wise fashion what's happening in this piece of code.\n",
    "Follow the format in the previous paragraph."
   ]
  },
  {
   "cell_type": "markdown",
   "metadata": {},
   "source": [
    "*put your description here*"
   ]
  },
  {
   "cell_type": "markdown",
   "metadata": {},
   "source": [
    "Custom functions will be with us for the rest of the course, so it is important that you master them.\n",
    "Don't worry, though, this unit already covers almost everything that you need to know about functions.\n",
    "The real challenge is not in writing a correct function, but in analyzing problems from a functional perspective.\n",
    "This means decomposing a problem into subproblems such that each subproblem is handled by a function and the whole problem is just a matter of putting those functions together in the right way."
   ]
  },
  {
   "cell_type": "markdown",
   "metadata": {},
   "source": [
    "## Bullet point summary\n",
    "\n",
    "- Custom functions are defined following a general template\n",
    "\n",
    "```python\n",
    "def function_name(argument1, ..., argumentx):\n",
    "    some_code\n",
    "```\n",
    "\n",
    "- A function definition by itself does nothing.\n",
    "  Remember the rule of *Call me, maybe*.\n",
    "- Functions are like blackboxes.\n",
    "  Their variables cannot be used outside the function, and they should not use variables from outside the function (but it is okay to pass the contents of a variable as an argument)."
   ]
  },
  {
   "cell_type": "markdown",
   "metadata": {},
   "source": [
    "***Call me, maybe*: A function definition does not do anything unless you call the function.**"
   ]
  },
  {
   "cell_type": "markdown",
   "metadata": {},
   "source": [
    "***Functions function as blackboxes*: they should only have access to their arguments, and nothing from inside a function is freely accessible.**"
   ]
  }
 ],
 "metadata": {
  "kernelspec": {
   "display_name": "Python 3",
   "language": "python",
   "name": "python3"
  },
  "language_info": {
   "codemirror_mode": {
    "name": "ipython",
    "version": 3
   },
   "file_extension": ".py",
   "mimetype": "text/x-python",
   "name": "python",
   "nbconvert_exporter": "python",
   "pygments_lexer": "ipython3",
   "version": "3.6.5"
  }
 },
 "nbformat": 4,
 "nbformat_minor": 2
}
