{
 "cells": [
  {
   "cell_type": "markdown",
   "metadata": {},
   "source": [
    "# Writing a cleaning function for preprocessing text\n",
    "\n",
    "The previous unit only contained some toy examples for functions.\n",
    "This unit takes a look at a practical usage that is ubiquitous in language technology: cleaning up text.\n",
    "The type of text varies.\n",
    "It may be a sentence entered by the user, an email, a tweet, a website, or a bunch of books you downloaded from the internet.\n",
    "But whatever it is, odds are that the text contains all kinds of things that you need to fix to make the text easier to work with in Python.\n",
    "This is called *preprocessing* or simply *cleaning*."
   ]
  },
  {
   "cell_type": "markdown",
   "metadata": {},
   "source": [
    "## Cleaning user input for a chatbot\n",
    "\n",
    "We have already seen a very simple kind of cleaning in previous units.\n",
    "There, we used `str.lower` to remove capitalization, and we also used a regular expression to get rid of punctuation.\n",
    "This greatly simplifies the rest of the program, for instance `if`-tests.\n",
    "Contrast the two mini-programs below."
   ]
  },
  {
   "cell_type": "code",
   "execution_count": null,
   "metadata": {
    "collapsed": true
   },
   "outputs": [],
   "source": [
    "print(\"Hi. Do you think I'm human?\")\n",
    "reply = input()\n",
    "\n",
    "while reply not in [\"Yes.\", \"Yes\", \"yes.\", \"yes\"]:\n",
    "    if reply in [\"No.\", \"No\", \"no.\", \"no\"]:\n",
    "        print(\"But I am! Why won't you believe me\")\n",
    "    else:\n",
    "        print(\"Please answer Yes or No.\")\n",
    "    print(\"So, I ask you again: Do you think I'm human?\")\n",
    "    reply = input()\n",
    "        \n",
    "print(\"Fooled'ya!\")"
   ]
  },
  {
   "cell_type": "code",
   "execution_count": null,
   "metadata": {
    "collapsed": true
   },
   "outputs": [],
   "source": [
    "import re\n",
    "\n",
    "print(\"Hi. Do you think I'm human?\")\n",
    "reply = input()\n",
    "# some basic cleanup\n",
    "reply = str.lower(reply)\n",
    "reply = re.sub(r\"[\\.\\?!,; ]\", r\"\", reply)\n",
    "\n",
    "while reply != \"yes\":\n",
    "    if reply == \"no\":\n",
    "        print(\"But I am! Why won't you believe me\")\n",
    "    else:\n",
    "        print(\"Please answer Yes or No.\")\n",
    "    print(\"So, I ask you again: Do you think I'm human?\")\n",
    "    reply = input()\n",
    "    reply = str.lower(reply)\n",
    "    reply = re.sub(r\"[\\.\\?!,; ]\", r\"\", reply)\n",
    "        \n",
    "print(\"Fooled'ya!\")"
   ]
  },
  {
   "cell_type": "markdown",
   "metadata": {},
   "source": [
    "**Exercise.**\n",
    "The second program is more general than the first.\n",
    "List at least 5 user inputs that are handled correctly by the second program, but not the first."
   ]
  },
  {
   "cell_type": "markdown",
   "metadata": {},
   "source": [
    "*list your user inputs here (one line per input)*"
   ]
  },
  {
   "cell_type": "markdown",
   "metadata": {},
   "source": [
    "In the second program, the conditions for `while` and `if` are simpler because we know that the user input has been preprocessed so that all characters are lowercase and the string contains no spaces or punctuation.\n",
    "But this comes at the price of code duplication.\n",
    "The first time we get a reply, we clean it up with `str.lower` and then `re.sub`.\n",
    "A few lines later, we do the same thing inside the `while` loop.\n",
    "Alright, not the most elegant solution, but... whatever, right?\n",
    "It gets the job done, so it's fine... not.\n",
    "\n",
    "Suppose that later down the road, you decide to also remove hyphens from `reply`.\n",
    "Then you have to replace\n",
    "\n",
    "```python\n",
    "re.sub(r\"[\\.\\?!,; ]\", r\"\", reply)\n",
    "```\n",
    "\n",
    "by\n",
    "\n",
    "```python\n",
    "re.sub(r\"[\\.\\?!,; ]\", r\"\", reply)\n",
    "```\n",
    "\n",
    "A simple change.\n",
    "But crucially, you have to do it in two places: before the `while`-loop, and inside of the `while`-loop.\n",
    "If you change only one of the two and then change your program under the assumption that `reply` never contains a hyphen (`-`), all of a sudden things may go wrong in some cases.\n",
    "You have accidentally introduced a bug.\n",
    "\n",
    "Our code snippets are so short that it won't take you long to track down the mistake, but in the real world programs aren't this short.\n",
    "A simple Python script can easily have a few hundred lines, and more complex applications quickly run into thousands of lines of code.\n",
    "An operating system involves millions of lines of code!\n",
    "With such a code base, finding the one line you forgot to change is like looking for a needle in a haystack.\n",
    "Functions allow you to work around this problem."
   ]
  },
  {
   "cell_type": "markdown",
   "metadata": {},
   "source": [
    "## A clean-up function\n",
    "\n",
    "Think a bit about the structure of the program above.\n",
    "It actually involves two tasks:\n",
    "\n",
    "1. cleaning up the user input, and\n",
    "1. interacting with the user until he or she provides the desired input.\n",
    "\n",
    "In the current code, these two tasks are directly interwoven, there is no clear separation between code lines that handle the first task and code lines that handle the second task.\n",
    "With functions, we can tease the two apart.\n",
    "Here is what this would look like."
   ]
  },
  {
   "cell_type": "code",
   "execution_count": null,
   "metadata": {
    "collapsed": true
   },
   "outputs": [],
   "source": [
    "import re\n",
    "\n",
    "def clean_up(user_string):\n",
    "    user_string = str.lower(user_string)\n",
    "    user_string = re.sub(r\"[\\.\\?!,; ]\", r\"\", user_string)\n",
    "    # a new command: return defines the output of the function\n",
    "    return user_string\n",
    "\n",
    "print(\"Hi. Do you think I'm human?\")\n",
    "reply = input()\n",
    "# some basic cleanup\n",
    "reply = clean_up(reply)\n",
    "\n",
    "while reply != \"yes\":\n",
    "    if reply == \"no\":\n",
    "        print(\"But I am! Why won't you believe me\")\n",
    "    else:\n",
    "        print(\"Please answer Yes or No.\")\n",
    "    print(\"So, I ask you again: Do you think I'm human?\")\n",
    "    reply = input()\n",
    "    reply = clean_up(reply)\n",
    "        \n",
    "print(\"Fooled'ya!\")"
   ]
  },
  {
   "cell_type": "markdown",
   "metadata": {},
   "source": [
    "This code snippet contains a command we haven't encountered before, `return`.\n",
    "Ignore it for now, the important thing is the overall structure of the code.\n",
    "As you can see, we first define a function `clean_up` whose job it is to clean up any string that is passed into it as an argument.\n",
    "The commands are exactly the same we used before, that is to say, `str.lower` and `re.sub` with the appropriate substitutions.\n",
    "The rest of the program is almost exactly the same, except that we now call the `clean_up` function in two places to preprocess the user input.\n",
    "This may seem like a minor change, but it completely changes the program.\n",
    "If we now decide to also remove hyphens from user input, we only have to make a single change in the definition of `clean_up`.\n",
    "Both points where the function is called automatically use the new definition.\n",
    "With a change to a single line of code, we have simultaneously changed the program in two places.\n",
    "\n",
    "This is the true power of functions.\n",
    "We can disect our program into tasks, and each task gets its own function.\n",
    "Any modification we make to the function is automatically used at every point where we call the function.\n",
    "Without functions, you might have to make the same change to hundreds of lines in your program.\n",
    "With functions, the change is made only once, in the definition of the function."
   ]
  },
  {
   "cell_type": "markdown",
   "metadata": {},
   "source": [
    "## What is `return`? It is not `print`!\n",
    "\n",
    "Consider once more the definition of `clean_up`."
   ]
  },
  {
   "cell_type": "code",
   "execution_count": null,
   "metadata": {
    "collapsed": false
   },
   "outputs": [],
   "source": [
    "import re\n",
    "\n",
    "def clean_up(user_string):\n",
    "    user_string = str.lower(user_string)\n",
    "    user_string = re.sub(r\"[\\.\\?!,; ]\", r\"\", user_string)\n",
    "    # a new command: return defines the output of the function\n",
    "    return user_string\n",
    "\n",
    "clean_up(\"Hi!!!1! I hate periods, but I love ellipsis...\")"
   ]
  },
  {
   "cell_type": "markdown",
   "metadata": {},
   "source": [
    "What is the use of `return` here?\n",
    "It seems to do the same thing as `print`."
   ]
  },
  {
   "cell_type": "code",
   "execution_count": null,
   "metadata": {
    "collapsed": false
   },
   "outputs": [],
   "source": [
    "import re\n",
    "\n",
    "def clean_up(user_string):\n",
    "    user_string = str.lower(user_string)\n",
    "    user_string = re.sub(r\"[\\.\\?!,; ]\", r\"\", user_string)\n",
    "    # let's try print instead of return\n",
    "    print(user_string)\n",
    "\n",
    "clean_up(\"Hi!!!1! I hate periods, but I love ellipsis...\")"
   ]
  },
  {
   "cell_type": "markdown",
   "metadata": {},
   "source": [
    "It looks like `return` and `print` do the same thing.\n",
    "In both cases you get the string `hi1ihateperiodsbutiloveellipsis`.\n",
    "When you look more closely, though, you might already notice some minor differences.\n",
    "With `print`, you just get the string.\n",
    "With `return`, you also get something like `Out[3]` in your output, immediately to the left of the string.\n",
    "You also don't get `hi1ihateperiodsbutiloveellipsis` but rather `'hi1ihateperiodsbutiloveellipsis'`.\n",
    "Why these subtle differences?\n",
    "Because `return` produces an output, whereas `print` only shows a message on the screen.\n",
    "\n",
    "The difference may seem subtle (or perhaps even non-existent) to you, but it is incredibly important.\n",
    "Whenever you run Python code, there are two \"recipients\":\n",
    "\n",
    "1. The user sitting in front of the screen, and\n",
    "1. Python itself.\n",
    "\n",
    "The `print` function only serves one purpose, and that's to display information to the user.\n",
    "It cannot be used to make information accessible to Python.\n",
    "So far this hasn't been an issue because we didn't use functions, so Python had access to everything in the code you wrote.\n",
    "But remember that functions are essentially blackboxes.\n",
    "When you call a function `foo` with, say, two arguments `x` and `y`, you feed the values of `x` and `y` into this blackbox.\n",
    "Inside the blackbox, Python carries out computations according to the definition of `foo`, but from the outside nobody can see what's going on in there.\n",
    "If you want Python to use the end result of whatever happened in the blackbox, you have to open a door, metaphorically speaking.\n",
    "The `return` command opens this door.\n",
    "Without the `return` command, a function is more like a black hole that absorbs some arguments and never returns any output.\n",
    "Sure, you can use `print` to tell the user what's going on, but Python can't use those.\n",
    "If you want to pass something out of the function, you need `return`.\n",
    "\n",
    "Here's how you can think of this in terms of flowcharts.\n",
    "Let's look first at the flowchart for the chatbot without the separate `clean_up` function."
   ]
  },
  {
   "cell_type": "markdown",
   "metadata": {},
   "source": [
    "```\n",
    "print Hi\n",
    "|\n",
    "store user input as reply\n",
    "|\n",
    "lowercase reply\n",
    "|\n",
    "remove punctuation\n",
    "|\n",
    "reply != yes? yes ---> reply == no? yes --> print complaint\n",
    "|      ^                     |                |\n",
    "|      |               print Answer Yes/No    |\n",
    "|      |                     |                |\n",
    "|      |                     |<---------------|\n",
    "|      |                     |\n",
    "|      |               print Am I human?\n",
    "|      |                     |\n",
    "|      |               store user input as reply\n",
    "|      |                     |\n",
    "|      |               lowercase reply\n",
    "|      |                     |\n",
    "|      |---------------remove punctuation\n",
    "|\n",
    "print Fooled'ya\n",
    "```"
   ]
  },
  {
   "cell_type": "markdown",
   "metadata": {},
   "source": [
    "And here's what it looks like with the `clean_up` function.\n",
    "Notice how we now effectively have two separate flowcharts.\n",
    "The first one, called `MAIN`, illustrate the main structure of the program.\n",
    "The second one, `CLEAN_UP`, depicts what happens inside the `clean_up` function."
   ]
  },
  {
   "cell_type": "markdown",
   "metadata": {},
   "source": [
    "```\n",
    "MAIN:\n",
    "\n",
    "print Hi\n",
    "|\n",
    "store user input as reply\n",
    "|\n",
    "/---------------\\\n",
    "|clean_up(reply)|\n",
    "\\---------------/\n",
    "|\n",
    "remove punctuation\n",
    "|\n",
    "reply != yes? yes ---> reply == no? yes --> print complaint\n",
    "|      ^                     |                |\n",
    "|      |               print Answer Yes/No    |\n",
    "|      |                     |                |\n",
    "|      |                     |<---------------|\n",
    "|      |                     |\n",
    "|      |               print Am I human?\n",
    "|      |                     |\n",
    "|      |               store user input as reply\n",
    "|      |                     |\n",
    "|      |               /---------------\\\n",
    "|      |               |clean_up(reply)|\n",
    "|      |               \\---------------/\n",
    "|      |                     |\n",
    "|      |---------------------|\n",
    "|\n",
    "print Fooled'ya\n",
    "\n",
    "CLEAN_UP(x):\n",
    "\n",
    "lowercase x\n",
    "|\n",
    "remove punctuation from x\n",
    "|\n",
    "output clean x\n",
    "```"
   ]
  },
  {
   "cell_type": "markdown",
   "metadata": {},
   "source": [
    "The calls to `clean_up` are surrounded by borders in `MAIN` to highlight that the function acts like a blackbox.\n",
    "`MAIN` does not know what is going on inside.\n",
    "But notice that `MAIN` does not end with `clean_up`.\n",
    "Instead, it relies on `clean_up` to do its job and then give it some output to work with.\n",
    "Whenever you have a flowchart where a function is inserted somewhere in the middle and thus has the job of converting some input to some output, you know that this function needs a `return` command."
   ]
  },
  {
   "cell_type": "markdown",
   "metadata": {},
   "source": [
    "***The print return mnemonic: `print` prints to screen, `return` returns an output.**"
   ]
  },
  {
   "cell_type": "markdown",
   "metadata": {},
   "source": [
    "**Exercise.**\n",
    "To see for yourself that `print` does not provide what you want, modify the definition below so that it uses `print` instead of return.\n",
    "Then run the function.\n",
    "Something will go pretty wrong.\n",
    "Think about why the program behaves the way it does, and write down your explanation in the cell below."
   ]
  },
  {
   "cell_type": "code",
   "execution_count": null,
   "metadata": {
    "collapsed": false
   },
   "outputs": [],
   "source": [
    "import re\n",
    "\n",
    "def clean_up(user_string):\n",
    "    user_string = str.lower(user_string)\n",
    "    user_string = re.sub(r\"[\\.\\?!,; ]\", r\"\", user_string)\n",
    "    return user_string\n",
    "\n",
    "print(\"Hi. Do you think I'm human?\")\n",
    "reply = input()\n",
    "# some basic cleanup\n",
    "reply = clean_up(reply)\n",
    "\n",
    "while reply != \"yes\":\n",
    "    if reply == \"no\":\n",
    "        print(\"But I am! Why won't you believe me\")\n",
    "    else:\n",
    "        print(\"Please answer Yes or No.\")\n",
    "    print(\"So, I ask you again: Do you think I'm human?\")\n",
    "    reply = input()\n",
    "    reply = clean_up(reply)\n",
    "        \n",
    "print(\"Fooled'ya!\")"
   ]
  },
  {
   "cell_type": "markdown",
   "metadata": {},
   "source": [
    "*put your explanation here*"
   ]
  },
  {
   "cell_type": "markdown",
   "metadata": {},
   "source": [
    "# How to use `return`\n",
    "\n",
    "You now know that you should `return` whenever you need the function to return a value that can serve as the input for another computation.\n",
    "Only use `print` if you actually want the user to see a specific part of the computation.\n",
    "Remember, `print` inside functions is only for showing stuff to the user, it does not allow Python access to what's going on inside the function.\n",
    "For this, you need `return`.\n",
    "The actual usage of `return` is simple: just put it in front of whatever you want to return.\n",
    "This does not have to be a single variable, it can also be a line of code"
   ]
  },
  {
   "cell_type": "markdown",
   "metadata": {},
   "source": [
    "**Exercise.**\n",
    "For each one of the functions below, add a comment that describes what its output looks like.\n",
    "You should give both a general description and a specific example (if a function has multiple return statements, provide an example for each).\n",
    "The first cell has already been filled out to give you a better idea of what to do."
   ]
  },
  {
   "cell_type": "code",
   "execution_count": null,
   "metadata": {
    "collapsed": true
   },
   "outputs": [],
   "source": [
    "import random\n",
    "\n",
    "def upper_lower(chars):\n",
    "    if random.choice([True, False]):\n",
    "        return str.upper(chars)\n",
    "    else:\n",
    "        return str.lower(chars)\n",
    "\n",
    "# randomly convert string to uppercase or lowercase\n",
    "# upper(\"aBolu\") -> \"ABOLU\"\n",
    "# upper(\"aBolu\") -> \"abolu\""
   ]
  },
  {
   "cell_type": "code",
   "execution_count": null,
   "metadata": {
    "collapsed": true
   },
   "outputs": [],
   "source": [
    "def addition(x, y):\n",
    "    return x + y"
   ]
  },
  {
   "cell_type": "code",
   "execution_count": null,
   "metadata": {
    "collapsed": true
   },
   "outputs": [],
   "source": [
    "def politics_filter(string):\n",
    "    if \"Trump\" in string or \"Hillary\" in string:\n",
    "        return \"censored\"\n",
    "    else:\n",
    "        return string"
   ]
  },
  {
   "cell_type": "code",
   "execution_count": null,
   "metadata": {
    "collapsed": false
   },
   "outputs": [],
   "source": [
    "import random\n",
    "\n",
    "def random_greeting(list_of_names):\n",
    "    greeting = random.choice([\"Hi,\", \"Hello,\"])\n",
    "    name = random.choice(list_of_names)\n",
    "    return greeting + \" \" + name + \"!\"\n",
    "    # experiment to find out what + does with strings"
   ]
  },
  {
   "cell_type": "code",
   "execution_count": null,
   "metadata": {
    "collapsed": false
   },
   "outputs": [],
   "source": [
    "def madlibs(adjective, verb, noun):\n",
    "    madlib = \"A(n) \" + adjective + \" man was \" + verb + \"ing his \" + noun\n",
    "    # experiment to find out what + does with strings\n",
    "    return madlib"
   ]
  },
  {
   "cell_type": "code",
   "execution_count": null,
   "metadata": {
    "collapsed": false
   },
   "outputs": [],
   "source": [
    "def constant_function(x):\n",
    "    return 17"
   ]
  },
  {
   "cell_type": "code",
   "execution_count": null,
   "metadata": {
    "collapsed": true
   },
   "outputs": [],
   "source": [
    "def is_upper(chars):\n",
    "    if chars == str.upper(chars):\n",
    "        return True\n",
    "    else:\n",
    "        return False"
   ]
  },
  {
   "cell_type": "markdown",
   "metadata": {},
   "source": [
    "**Exercise.**\n",
    "The strength of functions is that they allow you to break down a complex task into several simple ones.\n",
    "In order to see this, you have to finally work on a more complex task.\n",
    "That's what this exercise is about.\n",
    "Go back to the earlier units and collect all the tricks you have learned for chatbots:\n",
    "\n",
    "1. Cleaning up the user input.\n",
    "1. Memorizing user input, either to reuse it with `random.choice` or to point out if the user has said something before.\n",
    "1. Randomizing the chatbot with the random library.\n",
    "1. Using if-statements to check for special cases (e.g. slurs in the input).\n",
    "1. Talking indefinitely until the user writes a specific sentence (e.g. \"Good Lord almighty, please make it stop!\").\n",
    "\n",
    "Then design a chatbot that behaves as follows:\n",
    "\n",
    "1. It starts the conversation with a random greeting (at least 5 choices).\n",
    "1. If the user writes a nice reply, the bot switches into \"nice mode\".\n",
    "   If the user writes a nasty reply, the bot switches into \"nasty mode\".\n",
    "   You have to write some code to determine if the reply is nice or nasty.\n",
    "1. In nice mode, the bot keeps saying supersweet niceties until the user replies with something nasty.\n",
    "   It then switches to nasty mode.\n",
    "1. In nasty mode, the bot only outputs `\"...\"` until the user writes something they've written before.\n",
    "   The bot then shouts `\"Leave me alone!\"` and the conversation stops.\n",
    "   \n",
    "Here are a few suggestions for what should probably be its own function:\n",
    "\n",
    "- the clean up function (you want one, believe me)\n",
    "- detecting if the user reply is nice or nasty\n",
    "- nice mode for the bot\n",
    "- nasty mode for the bot\n",
    "\n",
    "I also suggest that you draw a flowchart for yourself.\n",
    "Don't write a single line of code until you have a good idea of how the whole chatbot works!\n",
    "You must think about what each function looks like, how to combine them with the main part of the program, where to start the `while`-loop, and so on.\n",
    "\n",
    "This is the first time you have to write a more complex program from scratch, so take your time.\n",
    "Feel free to brainstorm ideas with your peers in the Python discussion board."
   ]
  },
  {
   "cell_type": "code",
   "execution_count": null,
   "metadata": {
    "collapsed": true
   },
   "outputs": [],
   "source": [
    "# put your code here"
   ]
  },
  {
   "cell_type": "markdown",
   "metadata": {},
   "source": [
    "## Bullet point summary\n",
    "\n",
    "- Functions need a `return` statement to return an output.\n",
    "- Never confuse `print` and `return`."
   ]
  },
  {
   "cell_type": "markdown",
   "metadata": {},
   "source": [
    "***The print return mnemonic: `print` prints to screen, `return` returns an output.**"
   ]
  }
 ],
 "metadata": {
  "kernelspec": {
   "display_name": "Python 3",
   "language": "python",
   "name": "python3"
  },
  "language_info": {
   "codemirror_mode": {
    "name": "ipython",
    "version": 3
   },
   "file_extension": ".py",
   "mimetype": "text/x-python",
   "name": "python",
   "nbconvert_exporter": "python",
   "pygments_lexer": "ipython3",
   "version": "3.5.3"
  }
 },
 "nbformat": 4,
 "nbformat_minor": 2
}
