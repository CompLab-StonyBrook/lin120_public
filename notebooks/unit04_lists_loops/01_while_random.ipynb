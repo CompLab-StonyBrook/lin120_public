{
 "cells": [
  {
   "cell_type": "markdown",
   "metadata": {},
   "source": [
    "# Repeating code and avoiding repetition\n",
    "\n",
    "In our first discussion of lists, we designed the chatbot Deep Thought.\n",
    "Let us look at it one more time."
   ]
  },
  {
   "cell_type": "code",
   "execution_count": null,
   "metadata": {},
   "outputs": [],
   "source": [
    "# a simple chatbot with a memory of the conversation\n",
    "\n",
    "# instantiate the chatbots memory as an empty list\n",
    "memory = []\n",
    "\n",
    "# greet the user\n",
    "print(\"Hi, I am the supercomputer Deep Thought.\")\n",
    "print(\"What do you wish to ask me?\")\n",
    "\n",
    "# get user reply\n",
    "reply = input()\n",
    "# and store it in memory\n",
    "list.append(memory, reply)\n",
    "\n",
    "# answer the question\n",
    "print(\"Computing...\")\n",
    "print(\"Computing...\")\n",
    "print(\"Computing...\")\n",
    "print(\"Finished computing.\")\n",
    "print(\"The answer to your question is:\")\n",
    "print(\"42\")\n",
    "\n",
    "# get another question\n",
    "print(\"Is there anything else you want to ask me?\")\n",
    "\n",
    "# get second user reply\n",
    "reply = input()\n",
    "# test if the user has asked this before\n",
    "if reply in memory:\n",
    "    print(\"You have asked this question before.\")\n",
    "    print(\"But I shall answer it nonetheless.\")\n",
    "\n",
    "# give answer\n",
    "print(\"Computing...\")\n",
    "# and so on"
   ]
  },
  {
   "cell_type": "markdown",
   "metadata": {},
   "source": [
    "Notice that this chatbot asks the user twice, and then turns silent.\n",
    "But wouldn't it be much more fun if the conversation could go on forever, until the user says *Goodbye* or *Stop*?\n",
    "We can do this by telling Python to run the code in a loop."
   ]
  },
  {
   "cell_type": "markdown",
   "metadata": {},
   "source": [
    "## Looping code with `while`"
   ]
  },
  {
   "cell_type": "markdown",
   "metadata": {},
   "source": [
    "Python has a `while` statement that allows it to loop code.\n",
    "\n",
    "```python\n",
    "while some_condition:\n",
    "    # if some_condition holds, execute the code here;\n",
    "    # if some_condition still holds once the code has been executed,\n",
    "    # run the code again;\n",
    "    # repeat the loop until some_condition no longer holds\n",
    "```\n",
    "\n",
    "The `while` statement is like an `if` statement, except that the code block below it gets repeated until the condition no longer holds.\n",
    "Here's a toy example of how this can be used for a chatbot."
   ]
  },
  {
   "cell_type": "code",
   "execution_count": null,
   "metadata": {},
   "outputs": [],
   "source": [
    "# we start our code as usual\n",
    "print(\"Hi there, what's your name?\")\n",
    "# get the user's reply\n",
    "name = input()\n",
    "\n",
    "# we start our loop\n",
    "while name != \"Loretta\":\n",
    "    # the code below is executed unless the user entered Loretta\n",
    "    print(\"Hmm, I think Loretta is a much nicer name for you.\")\n",
    "    print(\"So, tell me, what's your name?\")\n",
    "    # get the user's new input\n",
    "    name = input()\n",
    "    # the code block ends here;\n",
    "    # Python jumps back to the while line and checks again if name != \"Loretta\";\n",
    "    # if so, we execute the whole code block again;\n",
    "    # otherwise, we continue below\n",
    "    \n",
    "print(\"Loretta is such a beautiful name, you should be proud.\")\n",
    "print(\"If you'll excuse me, I think I see another person over there that might be called Loretta.\")"
   ]
  },
  {
   "cell_type": "markdown",
   "metadata": {},
   "source": [
    "Run the code above and enter your name a few times (unless your name is Loretta, then please pick something else).\n",
    "As you'll see, the code keeps being executed from the beginning of the while loop over and over again.\n",
    "The loop ends only once you enter *Loretta* so that the condition `name != \"Loretta\"` is no longer satisfied."
   ]
  },
  {
   "cell_type": "markdown",
   "metadata": {},
   "source": [
    "If you still find this confusing, here's an analogy from the much older programming language *Basic*.\n",
    "In Basic, every line of code is assigned a number, and the programmer can instruct the computer to jump to specific lines of code.\n",
    "Python does not use line numbers like this (it's a really, really bad idea, and many programmers are bald nowadays because Basic's line numbering made them rip their hair out in the 80s).\n",
    "But let's assume for a moment that Python had line numbers.\n",
    "Then we could rewrite the code above as the following:\n",
    "\n",
    "```python\n",
    "1 print(\"Hi there, what's your name?\")\n",
    "2 name = input()\n",
    "3 if name != \"Loretta\":\n",
    "4     print(\"Hmm, I think Loretta is a much nicer name for you.\")\n",
    "5     print(\"So tell me, what's your name?\")\n",
    "6     name = input()\n",
    "7     goto(3) # this tells us to go back to line 3\n",
    "8 print(\"Loretta is such a beautiful name, you should be proud.\")\n",
    "9 print(\"If you'll excuse me, I think I see another person over there that might be called Loretta.\")\n",
    "```\n",
    "\n",
    "So a `while` is just an `if` where the end of the code block contains a hidden instruction to go back up to the `if`.\n",
    "It's not surprising, then, that a `while` looks very similar to an `if` in a flow chart.\n",
    "But notice how it is like an `if` that bends back into itself - in other words, a loop."
   ]
  },
  {
   "cell_type": "markdown",
   "metadata": {},
   "source": [
    "```\n",
    "print greeting\n",
    "|\n",
    "get name from user\n",
    "|\n",
    "name is not Loretta? yes -----> print Loretta nicer\n",
    "no       ^                        |\n",
    "|        |                        |\n",
    "|        ---------------------- get name from user\n",
    "|\n",
    "print beautiful name\n",
    "```"
   ]
  },
  {
   "cell_type": "markdown",
   "metadata": {},
   "source": [
    "**Exercise. **\n",
    "Experimentation time!\n",
    "Play around with while loops and see what does or doesn't work.\n",
    "Can they be nested, with one `while` loop inside the other?\n",
    "Can a `while` loop be followed by `else`?\n",
    "What happens if `while` is combined with an unsatisfiable condition like `2 + 2 == 3`?\n",
    "\n",
    "Add a least 5 pieces of code below and add comments to explain what you are testing."
   ]
  },
  {
   "cell_type": "code",
   "execution_count": null,
   "metadata": {
    "collapsed": true
   },
   "outputs": [],
   "source": [
    "# put your experimental code here"
   ]
  },
  {
   "cell_type": "markdown",
   "metadata": {},
   "source": [
    "Now let's see how we can add a `while` loop to our Deep Thought chatbot."
   ]
  },
  {
   "cell_type": "code",
   "execution_count": null,
   "metadata": {},
   "outputs": [],
   "source": [
    "# a simple chatbot with a memory of the conversation\n",
    "\n",
    "# instantiate the chatbots memory as an empty list\n",
    "memory = []\n",
    "\n",
    "# greet the user\n",
    "print(\"Hi, I am the supercomputer Deep Thought.\")\n",
    "print(\"What do you wish to ask me?\")\n",
    "\n",
    "# get user reply\n",
    "reply = input()\n",
    "\n",
    "# and now we start our loop,\n",
    "# which keeps repeating until the user says one of the following\n",
    "# 1) Goodbye\n",
    "# 2) Stop\n",
    "# 3) Shut up!\n",
    "while reply not in [\"Goodbye\", \"Stop\", \"Shut up!\"]:\n",
    "    # test if the user has asked this before\n",
    "    if reply in memory:\n",
    "        print(\"You have asked this question before.\")\n",
    "        print(\"But I shall answer it nonetheless.\")\n",
    "        \n",
    "    # add reply to memory\n",
    "    list.append(memory, reply)\n",
    "        \n",
    "    # answer the question\n",
    "    print(\"Computing...\")\n",
    "    print(\"Computing...\")\n",
    "    print(\"Computing...\")\n",
    "    print(\"Finished computing.\")\n",
    "    print(\"The answer to your question is:\")\n",
    "    print(\"42\")\n",
    "\n",
    "    # get another question\n",
    "    print(\"Is there anything else you want to ask me?\")\n",
    "    # get new user reply\n",
    "    reply = input()\n",
    "    # if reply is not one of the words above,\n",
    "    # we start again from \"Computing...\";\n",
    "    # otherwise, the loop stops here and we proceed below\n",
    "\n",
    "# the while loop is over, let's say goodbye\n",
    "print(\"You have learned everything there is to know.\")\n",
    "print(\"Farewell.\")"
   ]
  },
  {
   "cell_type": "markdown",
   "metadata": {},
   "source": [
    "Run the code above and chat with the bot for a few turns.\n",
    "Play close attention to how the code loops after your reply.\n",
    "Also repeat a few inputs so that you can verify that Deep Thought still memorizes all replies correctly.\n",
    "Then end the chat with one of the three break words."
   ]
  },
  {
   "cell_type": "markdown",
   "metadata": {},
   "source": [
    "**Exercise. **\n",
    "What would happen if we changed the `while` statement in Deep Thought so that it says `while True:`?\n",
    "\n",
    "On a completely unrelated note, remember that you can always restart the notebook by selecting Kernel in the menu and clicking on Restart & Clear Output."
   ]
  },
  {
   "cell_type": "markdown",
   "metadata": {},
   "source": [
    "## Avoiding repetition: Making chatbots more unpredictable\n",
    "\n",
    "With `if`, `else`, and `while` we can already write some fairly interactive chatbots that react dynamically to user input.\n",
    "But they are still static in the sense that for any given scenario they have only one response.\n",
    "Consider for example the *English room* chatbot you had to write, based on the following table:\n",
    "\n",
    "*Input* | *Reply*\n",
    ":--     | :--\n",
    "Any news? | Not much, just the same old same old.\n",
    "Good.    | Glad to hear it.\n",
    "Hello.   | Hey, how's it going?\n",
    "Hi.      | Hey, how's it going?\n",
    "How are you doing? | Good, thanks.\n",
    "Long time no see! | Hey, how's it going?\n",
    "What's going on? | Not much. How about you?\n",
    "What's up? | Not much. How about you?\n",
    "\n",
    "For any given user input, there is only one reply.\n",
    "But that's obviously not how English works.\n",
    "There's dozens of ways to reply to *Hello*: *Hi*, *Hello*, *Howdie*, *Do I know you?*, and many more.\n",
    "Basically, the table above shouldn't have just one reply for each input, it should have a **list of replies** from which the chatbot can choose randomly.\n",
    "This is exactly what we can do with Python's `random.choice` function."
   ]
  },
  {
   "cell_type": "code",
   "execution_count": null,
   "metadata": {},
   "outputs": [],
   "source": [
    "# a chatbot with randomly chosen greeting\n",
    "\n",
    "# we need to load the Python library called random,\n",
    "# otherwise we can't use any of the functions that\n",
    "# start with random.\n",
    "import random\n",
    "\n",
    "print(random.choice([\"Hi!\", \"Hello!\"]))"
   ]
  },
  {
   "cell_type": "markdown",
   "metadata": {},
   "source": [
    "The code above tells Python to randomly pick an item from the list `[\"Hi!\", \"Hello!']` and print it.\n",
    "You can tell that it is random because the output changes between different runs of the program.\n",
    "Execute the cell multiple times, and you will get different outputs.\n",
    "Of course the output will not always differ between two consecutive runs - if you randomly choose an element, there is a certain chance that you randomly choose the same item multiple times in a row.\n",
    "\n",
    "It is very important that we add the line `import random` at the top of the code.\n",
    "Otherwise Python will not load the `random` library, which means that none of its functions are accessible, including `random.choice`.\n",
    "You might be wondering why Python doesn't load the library by default.\n",
    "This is matter of efficiency: even the standard installation of Python ships with dozens if not hundreds of libraries, and loading all of them greatly increases memory usage.\n",
    "So libraries should only be loaded when they're needed, and the only person who can say for certain that a library is needed for the program is the programmer.\n",
    "\n",
    "At this point, you know pretty much everything there is to know about `random.choice`.\n",
    "The remainder of this unit just highlights how the function can be combined with other Python tools that you are already familiar with.\n",
    "\n",
    "For longer lists, it is convenient to first define the list and assign it to a variable.\n",
    "We can then use the variable as the argument of `random.choice`."
   ]
  },
  {
   "cell_type": "code",
   "execution_count": null,
   "metadata": {
    "collapsed": true
   },
   "outputs": [],
   "source": [
    "# a chatbot with several randomly chosen greetings\n",
    "\n",
    "# we need to load the Python library called random,\n",
    "# otherwise we can't use any of the functions that\n",
    "# start with random.\n",
    "import random\n",
    "\n",
    "# we define some possible greetings;\n",
    "# note that we are allowed to add linebreaks\n",
    "# to make longer lists more readable\n",
    "greetings = [\"Hi!\",\n",
    "             \"Hello!\",\n",
    "             \"Howdie!\",\n",
    "             \"What's up?\",\n",
    "             \"Excuse me, have we met before?\"]\n",
    "\n",
    "print(random.choice(greetings))"
   ]
  },
  {
   "cell_type": "markdown",
   "metadata": {},
   "source": [
    "**Exercise. **\n",
    "A simple greeting is just the start of a conversation.\n",
    "Compile a list of follow-up lines and add it to the code above.\n",
    "Then have Python print one item from that list right after the randomly chosen greeting.\n",
    "It is up to you what kind of follow-up lines you want to put on the list.\n",
    "A scientist at a conference will have very different follow-ups from a hammered student at a party."
   ]
  },
  {
   "cell_type": "markdown",
   "metadata": {},
   "source": [
    "**Exercise. **\n",
    "Test what happens if you use an empty list as the argument of `random.choice`.\n",
    "Explain in intuitive terms what the problem is."
   ]
  },
  {
   "cell_type": "code",
   "execution_count": null,
   "metadata": {
    "collapsed": true
   },
   "outputs": [],
   "source": [
    "# you can test the code here"
   ]
  },
  {
   "cell_type": "markdown",
   "metadata": {},
   "source": [
    "*put your answer here*"
   ]
  },
  {
   "cell_type": "markdown",
   "metadata": {},
   "source": [
    "The `random.choice` function can be used very freely.\n",
    "Wherever you want a string, you can instead use `random.choice` with a list of strings.\n",
    "In combination with `list.append`, `random.choice` becomes an even more powerful tool for creating the illusion of a human-like chatbot.\n",
    "Remember that we can use `list.append` to remember inputs from the user.\n",
    "We can use this to learn new replies from the user!"
   ]
  },
  {
   "cell_type": "code",
   "execution_count": null,
   "metadata": {},
   "outputs": [],
   "source": [
    "# a chatbot with several randomly chosen greetings that learns from user input\n",
    "import random\n",
    "\n",
    "# we define some possible greetings\n",
    "greetings = [\"Hi!\",\n",
    "             \"Hello!\",\n",
    "             \"Howdie!\",\n",
    "             \"What's up?\",\n",
    "             \"Excuse me, have we met before?\"]\n",
    "\n",
    "print(\"Hi, I'm the greeting chatbot. Greeting users is all I do.\")\n",
    "print(\"If you want me to stop, you only need to say the magical words: SHUT UP!!!\")\n",
    "\n",
    "print(random.choice(greetings))\n",
    "reply = input()\n",
    "while reply != \"SHUT UP!!!\":\n",
    "    list.append(greetings, reply)\n",
    "    print(random.choice(greetings))\n",
    "    reply = input()"
   ]
  },
  {
   "cell_type": "markdown",
   "metadata": {},
   "source": [
    "Run the code above and have an extended conversation with the chatbot.\n",
    "You will soon notice that it will repeat things you have said earlier.\n",
    "This is a classic trick of chatbots - humans produce human-like sentences, so just memorize those and throw them into the conversation.\n",
    "As long as the bot doesn't use the sentence at an inappropriate moment, it will appear more human-like."
   ]
  },
  {
   "cell_type": "markdown",
   "metadata": {},
   "source": [
    "**Exercise. **\n",
    "You now have many tools under your belt for constructing dynamic chatbots:\n",
    "\n",
    "- `print`\n",
    "- `input`\n",
    "- `if` and `else`\n",
    "-  string comparisons (`==`, `!=`, `in`, `not in`) and the Boolean connectives (`and`, `or`, `not`)\n",
    "- `while`\n",
    "- lists and the list append `list.append`\n",
    "- `random.choice`\n",
    "\n",
    "So let's try to fix up one of the earlier chatbots and get it to make use of all the gadgets.\n",
    "Pick one of the chatbots you really had fun with.\n",
    "This could be an example chatbot from an earlier unit, or a chatbot you had to design as part of an exercise; the important thing is that this a chatbot that you would enjoy presenting to your friends or family as an example of what you are learning in this class.\n",
    "Then go through the old code and make it more dynamic and interactive by using all the techniques discussed so far."
   ]
  },
  {
   "cell_type": "code",
   "execution_count": null,
   "metadata": {
    "collapsed": true
   },
   "outputs": [],
   "source": [
    "# put your extended super-duper chatbot here"
   ]
  },
  {
   "cell_type": "markdown",
   "metadata": {},
   "source": [
    "## Bullet point summary\n",
    "\n",
    "`while`\n",
    "\n",
    "- Use `while` to create loops.\n",
    "- Code inside a `while`-loop keeps being executed until the `while`-condition is no longer met.\n",
    "- Be careful with `while True:`, it will loop forever!\n",
    "- As with `if`, don't forget the `:` at the end of the `while`-line.\n",
    "\n",
    "`random`\n",
    "\n",
    "- Libraries are loaded with `import`, e.g. `import random`.\n",
    "- Use `random.choice(some_list)` to pick a random element from `some_list`."
   ]
  }
 ],
 "metadata": {
  "kernelspec": {
   "display_name": "Python 3",
   "language": "python",
   "name": "python3"
  },
  "language_info": {
   "codemirror_mode": {
    "name": "ipython",
    "version": 3
   },
   "file_extension": ".py",
   "mimetype": "text/x-python",
   "name": "python",
   "nbconvert_exporter": "python",
   "pygments_lexer": "ipython3",
   "version": "3.6.5"
  }
 },
 "nbformat": 4,
 "nbformat_minor": 2
}
