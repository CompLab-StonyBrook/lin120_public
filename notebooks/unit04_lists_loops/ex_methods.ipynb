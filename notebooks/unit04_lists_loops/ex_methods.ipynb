{
 "cells": [
  {
   "cell_type": "markdown",
   "metadata": {},
   "source": [
    "# Functions VS Methods\n",
    "\n",
    "This is another expansion unit (and thus optional; feel free to skip it).\n",
    "\n",
    "We have encountered several functions by now, such as `print`, `input`, and most recently `list.append`.\n",
    "The latter takes two arguments, the first one being a list and the second one whatever we want to add to that list."
   ]
  },
  {
   "cell_type": "code",
   "execution_count": null,
   "metadata": {},
   "outputs": [],
   "source": [
    "# define a list of strings\n",
    "our_list = [\"this\", \"is\", \"a\", \"list\"]\n",
    "print(our_list)\n",
    "# add a string\n",
    "list.append(our_list, \"of\")\n",
    "# let's check what the list looks like now\n",
    "print(our_list)\n",
    "# add another string\n",
    "list.append(our_list, \"strings\")\n",
    "# and check again\n",
    "print(our_list)"
   ]
  },
  {
   "cell_type": "markdown",
   "metadata": {},
   "source": [
    "But when you will look at Python code in the textbook, or on a website, you will find that they write the code above slightly differently."
   ]
  },
  {
   "cell_type": "code",
   "execution_count": null,
   "metadata": {},
   "outputs": [],
   "source": [
    "# define a list of strings\n",
    "our_list = [\"this\", \"is\", \"a\", \"list\"]\n",
    "print(our_list)\n",
    "# a different way of adding a string\n",
    "our_list.append(\"of\")\n",
    "# let's check again what the list looks like now\n",
    "print(our_list)\n",
    "# and add another string in this new fashion\n",
    "our_list.append(\"strings\")\n",
    "# and check again\n",
    "print(our_list)"
   ]
  },
  {
   "cell_type": "markdown",
   "metadata": {},
   "source": [
    "As you can see, the code above produces exactly the same output.\n",
    "But instead of writing `list.append(some_list, some_item)`, we can write this more compactly as `some_list.append(some_item)`.\n",
    "What is going on here?\n",
    "\n",
    "In Python, lists, strings, numbers and so on belong to specific *classes* or *types* (the two terms sometimes mean different things in other programming languages, but in Python they are the same):\n",
    "\n",
    "- Lists belong to the class `list`.\n",
    "- Strings belong to the class `str`.\n",
    "- Numbers like 1 or 172940 belong to the class `int`, which is short for *integer*.\n",
    "- Numbers like 1.23 or 172940.00 belong to the class `float`, which is short for *floating point number*.\n",
    "\n",
    "There are many other kinds of classes in Python, and an advanced programmer can even define new classes.\n",
    "We can use the `type` function to determine the type of an object."
   ]
  },
  {
   "cell_type": "code",
   "execution_count": null,
   "metadata": {},
   "outputs": [],
   "source": [
    "print(type([\"a\", \"list\", \"of\", \"strings\"]))\n",
    "print(type(\"this is a string\"))\n",
    "print(type(172940))\n",
    "print(type(172940.00))"
   ]
  },
  {
   "cell_type": "markdown",
   "metadata": {},
   "source": [
    "The name of the function `list.append` tells us that it is the `append` function for objects of the class list.\n",
    "For functions of this form, we can replace the specification of the class directly by an object of this class.\n",
    "So for `list.append`, we can just directly put a list before the dot.\n",
    "This list then serves as the first argument for `list.append`."
   ]
  },
  {
   "cell_type": "code",
   "execution_count": null,
   "metadata": {},
   "outputs": [],
   "source": [
    "# appending with list.append and two arguments\n",
    "list.append(our_list, \"item 1\")\n",
    "print(our_list)\n",
    "# we instead put the list argument before the dot\n",
    "our_list.append(\"item 2\")\n",
    "print(our_list)\n",
    "# and now we use list.append again\n",
    "list.append(our_list, \"item 3\")\n",
    "print(our_list)"
   ]
  },
  {
   "cell_type": "markdown",
   "metadata": {},
   "source": [
    "Functions that are of the form `<class X>.<function name>` are also called *methods*.\n",
    "And every method can always be invoked with the more compact form `<object of class X>.<function name>`.\n",
    "\n",
    "So why did we use the more cumbersome `list.append(memory, reply)` in the previous units instead of `memory.append(reply)`, in particular if the latter is the preferred way among Python programers?\n",
    "Purely pedagogical reasons.\n",
    "In my experience, beginning programmers often get confused by the distinction between functions and methods.\n",
    "Not every function is a method, so not everything can be called like a method.\n",
    "A few examples:"
   ]
  },
  {
   "cell_type": "code",
   "execution_count": null,
   "metadata": {},
   "outputs": [],
   "source": [
    "# print is not a method, so this won't work\n",
    "\"Hi, how are you doing?\".print"
   ]
  },
  {
   "cell_type": "code",
   "execution_count": null,
   "metadata": {},
   "outputs": [],
   "source": [
    "# nor will this\n",
    "\"Hi, how are you doing?\".print()"
   ]
  },
  {
   "cell_type": "code",
   "execution_count": null,
   "metadata": {},
   "outputs": [],
   "source": [
    "# hmm, I forgot, is append a function or a method?\n",
    "append([\"this\", \"is\", \"a\", \"list\"], \"and this a string\")"
   ]
  },
  {
   "cell_type": "markdown",
   "metadata": {},
   "source": [
    "Beginning programmers should not have to think about whether a function is a method when there is an easy way to treat all methods as functions.\n",
    "This is why we will continue to treat all functions alike.\n",
    "But in the future, when you see something like `str.lower(\"Hello, I'm John\")`, you can instead use `\"Hello, I'm John\".lower()`."
   ]
  },
  {
   "cell_type": "code",
   "execution_count": null,
   "metadata": {},
   "outputs": [],
   "source": [
    "greeting = \"Hello, I'm John.\"\n",
    "print(str.lower(greeting))\n",
    "print(greeting.lower())"
   ]
  },
  {
   "cell_type": "markdown",
   "metadata": {},
   "source": [
    "**Exercise. **\n",
    "Copy paste the code below into the empty cell.\n",
    "Then replace all function calls by methods wherever possible.\n",
    "Which version do you find more readable and/or intuitive? "
   ]
  },
  {
   "cell_type": "code",
   "execution_count": null,
   "metadata": {},
   "outputs": [],
   "source": [
    "# Take a string and make it all upper caps\n",
    "message = \"welcome to the international shouting competition\"\n",
    "print(str.upper(message))\n",
    "\n",
    "print(\"This shouting message was created by taking the following words:\")\n",
    "words = str.split(message)\n",
    "print(words)\n",
    "print(\"And putting them together with spaces inbetween to yield\")\n",
    "print(str.join(\" \", words))"
   ]
  },
  {
   "cell_type": "code",
   "execution_count": null,
   "metadata": {
    "collapsed": true
   },
   "outputs": [],
   "source": [
    "# copy-paste the code here, then make the requested changes"
   ]
  }
 ],
 "metadata": {
  "kernelspec": {
   "display_name": "Python 3",
   "language": "python",
   "name": "python3"
  },
  "language_info": {
   "codemirror_mode": {
    "name": "ipython",
    "version": 3
   },
   "file_extension": ".py",
   "mimetype": "text/x-python",
   "name": "python",
   "nbconvert_exporter": "python",
   "pygments_lexer": "ipython3",
   "version": "3.6.5"
  }
 },
 "nbformat": 4,
 "nbformat_minor": 2
}
