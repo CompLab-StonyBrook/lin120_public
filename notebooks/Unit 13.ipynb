{
 "cells": [
  {
   "cell_type": "markdown",
   "metadata": {},
   "source": [
    "# For-Loops for a More Detailed Analysis of Word Counts\n",
    "\n",
    "In the previous unit we started our quantiative analysis of *Hamlet*, *Doctor Faustus*, and *The Princess of Mars*.\n",
    "The cell below contains all the code to immediately repeat the relevant steps from the previous unit so that we can continue where we left off.\n",
    "As you can see, this is once again a case where it is convenient to break up individual steps into functions that are then combined to yield the desired result."
   ]
  },
  {
   "cell_type": "code",
   "execution_count": null,
   "metadata": {
    "collapsed": false
   },
   "outputs": [],
   "source": [
    "import urllib.request\n",
    "import re\n",
    "from collections import Counter\n",
    "\n",
    "# we first define custom functions for all individual steps\n",
    "\n",
    "def get_file(text):\n",
    "    if text == \"hamlet\":\n",
    "        urllib.request.urlretrieve(\"http://www.gutenberg.org/cache/epub/1524/pg1524.html\", \"hamlet.txt\")\n",
    "    if text == \"faustus\":\n",
    "        urllib.request.urlretrieve(\"http://www.gutenberg.org/cache/epub/811/pg811.txt\", \"faustus.txt\")\n",
    "    if text == \"johncarter\":\n",
    "        urllib.request.urlretrieve(\"http://www.gutenberg.org/cache/epub/62/pg62.txt\", \"johncarter.txt\")\n",
    "        \n",
    "def read_file(filename):\n",
    "    with open(filename, \"r\", encoding=\"utf-8\") as text:\n",
    "        return text.read()\n",
    "    \n",
    "def delete_before_line(string, line):\n",
    "    return str.split(string, \"\\n\", line)[-1]\n",
    "\n",
    "def delete_after_line(string, line):\n",
    "    return str.join(\"\\n\", str.split(string, \"\\n\")[:line+1])\n",
    "\n",
    "def hamlet_cleaner(text):\n",
    "    # 0. delete unwanted lines\n",
    "    text = delete_after_line(delete_before_line(text, 366), 10928)\n",
    "    # 1. remove all headers, i.e. lines starting with <h1, <h2, <h3, and so on\n",
    "    text = re.sub(r\"<h[0-9].*\", r\"\", text)\n",
    "    # 2. remove speaker information, i.e. lines of the form <p id=\"id012345789\"...<br/>\n",
    "    text = re.sub(r'<p id=\"id[0-9]*\">[^<]*<br/>', r\"\", text)\n",
    "    # 3. remove html tags, i.e. anything of the form <...>\n",
    "    text = re.sub(r\"<[^>]*>\", r\"\", text)\n",
    "    # 4. remove anything after [ or before ] on a line (this takes care of stage descriptions)\n",
    "    text = re.sub(r\"\\[[^\\]\\n]*\", r\"\", text)\n",
    "    text = re.sub(r\"[^\\[\\n]*\\]\", r\"\", text)\n",
    "    return text\n",
    "\n",
    "def faustus_cleaner(text):\n",
    "    # 0. delete unwanted lines\n",
    "    text = delete_after_line(delete_before_line(text, 139), 2854)\n",
    "    # 1. remove stage information\n",
    "    #    (anything after 10 spaces)\n",
    "    text = re.sub(r\"(\\s){10}[^\\n]*\", r\"\", text)\n",
    "    # 2. remove speaker information\n",
    "    #    (any word in upper caps followed by space or dot)\n",
    "    text = re.sub(r\"[A-Z]{2,}[\\s\\.]\", r\"\", text)\n",
    "    # 3. remove anything between square brackets (this takes care of footnote markers)\n",
    "    text = re.sub(r\"\\[[^\\]]*\\]\", r\"\", text)\n",
    "    return text\n",
    "\n",
    "def johncarter_cleaner(text):\n",
    "    # 0. delete unwanted lines\n",
    "    text = delete_after_line(delete_before_line(text, 234), 6940)\n",
    "    # 1. delete CHAPTER I\n",
    "    # (must be done like this because Roman 1 looks like English I)\n",
    "    text = re.sub(\"CHAPTER I\", \"\", text)\n",
    "    # 2. remove any word in upper caps that is longer than 1 character\n",
    "    text = re.sub(r\"[A-Z]{2,}\", r\"\", text)\n",
    "    # 3. remove anything after [ or before ] on a line\n",
    "    text = re.sub(r\"\\[[^\\]\\n]*\", r\"\", text)\n",
    "    text = re.sub(r\"[^\\[\\n]*\\]\", r\"\", text)\n",
    "    return text\n",
    "\n",
    "def tokenize(string):\n",
    "    return re.findall(r\"\\w+\", string)\n",
    "\n",
    "def count(token_list):\n",
    "    return Counter(token_list)\n",
    "\n",
    "\n",
    "# and now we have two functions that use all the previous functions\n",
    "# to do all the necessary work for us\n",
    "def get_and_clean(text):\n",
    "    get_file(text)\n",
    "    string = read_file(text + \".txt\")\n",
    "    string = str.lower(string)\n",
    "    # file-specific cleaning steps\n",
    "    if text == \"hamlet\":\n",
    "        return hamlet_cleaner(string)\n",
    "    if text == \"faustus\":\n",
    "        return faustus_cleaner(string)\n",
    "    if text == \"johncarter\":\n",
    "        return johncarter_cleaner(string)\n",
    "\n",
    "def tokenize_and_count(string):\n",
    "    return (count(tokenize(string)))\n",
    "\n",
    "# and finally we get to run all the code\n",
    "hamlet = tokenize_and_count(get_and_clean(\"hamlet\"))\n",
    "faustus = tokenize_and_count(get_and_clean(\"faustus\"))\n",
    "johncarter = tokenize_and_count(get_and_clean(\"johncarter\"))"
   ]
  },
  {
   "cell_type": "markdown",
   "metadata": {},
   "source": [
    "Once the cell above has finished executing, you can run the cell below to see the 10 most common words for each text."
   ]
  },
  {
   "cell_type": "code",
   "execution_count": null,
   "metadata": {
    "collapsed": false
   },
   "outputs": [],
   "source": [
    "print(Counter.most_common(hamlet, 10))\n",
    "print(Counter.most_common(faustus, 10))\n",
    "print(Counter.most_common(johncarter, 10))"
   ]
  },
  {
   "cell_type": "markdown",
   "metadata": {},
   "source": [
    "But looking at the most common words only gets us so far.\n",
    "There's many other things we might want to look at based on the token counts:\n",
    "\n",
    "- How often does a word appear on average?\n",
    "\n",
    "- What are the relative frequencies, rather than the absolute counts?\n",
    "  Knowing this would make it easier to compare frequencies across the texts, since absolute counts naturally vary with text length.\n",
    " \n",
    "- What is the average frequency of a word?\n",
    "  This is different from the average count, as the latter once again varies with text length.\n",
    "\n",
    "- What is the average word length?\n",
    "  The texts might show a large difference in this area, after all *Hamlet* and *Faustus* have to obey their meter.\n",
    "\n",
    "Most of these questions require us to look at each word type in the Counter.\n",
    "But we do not know all the word types, and even if we did there's probably thousands of them, so we cannot tell Python something like \"look at *and*, and now look at *the*, and now look at *I*, ...\", this would take forever to write.\n",
    "No, what we need is the final missing piece in our Python toolbox: `for` loops.\n",
    "And that is exactly what this unit is about."
   ]
  },
  {
   "cell_type": "markdown",
   "metadata": {},
   "source": [
    "## Looking at individual words\n",
    "\n",
    "You already know that you can look at the entire counter by putting it inside a `print` statement."
   ]
  },
  {
   "cell_type": "code",
   "execution_count": null,
   "metadata": {
    "collapsed": false
   },
   "outputs": [],
   "source": [
    "print(hamlet)"
   ]
  },
  {
   "cell_type": "markdown",
   "metadata": {},
   "source": [
    "And if you want the output to look a little prettier, you can *pretty print* it with `pprint`."
   ]
  },
  {
   "cell_type": "code",
   "execution_count": null,
   "metadata": {
    "collapsed": false
   },
   "outputs": [],
   "source": [
    "from pprint import pprint\n",
    "\n",
    "pprint(hamlet)"
   ]
  },
  {
   "cell_type": "markdown",
   "metadata": {},
   "source": [
    "But what if you want to just look up the number of tokens for a specific word type?\n",
    "Printing a giant list and then looking for the word in the output isn't exactly convenient.\n",
    "Fortunately, we can tell the counter directly to show us the value for a specific word."
   ]
  },
  {
   "cell_type": "code",
   "execution_count": null,
   "metadata": {
    "collapsed": false
   },
   "outputs": [],
   "source": [
    "print(hamlet[\"the\"])"
   ]
  },
  {
   "cell_type": "code",
   "execution_count": null,
   "metadata": {
    "collapsed": false
   },
   "outputs": [],
   "source": [
    "print(hamlet[\"hamlet\"])"
   ]
  },
  {
   "cell_type": "markdown",
   "metadata": {},
   "source": [
    "**Exercise.**\n",
    "Experimentation time!\n",
    "Try various ways of using this new syntax to get the values of words from certain counters.\n",
    "Pay particular attention to whether the part in square brackets, e.g. `[\"hamlet\"]`, behaves like a list:\n",
    "\n",
    "- What happens if you have multiple words between square brackets?\n",
    "- Is it possible to have nothing between square brackets?\n",
    "- Can you use list-related functions like `list.append`?\n",
    "\n",
    "Include at least five mini-experiments, and add comments to explain what you are testing.\n",
    "Then provide a description of how this technique is used correctly."
   ]
  },
  {
   "cell_type": "code",
   "execution_count": null,
   "metadata": {
    "collapsed": true
   },
   "outputs": [],
   "source": [
    "# put your code here"
   ]
  },
  {
   "cell_type": "markdown",
   "metadata": {},
   "source": [
    "*put your description here*"
   ]
  },
  {
   "cell_type": "markdown",
   "metadata": {},
   "source": [
    "## Calculating the average number of tokens per type\n",
    "\n",
    "Alright, we now know how to look at the counts for individual words.\n",
    "In principle, this is all we need to calculate the things we are interested in.\n",
    "For example, the average number of tokens per word is obtained by adding up all the values for all types and then dividing this number by the number of types.\n",
    "(Remember, the average of $2$ numbers $a$ and $b$ is $\\frac{a+b}{2}$, for $3$ numbers it is $\\frac{a+b+c}{3}$, for $4$ $\\frac{a+b+c+d}{4}$, and so on.)\n",
    "\n",
    "### The hard way\n",
    "\n",
    "We could do something like the following:\n",
    "\n",
    "1.  Instantiate two variables `words` and `total`, both are set to `0`.\n",
    "1.  Look at the first word in the counter.\n",
    "    1. Add 1 to the value of `words`.\n",
    "    1. Add the count for the word to `total`.\n",
    "1.  Look at the second word in the counter. \n",
    "    1. Add 1 to the value of `words`.\n",
    "    1. Add the count for the word to `total.\n",
    "1.  Continue this until all words have been looked at.\n",
    "1.  Divide `total` by `words`.\n",
    "    This is the average number of tokens per word type.\n",
    "    \n",
    "Let's do this for a toy example to see that it works the way we want.\n",
    "We will instantiate a counter where `a` occurs has 6 tokens, `b` 4, and `c` 2.\n",
    "So the average number of tokens per types is $\\frac{6+4+2}{3} = 4$."
   ]
  },
  {
   "cell_type": "code",
   "execution_count": null,
   "metadata": {
    "collapsed": false
   },
   "outputs": [],
   "source": [
    "test = Counter([\"a\", \"a\", \"a\", \"a\", \"a\", \"a\", \"b\", \"b\", \"b\", \"b\", \"c\", \"c\"])\n",
    "print(test)\n",
    "print(test[\"a\"])\n",
    "print(test[\"b\"])\n",
    "print(test[\"c\"])"
   ]
  },
  {
   "cell_type": "markdown",
   "metadata": {},
   "source": [
    "We now apply our algorithm above to this counter to calculate the average word length."
   ]
  },
  {
   "cell_type": "code",
   "execution_count": null,
   "metadata": {
    "collapsed": false
   },
   "outputs": [],
   "source": [
    "# define our test counter\n",
    "test = Counter([\"a\", \"a\", \"a\", \"a\", \"a\", \"a\", \"b\", \"b\", \"b\", \"b\", \"c\", \"c\"])\n",
    "\n",
    "# Instantiate two variables `words` and `total`, both are set to `0`.\n",
    "words = 0\n",
    "total = 0\n",
    "\n",
    "# Look at the first word in the counter.\n",
    "current_word = \"a\"\n",
    "# - Add 1 to the value of `words`.\n",
    "words = words + 1\n",
    "# - Add the count for the word to `total`.\n",
    "total = total + test[current_word]\n",
    "\n",
    "# Look at the second word in the counter.\n",
    "current_word = \"b\"\n",
    "# - Add 1 to the value of `words`.\n",
    "words = words + 1\n",
    "# - Add the count for the word to `total`.\n",
    "total = total + test[current_word]\n",
    "\n",
    "# Look at the third word in the counter.\n",
    "current_word = \"c\"\n",
    "# - Add 1 to the value of `words`.\n",
    "words = words + 1\n",
    "# - Add the count for the word to `total`.\n",
    "total = total + test[current_word]\n",
    "\n",
    "# all words have been looked at, time for the final step:\n",
    "# divide `total` by `words` (Python uses the slash / for division)\n",
    "average = total / words\n",
    "print(average)"
   ]
  },
  {
   "cell_type": "markdown",
   "metadata": {},
   "source": [
    "When you run the code above, you'll get the output `4.0`, indicating that the average number of tokens per type in the counter is `4`.\n",
    "And as we confirmed earlier on, that's indeed the case because `a` has 6 tokens, `b` has 4, and `c` has 2.\n",
    "So the code does what we want.\n",
    "All we have to do now is to use this code with our counters `hamlet`, `faustus`, and `johncarter`."
   ]
  },
  {
   "cell_type": "markdown",
   "metadata": {},
   "source": [
    "**Exercise.**\n",
    "Alright, this might take a while, so you better role up your sleeves and get hacking.\n",
    "Copy-paste the code from the cell above, then adapt is so that it looks at every word in `hamlet`.\n",
    "\n",
    "What, you don't want to do that?\n",
    "Okay, but then you have to leave a justification below why that would be a horrible way of writing the code."
   ]
  },
  {
   "cell_type": "markdown",
   "metadata": {},
   "source": [
    "*put your explanation here*"
   ]
  },
  {
   "cell_type": "markdown",
   "metadata": {},
   "source": [
    "### The easy way: A for-loop\n",
    "\n",
    "Consider once more the code we just wrote.\n",
    "It is very mechanical in that we keep repeating the same steps over and over again."
   ]
  },
  {
   "cell_type": "code",
   "execution_count": null,
   "metadata": {
    "collapsed": true
   },
   "outputs": [],
   "source": [
    "# define our test counter\n",
    "test = Counter([\"a\", \"a\", \"a\", \"a\", \"a\", \"a\", \"b\", \"b\", \"b\", \"b\", \"c\", \"c\"])\n",
    "\n",
    "# Instantiate two variables `words` and `total`, both are set to `0`.\n",
    "words = 0\n",
    "total = 0\n",
    "\n",
    "################################\n",
    "# Here we start repeating code #\n",
    "################################\n",
    "# Iteration 1\n",
    "current_word = \"a\"\n",
    "words = words + 1\n",
    "total = total + test[current_word]\n",
    "\n",
    "# Iteration 2\n",
    "current_word = \"b\"\n",
    "words = words + 1\n",
    "total = total + test[current_word]\n",
    "\n",
    "# Iteration 3\n",
    "current_word = \"c\"\n",
    "words = words + 1\n",
    "total = total + test[current_word]\n",
    "############################################################\n",
    "# We are done repeating the same steps over and over again #\n",
    "############################################################\n",
    "\n",
    "# all words have been looked at, time for the final step:\n",
    "# divide `total` by `words` (Python uses the slash / for division)\n",
    "average = total / words\n",
    "print(average)"
   ]
  },
  {
   "cell_type": "markdown",
   "metadata": {},
   "source": [
    "Each one of three iterations above runs exactly the same code, except that the value of `current_word` changes.\n",
    "Whenever we want to run exactly the same piece of code over and over again, changing only the value of a single variable, we can use a `for`-loop.\n",
    "A `for` loop allows us define a list of possible values for a specific variable, and then the code in the `for`-loop gets run over and over again until every possible value for the variable has been used.\n",
    "Here is what this looks like for the code above."
   ]
  },
  {
   "cell_type": "code",
   "execution_count": null,
   "metadata": {
    "collapsed": false
   },
   "outputs": [],
   "source": [
    "# define our test counter\n",
    "test = Counter([\"a\", \"a\", \"a\", \"a\", \"a\", \"a\", \"b\", \"b\", \"b\", \"b\", \"c\", \"c\"])\n",
    "\n",
    "# Instantiate two variables `words` and `total`, both are set to `0`.\n",
    "words = 0\n",
    "total = 0\n",
    "\n",
    "################################\n",
    "# Here we start repeating code #\n",
    "################################\n",
    "# start a for-loop with \"a\", \"b\", and \"c\" as possible values\n",
    "for current_word in [\"a\", \"b\", \"c\"]:\n",
    "    words = words + 1\n",
    "    total = total + test[current_word]\n",
    "############################################################\n",
    "# We are done repeating the same steps over and over again #\n",
    "############################################################\n",
    "\n",
    "# all words have been looked at, time for the final step:\n",
    "# divide `total` by `words` (Python uses the slash / for division)\n",
    "average = total / words\n",
    "print(average)"
   ]
  },
  {
   "cell_type": "markdown",
   "metadata": {},
   "source": [
    "Run the code above, and you'll get the same answer as before: the average number of tokens per word is 4.\n",
    "\n",
    "Here's what's going on inside Python:\n",
    "\n",
    "1.  Python instantiates `words` and `total` as usual.\n",
    "1.  Then it encounters a `for`-loop, and realizes that it has to run the code below multiple times based on the list `[\"a\", \"b\", \"c\"]` of possible values for `current_variable`:\n",
    "    1. Python first sets `current_word` to `\"a\"`, then it runs the two lines below.\n",
    "    1. Then it sets `current_word` to `\"b\"`, and once again runs the two lines below.\n",
    "    1. After that it sets `current_word` to `\"c\"`, and runs the two lines of code one more time.\n",
    "    1. At this point, all the possible values have been used and the `for`-loop ends.\n",
    "1.  Python continues with the calculation of the average and prints the result to screen.\n",
    "\n",
    "If you still find this confusing, run the cell below.\n",
    "It is exactly the same code, but `print`-statements have been added to show what is going on inside the `for`-loop."
   ]
  },
  {
   "cell_type": "code",
   "execution_count": null,
   "metadata": {
    "collapsed": false
   },
   "outputs": [],
   "source": [
    "print(\"Defining a test counter:\")\n",
    "test = Counter([\"a\", \"a\", \"a\", \"a\", \"a\", \"a\", \"b\", \"b\", \"b\", \"b\", \"c\", \"c\"])\n",
    "print(test)\n",
    "\n",
    "print(\"Instantiating words and total\")\n",
    "words = 0\n",
    "total = 0\n",
    "print(\"words is\", words)\n",
    "print(\"total is\", total)\n",
    "\n",
    "print(\"Encountered a for-loop\")\n",
    "print(\"\\t ======================\")\n",
    "for current_word in [\"a\", \"b\", \"c\"]:\n",
    "    print(\"\\t ------------------------\")\n",
    "    print(\"\\t Starting a new iteration\")\n",
    "    print(\"\\t Setting current_word to\", current_word)\n",
    "    print(\"\\t Increasing words from\", words, \"to\", words + 1)\n",
    "    words = words + 1\n",
    "    print(\"\\t\", current_word, \"has count of\", test[current_word])\n",
    "    print(\"\\t Increasing total from\", total, \"to\", total + test[current_word])\n",
    "    total = total + test[current_word]\n",
    "    print(\"\\t Finished an iteration\")\n",
    "    print(\"\\t ------------------------\")\n",
    "print(\"\\t ======================\")\n",
    "print(\"Finished for-loop\")\n",
    "\n",
    "# all words have been looked at, time for the final step:\n",
    "# divide `total` by `words` (Python uses the slash / for division)\n",
    "print(\"Computing average\")\n",
    "average = total / words\n",
    "print(average)"
   ]
  },
  {
   "cell_type": "markdown",
   "metadata": {},
   "source": [
    "Every `for`-loop follows the same template:\n",
    "\n",
    "```python\n",
    "for variable in range_of_values:\n",
    "    code_using_variable\n",
    "```"
   ]
  },
  {
   "cell_type": "markdown",
   "metadata": {},
   "source": [
    "**Exercise.**\n",
    "Below is a code cell that we encountered earlier on when we looked at our test counter.\n",
    "Combine the last three `print` statements into a `for`-loop."
   ]
  },
  {
   "cell_type": "code",
   "execution_count": null,
   "metadata": {
    "collapsed": true
   },
   "outputs": [],
   "source": [
    "test = Counter([\"a\", \"a\", \"a\", \"a\", \"a\", \"a\", \"b\", \"b\", \"b\", \"b\", \"c\", \"c\"])\n",
    "print(test)\n",
    "print(test[\"a\"])\n",
    "print(test[\"b\"])\n",
    "print(test[\"c\"])"
   ]
  },
  {
   "cell_type": "markdown",
   "metadata": {},
   "source": [
    "Most of the time the `range_of_values` part of the `for`-loop template is a list.\n",
    "But sometimes one might also want to use strings, Counters, or other objects.\n",
    "The important thing is that `range_of_values` must be container-like in that it is a collection of some smaller building blocks, e.g. the elements of a list or the characters in a string.\n",
    "An integer, for instance, is not a possible choice for `range_of_values` because a number is just a number, it is not a container of smaller numbers or anything like that."
   ]
  },
  {
   "cell_type": "code",
   "execution_count": null,
   "metadata": {
    "collapsed": false
   },
   "outputs": [],
   "source": [
    "# a for-loop over a string\n",
    "def vertical_print(string):\n",
    "    for character in string:\n",
    "        print(character)\n",
    "        \n",
    "vertical_print(\"Look, a vertical string!!!\")"
   ]
  },
  {
   "cell_type": "code",
   "execution_count": null,
   "metadata": {
    "collapsed": false
   },
   "outputs": [],
   "source": [
    "# for-loop over a counter\n",
    "test = Counter([\"a\", \"a\", \"a\", \"a\", \"a\", \"a\", \"b\", \"b\", \"b\", \"b\", \"c\", \"c\"])\n",
    "\n",
    "for word in test:\n",
    "    print(word)"
   ]
  },
  {
   "cell_type": "markdown",
   "metadata": {},
   "source": [
    "**Exercise.**\n",
    "As you can tell from the previous example, a `for`-loop over a counter by default chooses the words as possible values for the variable, rather than the numbers.\n",
    "Using this fact, adapt the for-loop in the code below so that it no longer explicitly mentions `\"a\"`, `\"b\"`, or `\"c\"`."
   ]
  },
  {
   "cell_type": "code",
   "execution_count": null,
   "metadata": {
    "collapsed": true
   },
   "outputs": [],
   "source": [
    "# define our test counter\n",
    "test = Counter([\"a\", \"a\", \"a\", \"a\", \"a\", \"a\", \"b\", \"b\", \"b\", \"b\", \"c\", \"c\"])\n",
    "\n",
    "# Instantiate two variables `words` and `total`, both are set to `0`.\n",
    "words = 0\n",
    "total = 0\n",
    "\n",
    "# start a for-loop over the counter\n",
    "for current_word in [\"a\", \"b\", \"c\"]:\n",
    "    words = words + 1\n",
    "    total = total + test[current_word]\n",
    "\n",
    "# divide `total` by `words` (Python uses the slash / for division)\n",
    "average = total / words\n",
    "print(average)"
   ]
  },
  {
   "cell_type": "markdown",
   "metadata": {},
   "source": [
    "## Simplifying our code with `len`\n",
    "\n",
    "We now have a pretty nice piece of code to compute the average number of tokens per type.\n",
    "And in a minute we will use this to compare *Hamlet*, *Dr. Faustus*, and *The Princess of Mars*.\n",
    "But first let's apply one more final tweak to simplify our code.\n",
    "\n",
    "Right now, we are doing two things inside the `for`-loop:\n",
    "\n",
    "1. We increment the value of `words` by 1 to compute the total number of types in the counter.\n",
    "1. We add the number of tokens for the type to the running total of tokens to calculate the total number of tokens.\n",
    "\n",
    "We can skip the first step using the built-in function `len`, which tells us for any container-like object what it's length is."
   ]
  },
  {
   "cell_type": "code",
   "execution_count": null,
   "metadata": {
    "collapsed": false
   },
   "outputs": [],
   "source": [
    "example_string = \"abc\"\n",
    "example_list = [\"a\", \"b\", \"c\"]\n",
    "example_counter = Counter([\"a\", \"a\", \"a\", \"a\", \"a\", \"a\", \"b\", \"b\", \"b\", \"b\", \"c\", \"c\"])\n",
    "\n",
    "for example in [example_string, example_list, example_counter]:\n",
    "    print(\"The current example is\")\n",
    "    print(example)\n",
    "    print(\"It's length is\", len(example))\n",
    "    print(\"----------\")"
   ]
  },
  {
   "cell_type": "markdown",
   "metadata": {},
   "source": [
    "**Exericse.**\n",
    "Modify the code below so that it only prints a string if it's length is exactly 10."
   ]
  },
  {
   "cell_type": "code",
   "execution_count": null,
   "metadata": {
    "collapsed": false
   },
   "outputs": [],
   "source": [
    "examples = [\"an example\", \"0123456789\", \"Hi!\", \"What's up???\", \"Honeybunny\"]\n",
    "for string in examples:\n",
    "    print(string)"
   ]
  },
  {
   "cell_type": "markdown",
   "metadata": {},
   "source": [
    "Instead of incrementing the value of `words` during each iteration, we can just use `len(test)` to determine the total number of word types in the counter `test`.\n",
    "The code then looks as follows:"
   ]
  },
  {
   "cell_type": "code",
   "execution_count": null,
   "metadata": {
    "collapsed": false
   },
   "outputs": [],
   "source": [
    "# define our test counter\n",
    "test = Counter([\"a\", \"a\", \"a\", \"a\", \"a\", \"a\", \"b\", \"b\", \"b\", \"b\", \"c\", \"c\"])\n",
    "\n",
    "# Instantiate only `total`\n",
    "total = 0\n",
    "\n",
    "# start a for-loop over the counter\n",
    "for current_word in [\"a\", \"b\", \"c\"]:\n",
    "    total = total + test[current_word]\n",
    "\n",
    "# divide `total` by number of word types (Python uses the slash / for division)\n",
    "average = total / len(test)\n",
    "print(average)"
   ]
  },
  {
   "cell_type": "markdown",
   "metadata": {},
   "source": [
    "## Comparing the three texts\n",
    "\n",
    "Alright, time to do the final comparison.\n",
    "What do you think, which one of the three texts will have the highest average number of tokens per type?\n",
    "Well, let's see how it goes."
   ]
  },
  {
   "cell_type": "markdown",
   "metadata": {},
   "source": [
    "**Exercise.**\n",
    "Adapting the code from the previous section, finish the definition of the function `avg_token_count` below.\n",
    "Then run the next cell to calculate the average number of tokens per type for *Hamlet*, *Dr. Faustus*, and *The Princess of Mars* (remember that you must have run the first cell of this unit for the variables to be defined).\n",
    "You should see quite a striking pattern, with two texts being very close together and the other one having a noticeably larger average.\n",
    "Can you think of a reason as to why we find this difference?"
   ]
  },
  {
   "cell_type": "code",
   "execution_count": null,
   "metadata": {
    "collapsed": false
   },
   "outputs": [],
   "source": [
    "def avg_token_count(word_counter):\n",
    "    # complete this function"
   ]
  },
  {
   "cell_type": "code",
   "execution_count": null,
   "metadata": {
    "collapsed": true
   },
   "outputs": [],
   "source": [
    "for text in [hamlet, faustus, johncarter]:\n",
    "    print(avg_token_count(text))"
   ]
  },
  {
   "cell_type": "markdown",
   "metadata": {},
   "source": [
    "*put your explanation of the difference here (there are no wrong answers, the important thing is that you think about it for a bit)*"
   ]
  },
  {
   "cell_type": "markdown",
   "metadata": {},
   "source": [
    "That's it for this unit, but we are not done doing some quantitative analysis of these texts.\n",
    "We have only looked at one of the four metrics described at the beginning of the unit, and there's actually still a massive confound in our analysis that we need to take care of to get more reliable numbers."
   ]
  }
 ],
 "metadata": {
  "kernelspec": {
   "display_name": "Python 3",
   "language": "python",
   "name": "python3"
  },
  "language_info": {
   "codemirror_mode": {
    "name": "ipython",
    "version": 3
   },
   "file_extension": ".py",
   "mimetype": "text/x-python",
   "name": "python",
   "nbconvert_exporter": "python",
   "pygments_lexer": "ipython3",
   "version": "3.5.3"
  }
 },
 "nbformat": 4,
 "nbformat_minor": 2
}
