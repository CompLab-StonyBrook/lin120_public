{
 "cells": [
  {
   "cell_type": "markdown",
   "metadata": {},
   "source": [
    "# Expansion unit: f-strings\n",
    "\n",
    "## What is this?\n",
    "\n",
    "This is the first *expansion unit* of this course.\n",
    "Expansion units are completely **optional**, so only work through them if they sound interesting to you.\n",
    "Also make sure you have already mastered the preceding material, there is little point in learning advanced material if the basics aren't well in place.\n",
    "\n",
    "This is really just for your own intellectual growth.\n",
    "Doing the expansion units does not count as extra credit.\n",
    "\n",
    "## F[ormat]-strings\n",
    "\n",
    "In the last unit, you learned more about `print` and how it can take multiple arguments, including variables."
   ]
  },
  {
   "cell_type": "code",
   "execution_count": 3,
   "metadata": {
    "collapsed": false
   },
   "outputs": [
    {
     "name": "stdout",
     "output_type": "stream",
     "text": [
      "Greetings and salutations! I am Bending Unit 22.\n",
      "What is your name?\n",
      "Wow, really? I have a cousin whose name is also Fry\n"
     ]
    }
   ],
   "source": [
    "print(\"Greetings and salutations! I am Bending Unit 22.\")\n",
    "print(\"What is your name?\")\n",
    "name = \"Fry\"\n",
    "print(\"Wow, really? I have a cousin whose name is also\", name)"
   ]
  },
  {
   "cell_type": "markdown",
   "metadata": {},
   "source": [
    "But you might have noticed that there is a minor problem here.\n",
    "While the first two sentences have proper punctuation, the third one ends directly with the user's name.\n",
    "Now of course we can add a `.` as a third argument for `print`, but this won't quite accomplish what we want."
   ]
  },
  {
   "cell_type": "code",
   "execution_count": 4,
   "metadata": {
    "collapsed": false
   },
   "outputs": [
    {
     "name": "stdout",
     "output_type": "stream",
     "text": [
      "Greetings and salutations! I am Bending Unit 22.\n",
      "What is your name?\n",
      "Wow, really? I have a cousin whose name is also Fry .\n"
     ]
    }
   ],
   "source": [
    "print(\"Greetings and salutations! I am Bending Unit 22.\")\n",
    "print(\"What is your name?\")\n",
    "name = \"Fry\"\n",
    "print(\"Wow, really? I have a cousin whose name is also\", name, \".\")"
   ]
  },
  {
   "cell_type": "markdown",
   "metadata": {},
   "source": [
    "We now have a sentence-ending dot, but it is separated from the user's name by a space.\n",
    "This has nothing to do with the spaces between the commas, we can remove those and still get the same result.\n"
   ]
  },
  {
   "cell_type": "code",
   "execution_count": 5,
   "metadata": {
    "collapsed": false
   },
   "outputs": [
    {
     "name": "stdout",
     "output_type": "stream",
     "text": [
      "Greetings and salutations! I am Bending Unit 22.\n",
      "What is your name?\n",
      "Wow, really? I have a cousin whose name is also Fry .\n"
     ]
    }
   ],
   "source": [
    "print(\"Greetings and salutations! I am Bending Unit 22.\")\n",
    "print(\"What is your name?\")\n",
    "name = \"Fry\"\n",
    "print(\"Wow, really? I have a cousin whose name is also\",name,\".\")"
   ]
  },
  {
   "cell_type": "markdown",
   "metadata": {},
   "source": [
    "The problem is that `print` inserts a space between its argument by default.\n",
    "We can change that default, but then we also have to make sure to add a space in front of the user's name."
   ]
  },
  {
   "cell_type": "code",
   "execution_count": 6,
   "metadata": {
    "collapsed": false
   },
   "outputs": [
    {
     "name": "stdout",
     "output_type": "stream",
     "text": [
      "Wow, really? I have a cousin whose name is also Fry.\n"
     ]
    }
   ],
   "source": [
    "# use sep (which is short for separator) so that no spaces are inserted between arguments\n",
    "print(\"Wow, really? I have a cousin whose name is also \", name, \".\", sep=\"\")"
   ]
  },
  {
   "cell_type": "markdown",
   "metadata": {},
   "source": [
    "While this is perfectly workable, it isn't exactly elegant.\n",
    "Actually, it would be much nicer if we could just have a single string with placeholders for variables.\n",
    "Exactly this has become possible with version 3.6 of Python (released in December 2016).\n",
    "Python 3.6 and later versions provide *f-strings*, which is short for *format strings*.\n",
    "The idea is very simple: if the first `\"` of a string is preceded by `f`, it is interpreted as a format string, which makes it possible to insert variable names into the string as long as each variable is flanked by `{` and `}`.\n",
    "Here's what the code above looks like with f-strings."
   ]
  },
  {
   "cell_type": "code",
   "execution_count": null,
   "metadata": {
    "collapsed": true
   },
   "outputs": [],
   "source": [
    "print(f\"Wow, really? I have a cousin whose name is also {name}.\")"
   ]
  },
  {
   "cell_type": "markdown",
   "metadata": {},
   "source": [
    "And here's a slightly more complicated example."
   ]
  },
  {
   "cell_type": "code",
   "execution_count": null,
   "metadata": {
    "collapsed": false
   },
   "outputs": [],
   "source": [
    "print(\"Hi, what is your name?\")\n",
    "name = input()\n",
    "print(f\"Nice to meet you, {name}!\")\n",
    "print(f\"So, {name}, what is your age?\")\n",
    "age = input()\n",
    "print(f\"Wow, {name}, I didn't know you're {age} years old!\")"
   ]
  },
  {
   "cell_type": "markdown",
   "metadata": {},
   "source": [
    "Pretty nifty, right? Feel free to use f-strings in future units.\n",
    "\n",
    "\n",
    "If you want to use f-strings in your own programs, keep in mind that they are only available in Python 3.6 and newer.\n",
    "Since many systems still have older versions of Python installed, including many machines on campus, you make your code less portable by using f-strings.\n",
    "If somebody with, say, Python 3.5 tries to run Python code containing f-strings, the program will crash.\n",
    "The mere fact that your program works on your computer is no guarantee that it will work on other machines.\n",
    "At least not until Python 3.6 has become more widely adopted.\n",
    "This probably won't happen until 2020 --- yeah, these things take quite a while longer than rolling out a new version of Chrome or Firefox."
   ]
  }
 ],
 "metadata": {
  "kernelspec": {
   "display_name": "Python 3",
   "language": "python",
   "name": "python3"
  },
  "language_info": {
   "codemirror_mode": {
    "name": "ipython",
    "version": 3
   },
   "file_extension": ".py",
   "mimetype": "text/x-python",
   "name": "python",
   "nbconvert_exporter": "python",
   "pygments_lexer": "ipython3",
   "version": "3.5.3"
  }
 },
 "nbformat": 4,
 "nbformat_minor": 2
}
