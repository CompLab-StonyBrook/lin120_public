{
 "cells": [
  {
   "cell_type": "markdown",
   "metadata": {},
   "source": [
    "# Practice Session"
   ]
  },
  {
   "cell_type": "markdown",
   "metadata": {},
   "source": [
    "## Built-in and custom functions"
   ]
  },
  {
   "cell_type": "markdown",
   "metadata": {},
   "source": [
    "**Exercise.**\n",
    "Recall one of the classifier programs from previous assignments (either the D&D classifier or the animal classifier).\n",
    "Remember having to write several different `if`-statements to handle whether the user typed `Yes`, `yes`, `y` or `Y`?\n",
    "Rewrite one of those programs using `string.lower` to simplify those `if`-statements.\n",
    "Note that this also allows you to accept input like: `YES` `yEs`, and so on."
   ]
  },
  {
   "cell_type": "code",
   "execution_count": null,
   "metadata": {
    "collapsed": true
   },
   "outputs": [],
   "source": [
    "# put your code here"
   ]
  },
  {
   "cell_type": "markdown",
   "metadata": {},
   "source": [
    "**Exercise.**\n",
    "Many functions combine `for`, `if`, and `return` to accomplish their task.\n",
    "When working with these tools, it is easy to introduce mistakes that do not cause the program to crash but make it behave in undesired ways.\n",
    "This is a *semantic bug*.\n",
    "\n",
    "The code below contains a crucial mistake on a single line.\n",
    "Fix this line, and add a comment that explains what was wrong with it."
   ]
  },
  {
   "cell_type": "code",
   "execution_count": null,
   "metadata": {
    "collapsed": true
   },
   "outputs": [],
   "source": [
    "def extract_odd_digits(some_string):\n",
    "    \"\"\"return list of all odd digits in string\"\"\"\n",
    "    # empty list of found digits\n",
    "    digits = []\n",
    "    \n",
    "    # check for each character if it is a vowel\n",
    "    for char in some_string:\n",
    "        if char in [\"1\", \"3\", \"5\", \"7\", \"9\"]:\n",
    "            list.append(digits, char)\n",
    "        return digits"
   ]
  },
  {
   "cell_type": "markdown",
   "metadata": {},
   "source": [
    "**Exercise.**\n",
    "As with the previous exercise, the code below contains a hidden mistake on a single line.\n",
    "On another line, it also contains a different mistake that will crash the program.\n",
    "Spot the mistakes, fix them, and add comments that explain the respective issue."
   ]
  },
  {
   "cell_type": "code",
   "execution_count": null,
   "metadata": {
    "collapsed": false
   },
   "outputs": [],
   "source": [
    "from collections import Counter\n",
    "\n",
    "def char_counter(some_string):\n",
    "    # count tokens for each character\n",
    "    char_counter = Counter(some_string)\n",
    "    # test if some character occurs very often\n",
    "    for count in char_counter:\n",
    "        message = False\n",
    "        if count > 5:\n",
    "            message = True\n",
    "    # print message if at least one character occured very often\n",
    "    if message == True:\n",
    "        print(\"Wow, that's a lot of tokens for one character\")"
   ]
  },
  {
   "cell_type": "markdown",
   "metadata": {},
   "source": [
    "## `for`-loops"
   ]
  },
  {
   "cell_type": "markdown",
   "metadata": {},
   "source": [
    "**Exercise.**\n",
    "Write a function that takes a string as its input and prints each character that is an English vowel (a, e, i, o, u).\n",
    "For example, with `toy` the function prints `o`, whereas `banana` results in `a a a` being printed to the screen.\n",
    "See below for how you can have multiple `print` statements appear on the same line."
   ]
  },
  {
   "cell_type": "code",
   "execution_count": null,
   "metadata": {
    "collapsed": true
   },
   "outputs": [],
   "source": [
    "# put your code here"
   ]
  },
  {
   "cell_type": "markdown",
   "metadata": {},
   "source": [
    "*Note:* By default, each `print` statement produces a new line.\n",
    "But you can add `end=\" \"` to a `print` statement replace the linebreak with a space."
   ]
  },
  {
   "cell_type": "code",
   "execution_count": null,
   "metadata": {
    "collapsed": false
   },
   "outputs": [],
   "source": [
    "# printing on separate lines\n",
    "print(\"line 1\")\n",
    "print(\"line 2\")\n",
    "\n",
    "# printing on the same line\n",
    "print(\"line 1\", end=\" \")\n",
    "print(\"still on line 1\")"
   ]
  },
  {
   "cell_type": "markdown",
   "metadata": {},
   "source": [
    "**Optional exercise.**\n",
    "This continues the previous exercise.\n",
    "Modify the function so that instead of printing the string, it returns it.\n",
    "Depending on what solution you came up with for the previous exercise, this may require a major redesign of your function."
   ]
  },
  {
   "cell_type": "code",
   "execution_count": null,
   "metadata": {
    "collapsed": true
   },
   "outputs": [],
   "source": [
    "# put your code here"
   ]
  },
  {
   "cell_type": "markdown",
   "metadata": {},
   "source": [
    "**Exercise.**\n",
    "Write a program that looks at these three strings:\n",
    "\n",
    "- *supercalifragilisticexpialidocious*, and\n",
    "- *sesquipedalianism*, and\n",
    "- *squirreled*.\n",
    "\n",
    "The program should print the length of each string and the average character length of all three strings."
   ]
  },
  {
   "cell_type": "code",
   "execution_count": null,
   "metadata": {
    "collapsed": true
   },
   "outputs": [],
   "source": [
    "# put your code here"
   ]
  },
  {
   "cell_type": "markdown",
   "metadata": {},
   "source": [
    "**Exercise.**\n",
    "Write a function that takes a list of classes and counts the number of LIN classes.\n",
    "For instance, the input `[\"LIN 120\", \"LIN 347\", \"AMS 161\", \"LIN 405\", \"EST 581\"]` should yield the output `3`."
   ]
  },
  {
   "cell_type": "code",
   "execution_count": null,
   "metadata": {
    "collapsed": true
   },
   "outputs": [],
   "source": [
    "# put your code here"
   ]
  },
  {
   "cell_type": "markdown",
   "metadata": {},
   "source": [
    "## Regular expressions"
   ]
  },
  {
   "cell_type": "markdown",
   "metadata": {},
   "source": [
    "**Exercise.**\n",
    "Write a function that uses a regular expression to remove punctuation from a string and returns the modified string.\n",
    "For example,\n",
    "\n",
    "```python\n",
    "Dr. Smith almost killed me!!!\n",
    "```\n",
    "\n",
    "should become\n",
    "\n",
    "```python\n",
    "Dr Smith almost killed me\n",
    "```"
   ]
  },
  {
   "cell_type": "markdown",
   "metadata": {},
   "source": [
    "**Exercise.**\n",
    "Write a custom function that tokenizes a string.\n",
    "The function should tokenize words as follows:\n",
    "\n",
    "- *IBM* is a single word\n",
    "- *John* is a single word\n",
    "- *John's* is two words, *John* and *s*\n",
    "- *it's* is two words, *it* and *s*\n",
    "- *non-destructive* is a single word\n",
    "- *cliché* is a single word\n",
    "\n",
    "Ask for the user's input and use that function to tokenize the string."
   ]
  },
  {
   "cell_type": "code",
   "execution_count": null,
   "metadata": {
    "collapsed": true
   },
   "outputs": [],
   "source": [
    "# put your code here"
   ]
  },
  {
   "cell_type": "markdown",
   "metadata": {},
   "source": [
    "**Exercise.**\n",
    "Suppose you are creating a chatbot, but you do not want it developing a potty-mouth.\n",
    "Knowing that people can be pretty inventive write with their profanity, you decide to ban all 4 letter words from your data.\n",
    "Write a regular expression that will delete all 4 letter words from a string.\n",
    "\n",
    "For example, `Hello, I want you to know my name is Bill` should become `Hello, I  you to  my  is ` (removing the extra space is optional)."
   ]
  },
  {
   "cell_type": "code",
   "execution_count": null,
   "metadata": {
    "collapsed": true
   },
   "outputs": [],
   "source": [
    "import re \n",
    "\n",
    "def ban4(some_string):\n",
    "    some_string = re.sub( ) # complete this line\n",
    "    return some_string\n",
    "\n",
    "# code for testing your regular expression\n",
    "data = input(\"Enter some words: \")\n",
    "while data.lower() != 'quit':\n",
    "    # fill in the re.sub method with your code\n",
    "    print('Censored data: ', ban4(some_string))\n",
    "    data = input(\"Enter some words: \")"
   ]
  },
  {
   "cell_type": "markdown",
   "metadata": {},
   "source": [
    "*Hints:*\n",
    "If you're stuck with the exercise, highlight the text below to read some tips.\n",
    "\n",
    "<span style=\"color:#000000;background-color:#000000;\">\n",
    "You may have noticed that some of your longer-than-4-letter words are affected by your regular expression.\n",
    "If you only want to find 4 letter words try indicating the end of word somehow. Remember that \\W matches everything that \\w does not match, and \\s matches whitespace.\n",
    "</span>\n",
    "\n",
    "<span style=\"color:#000000;background-color:#000000;\">\n",
    "If things still don't look right, remember that removing a word does not mean you must replace it with r\"\".\n",
    "Try replacing it with a different string.\n",
    "</span>"
   ]
  },
  {
   "cell_type": "markdown",
   "metadata": {},
   "source": [
    "**Exercise.**\n",
    "Write a custom function that takes a single word in the form of a string and returns whether it is a *well-formatted token*.\n",
    "For the purposes of this exercise, a well-formatted token is one that only contains lowercase letters, digits, and/or apostrophes (`'`).\n",
    "In other words, it **must not contain**\n",
    "\n",
    "1. uppercase letters (`ABC...`)\n",
    "1. punctuation (`!?.,;-`)\n",
    "1. special characters (`@#%...`)\n",
    "1. white space (space or tab)\n",
    "\n",
    "For example: `Hello!` is not well-formatted, nor is `why?`, `Hi`, or `John's`.\n",
    "But `me`, `you`, `all`, `hello`, `why` are all well-formatted tokens.\n",
    "\n",
    "Your function should return `True` if the string is a well-formatted token and `False` if it is not."
   ]
  },
  {
   "cell_type": "code",
   "execution_count": null,
   "metadata": {
    "collapsed": true
   },
   "outputs": [],
   "source": [
    "def is_well_formatted(token):\n",
    "    \"\"\"return True if the token is well formatted, otherwise False\"\"\"\n",
    "    # put your code here"
   ]
  },
  {
   "cell_type": "markdown",
   "metadata": {},
   "source": [
    "*Hints*:\n",
    "If you're stuck with the exercise, highlight the text below to read some tips.\n",
    "\n",
    "<span style=\"color:#000000;background-color:#000000;\">\n",
    "Write a regex *R* that matches all the characters that must **not** occur in well-formatted tokens.\n",
    "If a string is not a well-formatted token, then re.findall(R) will be non-empty.\n",
    "</span>"
   ]
  },
  {
   "cell_type": "markdown",
   "metadata": {},
   "source": [
    "**Optional exercise.**\n",
    "This continues the previous exercise.\n",
    "Write another function that takes a list of strings and determines if all of them are well formatted tokens.\n",
    "You can copy the same code for the function you wrote above and call that function from within your new function, or you can rewrite the code in the new function. \n",
    "\n",
    "For example: \n",
    "\n",
    "- `['hello', 'world', 'this', 'is', 'a', 'tokenized', 'string']` is well-formatted because every string in the list is a well-formatted token.\n",
    "- `['Hello,', 'world!', 'This', 'is', 'a', 'tokenized', 'String!']` is not well-formatted; even though some of the strings in the list are well-formatted, at least one is not.\n",
    "\n",
    "Your function should return `True` if all the words are well formatted and `False` if they are not."
   ]
  },
  {
   "cell_type": "code",
   "execution_count": null,
   "metadata": {
    "collapsed": true
   },
   "outputs": [],
   "source": [
    "def all_well_formatted(tokens):\n",
    "    \"\"\"return True if ALL tokens are well formatted and False otherwise\"\"\"\n",
    "    # put your code here"
   ]
  },
  {
   "cell_type": "markdown",
   "metadata": {},
   "source": [
    "**Expansion exercise.**\n",
    "Only try this exercise if you have read the expansion exercise on list comprehensions.\n",
    "\n",
    "There is a function in python called `all()`.\n",
    "The `all()` function takes a list and returns `True` if all the elements in the list are the value `True` and `False` if any of the elements in the list are not `True`."
   ]
  },
  {
   "cell_type": "code",
   "execution_count": null,
   "metadata": {
    "collapsed": false
   },
   "outputs": [],
   "source": [
    "all([True, True])"
   ]
  },
  {
   "cell_type": "code",
   "execution_count": null,
   "metadata": {
    "collapsed": false
   },
   "outputs": [],
   "source": [
    "all([True, False])"
   ]
  },
  {
   "cell_type": "code",
   "execution_count": null,
   "metadata": {
    "collapsed": false
   },
   "outputs": [],
   "source": [
    "all([False, True])"
   ]
  },
  {
   "cell_type": "code",
   "execution_count": null,
   "metadata": {
    "collapsed": false
   },
   "outputs": [],
   "source": [
    "all([False, False])"
   ]
  },
  {
   "cell_type": "markdown",
   "metadata": {},
   "source": [
    "Combining `all()` with list comprehensions gives us a really useful way of checking the elements of a list for some condition.\n",
    "Suppose, for instance, that we have some function called `divisible_by_2()`, which takes a number and returns whether it is divisible by two.\n",
    "If we have a list such as `l = [2, 4, 6, 8, 10]` we can see if all the numbers in that list are divisible by 2 using the following statement:\n",
    "\n",
    "```python\n",
    "all(divisible_by_2(i) for i in l)\n",
    "```\n",
    "\n",
    "Here's what this does:\n",
    "\n",
    "1. First, we run `divisible_by_2` for each `i` in `l`.\n",
    "   The output of the function is stored as a list.\n",
    "   So for `l = [2, 4, 6, 8, 10]`, the list is `[True, True, True, True, True]`.\n",
    "1. We then run `all` over this list.\n",
    "   Since all truth values are `True`, `all` returns `True`.\n",
    "\n",
    "See some more examples below."
   ]
  },
  {
   "cell_type": "code",
   "execution_count": null,
   "metadata": {
    "collapsed": true
   },
   "outputs": [],
   "source": [
    "def divisible_by_2(num):\n",
    "    return num % 2 == 0\n",
    "\n",
    "def less_than_10(num):\n",
    "    return num < 10\n",
    "\n",
    "a = [1, 2, 3, 4]\n",
    "b = [2, 4, 6, 8]\n",
    "c = [2]\n",
    "d = [1]\n",
    "e = []\n",
    "f = [1,3,5]\n",
    "g = [1,2,4,6,8,10,12,14,16,18,20]\n",
    "h = [2,4,6,8,10,12,14,16,18,20]\n",
    "\n",
    "# run the code below to see what you get\n",
    "\n",
    "print(\"Is all of a divisible by 2? \", all(divisible_by_2(i) for i in a))\n",
    "print(\"Is all of b divisible by 2? \", all(divisible_by_2(i) for i in b))\n",
    "print(\"Is all of c divisible by 2? \", all(divisible_by_2(i) for i in c))\n",
    "print(\"Is all of d divisible by 2? \", all(divisible_by_2(i) for i in d))\n",
    "print(\"Is all of e divisible by 2? \", all(divisible_by_2(i) for i in e))\n",
    "print(\"Is all of f divisible by 2? \", all(divisible_by_2(i) for i in f))\n",
    "print(\"Is all of g divisible by 2? \", all(divisible_by_2(i) for i in g))\n",
    "print(\"Is all of h divisible by 2? \", all(divisible_by_2(i) for i in h))\n",
    "\n",
    "print(\"Is all of a less than 10? \", all(less_than_10(i) for i in a))\n",
    "print(\"Is all of b less than 10? \", all(less_than_10(i) for i in b))\n",
    "print(\"Is all of c less than 10? \", all(less_than_10(i) for i in c))\n",
    "print(\"Is all of d less than 10? \", all(less_than_10(i) for i in d))\n",
    "print(\"Is all of e less than 10? \", all(less_than_10(i) for i in e))\n",
    "print(\"Is all of f less than 10? \", all(less_than_10(i) for i in f))\n",
    "print(\"Is all of g less than 10? \", all(less_than_10(i) for i in g))\n",
    "print(\"Is all of h less than 10? \", all(less_than_10(i) for i in h))"
   ]
  },
  {
   "cell_type": "markdown",
   "metadata": {},
   "source": [
    "Now that you have an idea of how `all()` works, rewrite your function from the optional exercise using `all()`."
   ]
  },
  {
   "cell_type": "code",
   "execution_count": null,
   "metadata": {
    "collapsed": true
   },
   "outputs": [],
   "source": [
    "# put your code here"
   ]
  }
 ],
 "metadata": {
  "kernelspec": {
   "display_name": "Python 3",
   "language": "python",
   "name": "python3"
  },
  "language_info": {
   "codemirror_mode": {
    "name": "ipython",
    "version": 3
   },
   "file_extension": ".py",
   "mimetype": "text/x-python",
   "name": "python",
   "nbconvert_exporter": "python",
   "pygments_lexer": "ipython3",
   "version": "3.5.3"
  }
 },
 "nbformat": 4,
 "nbformat_minor": 2
}
