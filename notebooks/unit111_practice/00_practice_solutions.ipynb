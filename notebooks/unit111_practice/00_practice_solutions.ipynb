{
 "cells": [
  {
   "cell_type": "markdown",
   "metadata": {},
   "source": [
    "# Solutions: Practice Session "
   ]
  },
  {
   "cell_type": "markdown",
   "metadata": {},
   "source": [
    "## Built-in and custom functions"
   ]
  },
  {
   "cell_type": "markdown",
   "metadata": {},
   "source": [
    "**Exercise.**\n",
    "Recall one of the classifier programs from previous assignments (either the D&D classifier or the animal classifier).\n",
    "Remember having to write several different `if`-statements to handle whether the user typed `Yes`, `yes`, `y` or `Y`?\n",
    "Rewrite one of those programs using `string.lower` to simplify those `if`-statements.\n",
    "Note that this also allows you to accept input like: `YES` `yEs`, and so on.\n",
    "\n",
    "### Solution.\n",
    "\n",
    "This exercise is almost entirely dependent on the way you chose to implement your classifier, but the important takeaway is that you can use `str.lower()` on the inputs to avoid having to write many `if` statements handling different capitalization on the inputs \"yes\" or \"y\". We can also further shorten it by checking if the input is in a list containing the possible answers \"yes\" and \"y\". This allows for all sorts of inputs ranging from `YeS` and `yES` to `Y` and `y`, which we know all mean the same thing."
   ]
  },
  {
   "cell_type": "code",
   "execution_count": 5,
   "metadata": {},
   "outputs": [
    {
     "name": "stdout",
     "output_type": "stream",
     "text": [
      "Does it hop?\n",
      "n\n",
      "Is it an insect?\n",
      "n\n",
      "Does it eat meat?\n",
      "n\n",
      "Does it have hair?\n",
      "y\n",
      "The animal is a panda.\n"
     ]
    }
   ],
   "source": [
    "eats_meat, has_hair = False, False\n",
    "\n",
    "def yes(string_in):\n",
    "    if str.lower(string_in) in [\"yes\",\"y\"]:\n",
    "        return True\n",
    "\n",
    "print(\"Is it an insect?\")\n",
    "if yes(input()):\n",
    "    print(\"The animal is a beetle.\")\n",
    "else:    \n",
    "    print(\"Does it hop?\")   \n",
    "    if yes(input()):\n",
    "        print(\"The animal is a rabbit.\")\n",
    "    else:\n",
    "        print(\"Does it eat meat?\")\n",
    "        if yes(input()):\n",
    "            eats_meat = True\n",
    "\n",
    "        print(\"Does it have hair?\")\n",
    "        if yes(input()):\n",
    "            has_hair = True\n",
    "            \n",
    "        if eats_meat and has_hair:\n",
    "            print(\"The animal is a cat.\")\n",
    "        elif eats_meat and not has_hair:\n",
    "            print(\"The animal is a lizard.\")\n",
    "        elif not eats_meat and has_hair:\n",
    "            print(\"The animal is a panda.\")\n",
    "        else:\n",
    "            print(\"Stop messing around!\")"
   ]
  },
  {
   "cell_type": "markdown",
   "metadata": {},
   "source": [
    "**Exercise.**\n",
    "Many functions combine `for`, `if`, and `return` to accomplish their task.\n",
    "When working with these tools, it is easy to introduce mistakes that do not cause the program to crash but make it behave in undesired ways.\n",
    "This is a *semantic bug*.\n",
    "\n",
    "The code below contains a crucial mistake on a single line.\n",
    "Fix this line, and add a comment that explains what was wrong with it.\n",
    "\n",
    "### Solution.\n",
    "\n",
    "See block comment in the code for explanation."
   ]
  },
  {
   "cell_type": "code",
   "execution_count": null,
   "metadata": {
    "collapsed": true
   },
   "outputs": [],
   "source": [
    "def extract_odd_digits(some_string):\n",
    "    # return list of all odd digits in string\n",
    "    # empty list of found digits\n",
    "    digits = []\n",
    "    \n",
    "    # check for each character if it is a vowel\n",
    "    for char in some_string:\n",
    "        if char in [\"1\", \"3\", \"5\", \"7\", \"9\"]:\n",
    "            list.append(digits, char)\n",
    "    return digits # THIS IS THE LINE WITH THE MISTAKE. UNINDENT THIS LINE.\n",
    "    # If your return statement is indented such that it is \n",
    "    # occurring inside the for loop, the function returns only \n",
    "    # after the first iteration through the loop. This means it \n",
    "    # only looks at the first character of the string.\n",
    "\n",
    "# test the function\n",
    "print(extract_odd_digits(\"1 hello i was born in 1823\"))"
   ]
  },
  {
   "cell_type": "markdown",
   "metadata": {},
   "source": [
    "**Exercise.**\n",
    "As with the previous exercise, the code below contains a hidden mistake on a single line.\n",
    "On another line, it also contains a different mistake that will crash the program.\n",
    "Spot the mistakes, fix them, and add comments that explain the respective issue.\n",
    "\n",
    "### Solution.\n",
    "\n",
    "See lines marked with `***ERROR # HERE***`. \n",
    "\n",
    "**Error 1** is happening because the Counter collection requires us to access its data via key-value pairs. In other words, every element of a Counter is a character we can \"look-up\" (like a word in a dictionary) associated with a numerical value representing the count of that character. The `for`-loop is iterating through every `count` in `char_counter`, but just because we named the variable `count` doesn't mean we're actually accessing a number. In fact, what we are trying to do by saying this is iterate through the characters in `char_counter`, not their counts. So, knowing this, if we just say `if count > 5`, the code interprets this as trying to compare a string to an integer. There is no way to determine whether h > 5, for example, so the program will crash. \n",
    "\n",
    "To fix this issue, we need to actually address the numerical count associated with a given letter. The characters of `char_counter` act as keys, so in order to get their values we can say `char_counter[count]`. This will fix the problem of the program crashing. If it helps, try renaming `count` to something else, like `c`, since the variable itself is a bit misleading.\n",
    "\n",
    "As for **Error 2**, the problem there is that the `if` statement is outside of the `for`- loop, so the message about having a lot of tokens for one character might never print even if you have characters with more than 5 tokens in the string. Why? Because the `for`-loop resets `message` at each iteration. Unless the last character it loops over in `char_counter` has > 5 tokens, `message` will not be `True` by the time an `if` statement outside of the loop checks it. By putting it inside the loop, this check is done at each iteration so the message will print any time a character has more than 5 tokens."
   ]
  },
  {
   "cell_type": "code",
   "execution_count": null,
   "metadata": {
    "collapsed": true
   },
   "outputs": [],
   "source": [
    "from collections import Counter\n",
    "\n",
    "def char_counter(some_string):\n",
    "    # count tokens for each character\n",
    "    char_counter = Counter(some_string)\n",
    "\n",
    "    # test if some character occurs very often\n",
    "    for count in char_counter:\n",
    "        message = False\n",
    "        if char_counter[count] > 5: # ***ERROR 1 HERE***\n",
    "            # you must access by \"char_counter[count]\" rather than \"count\"\n",
    "            message = True\n",
    "    # print message if at least one character occured very often\n",
    "        if message == True: # ***ERROR 2 HERE*** \n",
    "            # indent so that this is happening inside for loop\n",
    "            print(\"Wow, that's a lot of tokens for one character\")\n",
    "\n",
    "# test the function\n",
    "char_counter(\"hhhhhhelllo worllld\")"
   ]
  },
  {
   "cell_type": "markdown",
   "metadata": {},
   "source": [
    "## `for`-loops"
   ]
  },
  {
   "cell_type": "markdown",
   "metadata": {},
   "source": [
    "**Exercise.**\n",
    "Write a function that takes a string as its input and prints each character that is an English vowel (a, e, i, o, u).\n",
    "For example, with `toy` the function prints `o`, whereas `banana` results in `a a a` being printed to the screen.\n",
    "See below for how you can have multiple `print` statements appear on the same line.\n",
    "\n",
    "### Solution.\n",
    "\n",
    "We want to print only the vowels of a given string. So, using a `for`-loop, look at every letter in the string. If the letter is a vowel (as in, it is in the list of vowels _aeiou_), print the letter. That's it!"
   ]
  },
  {
   "cell_type": "code",
   "execution_count": null,
   "metadata": {
    "collapsed": true
   },
   "outputs": [],
   "source": [
    "def vowels_only(string):\n",
    "    for letter in string:\n",
    "        if letter in ['a','e','i','o','u']:\n",
    "            print(letter, end=\" \")\n",
    "\n",
    "# test the function\n",
    "vowels_only(input())"
   ]
  },
  {
   "cell_type": "markdown",
   "metadata": {},
   "source": [
    "**Optional exercise.**\n",
    "This continues the previous exercise.\n",
    "Modify the function so that instead of printing the string, it returns it.\n",
    "Depending on what solution you came up with for the previous exercise, this may require a major redesign of your function.\n",
    "\n",
    "### Solution.\n",
    "\n",
    "One way to do this is to just create an empty string `vowels`, to which we will add the vowels we encounter. This is essentially the same as the function in the previous exercise, but for each letter in the string, if it is a vowel, add it to the `vowels` string instead of printing it. A whitespace can also be added to maintain the same output as the previous function. Then, after looking at all the letters in the string, return the list of `vowels`. "
   ]
  },
  {
   "cell_type": "code",
   "execution_count": null,
   "metadata": {
    "collapsed": true
   },
   "outputs": [],
   "source": [
    "def vowels_only(string):\n",
    "    vowels = \"\"\n",
    "    for letter in string:\n",
    "        if letter in ['a','e','i','o','u']:\n",
    "            vowels = vowels + letter + \" \"\n",
    "    return vowels\n",
    "\n",
    "# test the function\n",
    "print(vowels_only(input()))"
   ]
  },
  {
   "cell_type": "markdown",
   "metadata": {},
   "source": [
    "**Exercise.**\n",
    "Write a program that looks at these three strings:\n",
    "\n",
    "- *supercalifragilisticexpialidocious*, and\n",
    "- *sesquipedalianism*, and\n",
    "- *squirreled*.\n",
    "\n",
    "The program should print the length of each string and the average character length of all three strings.\n",
    "\n",
    "### Solution.\n",
    "\n",
    "Although the exercise specifies three particular strings, we can generalize our program by writing a function that computes the average length of a list of strings. To do this, we need to initialize a variable that will store the total number of characters of all the strings combined, to be used later for computing the average.\n",
    "\n",
    "Using a `for`-loop, we look at each string in the list of strings, print the string and its length, and then add the length of the string to the `total_len`. After looking at all strings and adding up their lengths, we return the value given by dividing `total_len` by the length of the `strings` list, which is the number of strings we are working with. This gives us the average character length across the strings in the list.\n",
    "\n",
    "Common mistakes here might include initializing `total_len` inside of the `for`-loop (which will reset it at each string)."
   ]
  },
  {
   "cell_type": "code",
   "execution_count": null,
   "metadata": {
    "collapsed": true
   },
   "outputs": [],
   "source": [
    "def compute_avg_len(strings):\n",
    "    total_len = 0\n",
    "    for s in strings:\n",
    "        print(s, len(s))\n",
    "        total_len += len(s)\n",
    "    return (total_len / len(strings))\n",
    "\n",
    "strings = [\"supercalifragilisticexpialidocious\", \n",
    "           \"sesquipedalianism\", \n",
    "           \"squirreled\"]\n",
    "print(\"Average character length of strings:\", \n",
    "      compute_avg_len(strings))"
   ]
  },
  {
   "cell_type": "markdown",
   "metadata": {},
   "source": [
    "**Exercise.**\n",
    "Write a function that takes a list of classes and counts the number of LIN classes.\n",
    "For instance, the input `[\"LIN 120\", \"LIN 347\", \"AMS 161\", \"LIN 405\", \"EST 581\"]` should yield the output `3`.\n",
    "\n",
    "### Solution.\n",
    "We want to write a function that takes a list of classes and counts the number of LIN classes. We start by initializing a counter to store the number of times we encounter \"LIN\". Since the function takes in a list of classes, we can use a `for`-loop to look at each class in the list. If we find the string \"LIN\" in the class we're currently look at, we add 1 to our counter. After looking at all the classes in the list, we return the total count."
   ]
  },
  {
   "cell_type": "code",
   "execution_count": null,
   "metadata": {
    "collapsed": true
   },
   "outputs": [],
   "source": [
    "def count_lin(classes):\n",
    "    count = 0\n",
    "    for c in classes:\n",
    "        if \"LIN\" in str.upper(c):\n",
    "            count += 1\n",
    "    return count\n",
    "\n",
    "# test the function\n",
    "classes = [\"LIN 120\", \"LIN 347\", \"AMS 161\", \"LIN 405\", \"EST 581\"]\n",
    "count_lin(classes)"
   ]
  },
  {
   "cell_type": "markdown",
   "metadata": {},
   "source": [
    "There are a couple places where this could go wrong. One would be instantiating the counter inside of the `for`-loop, which will cause the final count to be at most 1 since it is being reset for each class in the list. Alternatively, a newbie may forget to initialize the counter at all, in which case the program will crash because it doesn't know what to do with this `count` thing you are trying to increment.\n",
    "\n",
    "One must also be careful not to return the count within the `for`-loop or `if` statement. Doing so in the former case would mean the function only ever looks at the first class in the list, whereas in the latter case the loop will stop and return the count as soon as it encounters the first \"LIN\" in the list."
   ]
  },
  {
   "cell_type": "markdown",
   "metadata": {},
   "source": [
    "## Regular Expressions"
   ]
  },
  {
   "cell_type": "markdown",
   "metadata": {},
   "source": [
    "**Exercise.**\n",
    "Suppose you are creating a chatbot, but you do not want it developing a potty-mouth.\n",
    "Knowing that people can be pretty inventive write with their profanity, you decide to ban all 4 letter words from your data.\n",
    "Write a regular expression that will delete all 4 letter words from a string.\n",
    "\n",
    "For example, `Hello, I want you to know my name is Bill` should become `Hello, I  you to  my  is ` (removing the extra space is optional).\n",
    "\n",
    "### **Solution.** \n",
    "\n",
    "In order to specify the pattern that matches a string of certain length, we need to:\n",
    "1. include the possible things that might come before the string\n",
    "2. define the properties of the string we're looking for (i.e., any word of length 4)\n",
    "3. include the possible things that might come after the string\n",
    "\n",
    "So, if we are looking for a string that is only length 4, not just any string containing at least 4 characters, we need to distinguish that we are looking for word boundaries (`\\b`) before and after the string. We don't necessarily want to look for whitespace (`\\s`) because this will cause the first and last words to be ignored - first word isn't preceded by a whitespace, last word isn't followed by a whitespace. If we try to use `\\W` we'll encounter a similar problem. To specify that we want 4 characters, we can use `\\w{n}`, where `n` is the number of characters, in this case 4."
   ]
  },
  {
   "cell_type": "code",
   "execution_count": null,
   "metadata": {
    "collapsed": true
   },
   "outputs": [],
   "source": [
    "import re \n",
    "\n",
    "def ban4(some_string):\n",
    "    some_string = re.sub(r'\\b\\w{4}\\b', r'', some_string) # COMPLETED LINE\n",
    "    return some_string\n",
    "\n",
    "# code for testing your regular expression\n",
    "data = input(\"Enter some words: \")\n",
    "while data.lower() != 'quit':\n",
    "    print('Censored data: ', ban4(data))\n",
    "    data = input(\"Enter some words: \")"
   ]
  },
  {
   "cell_type": "markdown",
   "metadata": {},
   "source": [
    "**Exercise.**\n",
    "Write a custom function that takes a single word in the form of a string and returns whether it is a *well-formatted token*.\n",
    "For the purposes of this exercise, a well-formatted token is one that only contains lowercase letters, digits, and/or apostrophes (`'`).\n",
    "In other words, it **must not contain**\n",
    "\n",
    "1. uppercase letters (`ABC...`)\n",
    "1. punctuation (`!?.,;-`)\n",
    "1. special characters (`@#%...`)\n",
    "1. white space (space or tab)\n",
    "\n",
    "For example: `Hello!` is not well-formatted, nor is `why?`, `Hi`, or `John's`.\n",
    "But `me`, `you`, `all`, `hello`, `why` are all well-formatted tokens.\n",
    "\n",
    "Your function should return `True` if the string is a well-formatted token and `False` if it is not.\n",
    "\n",
    "### Solution.\n",
    "\n",
    "We are looking to match tokens that contain uppercase letters and anything that isn't a Unicode word character (i.e., punctuation, special characters, and white space). The latter, as we know, can easily be identified using `\\W`, and the former we can identify as any character in the set A - Z (NOT a-z, that would be all lowercase letters). As a regular expression, this would be `[A-Z]`. Since tokens are sequences of characters, we can express the full pattern as \"a **sequence** of characters taken from the **set of uppercase letters** OR **non-word characters**.\" As a regex, this is represented as `([A-Z]|\\W)`.\n",
    "\n",
    "Now that we've concocted the pattern we're trying to match, we can simply search for the pattern using `re.search()` and if the pattern is matched, return `False` (the token is not well formatted), otherwise return `True`. "
   ]
  },
  {
   "cell_type": "code",
   "execution_count": null,
   "metadata": {
    "collapsed": true
   },
   "outputs": [],
   "source": [
    "import re\n",
    "\n",
    "def is_well_formatted(token):\n",
    "    # return True if the token is well formatted, otherwise False\n",
    "    if re.search(r'([A-Z]|\\W)',token):\n",
    "        return False\n",
    "    else:\n",
    "        return True\n",
    "\n",
    "# test the function\n",
    "print(is_well_formatted(input()))"
   ]
  },
  {
   "cell_type": "markdown",
   "metadata": {},
   "source": [
    "**Optional exercise.**\n",
    "This continues the previous exercise.\n",
    "Write another function that takes a list of strings and determines if all of them are well formatted tokens.\n",
    "You can copy the same code for the function you wrote above and call that function from within your new function, or you can rewrite the code in the new function. \n",
    "\n",
    "For example: \n",
    "\n",
    "- `['hello', 'world', 'this', 'is', 'a', 'tokenized', 'string']` is well-formatted because every string in the list is a well-formatted token.\n",
    "- `['Hello,', 'world!', 'This', 'is', 'a', 'tokenized', 'String!']` is not well-formatted; even though some of the strings in the list are well-formatted, at least one is not.\n",
    "\n",
    "Your function should return `True` if all the words are well formatted and `False` if they are not.\n",
    "\n",
    "### Solution.\n",
    "\n",
    "We want to check each token in the list of tokens for well formattedness. Using the function defined in the previous exercise, this function will return `False` if a token in the list is not well formatted, i.e. if `is_well_formatted()` is **not** returning `True` for the token. This way, once we encounter a token that is not well formatted, we don't need to check the others - we already know that the list of strings contains at least one string that isn't well formatted. Otherwise, the function will return `True` since it hasn't encountered any tokens that were not well formatted.\n"
   ]
  },
  {
   "cell_type": "code",
   "execution_count": null,
   "metadata": {
    "collapsed": true
   },
   "outputs": [],
   "source": [
    "# return True if ALL tokens are well formatted and False otherwise\n",
    "\n",
    "def all_well_formatted(tokens):\n",
    "    for token in tokens:\n",
    "        if not is_well_formatted(token):\n",
    "            return False\n",
    "    return True\n",
    "        \n",
    "# test the function\n",
    "print(all_well_formatted(['hello', 'world', 'this', 'is', 'a', 'tokenized', 'string']))\n",
    "print(all_well_formatted(['Hello,', 'world!', 'This', 'is', 'a', 'tokenized', 'String!']))"
   ]
  },
  {
   "cell_type": "markdown",
   "metadata": {},
   "source": [
    "**Expansion Exercise.** \n",
    "\n",
    "Now that you have an idea of how `all()` works, rewrite your function from the optional exercise using `all()`.\n",
    "\n",
    "### Solution.\n",
    "\n",
    "`all()` we need to do here (har har) is apply our first function, `is_well_formatted()`, to each token in the list of tokens given to the function, and then have `all()` evaluate the resulting list of truth values. We can do this in one line by doing it at the same time that we call `all()`. "
   ]
  },
  {
   "cell_type": "code",
   "execution_count": null,
   "metadata": {
    "collapsed": true
   },
   "outputs": [],
   "source": [
    "import re\n",
    "\n",
    "def is_well_formatted(token):\n",
    "    # return True if the token is well formatted, otherwise False\n",
    "    if re.search(r'([A-Z]|\\W)',token):\n",
    "        return False\n",
    "    else:\n",
    "        return True\n",
    "    \n",
    "def all_well_formatted(tokens):\n",
    "    return all(is_well_formatted(token) for token in tokens)\n",
    "\n",
    "# test the function\n",
    "print(all_well_formatted(['hello', 'world', 'this', 'is', 'a', 'tokenized', 'string']))\n",
    "print(all_well_formatted(['Hello,', 'world!', 'This', 'is', 'a', 'tokenized', 'String!']))"
   ]
  }
 ],
 "metadata": {
  "kernelspec": {
   "display_name": "Python 3",
   "language": "python",
   "name": "python3"
  },
  "language_info": {
   "codemirror_mode": {
    "name": "ipython",
    "version": 3
   },
   "file_extension": ".py",
   "mimetype": "text/x-python",
   "name": "python",
   "nbconvert_exporter": "python",
   "pygments_lexer": "ipython3",
   "version": "3.7.1"
  }
 },
 "nbformat": 4,
 "nbformat_minor": 2
}
