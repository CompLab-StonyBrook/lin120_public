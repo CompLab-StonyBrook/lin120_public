{
 "cells": [
  {
   "cell_type": "markdown",
   "metadata": {},
   "source": [
    "# Recommended learning materials\n",
    "\n",
    "The great thing about Python is that there are tons of awesome learning resources available for free.\n",
    "The bad thing about Python is that there are tons of awesome learning resources available for free.\n",
    "As a newbie, you'll easily find yourself overwhelmed by the sheer wealth of material.\n",
    "Beginners need simple answers, not 3,527,309 google links to sites that might perhaps, if you read carefully, give you a hint as to what your problem might be.\n",
    "\n",
    "Ideally, the notebooks for this class will be everything you need to learn Python.\n",
    "But often it can be helpful to hear one and the same thing explained in multiple ways.\n",
    "And sometimes you might have a question that the notebooks don't address (for instance because it's a minor detail that few students will ever run into).\n",
    "Then you need to go beyond the required class materials and do some research of your own.\n",
    "This notebook compiles some learning materials that are particularly recommended for this.\n",
    "All of them are freely available online."
   ]
  },
  {
   "cell_type": "markdown",
   "metadata": {},
   "source": [
    "## Questions: Python board\n",
    "\n",
    "The simplest solution should come first: just ask!\n",
    "We have created a Python discussion board for you to ask all kinds of questions about Python.\n",
    "If you cannot wrap your head around something, post your question on the Python discussion board.\n",
    "Perhaps one of your classmates knows the answer and can help you out (helping students is worth extra credit).\n",
    "The TAs also regularly monitor the Python board during the week, so unless it's a weekend you shouldn't have to wait more than a day for a reply.\n",
    "\n",
    "There are also many Python discussion boards on the internet, e.g. Stack Overflow.\n",
    "Please refrain from asking Python questions there, the answers will rarely be suitable for this class.\n",
    "It's like asking [Terry Tao](https://en.wikipedia.org/wiki/Terence_Tao) to help you with your math homework: you probably won't understand what he's saying, and if you just copy-paste the answer everybody can tell immediately that you did not do the homework yourself.\n",
    "Just ask your TAs, they'll be happy to help you (the better your homework, the less work it is for them to grade)."
   ]
  },
  {
   "cell_type": "markdown",
   "metadata": {},
   "source": [
    "## Textbook: Automate the boring stuff with Python\n",
    "\n",
    "![bla](./media/textbook_small.jpg)\n",
    "\n",
    "\n",
    "There's many excellent Python textbooks, but most of them are giant tomes that cover even the most minor detail.\n",
    "That's overkill for beginners.\n",
    "*Automate the boring stuff with Python* is very different.\n",
    "The first part of the book covers everything you need to be productive in a lean 100 pages.\n",
    "This means that the presentation is sometimes very brisk, which leaves you to fill in some gaps by experimentation.\n",
    "That's why it's not the greatest textbook for self-study, but it's a good supplement to this book if you want to quickly look something up or get a slightly different perspective on some things covered in this course.\n",
    "\n",
    "And once you're done with the course, *Automate the boring stuff with Python* is perfect for your continuing on your own.\n",
    "Want to automatically send yourself an email a day before an assigment is due?\n",
    "Download all tweets by Donald Trump to count how often he says *sad*?\n",
    "*Automate the boring stuff with Python* has you covered.\n",
    "\n",
    "The book is [freely available online](https://automatetheboringstuff.com/).\n",
    "You can also purchase a hardcopy from [no starch press](https://nostarch.com/automatestuff).\n",
    "The hardcopy comes with a DRM-free ebook version on top, so it's a good deal if you don't want to read the website version."
   ]
  },
  {
   "cell_type": "markdown",
   "metadata": {},
   "source": [
    "## Videos: Automate the boring stuff with Python (yeah, again)\n",
    "\n",
    "The author of *Automate the boring stuff with Python* also has a [Youtube playlist](https://www.youtube.com/playlist?list=PLGoJzB271_7r-iLYuEHEPJ5pSIYxXjJEn) where he explains various aspects of Python.\n",
    "He does not use Cocalc, so things will look quite different.\n",
    "But Python is Python, irrespective of what tools you use.\n",
    "If you're struggling to understand `if`-statements or `for`-loops, the videos will work just fine even though they do not use Cocalc."
   ]
  },
  {
   "cell_type": "markdown",
   "metadata": {},
   "source": [
    "## Playful learning: CodeCombat\n",
    "\n",
    "[CodeCombat](https://codecombat.com/) is a video game that you can play in your browser.\n",
    "It's basically a lightweight RPG: your character solves puzzles, kills monsters, and gets experience points (XP) to purchase upgrades.\n",
    "The cool twist is that you don't get to directly control your character and instead have to program him/her with Python.\n",
    "Things start out easy with basic tasks such as moving your character along a corridor, but soon you'll have to write complex routines such as \"if your hitpoints are below 10, seek the healer and go to him, otherwise find the nearest enemy and attack it with 1) Cleave, if available, or 2) the normal attack\".\n",
    "None of this has anything to do with language, but that's exactly why CodeCombat may be a welcome change of pace from this course.\n",
    "\n",
    "Completion of CodeCombat can get you extra credit for this course.\n",
    "For more details, see the instructions in the CodeCombat notebook (depending on when you read this notebook, the instructions may not have been distributed yet).\n",
    "\n",
    "**Caution.**\n",
    "CodeCombat is available as both a free and paid version.\n",
    "The free version has fewer levels.\n",
    "If you click on a level that's only available in the paid version, you'll get a popup encouraging you to become a subscriber.\n",
    "Feel free to ignore it, the extra levels do not help at all with this class.\n",
    "\n",
    "**/Caution**"
   ]
  },
  {
   "cell_type": "markdown",
   "metadata": {},
   "source": [
    "![A glimpse of CodeCombat](./media/codecombat.png)"
   ]
  }
 ],
 "metadata": {
  "kernelspec": {
   "display_name": "Python 3",
   "language": "python",
   "name": "python3"
  },
  "language_info": {
   "codemirror_mode": {
    "name": "ipython",
    "version": 3
   },
   "file_extension": ".py",
   "mimetype": "text/x-python",
   "name": "python",
   "nbconvert_exporter": "python",
   "pygments_lexer": "ipython3",
   "version": "3.5.3"
  }
 },
 "nbformat": 4,
 "nbformat_minor": 2
}
