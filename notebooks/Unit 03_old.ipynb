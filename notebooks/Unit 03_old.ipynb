{
 "cells": [
  {
   "cell_type": "markdown",
   "metadata": {},
   "source": [
    "# Combining and comparing strings\n",
    "\n",
    "You now have a few basic skills under your belt that are useful for any kind of programming project that involve language:\n",
    "\n",
    "- You can show text on the screen using `print`.\n",
    "- With `input` you can accept typed text from the user.\n",
    "- Variables allow you to name certain pieces of information and retrieve them later on.\n",
    "\n",
    "That is already enough for some simple programming projects, but it's clearly not enough to create the next [Cleverbot](http://www.cleverbot.com) or [Postmodernism Generator](http://www.elsewhere.org/journal/pomo/), let alone large-scale projects like [Google Translate](http://translate.google.com)."
   ]
  },
  {
   "cell_type": "markdown",
   "metadata": {},
   "source": [
    "## Putting strings together\n",
    "\n",
    "In the last unit, we wrote a small chatbot.\n",
    "As a reminder, here's the initial code:"
   ]
  },
  {
   "cell_type": "code",
   "execution_count": null,
   "metadata": {
    "collapsed": false
   },
   "outputs": [],
   "source": [
    "# A very simplistic chatbot\n",
    "print(\"Greetings and salutations! I am Bending Unit 22.\")\n",
    "print(\"What is your name?\")\n",
    "name = input()\n",
    "print(\"Wow, really? I have a cousin whose name is also\")\n",
    "print(name)"
   ]
  },
  {
   "cell_type": "markdown",
   "metadata": {},
   "source": [
    "One thing that is dissatisfying about this code is that the bot's answer is split across two lines in a very unnatural fashion.\n",
    "That's because each print statement always goes on its own line.\n",
    "So if we want the user's name to appear on the same line as the first part of the reply, they need be part of the same print statement.\n",
    "But as you also know by now, only a single variable or string can appear within the parentheses of `print`.\n",
    "What we would need is a way to integrate the variable into the string before it gets printed.\n",
    "\n",
    "Fortunately Python has just the right tool for that, the `+` operator.\n",
    "This operator can be used to combine two strings or any variables that refer to strings.\n",
    "Here's an example of the first case, combining two strings."
   ]
  },
  {
   "cell_type": "code",
   "execution_count": null,
   "metadata": {
    "collapsed": false
   },
   "outputs": [],
   "source": [
    "print(\"Hello\" + \"world\")"
   ]
  },
  {
   "cell_type": "markdown",
   "metadata": {},
   "source": [
    "What is going on here is that Python takes the expression `\"Hello\" + \"world\"` and combines it into the single string`\"Helloworld\"` (notice that Python does not insert any space between the strings, we'll fix that in a moment).\n",
    "This single string is then treated by `print` in the usual fashion.\n",
    "So `print(\"Hello\" + \"world\")` is treated exactly the same as `print(\"Helloworld\")`.\n",
    "\n",
    "Alright, so let us quickly fix the problem with the missing space before we look at the case of combining variables.\n",
    "Since Python has no concept of words, it just puts the strings together exactly as they are, without inserting any other material.\n",
    "Therefore we must take care to insert the space manually.\n",
    "Any one of the three solutions below will get the job done."
   ]
  },
  {
   "cell_type": "code",
   "execution_count": null,
   "metadata": {
    "collapsed": false
   },
   "outputs": [],
   "source": [
    "print(\"Hello \" + \"world\")\n",
    "print(\"Hello\" + \" world\")\n",
    "print(\"Hello\" + \" \" + \"world\")"
   ]
  },
  {
   "cell_type": "markdown",
   "metadata": {},
   "source": [
    "Alright, with that out of the way, how does `+` work with variables?\n",
    "Pretty much exactly the same."
   ]
  },
  {
   "cell_type": "code",
   "execution_count": null,
   "metadata": {
    "collapsed": false
   },
   "outputs": [],
   "source": [
    "hello = \"Hello\"\n",
    "world = \"world\"\n",
    "print(hello + \" \" + world)"
   ]
  },
  {
   "cell_type": "markdown",
   "metadata": {},
   "source": [
    "Python just replaces the variable names `hello` and `world` by their respective values `\"Hello\"` and `\"world\"`.\n",
    "So `print(hello + \" \" + world)` becomes `print(\"Hello\" + \" \" + \"world\")`, and we have already seen that this becomes `print(\"Hello world\")`."
   ]
  },
  {
   "cell_type": "code",
   "execution_count": null,
   "metadata": {
    "collapsed": false
   },
   "outputs": [],
   "source": [
    "hello = \"Hello\"\n",
    "world = \"world\"\n",
    "print(hello + \" \" + world)\n",
    "print(\"Hello\" + \" \" + \"world\")\n",
    "print(\"Hello world\")"
   ]
  },
  {
   "cell_type": "markdown",
   "metadata": {},
   "source": [
    "**Exercise. **\n",
    "Now that you know how to use `+`, copy-paste the code for your chatbot into the cell below and modify it so that it no longer produces weird linebreaks."
   ]
  },
  {
   "cell_type": "code",
   "execution_count": null,
   "metadata": {
    "collapsed": true
   },
   "outputs": [],
   "source": [
    "# put your revised chatbot code here"
   ]
  },
  {
   "cell_type": "markdown",
   "metadata": {},
   "source": [
    "**Exercise. **\n",
    "With string concatenation you can also play a round of *Mad Libs*.\n",
    "If you aren't familiar with the game, here's how it works: you have a predetermined text where certain words have been replaced by their part of speech, for example *verb*, *noun*, *adjective*.\n",
    "For each gap, you ask a friend to say a word of that part of speech.\n",
    "You then put those words in the gap and read out the text aloud.\n",
    "Ideally, hilarity ensues.\n",
    "\n",
    "Here's an example adapted from the very first Mad Libs book:\n",
    "\n",
    "~~~\n",
    "\"[exclamation]! he said [adverb] as he jumped into his convertible\n",
    "[noun] and drove off with his [adjective] wife.\"\n",
    "\n",
    "\"Ron! he said better as he jumped into his convertible\n",
    "Laniado and drove off with his irritating wife.\"\n",
    "~~~\n",
    "\n",
    "Write a program that allows the user to play a single round of Mad Libs with the computer.\n",
    "So you should have some kind of prefabricated text, and a way of filling in the gaps with the words the user picked."
   ]
  },
  {
   "cell_type": "code",
   "execution_count": null,
   "metadata": {
    "collapsed": true
   },
   "outputs": [],
   "source": [
    "# put your Mad Libs code here"
   ]
  },
  {
   "cell_type": "markdown",
   "metadata": {},
   "source": [
    "## Comparing strings\n",
    "\n",
    "There is actually an easy way to verify that Python treats `\"Hello\" + \" \" + \"world\"` and `\"Hello world\"` the same.\n",
    "We can ask Python itself whether this is true."
   ]
  },
  {
   "cell_type": "code",
   "execution_count": null,
   "metadata": {
    "collapsed": false
   },
   "outputs": [],
   "source": [
    "\"Hello\" + \" \" + \"world\" == \"Hello world\""
   ]
  },
  {
   "cell_type": "markdown",
   "metadata": {},
   "source": [
    "Here we are using the `==` operator to compare two expressions and see if they are the same value.\n",
    "Note that this is two equals signs, rather than just one.\n",
    "We use `=` to define variables, and `==` to test values for equality.\n",
    "Never confuse the two, it will certainly result in errors that immediately make your program stop."
   ]
  },
  {
   "cell_type": "markdown",
   "metadata": {},
   "source": [
    "**Exercise. **\n",
    "You know the drill: experimentation time!\n",
    "Play around with the `==` operator to figure out how it can and cannot be used.\n",
    "As usual, try to think of less obvious cases, e.g. whether one can compare more than two expressions at the same time, how it works with variables, and so on.\n",
    "Add at least 5 instructive comparisons to the cell below, and explain in short comments what each comparison demonstrates."
   ]
  },
  {
   "cell_type": "code",
   "execution_count": null,
   "metadata": {
    "collapsed": false
   },
   "outputs": [],
   "source": [
    "# put your 5+ comparisons here"
   ]
  },
  {
   "cell_type": "markdown",
   "metadata": {},
   "source": [
    "Note that `==` can only produce two values, `True` if the equivalence holds, and `False` otherwise.\n",
    "These two values are also called *Booleans*, named after [George Boole](https://en.wikipedia.org/wiki/George_Boole) (a brilliant 19th century mathematician, who had the misfortune of dying a rather funny death at the hands of his doting wife).\n",
    "Many different Python operations produce Booleans as values.\n",
    "For example, there is also `in`."
   ]
  },
  {
   "cell_type": "code",
   "execution_count": null,
   "metadata": {
    "collapsed": false
   },
   "outputs": [],
   "source": [
    "\"Dan\" in \"Mary met Dan and Paul.\""
   ]
  },
  {
   "cell_type": "markdown",
   "metadata": {},
   "source": [
    "**Exercise. **\n",
    "The next few cells contain a number of Python constructions with `in`.\n",
    "Before you run the code, try to make an educated guess for each one as to whether it is well-formed or not, and if so, whether it evaluates to `True` or `False`.\n",
    "Based on the outcome, formulate a hypothesis as to how `in` can be used and what it does.\n",
    "Feel free to add your own code to test your hypothesis"
   ]
  },
  {
   "cell_type": "code",
   "execution_count": null,
   "metadata": {
    "collapsed": false
   },
   "outputs": [],
   "source": [
    "\"Dan\" in \"Daniel\""
   ]
  },
  {
   "cell_type": "code",
   "execution_count": null,
   "metadata": {
    "collapsed": false
   },
   "outputs": [],
   "source": [
    "\"Dan\" in \"Dan\""
   ]
  },
  {
   "cell_type": "code",
   "execution_count": null,
   "metadata": {
    "collapsed": false
   },
   "outputs": [],
   "source": [
    "\"Dan\" in \"Dandruff is a common problem for many Americans\""
   ]
  },
  {
   "cell_type": "code",
   "execution_count": null,
   "metadata": {
    "collapsed": false
   },
   "outputs": [],
   "source": [
    "\"Dan\" in \"Dandruff\" in \"Dandruff is a common problem for many Americans\""
   ]
  },
  {
   "cell_type": "code",
   "execution_count": null,
   "metadata": {
    "collapsed": false
   },
   "outputs": [],
   "source": [
    "\"Dan\" in \"Mary\" in \"Dandruff\""
   ]
  },
  {
   "cell_type": "code",
   "execution_count": null,
   "metadata": {
    "collapsed": false
   },
   "outputs": [],
   "source": [
    "\"Dan\" in \"D and E are letters of the alphabet\""
   ]
  },
  {
   "cell_type": "code",
   "execution_count": null,
   "metadata": {
    "collapsed": false
   },
   "outputs": [],
   "source": [
    "\"Dan\" in \"DaDaDaDan\""
   ]
  },
  {
   "cell_type": "code",
   "execution_count": null,
   "metadata": {
    "collapsed": false
   },
   "outputs": [],
   "source": [
    "\"the\" in \"The woman saw a man\""
   ]
  },
  {
   "cell_type": "code",
   "execution_count": null,
   "metadata": {
    "collapsed": false
   },
   "outputs": [],
   "source": [
    "\"the\" in \"The theory is wrong\""
   ]
  },
  {
   "cell_type": "code",
   "execution_count": null,
   "metadata": {
    "collapsed": true
   },
   "outputs": [],
   "source": [
    "# you can put your own tests in this cell"
   ]
  },
  {
   "cell_type": "markdown",
   "metadata": {},
   "source": [
    "*Write down your hypothesis in this cell*"
   ]
  },
  {
   "cell_type": "markdown",
   "metadata": {},
   "source": [
    "**Exercise. **\n",
    "There's two more operators that are very useful for comparing strings.\n",
    "Those are `!=` and `not in`.\n",
    "Fill the cell below with at least 5 examples for each operator to determine how they are used and what they do.\n",
    "Then add your own description of each operator."
   ]
  },
  {
   "cell_type": "code",
   "execution_count": null,
   "metadata": {
    "collapsed": false
   },
   "outputs": [],
   "source": [
    "# put your 5+ examples for each operator in this cell"
   ]
  },
  {
   "cell_type": "markdown",
   "metadata": {},
   "source": [
    "*Write down your descriptions of `!=` and `not in` in this cell*"
   ]
  },
  {
   "cell_type": "markdown",
   "metadata": {},
   "source": [
    "You might be wondering at this point what these comparisons are good for.\n",
    "All I can tell you for now is that they are very useful, but we still lack a crucial tool to harness their power.\n",
    "But this will have to wait until the next unit."
   ]
  },
  {
   "cell_type": "markdown",
   "metadata": {},
   "source": [
    "**Exercise. **\n",
    "Your Python vocabulary has more than doubled with this unit.\n",
    "It has grown from `print`, `input`, and variables, to also include `+`, `==`, `!=`, `in`, and `not in`.\n",
    "Make sure you include all of them in your reference notebook, with detailed descriptions of their usage."
   ]
  }
 ],
 "metadata": {
  "kernelspec": {
   "display_name": "Python 3",
   "language": "python",
   "name": "python3"
  },
  "language_info": {
   "codemirror_mode": {
    "name": "ipython",
    "version": 3
   },
   "file_extension": ".py",
   "mimetype": "text/x-python",
   "name": "python",
   "nbconvert_exporter": "python",
   "pygments_lexer": "ipython3",
   "version": "3.5.3"
  }
 },
 "nbformat": 4,
 "nbformat_minor": 2
}
