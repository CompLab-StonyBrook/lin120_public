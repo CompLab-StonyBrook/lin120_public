{
 "cells": [
  {
   "cell_type": "markdown",
   "metadata": {},
   "source": [
    "# Control flow with `if` and `else`\n",
    "\n",
    "The previous unit ended with a brief glance at `if` statements and how they allow us to add forks into our program.\n",
    "This ability is also called *control flow*.\n",
    "This is one the most fundamental tools of programming, and every programming language has something like `if`.\n",
    "So it is important for you to have a robust understanding of how this works.\n",
    "\n",
    "## The basic format\n",
    "\n",
    "An `if` statement always takes the same form:\n",
    "\n",
    "```python\n",
    "if Boolean condition:\n",
    "    code to execute if condition holds\n",
    "```\n",
    "\n",
    "Let us decompose this into distinct components:\n",
    "\n",
    "1.  the code starts with `if`\n",
    "1.  on the same line there must be some piece of code that evaluates to a Boolean (`True` or `False`)\n",
    "1.  the line must end with `:`\n",
    "1.  the next line contains the code to be executed if the conditions evaluates to `True`;\n",
    "    this code can span multiple lines, but every line must be indented by a tabulator (= 4 spaces) relative to the `if` statement"
   ]
  },
  {
   "cell_type": "markdown",
   "metadata": {},
   "source": [
    "**Exercise. **\n",
    "The cell below contains all kinds of errors in its `if` statements.\n",
    "Fix as many as you can find."
   ]
  },
  {
   "cell_type": "code",
   "execution_count": 1,
   "metadata": {},
   "outputs": [
    {
     "name": "stdout",
     "output_type": "stream",
     "text": [
      "HI\n",
      "Wanna talk some more?\n",
      "You can't argue with logic.\n"
     ]
    }
   ],
   "source": [
    "# pretty much all of this is wrong and needs to be fixed!\n",
    "\n",
    "word = input()\n",
    "\n",
    "if word == \"Hello\": \n",
    "    print(\"Hi\")\n",
    "if word != \"Goodbye\":\n",
    "    print(\"Wanna talk some more?\")\n",
    "if word not in \"M.C.\" not in \"M.C. Escher\":\n",
    "    print(\"What's going on here?\")\n",
    "if \"John == John\":\n",
    "    print(\"You can't argue with logic.\")"
   ]
  },
  {
   "cell_type": "markdown",
   "metadata": {},
   "source": [
    "## Scope\n",
    "\n",
    "The indentation is very important.\n",
    "Whatever you do, **never forget about the proper indentation**.\n",
    "\n",
    "Indentation is used to signal the *scope* of the `if` statement.\n",
    "The importance of *scope* is best illustrated with an example."
   ]
  },
  {
   "cell_type": "code",
   "execution_count": 3,
   "metadata": {},
   "outputs": [
    {
     "name": "stdout",
     "output_type": "stream",
     "text": [
      "I know a really long word.\n",
      "Can you guess one of its letters?\n",
      "z\n",
      "Btw, here's the word I thought of: pneumonoultramicroscopicsilicovolcanoconiosis\n"
     ]
    }
   ],
   "source": [
    "# Example 1\n",
    "# =========\n",
    "# here's a really long word of English\n",
    "word = \"pneumonoultramicroscopicsilicovolcanoconiosis\"\n",
    "\n",
    "# let's ask the user to guess one of its letters\n",
    "print(\"I know a really long word.\")\n",
    "print(\"Can you guess one of its letters?\")\n",
    "letter = input()\n",
    "\n",
    "if letter in word:\n",
    "    # the next two print statements are\n",
    "    # in the scope of the if-statement,\n",
    "    # so they only run if the condition holds\n",
    "    print(\"Hey, you correctly guessed a letter!\")\n",
    "    print(\"With such a long word it is really easy.\")  \n",
    "print(\"Btw, here's the word I thought of:\", word)"
   ]
  },
  {
   "cell_type": "markdown",
   "metadata": {},
   "source": [
    "Try the code above with several inputs, including some that are not part of the word.\n",
    "You will notice that the last `print` statement is always executed, whereas the two in the `if` statement only show up if `letter` occurs in `word`.\n",
    "That's because the indentation shows that these two statements are in the scope of `if`, but the very last `print` is not.\n",
    "So it gets executed in the normal fashion.\n",
    "Now observe what happens when we change the indentation a bit."
   ]
  },
  {
   "cell_type": "code",
   "execution_count": null,
   "metadata": {},
   "outputs": [],
   "source": [
    "# Example 2, a minor variant of Example 1\n",
    "# =========\n",
    "# here's a really long word of English\n",
    "word = \"pneumonoultramicroscopicsilicovolcanoconiosis\"\n",
    "\n",
    "# let's ask the user to guess one of its letters\n",
    "print(\"I know a really long word.\")\n",
    "print(\"Can you guess one of its letters?\")\n",
    "letter = input()\n",
    "\n",
    "if letter in word:\n",
    "    # this is in the scope of the if-statement,\n",
    "    # so it only runs if the condition holds\n",
    "    print(\"Hey, you correctly guessed a letter!\")\n",
    "print(\"With such a long word it is really easy.\")\n",
    "print(\"Btw, here's the word I thought of:\", word)"
   ]
  },
  {
   "cell_type": "markdown",
   "metadata": {},
   "source": [
    "By changing the indentation, we have changed which lines `if` has scope over.\n",
    "Now the last two `print` statements are always executed, and only the line `\"Hey, you correctly guessed a letter!\"` is limited to cases where the user guessed correctly.\n",
    "So indentation in Python isn't just a matter of aesthetics, it determines how your program works!\n",
    "Even adding extra lines does not change how indentation determines scope.\n",
    "The code below works exactly like the first example.\n",
    "But change the indentation, and you get the second example.\n",
    "Remember: indentation == scope == what gets executed when the condition is met."
   ]
  },
  {
   "cell_type": "code",
   "execution_count": null,
   "metadata": {},
   "outputs": [],
   "source": [
    "# Example 3, the same as Example 1\n",
    "# =========\n",
    "# here's a really long word of English\n",
    "word = \"pneumonoultramicroscopicsilicovolcanoconiosis\"\n",
    "\n",
    "# let's ask the user to guess one of its letters\n",
    "print(\"I know a really long word.\")\n",
    "print(\"Can you guess one of its letters?\")\n",
    "letter = input()\n",
    "\n",
    "if letter in word:\n",
    "    # this is in the scope of the if-statement,\n",
    "    # so it only runs if the condition holds\n",
    "    \n",
    "    \n",
    "    print(\"Hey, you correctly guessed a letter!\")\n",
    "    \n",
    "    \n",
    "    \n",
    "    print(\"With such a long word it is really easy.\")\n",
    "    \n",
    "print(\"Btw, here's the word I thought of:\", word)"
   ]
  },
  {
   "cell_type": "markdown",
   "metadata": {},
   "source": [
    "**Exercise.**\n",
    "\n",
    "Example 1 can be sketched as the flow chart below.\n",
    "\n",
    "```\n",
    "define word\n",
    "|\n",
    "print two messages\n",
    "|\n",
    "store user input as letter\n",
    "|\n",
    "is letter in word? yes -----> print \"correctly guessed\" message\n",
    "no                            |\n",
    "|                             |\n",
    "|                             print \"it's easy\" message\n",
    "V                             |\n",
    "|<----------------------------|\n",
    "|\n",
    "print word\n",
    "```\n",
    "\n",
    "Copy-paste the flow chart into the cell below, then change it so that it represents Example 2."
   ]
  },
  {
   "cell_type": "markdown",
   "metadata": {},
   "source": [
    "```\n",
    "copy-paste the flow chart here; keep it surrounded by the backticks to preserve the typewriter-style font.\n",
    "```"
   ]
  },
  {
   "cell_type": "markdown",
   "metadata": {},
   "source": [
    "## If not `if`, then `else`\n",
    "\n",
    "In the example above, it would be nice if we had not only a special reply for when the user makes a correct guess, but also for wrong guesses.\n",
    "We could do this with two separate `if` statements."
   ]
  },
  {
   "cell_type": "code",
   "execution_count": null,
   "metadata": {
    "collapsed": true
   },
   "outputs": [],
   "source": [
    "# here's a really long word of English\n",
    "word = \"pneumonoultramicroscopicsilicovolcanoconiosis\"\n",
    "\n",
    "# let's ask the user to guess one of its letters\n",
    "print(\"I know a really long word.\")\n",
    "print(\"Can you guess one of its letters?\")\n",
    "letter = input()\n",
    "\n",
    "if letter in word:\n",
    "    # correct guess\n",
    "    print(\"Hey, you correctly guessed a letter!\")\n",
    "    print(\"With such a long word it is really easy.\")\n",
    "\n",
    "if letter not in word:\n",
    "    # incorrect guess\n",
    "    print(\"Sorry, wrong guess!\")\n",
    "    print(\"And it would have been so easy.\")\n",
    "    \n",
    "print(\"Btw, here's the word I thought of:\", word)"
   ]
  },
  {
   "cell_type": "markdown",
   "metadata": {},
   "source": [
    "But that's not particularly convenient.\n",
    "We end up repeating ourselves quite a bit, and while this isn't too bad in our little toy example, it can be very annoying in practice.\n",
    "In a realistically sized program, the Boolean condition may be very complex, so repeating large parts of it is a pointless time sink.\n",
    "There may also be a lot of code in the scope of the first `if` statement, so that the two instances of `if` are hundreds of lines away from each other.\n",
    "That makes it even more tedious to copy and negate the condition correctly.\n",
    "Since the whole point of programming is to indulge human laziness, it isn't too surprising that there is a more convenient solution: the `else` statement.\n",
    "Whenever you have an `if`, you can add an `else` to cover the case when the condition for the `if` statement is not satisfied."
   ]
  },
  {
   "cell_type": "code",
   "execution_count": 4,
   "metadata": {},
   "outputs": [
    {
     "name": "stdout",
     "output_type": "stream",
     "text": [
      "I know a really long word.\n",
      "Can you guess one of its letters?\n",
      "z\n",
      "Sorry, wrong guess!\n",
      "And it would have been so easy.\n",
      "Btw, here's the word I thought of: pneumonoultramicroscopicsilicovolcanoconiosis\n"
     ]
    }
   ],
   "source": [
    "# here's a really long word of English\n",
    "word = \"pneumonoultramicroscopicsilicovolcanoconiosis\"\n",
    "\n",
    "# let's ask the user to guess one of its letters\n",
    "print(\"I know a really long word.\")\n",
    "print(\"Can you guess one of its letters?\")\n",
    "letter = input()\n",
    "\n",
    "if letter in word:\n",
    "    # correct guess\n",
    "    print(\"Hey, you correctly guessed a letter!\")\n",
    "    print(\"With such a long word it is really easy.\")\n",
    "else:\n",
    "    # incorrect guess\n",
    "    print(\"Sorry, wrong guess!\")\n",
    "    print(\"And it would have been so easy.\")\n",
    "    \n",
    "print(\"Btw, here's the word I thought of:\", word)"
   ]
  },
  {
   "cell_type": "markdown",
   "metadata": {},
   "source": [
    "Remember that the intuition behind `if` is to provide \"detours\" in the program: \"only run this code if this condition is met, otherwise stay on the main road\".\n",
    "With the addition of `else`, `if` becomes a proper fork in the road: \"only run this code is this condition is met, otherwise run the stuff under `else`, then go back to the main road\"."
   ]
  },
  {
   "cell_type": "markdown",
   "metadata": {},
   "source": [
    "With `else`, our initial format for `if` has to be expanded a bit.\n",
    "\n",
    "```python\n",
    "if Boolean condition:\n",
    "    code to execute if condition holds\n",
    "[optional\n",
    "else:\n",
    "    code to execute if condition does not hold\n",
    "]\n",
    "```"
   ]
  },
  {
   "cell_type": "markdown",
   "metadata": {},
   "source": [
    "Here's what the program above would look like as a flow chart:\n",
    "\n",
    "```\n",
    "define word\n",
    "|\n",
    "print two messages\n",
    "|\n",
    "store user input as letter\n",
    "|\n",
    "is letter in word? yes -----> print \"correctly guessed\" message\n",
    "no                            |\n",
    "|                             print \"it's easy\" message\n",
    "print sorry message           |\n",
    "print \"so easy\" message       |\n",
    "|                             |\n",
    "V                             |\n",
    "|<----------------------------|\n",
    "|\n",
    "print word\n",
    "```\n",
    "\n",
    "Note how the two `print` statements under `no` cannot be reached if the `is letter in word?` condition is met.\n",
    "That's exactly what an `else` does.\n",
    "It describes code that runs if some condition *C* is not met, but does not run if condition *C* is met."
   ]
  },
  {
   "cell_type": "markdown",
   "metadata": {},
   "source": [
    "**Exercise.**\n",
    "Suppose that the flow chart for the example above were minimally altered to look like this:\n",
    "\n",
    "```\n",
    "define word\n",
    "|\n",
    "print two messages\n",
    "|\n",
    "store user input as letter\n",
    "|\n",
    "is letter in word? yes -----> print \"correctly guessed\" message\n",
    "no                            |\n",
    "|                             print \"it's easy\" message\n",
    "V                             |\n",
    "|<----------------------------|\n",
    "|\n",
    "print sorry message\n",
    "print \"so easy\" message\n",
    "|\n",
    "print word\n",
    "```\n",
    "\n",
    "Change the code in the cell below so that it matches this flow chart.\n",
    "If you modify the code correctly, then the program should behave fairly naturally when the user picks a wrong letter (e.g. `z`), but it will contradict itself when the user pick a correct letter (e.g. `s`).\n",
    "Reflect on why this is the case."
   ]
  },
  {
   "cell_type": "code",
   "execution_count": null,
   "metadata": {
    "collapsed": true
   },
   "outputs": [],
   "source": [
    "# here's a really long word of English\n",
    "word = \"pneumonoultramicroscopicsilicovolcanoconiosis\"\n",
    "\n",
    "# let's ask the user to guess one of its letters\n",
    "print(\"I know a really long word.\")\n",
    "print(\"Can you guess one of its letters?\")\n",
    "letter = input()\n",
    "\n",
    "if letter in word:\n",
    "    # correct guess\n",
    "    print(\"Hey, you correctly guessed a letter!\")\n",
    "    print(\"With such a long word it is really easy.\")\n",
    "else:\n",
    "    # incorrect guess\n",
    "    print(\"Sorry, wrong guess!\")\n",
    "    print(\"And it would have been so easy.\")\n",
    "    \n",
    "print(\"Btw, here's the word I thought of:\", word)"
   ]
  },
  {
   "cell_type": "markdown",
   "metadata": {},
   "source": [
    "**Exercise. **\n",
    "And again we are dealing with some really faulty code.\n",
    "Fix all mistakes."
   ]
  },
  {
   "cell_type": "code",
   "execution_count": 10,
   "metadata": {},
   "outputs": [
    {
     "name": "stdout",
     "output_type": "stream",
     "text": [
      "I\n",
      "My word is better!\n",
      "You're pretty self-centered, hmm?\n"
     ]
    }
   ],
   "source": [
    "# pretty much all of this is wrong and needs to be fixed!\n",
    "\n",
    "word = input()\n",
    "\n",
    "if word != \"Supercalifragilisticexpialidocious\":\n",
    "    print(\"My word is better!\")\n",
    "else:\n",
    "    print(\"You cheated!\")\n",
    "    print(\"I don't play with cheaters.\")\n",
    "        \n",
    "if word == \"I\":\n",
    "    print(\"You're pretty self-centered, hmm?\")\n",
    "else:\n",
    "    if word == \"you\":\n",
    "        print(\"Finally somebody who cares about me!\")\n",
    "    else:\n",
    "        print(\"Nobody cares about me...\")"
   ]
  },
  {
   "cell_type": "markdown",
   "metadata": {},
   "source": [
    "## Nested code\n",
    "\n",
    "Notice that our description of `if` and `else` puts no real restrictions on what code may appear in its scope.\n",
    "So far we have only used `print` statements, but we could have just as well invoked `input`, defined variables, and even used other `if` statements."
   ]
  },
  {
   "cell_type": "code",
   "execution_count": null,
   "metadata": {
    "collapsed": true
   },
   "outputs": [],
   "source": [
    "chatbot = \"Bran\"\n",
    "print(\"Hello, I'm\", chatbot, \"the branching chatbot.\")\n",
    "print(\"And who might you be?\")\n",
    "name = input()\n",
    "\n",
    "if name == chatbot:\n",
    "    print(\"Really, your name is also\", chatbot, \"?\")\n",
    "    print(\"Are you pulling my leg?\")\n",
    "    leg_pulling = input()\n",
    "    if leg_pulling == \"Yes\":\n",
    "        print(\"Well, at least you're honest.\")\n",
    "        print(\"So what's your real name?\")\n",
    "        name = input()\n",
    "    else:\n",
    "        print(\"Oh, but we can't both be called\", chatbot, \".\")\n",
    "        print(\"Do you want to change your name?\")\n",
    "        change_name = input()\n",
    "        if change_name == \"Yes\":\n",
    "            print(\"Wow, thank you, I didn't expect that.\")\n",
    "            print(\"What's your new name?\")\n",
    "            name = input()\n",
    "        else:\n",
    "            print(\"Alright, I guess I'll have to change mine then.\")\n",
    "            chatbot = \"Bbrraann\"\n",
    "            print(\"Henceforth, I shall be known as\", chatbot, \".\")\n",
    "            print(\"Come on, repeat after me:\")\n",
    "            print(chatbot)\n",
    "            repeat = input()\n",
    "            if repeat != chatbot:\n",
    "                print(\"That's not my new name.\")\n",
    "                print(\"Have you already forgotten? My new name is\", chatbot, \".\")\n",
    "                print(\"I changed mine because yours is\", name, \"and we can't have the same name.\")\n",
    "\n",
    "print(\"Oh shoot. Sorry\", name, \"I completely forgot about the time.\")\n",
    "print(\"I have to go now.\")\n",
    "print(chatbot, \"signing out...\")"
   ]
  },
  {
   "cell_type": "markdown",
   "metadata": {},
   "source": [
    "**Exercise. **\n",
    "Try several runs of the program above, with a variety of different answers.\n",
    "Based on your results, draw a flow chart of the program.\n",
    "You do not have to indicate each `print`-statement as a separate line.\n",
    "Instead, you can compress parts like\n",
    "\n",
    "```\n",
    "print \"can't both be called\"\n",
    "|\n",
    "print \"wanna change name?\"\n",
    "|\n",
    "get change_name from input\n",
    "|\n",
    "change_name equals \"Yes\"?\n",
    "```\n",
    "\n",
    "to\n",
    "\n",
    "```\n",
    "2*print\n",
    "|\n",
    "get change_name from input\n",
    "|\n",
    "change_name equals \"Yes\"?\n",
    "```"
   ]
  },
  {
   "cell_type": "markdown",
   "metadata": {},
   "source": [
    "```\n",
    "draw your flow chart here; keep it surrounded by the backticks to preserve the typewriter-style font.\n",
    "```"
   ]
  },
  {
   "cell_type": "markdown",
   "metadata": {},
   "source": [
    "**Exercise. **\n",
    "Consider a chatbot that asks the user if they are in a chatty mood.\n",
    "If the answer is `\"No\"`, the chatbot says goodbye.\n",
    "Otherwise, it asks the user if they are still in a chatty mood.\n",
    "If the answer is  `\"No\"`, the chatbot says goodbye.\n",
    "Otherwise, it tells the user that it doesn't feel like talking right now and says goodbye.\n",
    "\n",
    "There's multiple ways the code for this chatbot can be constructed.\n",
    "First, write up the chatbot using `if` and `else`.\n",
    "In the second run, write up a version that only uses `if` (yes, that can be done).\n",
    "Reflect on which one you find more intuitive, and why this might be."
   ]
  },
  {
   "cell_type": "code",
   "execution_count": null,
   "metadata": {
    "collapsed": true
   },
   "outputs": [],
   "source": [
    "# chatbot code, using both if and else"
   ]
  },
  {
   "cell_type": "code",
   "execution_count": null,
   "metadata": {
    "collapsed": true
   },
   "outputs": [],
   "source": [
    "# chatbot code, using only if"
   ]
  },
  {
   "cell_type": "markdown",
   "metadata": {},
   "source": [
    "## Bullet point summary\n",
    "\n",
    "- `if-else` statements act as forks in the program.\n",
    "- Indentation indicates which lines of code are in the scope of `if` or `else`.\n",
    "- `if` statements (and `if-else` statements) can be nested.\n",
    "- Pay close attention to the proper syntax.\n",
    "    - `:` at end of `if`-line\n",
    "    - `:` at end of `else`-line\n",
    "    - linebreak after `:`\n",
    "    - indentation to indicate scope\n",
    "\n",
    "```python\n",
    "if Boolean condition:\n",
    "    code to execute if condition holds\n",
    "[optional\n",
    "else:\n",
    "    code to execute if condition does not hold\n",
    "]\n",
    "```"
   ]
  }
 ],
 "metadata": {
  "kernelspec": {
   "display_name": "Python 3",
   "language": "python",
   "name": "python3"
  },
  "language_info": {
   "codemirror_mode": {
    "name": "ipython",
    "version": 3
   },
   "file_extension": ".py",
   "mimetype": "text/x-python",
   "name": "python",
   "nbconvert_exporter": "python",
   "pygments_lexer": "ipython3",
   "version": "3.6.5"
  }
 },
 "nbformat": 4,
 "nbformat_minor": 2
}
