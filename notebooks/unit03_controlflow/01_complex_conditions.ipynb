{
 "cells": [
  {
   "cell_type": "markdown",
   "metadata": {},
   "source": [
    "# More complex conditionals\n",
    "\n",
    "Last time you had to figure out the longest program we have seen so far: the chatbot Bran, which involves the user in a branching dialog based on the user's replies.\n",
    "That's still fairly simple technology, but it's actually being used in many places."
   ]
  },
  {
   "cell_type": "markdown",
   "metadata": {},
   "source": [
    "## A short historical excursus\n",
    "\n",
    "Python is a fairly recent invention, but the idea of branching programs is very old, and you're frequently exposed to it in daily life.\n",
    "\n",
    "When you call a customer support line and are presented with options like \"If you want to vent your anger after being on hold for 30 minutes, press 1\", the underlying program works just like Bran.\n",
    "If you are playing a video game like *Mass Effect*, *The Witcher*, *Banner Saga*, or *Underrail*, then dialogs have a branching structure where you pick a choice and get a corresponding reply, possibly with a new set of sentences to choose from.\n",
    "In fact, this technique can already be found in much older games, like *Planescape: Torment* (1999), *Fallout 1* (1997), *Dark Sun* (1994), *Ultima Underworld* (1992), or *Indiana Jones and the Last Crusade* (1989).\n",
    "Before then there were the Choose-Your-Own-Adventure (CYOA) novels, which were published from 1979 to 1998.\n",
    "And the original idea of a branching text can be traced all the way back to Borges's *Garden of Forking Paths* from 1941.\n",
    "Bottom line: This is common technology, and you already have all the tools to implement it in Python."
   ]
  },
  {
   "cell_type": "markdown",
   "metadata": {},
   "source": [
    "## The impact of user choice\n",
    "\n",
    "There is one major difference between the dialog systems in video games and our toy chatbot Bran.\n",
    "In all the examples above, the user has to choose between a fixed set of prefabricated answers.\n",
    "If we were to apply this concept to a chatbot, it might look as follows."
   ]
  },
  {
   "cell_type": "code",
   "execution_count": 1,
   "metadata": {},
   "outputs": [
    {
     "name": "stdout",
     "output_type": "stream",
     "text": [
      "Hi, I'm Narcissus.\n",
      "To tell me how awesome I am, enter 1.\n",
      "To tell me that I am much more awesome than you, enter 2.\n",
      "To end the conversation because you cannot handle my awesomeness, enter 3.\n",
      "\n",
      "Please make your selection...\n",
      "1\n",
      "Answer 1, a good choice, worthy of my awesomeness.\n"
     ]
    }
   ],
   "source": [
    "# a chatbot with limited user replies\n",
    "\n",
    "print(\"Hi, I'm Narcissus.\")\n",
    "print(\"To tell me how awesome I am, enter 1.\")\n",
    "print(\"To tell me that I am much more awesome than you, enter 2.\")\n",
    "print(\"To end the conversation because you cannot handle my awesomeness, enter 3.\")\n",
    "print() # insert an empty line in the output\n",
    "print(\"Please make your selection...\")\n",
    "reply = input()\n",
    "\n",
    "# time to check the user's choice\n",
    "if reply == \"1\":\n",
    "    print(\"Answer 1, a good choice, worthy of my awesomeness.\")\n",
    "else:\n",
    "    if reply == \"2\":\n",
    "        print(\"Answer 2, a good choice.\")\n",
    "        print(\"But I do not converse with people less awesome than me.\")\n",
    "        print(\"Come back when you're worthy of my awesomeness.\")\n",
    "    else:\n",
    "        if reply == \"3\":\n",
    "            print(\"Answer 3 means that our ways must part here.\")\n",
    "        else:\n",
    "            print(\"Fool, you didn't pick one of the predetermined choices.\")\n",
    "            print(\"Be gone!\")"
   ]
  },
  {
   "cell_type": "markdown",
   "metadata": {},
   "source": [
    "**Exercise. **\n",
    "Suppose that we removed all instances of `else` from the code above, except the last one.\n",
    "So the program would instead look as follows.\n",
    "\n",
    "```python\n",
    "if reply == \"1\":\n",
    "    print(\"Answer 1, a good choice, worthy of my awesomeness.\")\n",
    "if reply == \"2\":\n",
    "    print(\"Answer 2, a good choice.\")\n",
    "    print(\"But I do not converse with people less awesome than me.\")\n",
    "    print(\"Come back when you're worthy of my awesomeness.\")\n",
    "if reply == \"3\":\n",
    "    print(\"Answer 3 means that our ways must part here.\")\n",
    "else:\n",
    "    print(\"Fool, you didn't pick one of the predetermined choices.\")\n",
    "    print(\"Be gone!\")\n",
    "```\n",
    "\n",
    "Explain why this code would not work as intended."
   ]
  },
  {
   "cell_type": "markdown",
   "metadata": {},
   "source": [
    "*put your explanation here*"
   ]
  },
  {
   "cell_type": "markdown",
   "metadata": {},
   "source": [
    "*Hints:*\n",
    "If you're stuck with the exercise, highlight the text below to read some tips.\n",
    "\n",
    "<span style=\"color:#000000;background-color:#000000;\">\n",
    "Does that last else do what you think it does? What will the program output if the user enters 1 or 2?\n",
    "</span>"
   ]
  },
  {
   "cell_type": "markdown",
   "metadata": {},
   "source": [
    "In the code above, we can savely cover all scenarios because there's only so many possible replies for the user.\n",
    "Bran, on the other hand, gives the user the freedom to write their own answers, so it's very hard to anticipate what the user may actually say.\n",
    "Let's look at a truncated version of the Bran code."
   ]
  },
  {
   "cell_type": "code",
   "execution_count": null,
   "metadata": {
    "collapsed": true
   },
   "outputs": [],
   "source": [
    "chatbot = \"Bran\"\n",
    "print(\"Hello, I'm\", chatbot, \"the branching chatbot.\")\n",
    "print(\"And who might you be?\")\n",
    "name = input()\n",
    "\n",
    "if name == chatbot:\n",
    "    print(\"Really, your name is also\", chatbot, \"?\")\n",
    "    print(\"Are you pulling my leg?\")\n",
    "    leg_pulling = input()\n",
    "    if leg_pulling == \"Yes\":\n",
    "        print(\"Well, at least you're honest.\")"
   ]
  },
  {
   "cell_type": "markdown",
   "metadata": {},
   "source": [
    "Notice that the `leg_pulling` test assumes that an affirmative answer from the user will always take the form of `Yes`.\n",
    "But maybe the user does not care about capitalization, so the reply might just be `yes`.\n",
    "The again, the user may reply with `Yes.` or `yes.` because they care a great deal about proper punctuation.\n",
    "Since Python is a programming language without any knowledge of English, it won't recognize that `Yes`, `Yes.`, `yes`, and `yes.` are all essentially the same reply."
   ]
  },
  {
   "cell_type": "code",
   "execution_count": null,
   "metadata": {
    "collapsed": true
   },
   "outputs": [],
   "source": [
    "# none of these pass Python's equality test\n",
    "print(\"Yes\" == \"yes\")\n",
    "print(\"Yes\" == \"Yes.\")\n",
    "print(\"yes\" == \"Yes.\")\n",
    "print(\"yes\" == \"yes.\")"
   ]
  },
  {
   "cell_type": "markdown",
   "metadata": {},
   "source": [
    "Alright, there's no helping it, then, we have to modify the code if we want Bran to correctly treat those slightly different replies.\n",
    "We can do this by adding more `if` tests."
   ]
  },
  {
   "cell_type": "code",
   "execution_count": null,
   "metadata": {
    "collapsed": true
   },
   "outputs": [],
   "source": [
    "chatbot = \"Bran\"\n",
    "print(\"Hello, I'm\", chatbot, \"the branching chatbot.\")\n",
    "print(\"And who might you be?\")\n",
    "name = input()\n",
    "\n",
    "if name == chatbot:\n",
    "    print(\"Really, your name is also\", chatbot, \"?\")\n",
    "    print(\"Are you pulling my leg?\")\n",
    "    leg_pulling = input()\n",
    "    if leg_pulling == \"Yes\":\n",
    "        print(\"Well, at least you're honest.\")\n",
    "    if leg_pulling == \"Yes.\":\n",
    "        print(\"Well, at least you're honest.\")"
   ]
  },
  {
   "cell_type": "markdown",
   "metadata": {},
   "source": [
    "**Exercise. **\n",
    "Complete the code above so that it also reacts to `yes` and `yes.` as user inputs."
   ]
  },
  {
   "cell_type": "markdown",
   "metadata": {},
   "source": [
    "This solution, while functional, is not very satisfying.\n",
    "It requires a lot of extra typing, and it duplicates a lot of code.\n",
    "If we ever want to change Bran's reply from `\"Well, at least you're honest.\"` to `\"I knew it! Trickster!\"`, we have to change four different `print` statements.\n",
    "There has to be a nicer way of doing things."
   ]
  },
  {
   "cell_type": "markdown",
   "metadata": {},
   "source": [
    "## Combining Booleans\n",
    "\n",
    "Remember that conditions must be pieces of code that evaluate to a Boolean, that is to say, the values `True` or `False`.\n",
    "That's why we can use something like `leg_pulling == \"Yes\"`, which is either true or false (assuming the `leg_pulling` variable is defined).\n",
    "But we cannot use `print(leg_pulling)` because this piece of code can be no more true or false than the command \"Do your homework!\" can be true or false.\n",
    "\n",
    "The interesting thing about `True` and `False` is that one can actually do some calculations with them, like a kind of numberless arithmetic.\n",
    "This \"truth value arithmetic\" will allow us to solve the problem above with a single `if`-statement.\n",
    "\n",
    "Suppose you have to determine whether the following statement is true or false:\n",
    "*Tom Cruise is 5'7\" and humans inhabit the planet Earth*.\n",
    "You might not know if this statement is true.\n",
    "But if I tell you that *Tom Cruise is 5'7\"* is true and that *humans inhabit the planet Earth* is true, then you can tell me that the statement *Tom Cruise is 5'7\" and humans inhabit the planet Earth* must be true.\n",
    "What you have done is calculate the truth value of a complex expression from the value of its subexpressions: *if both \"p\" and \"q\" are true, then \"p and q\" is true*.\n",
    "\n",
    "Let's see if Python shares our reasoning."
   ]
  },
  {
   "cell_type": "code",
   "execution_count": null,
   "metadata": {},
   "outputs": [],
   "source": [
    "p = True\n",
    "q = True\n",
    "print(p and q)"
   ]
  },
  {
   "cell_type": "markdown",
   "metadata": {},
   "source": [
    "You can do some similar calculations with *or*.\n",
    "Here's a statement that all of you should be able to recognize as true: *Humans inhabit the planet Earth or humans have abdominal pouches to carry their infants.*\n",
    "The first part is true, and consequently the whole statement is true even though the second part is false.\n",
    "So we have that *if \"p\" is true, then both \"p or q\" and \"q or p\" are true*."
   ]
  },
  {
   "cell_type": "code",
   "execution_count": null,
   "metadata": {},
   "outputs": [],
   "source": [
    "p = True\n",
    "q = False\n",
    "print(p or q)\n",
    "print(q or p)"
   ]
  },
  {
   "cell_type": "markdown",
   "metadata": {},
   "source": [
    "Note that Python considers a statement like `p or q` to be true true even if both `p` and `q` are true."
   ]
  },
  {
   "cell_type": "code",
   "execution_count": null,
   "metadata": {},
   "outputs": [],
   "source": [
    "p = True\n",
    "q = True\n",
    "print(p or q)"
   ]
  },
  {
   "cell_type": "markdown",
   "metadata": {},
   "source": [
    "This may seem counterintuitive to you because in English we often use *or* in an exclusive sense: one of the two is true, but not both.\n",
    "For example, when I say \"I will go to the party or I will stay home studying\", this suggests a choice.\n",
    "Therefore it cannot be true that I will go to the party and I will stay home studying.\n",
    "Python instead uses *or* in an inclusive manner: as long as at least one is true, the whole *or* statement is true.\n",
    "A natural English example is \"If you are a junior or you have participated in a special topic workshop, you may apply for this fellowship.\"\n",
    "In Python pseudo code:\n",
    "\n",
    "```python\n",
    "if junior or workshop_participant:\n",
    "    may_apply\n",
    "```\n",
    "\n",
    "Clearly, you may also apply to the fellowship if you are both a junior and have participated in a special topic workshop.\n",
    "And this is exactly how Python interprets an `or`.\n",
    "\n",
    "Alright, so what's the point of this longwinded discussion of `and` and `or`?\n",
    "The point is that `if`-statements require a condition that evaluates to a Boolean, but the conditions themselves can be built up by combining Boolean conditions with `and` or `or`.\n",
    "For the code above, this looks as follows:"
   ]
  },
  {
   "cell_type": "code",
   "execution_count": null,
   "metadata": {},
   "outputs": [],
   "source": [
    "chatbot = \"Bran\"\n",
    "print(\"Hello, I'm\", chatbot, \"the branching chatbot.\")\n",
    "print(\"And who might you be?\")\n",
    "name = input()\n",
    "\n",
    "if name == chatbot:\n",
    "    print(\"Really, your name is also\", chatbot, \"?\")\n",
    "    print(\"Are you pulling my leg?\")\n",
    "    leg_pulling = input()\n",
    "    if leg_pulling == \"Yes\" or leg_pulling == \"Yes.\" or leg_pulling == \"yes\" or leg_pulling == \"yes.\":\n",
    "        print(\"Well, at least you're honest.\")"
   ]
  },
  {
   "cell_type": "markdown",
   "metadata": {},
   "source": [
    "**Caution.**\n",
    "The leg-pulling test above could be paraphrase in English as\n",
    "\n",
    "```\n",
    "if\n",
    "the value of leg_pulling is \"Yes\", or\n",
    "the value of leg_pulling is \"Yes.\", or\n",
    "the value of leg_pulling is \"yes\", or\n",
    "the value of leg_pulling is \"Yes.\",\n",
    "then\n",
    "print \"Well, at least you're honest.\"\n",
    "```\n",
    "\n",
    "But obviously nobody would ever say something like that.\n",
    "This clunky sentence would be shortened to\n",
    "\n",
    "```\n",
    "if\n",
    "the value of `leg_pulling` is \"Yes\" or \"Yes.\" or \"yes\" or \"yes.\",\n",
    "then\n",
    "print \"Well, at least you're honest.\"\n",
    "```\n",
    "\n",
    "You might want to mimic this in Python by writing\n",
    "\n",
    "```python\n",
    "if leg_pulling == \"Yes\" or \"Yes.\" or \"yes\" or \"yes.\":\n",
    "    print(\"Well, at least you're honest.\")\n",
    "```\n",
    "\n",
    "This **does not work**.\n",
    "The code will run, but it won't do what you expect."
   ]
  },
  {
   "cell_type": "code",
   "execution_count": null,
   "metadata": {},
   "outputs": [],
   "source": [
    "leg_pulling = \"No\"\n",
    "# even though leg_pulling == \"No\", the condition below is satisfied\n",
    "if leg_pulling == \"Yes\" or \"Yes.\" or \"yes\" or \"yes.\":\n",
    "    print(\"Well, at least you're honest.\")"
   ]
  },
  {
   "cell_type": "markdown",
   "metadata": {},
   "source": [
    "We will learn at a later point why this code does not do what you might expect, but for now we'll just put in place a hard, inviolable rule that you must obey all the time:"
   ]
  },
  {
   "cell_type": "markdown",
   "metadata": {},
   "source": [
    "***The ban on unconditional conditions*: and/or only combine conditions, not values!**"
   ]
  },
  {
   "cell_type": "markdown",
   "metadata": {},
   "source": [
    "Commit this rule to memory, and never ever write thinks like ```if x == \"hi\" or \"bye\"```.\n",
    "This must always be ```if x == \"hi\" or x == \"bye\"```.\n",
    "No exceptions.\n",
    "\n",
    "**/Caution**"
   ]
  },
  {
   "cell_type": "markdown",
   "metadata": {},
   "source": [
    "**Exercise. **\n",
    "Experimentation time.\n",
    "Use the cell below to figure out how you may combine Booleans with `and` and `or`.\n",
    "Also look into how `not` can be used, which we haven't discussed above.\n",
    "Try longer expressions as in the code above, but with both `and` and `or` in the same line.\n",
    "\n",
    "Add at least 5 lines of code to the comparison, with a comment that explains what you are trying to determine with this test and what you learned from it.\n",
    "Based on your observations, formulate a hypothesis as to how these commands work in combination."
   ]
  },
  {
   "cell_type": "code",
   "execution_count": null,
   "metadata": {},
   "outputs": [],
   "source": [
    "# put your test code here"
   ]
  },
  {
   "cell_type": "markdown",
   "metadata": {},
   "source": [
    "*put your description of `and`, `or`, and `not` here*"
   ]
  },
  {
   "cell_type": "markdown",
   "metadata": {},
   "source": [
    "## Grouping complex Booleans"
   ]
  },
  {
   "cell_type": "markdown",
   "metadata": {},
   "source": [
    "When multiple Booleans are combined, it is sometimes unclear what meaning is intended.\n",
    "Consider the following sentence from English:\n",
    "\n",
    "```\n",
    "The Earth is flat, and\n",
    "Russia is smaller than Switzerland, or\n",
    "2 + 2 = 4\n",
    "```\n",
    "\n",
    "Is this statement true or false?\n",
    "Think about it for a minute.\n",
    "\n",
    "The correct answer is \"it depends\".\n",
    "If we interpret this as *it holds that i) the Earth is flat and ii) Russia is smaller than Switzerland or that 2+2=4*, then the statement is wrong.\n",
    "On the other hand, *it holds that i) the Earth is flat and Russia is smaller than Switzerland, or ii) 2+2=4* would be truthful.\n",
    "In Python, we can represent those two interpretations with parenthesis, and we will see that they give different results."
   ]
  },
  {
   "cell_type": "code",
   "execution_count": null,
   "metadata": {},
   "outputs": [],
   "source": [
    "earth_flat = False\n",
    "russia_smaller = False\n",
    "simple_arithmetic = True\n",
    "\n",
    "# no parenthesis\n",
    "print(earth_flat and russia_smaller or simple_arithmetic)\n",
    "# 1 and (2 or 3)\n",
    "print(earth_flat and (russia_smaller or simple_arithmetic))\n",
    "# (1 and 2) or 3\n",
    "print((earth_flat and russia_smaller) or simple_arithmetic)"
   ]
  },
  {
   "cell_type": "markdown",
   "metadata": {},
   "source": [
    "The same kind of ambiguity can also arise with the operator `not`, which converts a Boolean to its opposite."
   ]
  },
  {
   "cell_type": "code",
   "execution_count": null,
   "metadata": {},
   "outputs": [],
   "source": [
    "print(\"not True:\", not True)\n",
    "print(\"not False:\", not False)"
   ]
  },
  {
   "cell_type": "code",
   "execution_count": null,
   "metadata": {},
   "outputs": [],
   "source": [
    "# no parenthesis\n",
    "print(not simple_arithmetic and earth_flat)\n",
    "# not (1 and 2)\n",
    "print(not (simple_arithmetic and earth_flat))\n",
    "# (not 1) and 2\n",
    "print((not simple_arithmetic) and earth_flat)"
   ]
  },
  {
   "cell_type": "markdown",
   "metadata": {},
   "source": [
    "Without parenthesis, Python groups expressions from left to right.\n",
    "Some programmers consider it good coding style to only add parenthesis if they are needed to prevent Python's default left-to-right bracketing.\n",
    "But I suggest you do the very opposite.\n",
    "\n",
    "***No bracket breaks: if a condition mixes `and`, `or`, `not`, always add brackets.**\n",
    "\n",
    "This will make sure that you don't introduce accidental bugs, and your code will be easier to read for people who are not as familiar with Python."
   ]
  },
  {
   "cell_type": "markdown",
   "metadata": {},
   "source": [
    "**Exercise. **\n",
    "You might have heard of *Dungeons & Dragons*, a pen-and-paper roleplaying game where the player creates their own fantasy character and then plays this character in a series of adventures.\n",
    "There are different types of characters to choose from, but they must satisfy certain requirements.\n",
    "For example, there is alignment, which places the character's ethics and morals along two axes: lawful-neutral-chaotic, and good-neutral-evil.\n",
    "A paladin, being a holy warrior for good, must have the alignment lawful-good.\n",
    "An antipaladin is the evil mirror image of a paladin and thus must have the alignment chaotic-evil.\n",
    "\n",
    "Here is a selection of alignment requirements for certain characters:\n",
    "\n",
    "- Paladin: lawful-good\n",
    "- Antipaladin: chaotic-evil\n",
    "- Monk: any combination with lawful\n",
    "- Rogue: any combination that's not lawful\n",
    "- Druid: must not be lawful-good or chaotic-good\n",
    "- Fighter: anything goes\n",
    "\n",
    "Alright, here's your task: write a D&D *expert system*.\n",
    "An expert system is a chatbot that provides the user with answers to specific questions.\n",
    "For example, a medical expert system might ask the doctor to input a list of symptoms and output a list of diseases and conditions that match these symptoms.\n",
    "Your D&D expert system asks the user to pick one of good-neutral-evil, and one of lawful-neutral-chaotic.\n",
    "Based on the user's alignment, it then presents a list of the characters the user can choose.\n",
    "Here's an example:\n",
    "\n",
    "```\n",
    "Hi, I'm the D&D character generation helper.\n",
    "Please pick one of the following: lawful, neutral, chaotic.\n",
    "# user enters lawful\n",
    "Please pick one of the following: good, neutral, evil.\n",
    "# user enters neutral\n",
    "Based on your answers, you can play the following characters:\n",
    "\n",
    "Monk\n",
    "Druid\n",
    "Fighter\n",
    "```\n",
    "\n",
    "The list should not contain any duplicates.\n",
    "If the user enters a choice that does not exist, tell them so and assume `neutral` instead."
   ]
  },
  {
   "cell_type": "code",
   "execution_count": null,
   "metadata": {
    "collapsed": true
   },
   "outputs": [],
   "source": [
    "# put your D&D chatbot here"
   ]
  },
  {
   "cell_type": "markdown",
   "metadata": {},
   "source": [
    "*Hints:*\n",
    "If you're stuck with the exercise, highlight the text below to read some tips.\n",
    "\n",
    "<span style=\"color:#000000;background-color:#000000;\">\n",
    "Don't overthink this one.\n",
    "Your task is not to write the shortest program that gets the job done, any working program will do.\n",
    "So you can have a separate if-statement for each one of the six classes.\n",
    "The general idea is to have six if-statements of the form \"if alignment-condition is satisfied, print name of class\".\n",
    "Then you just have to add some code around them to get input from the user and correct incorrect inputs.\n",
    "</span>"
   ]
  },
  {
   "cell_type": "markdown",
   "metadata": {},
   "source": [
    "## Bullet point summary\n",
    "\n",
    "- Complex conditions can be built by combining simpler conditions with `and`, `or`, `not`.\n",
    "- Always use parentheses to disambiguate.\n",
    "  Write `earth_flat and (russia_smaller or simple_arithmetic)` instead of `earth_flat and russia_smaller or simple_arithmetic`.\n",
    "- Only conditionals can be combined by `and`, `or`, but not values!\n",
    "  You cannot write `if name == \"John\" or \"Mary\"` instead of `if name == \"John\" or name == \"Mary\"`.\n",
    "  That's just wrong, wrong, wrong, wrong, wrong, wrong, wrong."
   ]
  },
  {
   "cell_type": "markdown",
   "metadata": {},
   "source": [
    "***The ban on unconditional conditions*: and/or only combine conditions, not values!**"
   ]
  }
 ],
 "metadata": {
  "kernelspec": {
   "display_name": "Python 3",
   "language": "python",
   "name": "python3"
  },
  "language_info": {
   "codemirror_mode": {
    "name": "ipython",
    "version": 3
   },
   "file_extension": ".py",
   "mimetype": "text/x-python",
   "name": "python",
   "nbconvert_exporter": "python",
   "pygments_lexer": "ipython3",
   "version": "3.6.5"
  }
 },
 "nbformat": 4,
 "nbformat_minor": 2
}
